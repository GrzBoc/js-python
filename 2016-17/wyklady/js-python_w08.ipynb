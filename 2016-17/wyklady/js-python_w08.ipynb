{
 "cells": [
  {
   "cell_type": "markdown",
   "metadata": {
    "slideshow": {
     "slide_type": "slide"
    }
   },
   "source": [
    "# Języki skryptowe - Python\n",
    "## Wykład 8\n",
    "\n",
    "---\n",
    "\n",
    "* Błędy i wyjątki\n",
    "* Operacje na plikach"
   ]
  },
  {
   "cell_type": "markdown",
   "metadata": {
    "slideshow": {
     "slide_type": "slide"
    }
   },
   "source": [
    "## Błędy (*bug*)\n",
    "\n",
    "---\n",
    "\n",
    "> Without requirements or design, programming is the art of adding bugs to an empty text file.\n",
    "\n",
    "> *Louis Srygley*\n",
    "\n",
    "* błędy leksykalne i składniowe\n",
    "* błędy typowania\n",
    "* błędy semantyczne i logiczne\n",
    "* błędy działania\n",
    "* nieskończone obliczenia"
   ]
  },
  {
   "cell_type": "markdown",
   "metadata": {
    "slideshow": {
     "slide_type": "subslide"
    }
   },
   "source": [
    "## Błędy leksykalne\n",
    "\n",
    "---\n",
    "\n",
    "* pojedyncza jednostka leksykalna, której nie przewiduje definicja języka"
   ]
  },
  {
   "cell_type": "code",
   "execution_count": 1,
   "metadata": {
    "collapsed": false,
    "slideshow": {
     "slide_type": "-"
    }
   },
   "outputs": [
    {
     "ename": "SyntaxError",
     "evalue": "invalid syntax (<ipython-input-1-c2b85b799f03>, line 2)",
     "output_type": "error",
     "traceback": [
      "\u001b[0;36m  File \u001b[0;32m\"<ipython-input-1-c2b85b799f03>\"\u001b[0;36m, line \u001b[0;32m2\u001b[0m\n\u001b[0;31m    x++ # operator ++ nie istnieje\u001b[0m\n\u001b[0m                                  ^\u001b[0m\n\u001b[0;31mSyntaxError\u001b[0m\u001b[0;31m:\u001b[0m invalid syntax\n"
     ]
    }
   ],
   "source": [
    "x = 1\n",
    "x++ # operator ++ nie istnieje"
   ]
  },
  {
   "cell_type": "markdown",
   "metadata": {
    "slideshow": {
     "slide_type": "subslide"
    }
   },
   "source": [
    "## Błędy składniowe (*syntax error*)\n",
    "\n",
    "---\n",
    "\n",
    "* niepoprawnie zestawione poprawne jednostki leksykalne "
   ]
  },
  {
   "cell_type": "code",
   "execution_count": 2,
   "metadata": {
    "collapsed": false,
    "slideshow": {
     "slide_type": "-"
    }
   },
   "outputs": [
    {
     "ename": "SyntaxError",
     "evalue": "invalid syntax (<ipython-input-2-3cc3ffe6806b>, line 1)",
     "output_type": "error",
     "traceback": [
      "\u001b[0;36m  File \u001b[0;32m\"<ipython-input-2-3cc3ffe6806b>\"\u001b[0;36m, line \u001b[0;32m1\u001b[0m\n\u001b[0;31m    if True                   # brakuje :\u001b[0m\n\u001b[0m                                         ^\u001b[0m\n\u001b[0;31mSyntaxError\u001b[0m\u001b[0;31m:\u001b[0m invalid syntax\n"
     ]
    }
   ],
   "source": [
    "if True                   # brakuje :\n",
    "    print(\"Hello World\")) # dodatkowy )"
   ]
  },
  {
   "cell_type": "markdown",
   "metadata": {
    "slideshow": {
     "slide_type": "subslide"
    }
   },
   "source": [
    "## Błędy typowania\n",
    "\n",
    "---\n",
    "\n",
    "* wyrażenie nieadekwatne do typu"
   ]
  },
  {
   "cell_type": "code",
   "execution_count": 3,
   "metadata": {
    "collapsed": false
   },
   "outputs": [
    {
     "ename": "TypeError",
     "evalue": "'int' object does not support item assignment",
     "output_type": "error",
     "traceback": [
      "\u001b[0;31m---------------------------------------------------------------------------\u001b[0m",
      "\u001b[0;31mTypeError\u001b[0m                                 Traceback (most recent call last)",
      "\u001b[0;32m<ipython-input-3-4bf6b631916d>\u001b[0m in \u001b[0;36m<module>\u001b[0;34m()\u001b[0m\n\u001b[1;32m      1\u001b[0m \u001b[0mx\u001b[0m \u001b[0;34m=\u001b[0m \u001b[0;36m1\u001b[0m\u001b[0;34m\u001b[0m\u001b[0m\n\u001b[1;32m      2\u001b[0m \u001b[0;34m\u001b[0m\u001b[0m\n\u001b[0;32m----> 3\u001b[0;31m \u001b[0mx\u001b[0m\u001b[0;34m[\u001b[0m\u001b[0;36m0\u001b[0m\u001b[0;34m]\u001b[0m \u001b[0;34m=\u001b[0m \u001b[0;36m2\u001b[0m \u001b[0;31m# x nie jest sekwencyjnym typem danych\u001b[0m\u001b[0;34m\u001b[0m\u001b[0m\n\u001b[0m",
      "\u001b[0;31mTypeError\u001b[0m: 'int' object does not support item assignment"
     ]
    }
   ],
   "source": [
    "x = 1\n",
    "\n",
    "x[0] = 2 # x nie jest sekwencyjnym typem danych"
   ]
  },
  {
   "cell_type": "markdown",
   "metadata": {
    "slideshow": {
     "slide_type": "subslide"
    }
   },
   "source": [
    "## Błędy działania (*runtime error*)\n",
    "\n",
    "---\n",
    "\n",
    "* pojawiają się w trakcie działania programu (np. odczyt z pliku, który nie istnieje)"
   ]
  },
  {
   "cell_type": "code",
   "execution_count": 4,
   "metadata": {
    "collapsed": false,
    "slideshow": {
     "slide_type": "-"
    }
   },
   "outputs": [
    {
     "ename": "ZeroDivisionError",
     "evalue": "division by zero",
     "output_type": "error",
     "traceback": [
      "\u001b[0;31m---------------------------------------------------------------------------\u001b[0m",
      "\u001b[0;31mZeroDivisionError\u001b[0m                         Traceback (most recent call last)",
      "\u001b[0;32m<ipython-input-4-976842d0fc36>\u001b[0m in \u001b[0;36m<module>\u001b[0;34m()\u001b[0m\n\u001b[1;32m      3\u001b[0m     \u001b[0;32mreturn\u001b[0m \u001b[0ma\u001b[0m \u001b[0;34m/\u001b[0m \u001b[0mb\u001b[0m\u001b[0;34m\u001b[0m\u001b[0m\n\u001b[1;32m      4\u001b[0m \u001b[0;34m\u001b[0m\u001b[0m\n\u001b[0;32m----> 5\u001b[0;31m \u001b[0miloraz\u001b[0m\u001b[0;34m(\u001b[0m\u001b[0;36m10\u001b[0m\u001b[0;34m,\u001b[0m \u001b[0;36m0\u001b[0m\u001b[0;34m)\u001b[0m \u001b[0;31m# dzielenie przez 0\u001b[0m\u001b[0;34m\u001b[0m\u001b[0m\n\u001b[0m",
      "\u001b[0;32m<ipython-input-4-976842d0fc36>\u001b[0m in \u001b[0;36miloraz\u001b[0;34m(a, b)\u001b[0m\n\u001b[1;32m      1\u001b[0m \u001b[0;32mdef\u001b[0m \u001b[0miloraz\u001b[0m\u001b[0;34m(\u001b[0m\u001b[0ma\u001b[0m\u001b[0;34m,\u001b[0m \u001b[0mb\u001b[0m\u001b[0;34m)\u001b[0m\u001b[0;34m:\u001b[0m\u001b[0;34m\u001b[0m\u001b[0m\n\u001b[1;32m      2\u001b[0m     \u001b[0;34m\"\"\"Zwraca a / b\"\"\"\u001b[0m\u001b[0;34m\u001b[0m\u001b[0m\n\u001b[0;32m----> 3\u001b[0;31m     \u001b[0;32mreturn\u001b[0m \u001b[0ma\u001b[0m \u001b[0;34m/\u001b[0m \u001b[0mb\u001b[0m\u001b[0;34m\u001b[0m\u001b[0m\n\u001b[0m\u001b[1;32m      4\u001b[0m \u001b[0;34m\u001b[0m\u001b[0m\n\u001b[1;32m      5\u001b[0m \u001b[0miloraz\u001b[0m\u001b[0;34m(\u001b[0m\u001b[0;36m10\u001b[0m\u001b[0;34m,\u001b[0m \u001b[0;36m0\u001b[0m\u001b[0;34m)\u001b[0m \u001b[0;31m# dzielenie przez 0\u001b[0m\u001b[0;34m\u001b[0m\u001b[0m\n",
      "\u001b[0;31mZeroDivisionError\u001b[0m: division by zero"
     ]
    }
   ],
   "source": [
    "def iloraz(a, b):\n",
    "    \"\"\"Zwraca a / b\"\"\"\n",
    "    return a / b\n",
    "\n",
    "iloraz(10, 0) # dzielenie przez 0"
   ]
  },
  {
   "cell_type": "markdown",
   "metadata": {
    "slideshow": {
     "slide_type": "subslide"
    }
   },
   "source": [
    "## Błędy semantyczne (*semantic error*)\n",
    "\n",
    "---\n",
    "\n",
    "* niezgodność oczekiwań ze stanem faktycznym"
   ]
  },
  {
   "cell_type": "code",
   "execution_count": 5,
   "metadata": {
    "collapsed": true,
    "slideshow": {
     "slide_type": "-"
    }
   },
   "outputs": [],
   "source": [
    "def dzialanie(a, b, c):\n",
    "    \"\"\"Zwraca iloraz a przez sumę b i c.\"\"\"\n",
    "    return a / b + c # zamiast a / (b + c)"
   ]
  },
  {
   "cell_type": "markdown",
   "metadata": {
    "slideshow": {
     "slide_type": "subslide"
    }
   },
   "source": [
    "## Błędy logiczne\n",
    "\n",
    "---\n",
    "\n",
    "* program liczy nie to co trzeba (w tym też błędy semantyczne)\n",
    "* najtrudniejsze do znalezienia"
   ]
  },
  {
   "cell_type": "code",
   "execution_count": 6,
   "metadata": {
    "collapsed": false,
    "slideshow": {
     "slide_type": "-"
    }
   },
   "outputs": [],
   "source": [
    "def delta(a, b, c):\n",
    "    \"\"\"Liczy wyróżnik trójmianu kwadratowego.\"\"\"\n",
    "    return b - 4*a*c # zamiast b*b - 4*a*c"
   ]
  },
  {
   "cell_type": "markdown",
   "metadata": {
    "slideshow": {
     "slide_type": "subslide"
    }
   },
   "source": [
    "## Nieskończone pętle\n",
    "\n",
    "---"
   ]
  },
  {
   "cell_type": "code",
   "execution_count": 7,
   "metadata": {
    "collapsed": true,
    "slideshow": {
     "slide_type": "-"
    }
   },
   "outputs": [],
   "source": [
    "def loop(i = 0):\n",
    "    while i < 10:\n",
    "        i -= 1 # i zawsze będzie mniejsze od 10"
   ]
  },
  {
   "cell_type": "markdown",
   "metadata": {
    "slideshow": {
     "slide_type": "slide"
    }
   },
   "source": [
    "## Najdroższy myślnik w historii\n",
    "\n",
    "---\n",
    "\n",
    "* NASA (1962); Mariner 1:  Floryda -> Wenus\n",
    "\n",
    "> Review Board determined that the omission of a hyphen in coded computer instructions in the data-editing program allowed transmission of incorrect guidance signals to the spacecraft.\n",
    "\n",
    "[źródło](http://nssdc.gsfc.nasa.gov/nmc/spacecraftDisplay.do?id=MARIN1)"
   ]
  },
  {
   "cell_type": "markdown",
   "metadata": {
    "slideshow": {
     "slide_type": "subslide"
    }
   },
   "source": [
    "## Therac-25\n",
    "\n",
    "---\n",
    "\n",
    "* maszyna do radioterapii nowotworów\n",
    "* na skutek błędów programistycznych kilka osób zmarło na skutek napromieniowania\n",
    "* błąd typu *race condition* - przy zbyt szybkim wprowadzaniu danych (przez operatora) parametry zabiegu nie były prawidłowo inicjowane"
   ]
  },
  {
   "cell_type": "markdown",
   "metadata": {
    "slideshow": {
     "slide_type": "slide"
    }
   },
   "source": [
    "## Zapobieganie błędom\n",
    "\n",
    "---\n",
    "\n",
    "* pisanie czytelnego kodu\n",
    "* *code review*\n",
    "* debugowanie"
   ]
  },
  {
   "cell_type": "markdown",
   "metadata": {
    "slideshow": {
     "slide_type": "subslide"
    }
   },
   "source": [
    "## Czytelność kodu\n",
    "\n",
    "---\n",
    "\n",
    "* zrozumiałe nazwy zmiennych (nawet kosztem długości)\n",
    "* komentowanie kodu źródłowego, który nie jest zrozumiały od razu\n",
    "* tworzenie dokumentacji w trakcie pisania programu\n",
    "* opisywanie przyjętych założeń (w komentarzach i/lub dokumentacji)"
   ]
  },
  {
   "cell_type": "markdown",
   "metadata": {
    "slideshow": {
     "slide_type": "subslide"
    }
   },
   "source": [
    "## *Code review*\n",
    "\n",
    "---\n",
    "\n",
    "* sprawdzenie kodu przez inną osobę\n",
    "\n",
    "![](src/code_review.jpg)"
   ]
  },
  {
   "cell_type": "markdown",
   "metadata": {
    "slideshow": {
     "slide_type": "subslide"
    }
   },
   "source": [
    "## Debugowanie\n",
    "\n",
    "---\n",
    "\n",
    "> If debugging is the process of removing software bugs, then programming must be the process of putting them in. \n",
    "\n",
    "> *Edsger Dijkstra*\n",
    "\n",
    "* systematyczne redukowanie błędów w kodzie\n",
    "* kontrolowane wykonanie programu\n",
    "* debugger"
   ]
  },
  {
   "cell_type": "markdown",
   "metadata": {
    "slideshow": {
     "slide_type": "subslide"
    }
   },
   "source": [
    "## \\_\\_debug\\_\\_\n",
    "\n",
    "---"
   ]
  },
  {
   "cell_type": "code",
   "execution_count": 8,
   "metadata": {
    "collapsed": false,
    "slideshow": {
     "slide_type": "-"
    }
   },
   "outputs": [
    {
     "name": "stdout",
     "output_type": "stream",
     "text": [
      "Overwriting debug.py\n"
     ]
    }
   ],
   "source": [
    "%%writefile debug.py\n",
    "\n",
    "# __debug__ - wbudowana stała\n",
    "# równa True - jeśli uruchomione bez -O (optimize)\n",
    "\n",
    "if __debug__:\n",
    "    print(\"Jestem w trybie debugowania.\")\n",
    "else:\n",
    "    print(\"Jestem w trybie normalnym.\")"
   ]
  },
  {
   "cell_type": "code",
   "execution_count": 9,
   "metadata": {
    "collapsed": false,
    "slideshow": {
     "slide_type": "-"
    }
   },
   "outputs": [
    {
     "name": "stdout",
     "output_type": "stream",
     "text": [
      "Jestem w trybie debugowania.\n"
     ]
    }
   ],
   "source": [
    "%%bash\n",
    "python debug.py"
   ]
  },
  {
   "cell_type": "code",
   "execution_count": 10,
   "metadata": {
    "collapsed": false,
    "slideshow": {
     "slide_type": "-"
    }
   },
   "outputs": [
    {
     "name": "stdout",
     "output_type": "stream",
     "text": [
      "Jestem w trybie normalnym.\n"
     ]
    }
   ],
   "source": [
    "%%bash\n",
    "python -O debug.py"
   ]
  },
  {
   "cell_type": "markdown",
   "metadata": {
    "slideshow": {
     "slide_type": "subslide"
    }
   },
   "source": [
    "## Przykład\n",
    "\n",
    "---"
   ]
  },
  {
   "cell_type": "code",
   "execution_count": 11,
   "metadata": {
    "collapsed": false,
    "slideshow": {
     "slide_type": "-"
    }
   },
   "outputs": [
    {
     "name": "stdout",
     "output_type": "stream",
     "text": [
      "Overwriting fib.py\n"
     ]
    }
   ],
   "source": [
    "%%writefile fib.py\n",
    "\"\"\"Wyznacza pierwsze wyrazy ciągu Fibonacciego.\"\"\"\n",
    "\n",
    "fib = [0, 1]\n",
    "\n",
    "for i in range(10):\n",
    "    if not __debug__:\n",
    "        print(\"i =\", i)\n",
    "        print(\"fib =\", fib)\n",
    "        print(\"fib[i-2] =\", fib[i-2])\n",
    "        print(\"fib[i-1] =\", fib[i-1])\n",
    "        print()\n",
    "    \n",
    "    fib.append(fib[i-2] + fib[i-1])\n",
    "\n",
    "print(fib) # [0, 1, 1, 2, 3, 5, 8, 13, ...]"
   ]
  },
  {
   "cell_type": "code",
   "execution_count": 12,
   "metadata": {
    "collapsed": false,
    "slideshow": {
     "slide_type": "-"
    }
   },
   "outputs": [
    {
     "name": "stdout",
     "output_type": "stream",
     "text": [
      "[0, 1, 1, 1, 1, 2, 2, 2, 3, 4, 4, 5]\n"
     ]
    }
   ],
   "source": [
    "%%bash\n",
    "python fib.py"
   ]
  },
  {
   "cell_type": "markdown",
   "metadata": {
    "slideshow": {
     "slide_type": "subslide"
    }
   },
   "source": [
    "## Przykład - *debug mode*\n",
    "\n",
    "---"
   ]
  },
  {
   "cell_type": "code",
   "execution_count": 13,
   "metadata": {
    "collapsed": false,
    "slideshow": {
     "slide_type": "-"
    }
   },
   "outputs": [
    {
     "name": "stdout",
     "output_type": "stream",
     "text": [
      "i = 0\n",
      "fib = [0, 1]\n",
      "fib[i-2] = 0\n",
      "fib[i-1] = 1\n",
      "\n",
      "i = 1\n",
      "fib = [0, 1, 1]\n",
      "fib[i-2] = 1\n",
      "fib[i-1] = 0\n",
      "\n",
      "i = 2\n",
      "fib = [0, 1, 1, 1]\n",
      "fib[i-2] = 0\n",
      "fib[i-1] = 1\n",
      "\n",
      "i = 3\n",
      "fib = [0, 1, 1, 1, 1]\n",
      "fib[i-2] = 1\n",
      "fib[i-1] = 1\n",
      "\n",
      "i = 4\n",
      "fib = [0, 1, 1, 1, 1, 2]\n",
      "fib[i-2] = 1\n",
      "fib[i-1] = 1\n",
      "\n",
      "i = 5\n",
      "fib = [0, 1, 1, 1, 1, 2, 2]\n",
      "fib[i-2] = 1\n",
      "fib[i-1] = 1\n",
      "\n",
      "i = 6\n",
      "fib = [0, 1, 1, 1, 1, 2, 2, 2]\n",
      "fib[i-2] = 1\n",
      "fib[i-1] = 2\n",
      "\n",
      "i = 7\n",
      "fib = [0, 1, 1, 1, 1, 2, 2, 2, 3]\n",
      "fib[i-2] = 2\n",
      "fib[i-1] = 2\n",
      "\n",
      "i = 8\n",
      "fib = [0, 1, 1, 1, 1, 2, 2, 2, 3, 4]\n",
      "fib[i-2] = 2\n",
      "fib[i-1] = 2\n",
      "\n",
      "i = 9\n",
      "fib = [0, 1, 1, 1, 1, 2, 2, 2, 3, 4, 4]\n",
      "fib[i-2] = 2\n",
      "fib[i-1] = 3\n",
      "\n",
      "[0, 1, 1, 1, 1, 2, 2, 2, 3, 4, 4, 5]\n"
     ]
    }
   ],
   "source": [
    "%%bash\n",
    "python -O fib.py"
   ]
  },
  {
   "cell_type": "markdown",
   "metadata": {
    "slideshow": {
     "slide_type": "subslide"
    }
   },
   "source": [
    "## Wbudowany debugger\n",
    "\n",
    "---"
   ]
  },
  {
   "cell_type": "code",
   "execution_count": 14,
   "metadata": {
    "collapsed": false,
    "slideshow": {
     "slide_type": "-"
    }
   },
   "outputs": [
    {
     "name": "stdout",
     "output_type": "stream",
     "text": [
      "Overwriting fib.py\n"
     ]
    }
   ],
   "source": [
    "%%writefile fib.py\n",
    "\n",
    "import pdb # wbudowany debugger\n",
    "\n",
    "pdb.set_trace() # zacznij debugować\n",
    "\n",
    "fib = [0, 1]\n",
    "\n",
    "for i in range(10):\n",
    "    fib.append(fib[i-2] + fib[i-1])\n",
    "\n",
    "print(fib) # [0, 1, 1, 2, 3, 5, 8, 13, ...]"
   ]
  },
  {
   "cell_type": "markdown",
   "metadata": {
    "slideshow": {
     "slide_type": "subslide"
    }
   },
   "source": [
    "## pdb\n",
    "\n",
    "---\n",
    "\n",
    "* *n* - następna instrukcja\n",
    "* *s* - wejdź w funkcję\n",
    "* *r* - wyjdź z funkcji\n",
    "* *p* - wydrukuj zmienną\n",
    "* *q* - przerwij\n",
    "* *enter* - powtórz ostatnią komendę\n",
    "* ..."
   ]
  },
  {
   "cell_type": "markdown",
   "metadata": {
    "slideshow": {
     "slide_type": "slide"
    }
   },
   "source": [
    "## Wyjątki (*exceptions*)\n",
    "\n",
    "---\n",
    "\n",
    "* błędy działania (*runtime error*)\n",
    "* wykryte podczas wykonywania są nazywane wyjątkami\n",
    "* programista może decydować co robić z wyjątkami"
   ]
  },
  {
   "cell_type": "markdown",
   "metadata": {
    "slideshow": {
     "slide_type": "subslide"
    }
   },
   "source": [
    "## Przykład - iloraz\n",
    "\n",
    "---"
   ]
  },
  {
   "cell_type": "code",
   "execution_count": 15,
   "metadata": {
    "collapsed": true,
    "slideshow": {
     "slide_type": "-"
    }
   },
   "outputs": [],
   "source": [
    "def iloraz(a, b):\n",
    "    \"\"\"Zwraca a / b\"\"\"\n",
    "    return a / b"
   ]
  },
  {
   "cell_type": "code",
   "execution_count": 16,
   "metadata": {
    "collapsed": false,
    "slideshow": {
     "slide_type": "-"
    }
   },
   "outputs": [
    {
     "data": {
      "text/plain": [
       "5.0"
      ]
     },
     "execution_count": 16,
     "metadata": {},
     "output_type": "execute_result"
    }
   ],
   "source": [
    "iloraz(10, 2)"
   ]
  },
  {
   "cell_type": "code",
   "execution_count": 17,
   "metadata": {
    "collapsed": false,
    "slideshow": {
     "slide_type": "-"
    }
   },
   "outputs": [
    {
     "ename": "ZeroDivisionError",
     "evalue": "division by zero",
     "output_type": "error",
     "traceback": [
      "\u001b[0;31m---------------------------------------------------------------------------\u001b[0m",
      "\u001b[0;31mZeroDivisionError\u001b[0m                         Traceback (most recent call last)",
      "\u001b[0;32m<ipython-input-17-0a93c896245e>\u001b[0m in \u001b[0;36m<module>\u001b[0;34m()\u001b[0m\n\u001b[0;32m----> 1\u001b[0;31m \u001b[0miloraz\u001b[0m\u001b[0;34m(\u001b[0m\u001b[0;36m10\u001b[0m\u001b[0;34m,\u001b[0m \u001b[0;36m0\u001b[0m\u001b[0;34m)\u001b[0m\u001b[0;34m\u001b[0m\u001b[0m\n\u001b[0m",
      "\u001b[0;32m<ipython-input-15-a5a78f530c06>\u001b[0m in \u001b[0;36miloraz\u001b[0;34m(a, b)\u001b[0m\n\u001b[1;32m      1\u001b[0m \u001b[0;32mdef\u001b[0m \u001b[0miloraz\u001b[0m\u001b[0;34m(\u001b[0m\u001b[0ma\u001b[0m\u001b[0;34m,\u001b[0m \u001b[0mb\u001b[0m\u001b[0;34m)\u001b[0m\u001b[0;34m:\u001b[0m\u001b[0;34m\u001b[0m\u001b[0m\n\u001b[1;32m      2\u001b[0m     \u001b[0;34m\"\"\"Zwraca a / b\"\"\"\u001b[0m\u001b[0;34m\u001b[0m\u001b[0m\n\u001b[0;32m----> 3\u001b[0;31m     \u001b[0;32mreturn\u001b[0m \u001b[0ma\u001b[0m \u001b[0;34m/\u001b[0m \u001b[0mb\u001b[0m\u001b[0;34m\u001b[0m\u001b[0m\n\u001b[0m",
      "\u001b[0;31mZeroDivisionError\u001b[0m: division by zero"
     ]
    }
   ],
   "source": [
    "iloraz(10, 0)"
   ]
  },
  {
   "cell_type": "markdown",
   "metadata": {
    "slideshow": {
     "slide_type": "subslide"
    }
   },
   "source": [
    "## Iloraz - zabezpiecznie *if*\n",
    "\n",
    "---"
   ]
  },
  {
   "cell_type": "code",
   "execution_count": 18,
   "metadata": {
    "collapsed": true,
    "slideshow": {
     "slide_type": "-"
    }
   },
   "outputs": [],
   "source": [
    "def iloraz(a, b):\n",
    "    \"\"\"Zwraca a / b lub zero, jeśli b = 0.\"\"\"\n",
    "    if b == 0: # można tak, ale lepiej korzystać z wyjątków\n",
    "        return 0\n",
    "    return a / b"
   ]
  },
  {
   "cell_type": "code",
   "execution_count": 19,
   "metadata": {
    "collapsed": false,
    "slideshow": {
     "slide_type": "-"
    }
   },
   "outputs": [
    {
     "data": {
      "text/plain": [
       "5.0"
      ]
     },
     "execution_count": 19,
     "metadata": {},
     "output_type": "execute_result"
    }
   ],
   "source": [
    "iloraz(10, 2)"
   ]
  },
  {
   "cell_type": "code",
   "execution_count": 20,
   "metadata": {
    "collapsed": false,
    "slideshow": {
     "slide_type": "-"
    }
   },
   "outputs": [
    {
     "data": {
      "text/plain": [
       "0"
      ]
     },
     "execution_count": 20,
     "metadata": {},
     "output_type": "execute_result"
    }
   ],
   "source": [
    "iloraz(10, 0)"
   ]
  },
  {
   "cell_type": "markdown",
   "metadata": {
    "slideshow": {
     "slide_type": "subslide"
    }
   },
   "source": [
    "## Iloraz - *wyjątek*\n",
    "\n",
    "---"
   ]
  },
  {
   "cell_type": "code",
   "execution_count": 21,
   "metadata": {
    "collapsed": true,
    "slideshow": {
     "slide_type": "-"
    }
   },
   "outputs": [],
   "source": [
    "def iloraz(a, b):\n",
    "    \"\"\"Zwraca a / b lub zero, jeśli b = 0.\"\"\"\n",
    "    try:    # spróbuj\n",
    "        return a / b\n",
    "    except: # jeśli error to\n",
    "        return 0"
   ]
  },
  {
   "cell_type": "code",
   "execution_count": 22,
   "metadata": {
    "collapsed": false,
    "slideshow": {
     "slide_type": "-"
    }
   },
   "outputs": [
    {
     "data": {
      "text/plain": [
       "5.0"
      ]
     },
     "execution_count": 22,
     "metadata": {},
     "output_type": "execute_result"
    }
   ],
   "source": [
    "iloraz(10, 2)"
   ]
  },
  {
   "cell_type": "code",
   "execution_count": 23,
   "metadata": {
    "collapsed": false,
    "slideshow": {
     "slide_type": "-"
    }
   },
   "outputs": [
    {
     "data": {
      "text/plain": [
       "0"
      ]
     },
     "execution_count": 23,
     "metadata": {},
     "output_type": "execute_result"
    }
   ],
   "source": [
    "iloraz(10, 0)"
   ]
  },
  {
   "cell_type": "markdown",
   "metadata": {
    "slideshow": {
     "slide_type": "subslide"
    }
   },
   "source": [
    "## Przykład - pobierz liczbę całkowitą\n",
    "\n",
    "---"
   ]
  },
  {
   "cell_type": "code",
   "execution_count": 24,
   "metadata": {
    "collapsed": false,
    "slideshow": {
     "slide_type": "-"
    }
   },
   "outputs": [
    {
     "name": "stdout",
     "output_type": "stream",
     "text": [
      "Podaj liczbę: a\n",
      "Spróbuj jeszcze raz.\n",
      "Podaj liczbę: 1.0\n",
      "Spróbuj jeszcze raz.\n",
      "Podaj liczbę: 1\n"
     ]
    }
   ],
   "source": [
    "while True:\n",
    "    try:    # spróbuj rzutować na int\n",
    "        x = int(input(\"Podaj liczbę: \"))\n",
    "        break\n",
    "    except: # jeśli się nie uda to\n",
    "        print(\"Spróbuj jeszcze raz.\")"
   ]
  },
  {
   "cell_type": "markdown",
   "metadata": {
    "slideshow": {
     "slide_type": "subslide"
    }
   },
   "source": [
    "## Typy wyjątków\n",
    "\n",
    "---\n",
    "\n",
    "* pełna lista wbudowanych wyjątków [link](https://docs.python.org/3/library/exceptions.html#bltin-exceptions)"
   ]
  },
  {
   "cell_type": "code",
   "execution_count": 25,
   "metadata": {
    "collapsed": false,
    "slideshow": {
     "slide_type": "-"
    }
   },
   "outputs": [
    {
     "name": "stdout",
     "output_type": "stream",
     "text": [
      "Podaj liczbę: a\n",
      "Spróbuj jeszcze raz.\n",
      "Podaj liczbę: 1.0\n",
      "Spróbuj jeszcze raz.\n",
      "Podaj liczbę: 1\n"
     ]
    }
   ],
   "source": [
    "while True:\n",
    "    try:\n",
    "        x = int(input(\"Podaj liczbę: \"))\n",
    "        break\n",
    "    except ValueError: # jeśli błąd wartości\n",
    "        print(\"Spróbuj jeszcze raz.\")"
   ]
  },
  {
   "cell_type": "markdown",
   "metadata": {
    "slideshow": {
     "slide_type": "subslide"
    }
   },
   "source": [
    "## Komunikat wyjątku\n",
    "\n",
    "---"
   ]
  },
  {
   "cell_type": "code",
   "execution_count": 26,
   "metadata": {
    "collapsed": false,
    "slideshow": {
     "slide_type": "-"
    }
   },
   "outputs": [
    {
     "name": "stdout",
     "output_type": "stream",
     "text": [
      "Podaj liczbę: a\n",
      "Spróbuj jeszcze raz, bo invalid literal for int() with base 10: 'a'\n",
      "Podaj liczbę: 1.0\n",
      "Spróbuj jeszcze raz, bo invalid literal for int() with base 10: '1.0'\n",
      "Podaj liczbę: 1\n"
     ]
    }
   ],
   "source": [
    "while True:\n",
    "    try:\n",
    "        x = int(input(\"Podaj liczbę: \"))\n",
    "        break\n",
    "    except ValueError as err: # err = komunikat błędu\n",
    "        print(\"Spróbuj jeszcze raz, bo\", err)"
   ]
  },
  {
   "cell_type": "markdown",
   "metadata": {
    "slideshow": {
     "slide_type": "subslide"
    }
   },
   "source": [
    "## Przykład\n",
    "\n",
    "---"
   ]
  },
  {
   "cell_type": "code",
   "execution_count": 27,
   "metadata": {
    "collapsed": false,
    "slideshow": {
     "slide_type": "-"
    }
   },
   "outputs": [],
   "source": [
    "# więcej o plikach za chwilę\n",
    "\n",
    "import sys\n",
    "\n",
    "def read_data():\n",
    "    try:\n",
    "        plik = open('data.txt') # otwórz plik\n",
    "        linia = plik.readline() # wczytaj linię\n",
    "        dane = int(linia)       # rzutuj linię na int\n",
    "    except IOError as err:      # IOError\n",
    "        print(\"Błąd I/O:\", err)\n",
    "    except ValueError as err:   # ValueError\n",
    "        print(\"Złe dane:\", err)\n",
    "    except:                     # InnyError\n",
    "        print(\"Coś poszło nie tak...\")\n",
    "        sys.exit(0)"
   ]
  },
  {
   "cell_type": "markdown",
   "metadata": {
    "slideshow": {
     "slide_type": "subslide"
    }
   },
   "source": [
    "## Przykład - test\n",
    "\n",
    "---"
   ]
  },
  {
   "cell_type": "code",
   "execution_count": 28,
   "metadata": {
    "collapsed": false,
    "slideshow": {
     "slide_type": "-"
    }
   },
   "outputs": [
    {
     "name": "stdout",
     "output_type": "stream",
     "text": [
      "Błąd I/O: [Errno 2] No such file or directory: 'data.txt'\n"
     ]
    }
   ],
   "source": [
    "read_data()"
   ]
  },
  {
   "cell_type": "code",
   "execution_count": 29,
   "metadata": {
    "collapsed": false,
    "slideshow": {
     "slide_type": "-"
    }
   },
   "outputs": [
    {
     "name": "stdout",
     "output_type": "stream",
     "text": [
      "Writing data.txt\n"
     ]
    }
   ],
   "source": [
    "%%writefile data.txt\n",
    "Python"
   ]
  },
  {
   "cell_type": "code",
   "execution_count": 30,
   "metadata": {
    "collapsed": false,
    "slideshow": {
     "slide_type": "-"
    }
   },
   "outputs": [
    {
     "name": "stdout",
     "output_type": "stream",
     "text": [
      "Złe dane: invalid literal for int() with base 10: 'Python'\n"
     ]
    }
   ],
   "source": [
    "read_data()"
   ]
  },
  {
   "cell_type": "markdown",
   "metadata": {
    "slideshow": {
     "slide_type": "subslide"
    }
   },
   "source": [
    "## *try...finally*\n",
    "\n",
    "---"
   ]
  },
  {
   "cell_type": "code",
   "execution_count": 31,
   "metadata": {
    "collapsed": true,
    "slideshow": {
     "slide_type": "-"
    }
   },
   "outputs": [],
   "source": [
    "def iloraz(a, b):\n",
    "    \"\"\"Zwraca a / b.\"\"\"\n",
    "    try:\n",
    "        return a / b\n",
    "    finally: # wykonaj mimo zgłoszonego wyjątku\n",
    "        print(\"Posprzątam bez względu na wyjątki.\")"
   ]
  },
  {
   "cell_type": "code",
   "execution_count": 32,
   "metadata": {
    "collapsed": false,
    "slideshow": {
     "slide_type": "-"
    }
   },
   "outputs": [
    {
     "name": "stdout",
     "output_type": "stream",
     "text": [
      "Posprzątam bez względu na wyjątki.\n"
     ]
    },
    {
     "data": {
      "text/plain": [
       "2.0"
      ]
     },
     "execution_count": 32,
     "metadata": {},
     "output_type": "execute_result"
    }
   ],
   "source": [
    "iloraz(10, 5)"
   ]
  },
  {
   "cell_type": "code",
   "execution_count": 33,
   "metadata": {
    "collapsed": false,
    "slideshow": {
     "slide_type": "-"
    }
   },
   "outputs": [
    {
     "name": "stdout",
     "output_type": "stream",
     "text": [
      "Posprzątam bez względu na wyjątki.\n"
     ]
    },
    {
     "ename": "ZeroDivisionError",
     "evalue": "division by zero",
     "output_type": "error",
     "traceback": [
      "\u001b[0;31m---------------------------------------------------------------------------\u001b[0m",
      "\u001b[0;31mZeroDivisionError\u001b[0m                         Traceback (most recent call last)",
      "\u001b[0;32m<ipython-input-33-0a93c896245e>\u001b[0m in \u001b[0;36m<module>\u001b[0;34m()\u001b[0m\n\u001b[0;32m----> 1\u001b[0;31m \u001b[0miloraz\u001b[0m\u001b[0;34m(\u001b[0m\u001b[0;36m10\u001b[0m\u001b[0;34m,\u001b[0m \u001b[0;36m0\u001b[0m\u001b[0;34m)\u001b[0m\u001b[0;34m\u001b[0m\u001b[0m\n\u001b[0m",
      "\u001b[0;32m<ipython-input-31-2179acde9974>\u001b[0m in \u001b[0;36miloraz\u001b[0;34m(a, b)\u001b[0m\n\u001b[1;32m      2\u001b[0m     \u001b[0;34m\"\"\"Zwraca a / b.\"\"\"\u001b[0m\u001b[0;34m\u001b[0m\u001b[0m\n\u001b[1;32m      3\u001b[0m     \u001b[0;32mtry\u001b[0m\u001b[0;34m:\u001b[0m\u001b[0;34m\u001b[0m\u001b[0m\n\u001b[0;32m----> 4\u001b[0;31m         \u001b[0;32mreturn\u001b[0m \u001b[0ma\u001b[0m \u001b[0;34m/\u001b[0m \u001b[0mb\u001b[0m\u001b[0;34m\u001b[0m\u001b[0m\n\u001b[0m\u001b[1;32m      5\u001b[0m     \u001b[0;32mfinally\u001b[0m\u001b[0;34m:\u001b[0m \u001b[0;31m# wykonaj mimo zgłoszonego wyjątku\u001b[0m\u001b[0;34m\u001b[0m\u001b[0m\n\u001b[1;32m      6\u001b[0m         \u001b[0mprint\u001b[0m\u001b[0;34m(\u001b[0m\u001b[0;34m\"Posprzątam bez względu na wyjątki.\"\u001b[0m\u001b[0;34m)\u001b[0m\u001b[0;34m\u001b[0m\u001b[0m\n",
      "\u001b[0;31mZeroDivisionError\u001b[0m: division by zero"
     ]
    }
   ],
   "source": [
    "iloraz(10, 0)"
   ]
  },
  {
   "cell_type": "markdown",
   "metadata": {
    "slideshow": {
     "slide_type": "subslide"
    }
   },
   "source": [
    "## *try...except...finally*\n",
    "\n",
    "---"
   ]
  },
  {
   "cell_type": "code",
   "execution_count": 34,
   "metadata": {
    "collapsed": false,
    "slideshow": {
     "slide_type": "-"
    }
   },
   "outputs": [],
   "source": [
    "def iloraz(a, b):\n",
    "    \"\"\"Zwraca a / b lub zero, jeśli b = 0.\"\"\"\n",
    "    try:\n",
    "        return a / b\n",
    "    except:\n",
    "        print(\"Użytkownik nie zna matematyki.\")\n",
    "    finally: # wykona zawsze bez względu na wyni try\n",
    "        print(\"Posprzątam bez względu na wyjątki.\")"
   ]
  },
  {
   "cell_type": "code",
   "execution_count": 35,
   "metadata": {
    "collapsed": false,
    "slideshow": {
     "slide_type": "-"
    }
   },
   "outputs": [
    {
     "name": "stdout",
     "output_type": "stream",
     "text": [
      "Posprzątam bez względu na wyjątki.\n"
     ]
    },
    {
     "data": {
      "text/plain": [
       "2.0"
      ]
     },
     "execution_count": 35,
     "metadata": {},
     "output_type": "execute_result"
    }
   ],
   "source": [
    "iloraz(10, 5)"
   ]
  },
  {
   "cell_type": "code",
   "execution_count": 36,
   "metadata": {
    "collapsed": false,
    "slideshow": {
     "slide_type": "-"
    }
   },
   "outputs": [
    {
     "name": "stdout",
     "output_type": "stream",
     "text": [
      "Użytkownik nie zna matematyki.\n",
      "Posprzątam bez względu na wyjątki.\n"
     ]
    }
   ],
   "source": [
    "iloraz(10, 0)"
   ]
  },
  {
   "cell_type": "markdown",
   "metadata": {
    "slideshow": {
     "slide_type": "subslide"
    }
   },
   "source": [
    "## Zgłaszanie wyjątków\n",
    "\n",
    "---"
   ]
  },
  {
   "cell_type": "code",
   "execution_count": 37,
   "metadata": {
    "collapsed": true,
    "slideshow": {
     "slide_type": "-"
    }
   },
   "outputs": [],
   "source": [
    "def iloraz(a, b):\n",
    "    \"\"\"Zwraca a / b.\"\"\"\n",
    "    if b == 0:\n",
    "        raise NameError(\"Dzielenie przez zero.\")\n",
    "    return a / b"
   ]
  },
  {
   "cell_type": "code",
   "execution_count": 38,
   "metadata": {
    "collapsed": false,
    "slideshow": {
     "slide_type": "-"
    }
   },
   "outputs": [
    {
     "data": {
      "text/plain": [
       "2.0"
      ]
     },
     "execution_count": 38,
     "metadata": {},
     "output_type": "execute_result"
    }
   ],
   "source": [
    "iloraz(10, 5)"
   ]
  },
  {
   "cell_type": "code",
   "execution_count": 39,
   "metadata": {
    "collapsed": false,
    "slideshow": {
     "slide_type": "-"
    }
   },
   "outputs": [
    {
     "ename": "NameError",
     "evalue": "Dzielenie przez zero.",
     "output_type": "error",
     "traceback": [
      "\u001b[0;31m---------------------------------------------------------------------------\u001b[0m",
      "\u001b[0;31mNameError\u001b[0m                                 Traceback (most recent call last)",
      "\u001b[0;32m<ipython-input-39-0a93c896245e>\u001b[0m in \u001b[0;36m<module>\u001b[0;34m()\u001b[0m\n\u001b[0;32m----> 1\u001b[0;31m \u001b[0miloraz\u001b[0m\u001b[0;34m(\u001b[0m\u001b[0;36m10\u001b[0m\u001b[0;34m,\u001b[0m \u001b[0;36m0\u001b[0m\u001b[0;34m)\u001b[0m\u001b[0;34m\u001b[0m\u001b[0m\n\u001b[0m",
      "\u001b[0;32m<ipython-input-37-0c4a0fa13db9>\u001b[0m in \u001b[0;36miloraz\u001b[0;34m(a, b)\u001b[0m\n\u001b[1;32m      2\u001b[0m     \u001b[0;34m\"\"\"Zwraca a / b.\"\"\"\u001b[0m\u001b[0;34m\u001b[0m\u001b[0m\n\u001b[1;32m      3\u001b[0m     \u001b[0;32mif\u001b[0m \u001b[0mb\u001b[0m \u001b[0;34m==\u001b[0m \u001b[0;36m0\u001b[0m\u001b[0;34m:\u001b[0m\u001b[0;34m\u001b[0m\u001b[0m\n\u001b[0;32m----> 4\u001b[0;31m         \u001b[0;32mraise\u001b[0m \u001b[0mNameError\u001b[0m\u001b[0;34m(\u001b[0m\u001b[0;34m\"Dzielenie przez zero.\"\u001b[0m\u001b[0;34m)\u001b[0m\u001b[0;34m\u001b[0m\u001b[0m\n\u001b[0m\u001b[1;32m      5\u001b[0m     \u001b[0;32mreturn\u001b[0m \u001b[0ma\u001b[0m \u001b[0;34m/\u001b[0m \u001b[0mb\u001b[0m\u001b[0;34m\u001b[0m\u001b[0m\n",
      "\u001b[0;31mNameError\u001b[0m: Dzielenie przez zero."
     ]
    }
   ],
   "source": [
    "iloraz(10, 0)"
   ]
  },
  {
   "cell_type": "markdown",
   "metadata": {
    "slideshow": {
     "slide_type": "subslide"
    }
   },
   "source": [
    "## Zgłaszanie wyjątków test\n",
    "\n",
    "---"
   ]
  },
  {
   "cell_type": "code",
   "execution_count": 40,
   "metadata": {
    "collapsed": false,
    "slideshow": {
     "slide_type": "-"
    }
   },
   "outputs": [
    {
     "name": "stdout",
     "output_type": "stream",
     "text": [
      "Błąd: Dzielenie przez zero.\n"
     ]
    }
   ],
   "source": [
    "try:\n",
    "    iloraz(10, 0)\n",
    "except NameError as err:\n",
    "    print(\"Błąd:\", err)"
   ]
  },
  {
   "cell_type": "markdown",
   "metadata": {
    "slideshow": {
     "slide_type": "subslide"
    }
   },
   "source": [
    "## Własne wyjątki\n",
    "\n",
    "---\n",
    "\n",
    "* możliwe jest definiowanie własnych wyjątków\n",
    "* o tym w przyszłości, jak już poznamy klasy"
   ]
  },
  {
   "cell_type": "markdown",
   "metadata": {
    "slideshow": {
     "slide_type": "subslide"
    }
   },
   "source": [
    "## *assert*\n",
    "\n",
    "---\n",
    "\n",
    "```py\n",
    "# assert expression jest równoważne\n",
    "if __debug__:\n",
    "    if not expression: raise AssertionError\n",
    "```"
   ]
  },
  {
   "cell_type": "code",
   "execution_count": 41,
   "metadata": {
    "collapsed": false,
    "slideshow": {
     "slide_type": "-"
    }
   },
   "outputs": [
    {
     "name": "stdout",
     "output_type": "stream",
     "text": [
      "Overwriting assert.py\n"
     ]
    }
   ],
   "source": [
    "%%writefile assert.py\n",
    "\n",
    "import sys\n",
    "\n",
    "assert sys.argv[1] != \"Python\"\n",
    "\n",
    "print(\"Assert test.\")"
   ]
  },
  {
   "cell_type": "markdown",
   "metadata": {
    "slideshow": {
     "slide_type": "subslide"
    }
   },
   "source": [
    "## *assert* - test\n",
    "\n",
    "---"
   ]
  },
  {
   "cell_type": "code",
   "execution_count": 42,
   "metadata": {
    "collapsed": false,
    "slideshow": {
     "slide_type": "-"
    }
   },
   "outputs": [
    {
     "name": "stdout",
     "output_type": "stream",
     "text": [
      "Assert test.\n"
     ]
    }
   ],
   "source": [
    "%%bash\n",
    "python assert.py 1"
   ]
  },
  {
   "cell_type": "code",
   "execution_count": 43,
   "metadata": {
    "collapsed": false,
    "slideshow": {
     "slide_type": "-"
    }
   },
   "outputs": [
    {
     "name": "stderr",
     "output_type": "stream",
     "text": [
      "Traceback (most recent call last):\n",
      "  File \"assert.py\", line 4, in <module>\n",
      "    assert sys.argv[1] != \"Python\"\n",
      "AssertionError\n"
     ]
    }
   ],
   "source": [
    "%%bash\n",
    "python assert.py Python"
   ]
  },
  {
   "cell_type": "code",
   "execution_count": 44,
   "metadata": {
    "collapsed": false,
    "slideshow": {
     "slide_type": "-"
    }
   },
   "outputs": [
    {
     "name": "stdout",
     "output_type": "stream",
     "text": [
      "Assert test.\n"
     ]
    }
   ],
   "source": [
    "%%bash\n",
    "python -O assert.py Python"
   ]
  },
  {
   "cell_type": "markdown",
   "metadata": {
    "slideshow": {
     "slide_type": "slide"
    }
   },
   "source": [
    "## Operacje na plikach\n",
    "\n",
    "---\n",
    "\n",
    "* do otwierania plików służy funkcja wbudowana *open*\n",
    "* przyjmuje wiele argumentów, przy czym dwa najważniejsze to: *file* i *mode*\n",
    "\n",
    "```py\n",
    "open(file, mode)\n",
    "```\n",
    "\n",
    "* *file* - nazwa pliku (lub pełna ścieżka, jeśli nie w katalogu roboczym)\n",
    "* *mode* - tryb"
   ]
  },
  {
   "cell_type": "markdown",
   "metadata": {
    "slideshow": {
     "slide_type": "subslide"
    }
   },
   "source": [
    "## Tryby pracy nad plikiem\n",
    "\n",
    "---\n",
    "\n",
    "| Tryb | Opis                                                 |\n",
    "|:----:|:----------------------------------------------------:|\n",
    "| r    | tylko do oczytu (domyślnie)                          |\n",
    "| w    | tylko do zapisu (istniejący plik zostanie nadpisany) |\n",
    "| x    | tylko do zapisu (plik nie może istnieć)              |\n",
    "| a    | tylko do zapisu (od końca pliku)                     |\n",
    "| +    | aktualizowanie pliku (odczyt i zapis)                |\n",
    "| t    | tryb tekstowy (domyślnie)                            |\n",
    "| b    | tryb binarny                                         |\n",
    "\n",
    "* np. `open(file, r+b)` otwiera plik do odczytu, z możliwością zapisu, w trybie binarnym"
   ]
  },
  {
   "cell_type": "markdown",
   "metadata": {
    "slideshow": {
     "slide_type": "subslide"
    }
   },
   "source": [
    "## Zapis do pliku\n",
    "\n",
    "---"
   ]
  },
  {
   "cell_type": "code",
   "execution_count": 45,
   "metadata": {
    "collapsed": false,
    "slideshow": {
     "slide_type": "-"
    }
   },
   "outputs": [],
   "source": [
    "# otwórz plik do zapisu\n",
    "# usuń zawartość jeśli plik istnieje\n",
    "file = open(\"test\", 'w')\n",
    "\n",
    "file.write(\"0123456789\") # zapisz do pliku\n",
    "\n",
    "file.close() # zamknij plik"
   ]
  },
  {
   "cell_type": "code",
   "execution_count": 46,
   "metadata": {
    "collapsed": false,
    "slideshow": {
     "slide_type": "-"
    }
   },
   "outputs": [
    {
     "ename": "ValueError",
     "evalue": "I/O operation on closed file.",
     "output_type": "error",
     "traceback": [
      "\u001b[0;31m---------------------------------------------------------------------------\u001b[0m",
      "\u001b[0;31mValueError\u001b[0m                                Traceback (most recent call last)",
      "\u001b[0;32m<ipython-input-46-456f9e28996a>\u001b[0m in \u001b[0;36m<module>\u001b[0;34m()\u001b[0m\n\u001b[0;32m----> 1\u001b[0;31m \u001b[0mfile\u001b[0m\u001b[0;34m.\u001b[0m\u001b[0mwrite\u001b[0m\u001b[0;34m(\u001b[0m\u001b[0;34m\"jeszcze coś\"\u001b[0m\u001b[0;34m)\u001b[0m \u001b[0;31m# plik już jest zamknięty\u001b[0m\u001b[0;34m\u001b[0m\u001b[0m\n\u001b[0m",
      "\u001b[0;31mValueError\u001b[0m: I/O operation on closed file."
     ]
    }
   ],
   "source": [
    "file.write(\"jeszcze coś\") # plik już jest zamknięty"
   ]
  },
  {
   "cell_type": "markdown",
   "metadata": {
    "slideshow": {
     "slide_type": "subslide"
    }
   },
   "source": [
    "## Dopisywanie do pliku\n",
    "\n",
    "---"
   ]
  },
  {
   "cell_type": "code",
   "execution_count": 47,
   "metadata": {
    "collapsed": true,
    "slideshow": {
     "slide_type": "-"
    }
   },
   "outputs": [],
   "source": [
    "# otwórz plik do zapisu\n",
    "# ustaw się na końcu pliku\n",
    "file = open(\"test\", 'a')\n",
    "\n",
    "file.write(\"abcdefghij\") # zapisz do pliku\n",
    "\n",
    "file.close() # zamknij plik"
   ]
  },
  {
   "cell_type": "markdown",
   "metadata": {
    "slideshow": {
     "slide_type": "subslide"
    }
   },
   "source": [
    "## Odczyt pliku\n",
    "\n",
    "---"
   ]
  },
  {
   "cell_type": "code",
   "execution_count": 48,
   "metadata": {
    "collapsed": false,
    "slideshow": {
     "slide_type": "-"
    }
   },
   "outputs": [
    {
     "name": "stdout",
     "output_type": "stream",
     "text": [
      "0123456789abcdefghij\n"
     ]
    }
   ],
   "source": [
    "file = open(\"test\", \"r\") # otwórz tylko do odczytu\n",
    "\n",
    "zawartosc = file.read() # wczytaj całą zawartość pliku\n",
    "\n",
    "file.close()\n",
    "\n",
    "print(zawartosc)"
   ]
  },
  {
   "cell_type": "markdown",
   "metadata": {
    "slideshow": {
     "slide_type": "subslide"
    }
   },
   "source": [
    "## *r+* vs *a*\n",
    "\n",
    "---"
   ]
  },
  {
   "cell_type": "code",
   "execution_count": 49,
   "metadata": {
    "collapsed": false,
    "slideshow": {
     "slide_type": "-"
    }
   },
   "outputs": [],
   "source": [
    "# a (append) - zaczyna dopisywać na koniec pliku\n",
    "# r+ - zaczyna zapisywać od początku (nadpisując dane)\n",
    "\n",
    "file = open(\"test\", \"r+\") # odczyt z możliwością zapisu\n",
    "\n",
    "file.write(\".\" * 5) # zapisz 5 kropek\n",
    "\n",
    "file.close()"
   ]
  },
  {
   "cell_type": "code",
   "execution_count": 50,
   "metadata": {
    "collapsed": false,
    "slideshow": {
     "slide_type": "-"
    }
   },
   "outputs": [
    {
     "name": "stdout",
     "output_type": "stream",
     "text": [
      ".....56789abcdefghij"
     ]
    }
   ],
   "source": [
    "%%bash\n",
    "cat test"
   ]
  },
  {
   "cell_type": "markdown",
   "metadata": {
    "slideshow": {
     "slide_type": "subslide"
    }
   },
   "source": [
    "## *w+* vs *r+*\n",
    "\n",
    "---"
   ]
  },
  {
   "cell_type": "code",
   "execution_count": 51,
   "metadata": {
    "collapsed": true,
    "slideshow": {
     "slide_type": "-"
    }
   },
   "outputs": [],
   "source": [
    "# r+ - zaczyna zapisywać od początku (nadpisując dane)\n",
    "# w+ - najpierw czyści plik (jeśli istnieje)\n",
    "\n",
    "file = open(\"test\", \"w+\") # zapis z możliwością odczytu\n",
    "\n",
    "file.write(\".\" * 5) # zapisz 5 kropek\n",
    "\n",
    "file.close()"
   ]
  },
  {
   "cell_type": "code",
   "execution_count": 52,
   "metadata": {
    "collapsed": false,
    "slideshow": {
     "slide_type": "-"
    }
   },
   "outputs": [
    {
     "name": "stdout",
     "output_type": "stream",
     "text": [
      "....."
     ]
    }
   ],
   "source": [
    "%%bash\n",
    "cat test"
   ]
  },
  {
   "cell_type": "markdown",
   "metadata": {
    "slideshow": {
     "slide_type": "subslide"
    }
   },
   "source": [
    "## *w* vs *w+*\n",
    "\n",
    "---"
   ]
  },
  {
   "cell_type": "code",
   "execution_count": 53,
   "metadata": {
    "collapsed": false,
    "slideshow": {
     "slide_type": "-"
    }
   },
   "outputs": [
    {
     "ename": "UnsupportedOperation",
     "evalue": "not readable",
     "output_type": "error",
     "traceback": [
      "\u001b[0;31m---------------------------------------------------------------------------\u001b[0m",
      "\u001b[0;31mUnsupportedOperation\u001b[0m                      Traceback (most recent call last)",
      "\u001b[0;32m<ipython-input-53-6fb740cd3fea>\u001b[0m in \u001b[0;36m<module>\u001b[0;34m()\u001b[0m\n\u001b[1;32m      3\u001b[0m \u001b[0mfile\u001b[0m\u001b[0;34m.\u001b[0m\u001b[0mwrite\u001b[0m\u001b[0;34m(\u001b[0m\u001b[0;34m\".\"\u001b[0m \u001b[0;34m*\u001b[0m \u001b[0;36m5\u001b[0m\u001b[0;34m)\u001b[0m \u001b[0;31m# zapisz 5 kropek\u001b[0m\u001b[0;34m\u001b[0m\u001b[0m\n\u001b[1;32m      4\u001b[0m \u001b[0;34m\u001b[0m\u001b[0m\n\u001b[0;32m----> 5\u001b[0;31m \u001b[0mzawartosc\u001b[0m \u001b[0;34m=\u001b[0m \u001b[0mfile\u001b[0m\u001b[0;34m.\u001b[0m\u001b[0mread\u001b[0m\u001b[0;34m(\u001b[0m\u001b[0;34m)\u001b[0m\u001b[0;34m\u001b[0m\u001b[0m\n\u001b[0m\u001b[1;32m      6\u001b[0m \u001b[0;34m\u001b[0m\u001b[0m\n\u001b[1;32m      7\u001b[0m \u001b[0mfile\u001b[0m\u001b[0;34m.\u001b[0m\u001b[0mclose\u001b[0m\u001b[0;34m(\u001b[0m\u001b[0;34m)\u001b[0m\u001b[0;34m\u001b[0m\u001b[0m\n",
      "\u001b[0;31mUnsupportedOperation\u001b[0m: not readable"
     ]
    }
   ],
   "source": [
    "file = open(\"test\", \"w\") # tylko zapis\n",
    "\n",
    "file.write(\".\" * 5) # zapisz 5 kropek\n",
    "\n",
    "zawartosc = file.read()\n",
    "\n",
    "file.close()\n",
    "\n",
    "print(zawartosc)"
   ]
  },
  {
   "cell_type": "markdown",
   "metadata": {
    "slideshow": {
     "slide_type": "subslide"
    }
   },
   "source": [
    "## *w* vs *w+*\n",
    "\n",
    "---"
   ]
  },
  {
   "cell_type": "code",
   "execution_count": 54,
   "metadata": {
    "collapsed": false,
    "slideshow": {
     "slide_type": "-"
    }
   },
   "outputs": [
    {
     "name": "stdout",
     "output_type": "stream",
     "text": [
      "\n"
     ]
    }
   ],
   "source": [
    "file = open(\"test\", \"w+\") # zapis z możliwościa odczytu\n",
    "\n",
    "file.write(\".\" * 5) # zapisz 5 kropek\n",
    "\n",
    "zawartosc = file.read()\n",
    "\n",
    "file.close()\n",
    "\n",
    "print(zawartosc) # nie wydrukuje bo jesteśmy na końcu pliku"
   ]
  },
  {
   "cell_type": "markdown",
   "metadata": {
    "slideshow": {
     "slide_type": "subslide"
    }
   },
   "source": [
    "## *seek*\n",
    "\n",
    "---"
   ]
  },
  {
   "cell_type": "code",
   "execution_count": 55,
   "metadata": {
    "collapsed": false,
    "slideshow": {
     "slide_type": "-"
    }
   },
   "outputs": [
    {
     "name": "stdout",
     "output_type": "stream",
     "text": [
      ".....\n"
     ]
    }
   ],
   "source": [
    "file = open(\"test\", \"w+\") # zapis z możliwościa odczytu\n",
    "\n",
    "file.write(\".\" * 5) # zapisz 5 kropek\n",
    "\n",
    "file.seek(0) # ustaw położenie\n",
    "\n",
    "zawartosc = file.read()\n",
    "\n",
    "file.close()\n",
    "\n",
    "print(zawartosc) # nie wydrukuje bo jesteśmy na końcu pliku"
   ]
  },
  {
   "cell_type": "markdown",
   "metadata": {
    "slideshow": {
     "slide_type": "subslide"
    }
   },
   "source": [
    "## *tell*\n",
    "\n",
    "---"
   ]
  },
  {
   "cell_type": "code",
   "execution_count": 56,
   "metadata": {
    "collapsed": false
   },
   "outputs": [
    {
     "name": "stdout",
     "output_type": "stream",
     "text": [
      "....."
     ]
    }
   ],
   "source": [
    "%%bash\n",
    "cat test"
   ]
  },
  {
   "cell_type": "code",
   "execution_count": 57,
   "metadata": {
    "collapsed": false,
    "slideshow": {
     "slide_type": "-"
    }
   },
   "outputs": [
    {
     "data": {
      "text/plain": [
       "5"
      ]
     },
     "execution_count": 57,
     "metadata": {},
     "output_type": "execute_result"
    }
   ],
   "source": [
    "file = open(\"test\", \"a+\") # dodawanie z możliwością odczytu\n",
    "\n",
    "file.tell() # pozycja w pliku"
   ]
  },
  {
   "cell_type": "code",
   "execution_count": 58,
   "metadata": {
    "collapsed": false,
    "slideshow": {
     "slide_type": "-"
    }
   },
   "outputs": [
    {
     "data": {
      "text/plain": [
       "10"
      ]
     },
     "execution_count": 58,
     "metadata": {},
     "output_type": "execute_result"
    }
   ],
   "source": [
    "file.write(\"12345\") # dopisz 12345\n",
    "\n",
    "file.tell()"
   ]
  },
  {
   "cell_type": "code",
   "execution_count": 59,
   "metadata": {
    "collapsed": false,
    "slideshow": {
     "slide_type": "-"
    }
   },
   "outputs": [
    {
     "name": "stdout",
     "output_type": "stream",
     "text": [
      ".....12345"
     ]
    }
   ],
   "source": [
    "%%bash\n",
    "cat test"
   ]
  },
  {
   "cell_type": "markdown",
   "metadata": {
    "slideshow": {
     "slide_type": "subslide"
    }
   },
   "source": [
    "## *seek* and *read*\n",
    "\n",
    "---"
   ]
  },
  {
   "cell_type": "code",
   "execution_count": 60,
   "metadata": {
    "collapsed": false,
    "slideshow": {
     "slide_type": "-"
    }
   },
   "outputs": [
    {
     "name": "stdout",
     "output_type": "stream",
     "text": [
      ".....12345"
     ]
    }
   ],
   "source": [
    "%%bash\n",
    "cat test"
   ]
  },
  {
   "cell_type": "code",
   "execution_count": 61,
   "metadata": {
    "collapsed": false,
    "slideshow": {
     "slide_type": "-"
    }
   },
   "outputs": [
    {
     "data": {
      "text/plain": [
       "'2'"
      ]
     },
     "execution_count": 61,
     "metadata": {},
     "output_type": "execute_result"
    }
   ],
   "source": [
    "# seek(offset, punkt_odniesienia)\n",
    "# po = 0, 1, 2 (początek pliku, bieżąca pozycja, koniec pliku)\n",
    "# w trybie tekstowym tylko 0 jest dozwolone\n",
    "\n",
    "file.seek(6, 0) # o 6 znaków od początku \n",
    "\n",
    "file.read(1)"
   ]
  },
  {
   "cell_type": "code",
   "execution_count": 62,
   "metadata": {
    "collapsed": false,
    "slideshow": {
     "slide_type": "-"
    }
   },
   "outputs": [
    {
     "data": {
      "text/plain": [
       "7"
      ]
     },
     "execution_count": 62,
     "metadata": {},
     "output_type": "execute_result"
    }
   ],
   "source": [
    "file.tell() # read(n) przesuwa o n"
   ]
  },
  {
   "cell_type": "markdown",
   "metadata": {
    "slideshow": {
     "slide_type": "subslide"
    }
   },
   "source": [
    "## Uwaga\n",
    "\n",
    "---\n",
    "\n",
    "* wygodnie jest wczytać cały plik do pamięci\n",
    "    * *read()* - zawartość jako pojedynczy string\n",
    "    * *readlines()* - zawartość jako lista (linia -> element)\n",
    "* jednak w przypadku dużych plików może to byś katastrofalne, wtedy lepiej\n",
    "    * *read(n)* - wczytaj *n* bajtów\n",
    "    * *readline()* - wczytaj linię"
   ]
  },
  {
   "cell_type": "markdown",
   "metadata": {
    "slideshow": {
     "slide_type": "subslide"
    }
   },
   "source": [
    "## Otwieranie plików a wyjątki\n",
    "\n",
    "---\n",
    "\n",
    "```py\n",
    "try:\n",
    "    file = open(\"złe_dane\")\n",
    "    data = file.read() # zgłasza wyjątek\n",
    "finally: # porządek nawet w przypadku wyjątku\n",
    "    print(\"Czyszczę śmieci.\")\n",
    "    file.close()\n",
    "```"
   ]
  },
  {
   "cell_type": "markdown",
   "metadata": {
    "slideshow": {
     "slide_type": "subslide"
    }
   },
   "source": [
    "## *with* statement\n",
    "\n",
    "---\n",
    "\n",
    "* gwarantuje, że jeśli wywołane zostało `__enter__()` (np. otwarcie pliku)\n",
    "* to zostanie wywołane `__exit()__` (np. zamknięcie pliku)\n",
    "* nawet jeśli po drodze wystąpi wyjątek "
   ]
  },
  {
   "cell_type": "markdown",
   "metadata": {
    "slideshow": {
     "slide_type": "subslide"
    }
   },
   "source": [
    "## *with open*\n",
    "\n",
    "---\n",
    "\n",
    "```py\n",
    "with open(\"plik_z_danymi\") as file:\n",
    "    data = file.read()\n",
    "```\n",
    "\n",
    "* gwarantuje, że plik zostanie zawsze poprawnie zamknięty\n",
    "* wygodniejsze niż *try...finally...*"
   ]
  },
  {
   "cell_type": "markdown",
   "metadata": {
    "slideshow": {
     "slide_type": "slide"
    }
   },
   "source": [
    "## Comma-separated values (CSV)\n",
    "\n",
    "---\n",
    "\n",
    "* forma przechowywania danych w plikach tesktowych\n",
    "* każde pole oddzielone jest przecinkiem\n",
    "* plik csv\n",
    "\n",
    "```\n",
    "imię, nazwisko, ocena\n",
    "Kasia, Kowalska, 4\n",
    "Jan, Nowak, 4\n",
    "```\n",
    "\n",
    "* tabela\n",
    "\n",
    "| imię  | nazwisko | ocena |\n",
    "|:-----:|:--------:|:-----:|\n",
    "| Kasia | Kowalska | 4     |\n",
    "| Jan   | Nowak    | 4     |"
   ]
  },
  {
   "cell_type": "markdown",
   "metadata": {
    "slideshow": {
     "slide_type": "subslide"
    }
   },
   "source": [
    "## Moduł *csv*\n",
    "\n",
    "---"
   ]
  },
  {
   "cell_type": "code",
   "execution_count": 63,
   "metadata": {
    "collapsed": true,
    "slideshow": {
     "slide_type": "-"
    }
   },
   "outputs": [],
   "source": [
    "import csv\n",
    "\n",
    "data = [[\"imie\", \"nazwisko\", \"ocena\"],\n",
    "        [\"Kasia\", \"Kowalska\", 4],\n",
    "        [\"Jan\", \"Nowak\", 4]]\n",
    "\n",
    "with open(\"oceny.csv\", \"w\") as csvfile:\n",
    "    writer = csv.writer(csvfile) # tworzymy \"pisarza\" csv\n",
    "    for wpis in data:\n",
    "        writer.writerow(wpis)    "
   ]
  },
  {
   "cell_type": "code",
   "execution_count": 64,
   "metadata": {
    "collapsed": false,
    "slideshow": {
     "slide_type": "-"
    }
   },
   "outputs": [
    {
     "name": "stdout",
     "output_type": "stream",
     "text": [
      "imie,nazwisko,ocena\r\n",
      "Kasia,Kowalska,4\r\n",
      "Jan,Nowak,4\r\n"
     ]
    }
   ],
   "source": [
    "%%bash\n",
    "cat oceny.csv"
   ]
  },
  {
   "cell_type": "markdown",
   "metadata": {
    "slideshow": {
     "slide_type": "subslide"
    }
   },
   "source": [
    "## Wczytywanie danych\n",
    "\n",
    "---"
   ]
  },
  {
   "cell_type": "code",
   "execution_count": 65,
   "metadata": {
    "collapsed": false,
    "slideshow": {
     "slide_type": "-"
    }
   },
   "outputs": [
    {
     "name": "stdout",
     "output_type": "stream",
     "text": [
      "['imie', 'nazwisko', 'ocena']\n",
      "['Kasia', 'Kowalska', '4']\n",
      "['Jan', 'Nowak', '4']\n"
     ]
    }
   ],
   "source": [
    "import csv\n",
    "\n",
    "with open('oceny.csv', 'r') as csvfile:\n",
    "    reader = csv.reader(csvfile) # tworzymy \"czytelnika\" csv\n",
    "    for wpis in reader:\n",
    "        print(wpis)"
   ]
  },
  {
   "cell_type": "markdown",
   "metadata": {
    "slideshow": {
     "slide_type": "subslide"
    }
   },
   "source": [
    "## Przykład - ankieta\n",
    "\n",
    "---"
   ]
  },
  {
   "cell_type": "code",
   "execution_count": 66,
   "metadata": {
    "collapsed": false,
    "slideshow": {
     "slide_type": "-"
    }
   },
   "outputs": [
    {
     "name": "stdout",
     "output_type": "stream",
     "text": [
      "Sygnatura czasowa,\"Co sądzisz o \"\"przemycaniu\"\" na wykładzie podstawowych pojęć z innych dziedzin informatyki?\",Tempo wykładu jest,Czy na wykładzie powinno być więcej przykładów?,\"Ostatnie wykłady (jeśli starczy czasu, po przerobieniu całego podstawowego materiału) powinny być poświęcone\"\r\n"
     ]
    }
   ],
   "source": [
    "%%bash\n",
    "cat ankieta.csv | sed -n 1p # pierwsza linia"
   ]
  },
  {
   "cell_type": "code",
   "execution_count": 67,
   "metadata": {
    "collapsed": false,
    "slideshow": {
     "slide_type": "-"
    }
   },
   "outputs": [
    {
     "name": "stdout",
     "output_type": "stream",
     "text": [
      "2016-11-04 09:38:13,\"Jak najbardziej, o ile nie będzie tego na egzaminie.\",Zbyt szybkie! Nie nadążam z przyswajaniem nowych pojęć.,\"Raczej tak, przykłady trochę ułatwiają przyswojenie nowych pojęć.\",Powtórce. Przegląd wszystkich omawianych wcześniej zagadnień.\r\n"
     ]
    }
   ],
   "source": [
    "%%bash\n",
    "cat ankieta.csv | sed -n 2p # druga linia"
   ]
  },
  {
   "cell_type": "markdown",
   "metadata": {
    "slideshow": {
     "slide_type": "subslide"
    }
   },
   "source": [
    "## Ankieta - wczytywanie danych\n",
    "\n",
    "---"
   ]
  },
  {
   "cell_type": "code",
   "execution_count": 68,
   "metadata": {
    "collapsed": true,
    "slideshow": {
     "slide_type": "-"
    }
   },
   "outputs": [],
   "source": [
    "import csv\n",
    "\n",
    "# wczytaj wyniki ankiety do zmiennej wyniki\n",
    "with open('ankieta.csv', 'r') as csvfile:\n",
    "    reader = csv.reader(csvfile)\n",
    "    wyniki = list(reader) # zapisz wyniki"
   ]
  },
  {
   "cell_type": "code",
   "execution_count": 69,
   "metadata": {
    "collapsed": false,
    "slideshow": {
     "slide_type": "-"
    }
   },
   "outputs": [
    {
     "name": "stdout",
     "output_type": "stream",
     "text": [
      "['Sygnatura czasowa', 'Co sądzisz o \"przemycaniu\" na wykładzie podstawowych pojęć z innych dziedzin informatyki?', 'Tempo wykładu jest', 'Czy na wykładzie powinno być więcej przykładów?', 'Ostatnie wykłady (jeśli starczy czasu, po przerobieniu całego podstawowego materiału) powinny być poświęcone']\n"
     ]
    }
   ],
   "source": [
    "headers = wyniki.pop(0) # pierwszy wiersz to pytania\n",
    "\n",
    "print(headers)"
   ]
  },
  {
   "cell_type": "code",
   "execution_count": 70,
   "metadata": {
    "collapsed": false,
    "slideshow": {
     "slide_type": "-"
    }
   },
   "outputs": [
    {
     "name": "stdout",
     "output_type": "stream",
     "text": [
      "['2016-11-04 09:38:13', 'Jak najbardziej, o ile nie będzie tego na egzaminie.', 'Zbyt szybkie! Nie nadążam z przyswajaniem nowych pojęć.', 'Raczej tak, przykłady trochę ułatwiają przyswojenie nowych pojęć.', 'Powtórce. Przegląd wszystkich omawianych wcześniej zagadnień.']\n"
     ]
    }
   ],
   "source": [
    "print(wyniki[0]) # odpowiedzi pierwszej osoby"
   ]
  },
  {
   "cell_type": "markdown",
   "metadata": {
    "slideshow": {
     "slide_type": "subslide"
    }
   },
   "source": [
    "## Ilość odpowiedzi \n",
    "\n",
    "---"
   ]
  },
  {
   "cell_type": "code",
   "execution_count": 71,
   "metadata": {
    "collapsed": false,
    "slideshow": {
     "slide_type": "-"
    }
   },
   "outputs": [
    {
     "name": "stdout",
     "output_type": "stream",
     "text": [
      "W ankiecie wzięło 22 osób.\n"
     ]
    }
   ],
   "source": [
    "n_votes = len(wyniki)\n",
    "\n",
    "print(\"W ankiecie wzięło {} osób.\".format(n_votes))"
   ]
  },
  {
   "cell_type": "markdown",
   "metadata": {
    "slideshow": {
     "slide_type": "subslide"
    }
   },
   "source": [
    "## Sygnatura czasowa\n",
    "\n",
    "---"
   ]
  },
  {
   "cell_type": "code",
   "execution_count": 72,
   "metadata": {
    "collapsed": false,
    "slideshow": {
     "slide_type": "-"
    }
   },
   "outputs": [],
   "source": [
    "from datetime import datetime\n",
    "\n",
    "def str2date(date):\n",
    "    \"\"\"Konwertuje string do datetime wg formatu z ankiety.\"\"\"\n",
    "    return datetime.strptime(date, '%Y-%m-%d %H:%M:%S')\n",
    "\n",
    "sygnatury = []\n",
    "\n",
    "for glos in wyniki:\n",
    "    sygnatury.append(str2date(glos[0]))"
   ]
  },
  {
   "cell_type": "code",
   "execution_count": 73,
   "metadata": {
    "collapsed": false,
    "slideshow": {
     "slide_type": "-"
    }
   },
   "outputs": [
    {
     "name": "stdout",
     "output_type": "stream",
     "text": [
      "Między pierwszym a ostatnim głosem minęło: 11 days, 15:37:12\n"
     ]
    }
   ],
   "source": [
    "print(\"Między pierwszym a ostatnim głosem minęło:\",\n",
    "      sygnatury[-1] - sygnatury[0])"
   ]
  },
  {
   "cell_type": "markdown",
   "metadata": {
    "slideshow": {
     "slide_type": "subslide"
    }
   },
   "source": [
    "## Liczba głosów w czasie\n",
    "\n",
    "---"
   ]
  },
  {
   "cell_type": "code",
   "execution_count": 75,
   "metadata": {
    "collapsed": false,
    "slideshow": {
     "slide_type": "-"
    }
   },
   "outputs": [
    {
     "data": {
      "image/png": "[encoded data removed]",
      "text/plain": [
       "<matplotlib.figure.Figure at 0x7fb13c06a198>"
      ]
     },
     "metadata": {},
     "output_type": "display_data"
    }
   ],
   "source": [
    "%matplotlib inline\n",
    "import matplotlib\n",
    "import matplotlib.pyplot as plt\n",
    "from matplotlib.dates import DateFormatter\n",
    "\n",
    "dates = matplotlib.dates.date2num(sygnatury)\n",
    "\n",
    "fig, ax = plt.subplots()\n",
    "ax.plot_date(dates, range(n_votes))\n",
    "\n",
    "ax.xaxis.set_major_formatter(DateFormatter('%m-%d'))"
   ]
  },
  {
   "cell_type": "markdown",
   "metadata": {
    "slideshow": {
     "slide_type": "subslide"
    }
   },
   "source": [
    "## Zliczanie głosów\n",
    "\n",
    "---"
   ]
  },
  {
   "cell_type": "code",
   "execution_count": 76,
   "metadata": {
    "collapsed": true,
    "slideshow": {
     "slide_type": "-"
    }
   },
   "outputs": [],
   "source": [
    "def count_votes(odpowiedzi):\n",
    "    \"\"\"Liczy ilość głosów per odpowiedź.\"\"\"\n",
    "    results = {} # odpowiedź: liczba głosów\n",
    "    \n",
    "    while len(odpowiedzi): # dopóki pozostały odpowiedzi\n",
    "        odpowiedz = odpowiedzi[0] # weź pierwszą z brzegu\n",
    "        n_votes = odpowiedzi.count(odpowiedz) # liczba wystąpień\n",
    "        results[odpowiedz] = n_votes # zapisz\n",
    "        # usuń wszystkie wystąpienia odpowiedz\n",
    "        odpowiedzi = [o for o in odpowiedzi if o != odpowiedz]\n",
    "    \n",
    "    return results"
   ]
  },
  {
   "cell_type": "markdown",
   "metadata": {
    "slideshow": {
     "slide_type": "subslide"
    }
   },
   "source": [
    "## Analiza pytania\n",
    "\n",
    "---"
   ]
  },
  {
   "cell_type": "code",
   "execution_count": 77,
   "metadata": {
    "collapsed": false,
    "slideshow": {
     "slide_type": "-"
    }
   },
   "outputs": [],
   "source": [
    "def analizuj(n, m=3):\n",
    "    \"\"\"Drukuje m najczęstszych odpowiedzi na n-te pytanie.\"\"\"\n",
    "    pytanie = headers[n] # treść pytania\n",
    "    odpowiedzi = [o[n] for o in wyniki] # n-ta kolumna\n",
    "    \n",
    "    votes = count_votes(odpowiedzi) # {odp: liczba głosów}\n",
    "    # posortuj głosy -> odpowiedzi od najczęstszych\n",
    "    best = sorted(votes, key=votes.get, reverse=True)\n",
    "    \n",
    "    # wyrdukuj pytanie\n",
    "    print(\"-\"*len(pytanie))\n",
    "    print(pytanie)\n",
    "    print(\"-\"*len(pytanie), end=\"\\n\\n\")\n",
    "    \n",
    "    # wydrukuj m najczęstszych odpowiedzi\n",
    "    for i in range(m):\n",
    "        odp = best[i] # i-ta odpowiedz\n",
    "        procent = votes[odp] / n_votes * 100 # procent głosów\n",
    "        print(\"{:.2f}% -> {}\".format(procent, odp))"
   ]
  },
  {
   "cell_type": "markdown",
   "metadata": {
    "slideshow": {
     "slide_type": "subslide"
    }
   },
   "source": [
    "## Pytanie 1\n",
    "\n",
    "---"
   ]
  },
  {
   "cell_type": "code",
   "execution_count": 78,
   "metadata": {
    "collapsed": false,
    "slideshow": {
     "slide_type": "-"
    }
   },
   "outputs": [
    {
     "name": "stdout",
     "output_type": "stream",
     "text": [
      "-----------------------------------------------------------------------------------------\n",
      "Co sądzisz o \"przemycaniu\" na wykładzie podstawowych pojęć z innych dziedzin informatyki?\n",
      "-----------------------------------------------------------------------------------------\n",
      "\n",
      "40.91% -> Jak najbardziej! Wszystko związane z programowaniem jest mile widziane.\n",
      "36.36% -> Jak najbardziej, o ile nie będzie tego na egzaminie.\n",
      "13.64% -> Chętnie poznam, ale nie za dużo.\n"
     ]
    }
   ],
   "source": [
    "analizuj(1)"
   ]
  },
  {
   "cell_type": "markdown",
   "metadata": {
    "slideshow": {
     "slide_type": "subslide"
    }
   },
   "source": [
    "## Pytanie 2\n",
    "\n",
    "---"
   ]
  },
  {
   "cell_type": "code",
   "execution_count": 79,
   "metadata": {
    "collapsed": false,
    "slideshow": {
     "slide_type": "-"
    }
   },
   "outputs": [
    {
     "name": "stdout",
     "output_type": "stream",
     "text": [
      "------------------\n",
      "Tempo wykładu jest\n",
      "------------------\n",
      "\n",
      "40.91% -> Trochę za szybkie. Można minimalnie zmniejszyć liczbę nowych pojęć per wykład.\n",
      "22.73% -> Zbyt szybkie! Nie nadążam z przyswajaniem nowych pojęć.\n",
      "22.73% -> Idealne.\n"
     ]
    }
   ],
   "source": [
    "analizuj(2)"
   ]
  },
  {
   "cell_type": "markdown",
   "metadata": {
    "slideshow": {
     "slide_type": "subslide"
    }
   },
   "source": [
    "## Pytanie 3\n",
    "\n",
    "---"
   ]
  },
  {
   "cell_type": "code",
   "execution_count": 80,
   "metadata": {
    "collapsed": false,
    "slideshow": {
     "slide_type": "-"
    }
   },
   "outputs": [
    {
     "name": "stdout",
     "output_type": "stream",
     "text": [
      "-----------------------------------------------\n",
      "Czy na wykładzie powinno być więcej przykładów?\n",
      "-----------------------------------------------\n",
      "\n",
      "45.45% -> Raczej tak, przykłady trochę ułatwiają przyswojenie nowych pojęć.\n",
      "36.36% -> Jest dobrze jak jest.\n",
      "9.09% -> Zdecydowanie tak! Nic tak nie uczy jak dobry przykład.\n"
     ]
    }
   ],
   "source": [
    "analizuj(3)"
   ]
  },
  {
   "cell_type": "markdown",
   "metadata": {
    "slideshow": {
     "slide_type": "subslide"
    }
   },
   "source": [
    "## Pytanie 4\n",
    "\n",
    "---"
   ]
  },
  {
   "cell_type": "code",
   "execution_count": 82,
   "metadata": {
    "collapsed": false,
    "slideshow": {
     "slide_type": "-"
    }
   },
   "outputs": [
    {
     "name": "stdout",
     "output_type": "stream",
     "text": [
      "------------------------------------------------------------------------------------------------------------\n",
      "Ostatnie wykłady (jeśli starczy czasu, po przerobieniu całego podstawowego materiału) powinny być poświęcone\n",
      "------------------------------------------------------------------------------------------------------------\n",
      "\n",
      "40.91% -> Powtórce. Przegląd wszystkich omawianych wcześniej zagadnień.\n",
      "22.73% -> GUI. Graficzny interfejs użytkownika.\n",
      "18.18% -> Tworzenie gier.\n",
      "13.64% -> Bazy danych.\n"
     ]
    }
   ],
   "source": [
    "analizuj(4, 4)"
   ]
  }
 ],
 "metadata": {
  "anaconda-cloud": {},
  "celltoolbar": "Slideshow",
  "kernelspec": {
   "display_name": "Python [conda root]",
   "language": "python",
   "name": "conda-root-py"
  },
  "language_info": {
   "codemirror_mode": {
    "name": "ipython",
    "version": 3
   },
   "file_extension": ".py",
   "mimetype": "text/x-python",
   "name": "python",
   "nbconvert_exporter": "python",
   "pygments_lexer": "ipython3",
   "version": "3.5.2"
  }
 },
 "nbformat": 4,
 "nbformat_minor": 1
}
