{
 "cells": [
  {
   "cell_type": "markdown",
   "metadata": {
    "slideshow": {
     "slide_type": "subslide"
    }
   },
   "source": [
    "# Języki skryptowe - Python\n",
    "## Wykład 12\n",
    "\n",
    "---\n",
    "\n",
    "* graficzny interfejs użytkownika"
   ]
  },
  {
   "cell_type": "markdown",
   "metadata": {
    "slideshow": {
     "slide_type": "slide"
    }
   },
   "source": [
    "## GUI\n",
    "\n",
    "---\n",
    "\n",
    "* *Graphical User Interface*\n",
    "* Najpopularniejsze biblioteki:\n",
    "    * **Tkinter**\n",
    "    * PyQT\n",
    "    * PyGTK\n",
    "    * wxPython\n",
    "* Pełna lista: [link](https://wiki.python.org/moin/GuiProgramming)"
   ]
  },
  {
   "cell_type": "markdown",
   "metadata": {
    "slideshow": {
     "slide_type": "subslide"
    }
   },
   "source": [
    "## PIerwsze okienko\n",
    "\n",
    "---"
   ]
  },
  {
   "cell_type": "code",
   "execution_count": null,
   "metadata": {
    "collapsed": true,
    "slideshow": {
     "slide_type": "-"
    }
   },
   "outputs": [],
   "source": [
    "import tkinter as tk\n",
    "\n",
    "# główne okno programu\n",
    "# z tytułem, krawędziami itp\n",
    "# kontener na resztę\n",
    "root = tk.Tk()\n",
    "\n",
    "# pętla programu - wyłapuje sygnały\n",
    "# przerwana przez zamknięcie okna\n",
    "# lub wywołanie quit()\n",
    "root.mainloop()  "
   ]
  },
  {
   "cell_type": "markdown",
   "metadata": {
    "slideshow": {
     "slide_type": "subslide"
    }
   },
   "source": [
    "## Tytuł i wymiary\n",
    "\n",
    "---"
   ]
  },
  {
   "cell_type": "code",
   "execution_count": null,
   "metadata": {
    "collapsed": true,
    "slideshow": {
     "slide_type": "-"
    }
   },
   "outputs": [],
   "source": [
    "root = tk.Tk()\n",
    "\n",
    "# tytuł okna\n",
    "root.title(\"Hello World!\")\n",
    "\n",
    "# szerokość x wysokość + położenie x + położenie y\n",
    "root.geometry(\"400x300+200+200\")\n",
    "\n",
    "root.mainloop()"
   ]
  },
  {
   "cell_type": "markdown",
   "metadata": {
    "slideshow": {
     "slide_type": "subslide"
    }
   },
   "source": [
    "## Klasa *App*\n",
    "\n",
    "---"
   ]
  },
  {
   "cell_type": "code",
   "execution_count": null,
   "metadata": {
    "collapsed": true,
    "slideshow": {
     "slide_type": "-"
    }
   },
   "outputs": [],
   "source": [
    "class App(tk.Tk):\n",
    "    # App dziedziczy z tkinter.Tk\n",
    "    def __init__(self, title=\"Aplikacja\"):\n",
    "        super().__init__() # konstruktor Tk\n",
    "        self.title(title)  # ustaw tytuł\n",
    "        \n",
    "    def run(self):\n",
    "        # app.run() będzie się lepiej prezentować\n",
    "        self.mainloop()"
   ]
  },
  {
   "cell_type": "markdown",
   "metadata": {
    "slideshow": {
     "slide_type": "subslide"
    }
   },
   "source": [
    "## Pierwsza \"aplikacja\"\n",
    "\n",
    "---"
   ]
  },
  {
   "cell_type": "code",
   "execution_count": null,
   "metadata": {
    "collapsed": false,
    "slideshow": {
     "slide_type": "-"
    }
   },
   "outputs": [],
   "source": [
    "app = App(\"Pierwsza aplikacja\")\n",
    "\n",
    "# app dziedziczy z Tk\n",
    "# więc ma dostęp do tych samych funkcji\n",
    "\n",
    "#app.geometry(\"400x300+200+200\")\n",
    "\n",
    "app.run()"
   ]
  },
  {
   "cell_type": "markdown",
   "metadata": {
    "slideshow": {
     "slide_type": "subslide"
    }
   },
   "source": [
    "## Centrowanie aplikacji\n",
    "\n",
    "---"
   ]
  },
  {
   "cell_type": "code",
   "execution_count": null,
   "metadata": {
    "collapsed": false,
    "slideshow": {
     "slide_type": "-"
    }
   },
   "outputs": [],
   "source": [
    "class App(tk.Tk):\n",
    "    def __init__(self, title=\"Aplikacja\"):\n",
    "        super().__init__() # konstruktor Tk\n",
    "        #super().option_add(\"*font\", \"Helvetica 24\")\n",
    "        self.title(title)  # ustaw tytuł\n",
    "        self.center()      # wyśrodkuj\n",
    "        \n",
    "    def run(self): self.mainloop()\n",
    "        \n",
    "    def center(self):\n",
    "        self.update()\n",
    "        # szerokość / wysokość okna\n",
    "        wx = self.winfo_width()\n",
    "        wy = self.winfo_height()\n",
    "        # szerokość wysokość ekranu\n",
    "        sx = self.winfo_screenwidth()\n",
    "        sy = self.winfo_screenheight()\n",
    "        # środek ekranu przesunięty o \n",
    "        x = (sx - wx) // 2 # połowę szerokośi\n",
    "        y = (sy - wy) // 2 # połowę wysokości\n",
    "    \n",
    "        self.geometry(\"{}x{}+{}+{}\".format(wx, wy, x, y))"
   ]
  },
  {
   "cell_type": "markdown",
   "metadata": {
    "slideshow": {
     "slide_type": "subslide"
    }
   },
   "source": [
    "## Test\n",
    "\n",
    "---"
   ]
  },
  {
   "cell_type": "code",
   "execution_count": null,
   "metadata": {
    "collapsed": true,
    "slideshow": {
     "slide_type": "-"
    }
   },
   "outputs": [],
   "source": [
    "app = App(\"Wyśrodkowana aplikacja\")\n",
    "\n",
    "app.run()"
   ]
  },
  {
   "cell_type": "markdown",
   "metadata": {
    "slideshow": {
     "slide_type": "slide"
    }
   },
   "source": [
    "## Pierwszy *Frame*\n",
    "\n",
    "---"
   ]
  },
  {
   "cell_type": "code",
   "execution_count": null,
   "metadata": {
    "collapsed": false,
    "slideshow": {
     "slide_type": "-"
    }
   },
   "outputs": [],
   "source": [
    "# Frame to po prostu prostokątny obszar\n",
    "\n",
    "root = tk.Tk()\n",
    "root.geometry(\"400x300+200+200\")\n",
    "\n",
    "# Frame(parent)\n",
    "ramka = tk.Frame(root) # umieść ramkę w root\n",
    "# więcej o pack za chwilę\n",
    "ramka.pack(fill=tk.BOTH, expand=True)\n",
    "\n",
    "root.mainloop()"
   ]
  },
  {
   "cell_type": "markdown",
   "metadata": {
    "slideshow": {
     "slide_type": "subslide"
    }
   },
   "source": [
    "## Pierwszy kolorowy Frame\n",
    "\n",
    "---"
   ]
  },
  {
   "cell_type": "code",
   "execution_count": null,
   "metadata": {
    "collapsed": true,
    "slideshow": {
     "slide_type": "-"
    }
   },
   "outputs": [],
   "source": [
    "root = tk.Tk()\n",
    "root.geometry(\"400x300+200+200\")\n",
    "\n",
    "# Frame(parent, background=color)\n",
    "ramka = tk.Frame(root, background=\"red\")\n",
    "ramka.pack(fill=tk.BOTH, expand=True)\n",
    "\n",
    "root.mainloop()"
   ]
  },
  {
   "cell_type": "markdown",
   "metadata": {
    "slideshow": {
     "slide_type": "subslide"
    }
   },
   "source": [
    "## Aplikacja z ramką\n",
    "\n",
    "---"
   ]
  },
  {
   "cell_type": "code",
   "execution_count": null,
   "metadata": {
    "collapsed": false,
    "slideshow": {
     "slide_type": "-"
    }
   },
   "outputs": [],
   "source": [
    "app = App(\"Jedna ramka\")\n",
    "\n",
    "# App dziedziczy z tk.Tk\n",
    "# więc też może być argumentem Frame(...)\n",
    "ramka = tk.Frame(app, background=\"red\")\n",
    "ramka.pack(fill=tk.BOTH, expand=True)\n",
    "\n",
    "app.run()"
   ]
  },
  {
   "cell_type": "markdown",
   "metadata": {
    "collapsed": true,
    "slideshow": {
     "slide_type": "subslide"
    }
   },
   "source": [
    "## Klasa ramka\n",
    "\n",
    "---"
   ]
  },
  {
   "cell_type": "code",
   "execution_count": null,
   "metadata": {
    "collapsed": true,
    "slideshow": {
     "slide_type": "-"
    }
   },
   "outputs": [],
   "source": [
    "# pozwoli zaoszczędzić miejsca na kolejnych slajdach\n",
    "\n",
    "class Ramka(tk.Frame):\n",
    "    # nasza ramka dziedziczy z tkinter.Frame\n",
    "    def __init__(self, parent, color=\"white\"):\n",
    "        # wywołaj konstruktor Frame\n",
    "        tk.Frame.__init__(self, parent, background=color)\n",
    "        # o pack więcej za chwilę\n",
    "        self.pack(fill=tk.BOTH, expand=True)"
   ]
  },
  {
   "cell_type": "markdown",
   "metadata": {
    "slideshow": {
     "slide_type": "subslide"
    }
   },
   "source": [
    "## Przykład\n",
    "\n",
    "---"
   ]
  },
  {
   "cell_type": "code",
   "execution_count": null,
   "metadata": {
    "collapsed": false,
    "slideshow": {
     "slide_type": "-"
    }
   },
   "outputs": [],
   "source": [
    "app = App(\"Jedna ramka\")\n",
    "\n",
    "# Ramka inicjuje Frame\n",
    "# i się pakuje w App\n",
    "ramka = Ramka(app)\n",
    "\n",
    "app.run()"
   ]
  },
  {
   "cell_type": "markdown",
   "metadata": {
    "slideshow": {
     "slide_type": "subslide"
    }
   },
   "source": [
    "## Dwie ramki\n",
    "\n",
    "---"
   ]
  },
  {
   "cell_type": "code",
   "execution_count": null,
   "metadata": {
    "collapsed": false,
    "slideshow": {
     "slide_type": "-"
    }
   },
   "outputs": [],
   "source": [
    "app = App(\"Jedna ramka\")\n",
    "\n",
    "\n",
    "r1 = Ramka(app) # \"white\"\n",
    "r2 = Ramka(app, \"red\")\n",
    "\n",
    "app.run()"
   ]
  },
  {
   "cell_type": "markdown",
   "metadata": {
    "slideshow": {
     "slide_type": "slide"
    }
   },
   "source": [
    "## Pakowanie\n",
    "\n",
    "---\n",
    "\n",
    "* do rozmieszczania widgetów służy funkcja *widget.pack(opcje)*\n",
    "* dostępne opcje:\n",
    "    * **expand** - *True* / *False*; domyślnie jak rodzic\n",
    "    * **fill** - *None* (domyślnie) / *BOTH* / *X* / *Y*\n",
    "    * **side** - z której strony rodzica zacząć układać: *TOP* (domyślnie) / *BOTTOM* / *LEFT* / *RIGHT*"
   ]
  },
  {
   "cell_type": "markdown",
   "metadata": {
    "slideshow": {
     "slide_type": "subslide"
    }
   },
   "source": [
    "## Pakowanie ramek\n",
    "\n",
    "---"
   ]
  },
  {
   "cell_type": "code",
   "execution_count": null,
   "metadata": {
    "collapsed": true,
    "slideshow": {
     "slide_type": "-"
    }
   },
   "outputs": [],
   "source": [
    "class Ramka(tk.Frame):\n",
    "    # dodajemy argument kluczowy side\n",
    "    def __init__(self, parent, color=\"white\", side=tk.TOP):\n",
    "        tk.Frame.__init__(self, parent, background=color)   \n",
    "        self.pack(fill=tk.BOTH, expand=True, side=side)"
   ]
  },
  {
   "cell_type": "markdown",
   "metadata": {
    "slideshow": {
     "slide_type": "subslide"
    }
   },
   "source": [
    "## Pakowanie ramek I\n",
    "\n",
    "---"
   ]
  },
  {
   "cell_type": "code",
   "execution_count": null,
   "metadata": {
    "collapsed": false,
    "slideshow": {
     "slide_type": "-"
    }
   },
   "outputs": [],
   "source": [
    "app = App(\"Dwie ramki\")\n",
    "\n",
    "r1 = Ramka(app, \"white\", tk.LEFT)\n",
    "r2 = Ramka(app, \"red\", tk.RIGHT)\n",
    "\n",
    "app.run()"
   ]
  },
  {
   "cell_type": "markdown",
   "metadata": {
    "slideshow": {
     "slide_type": "subslide"
    }
   },
   "source": [
    "## Pakowanie ramek II\n",
    "\n",
    "---"
   ]
  },
  {
   "cell_type": "code",
   "execution_count": null,
   "metadata": {
    "collapsed": true,
    "slideshow": {
     "slide_type": "-"
    }
   },
   "outputs": [],
   "source": [
    "app = App(\"Trzy ramki\")\n",
    "\n",
    "r1 = Ramka(app, \"white\", tk.LEFT)\n",
    "r2 = Ramka(app, \"red\", tk.RIGHT)\n",
    "r3 = Ramka(app, \"green\", tk.TOP)\n",
    "\n",
    "app.run()"
   ]
  },
  {
   "cell_type": "markdown",
   "metadata": {
    "slideshow": {
     "slide_type": "subslide"
    }
   },
   "source": [
    "## Pakowanie ramek III\n",
    "\n",
    "---"
   ]
  },
  {
   "cell_type": "code",
   "execution_count": null,
   "metadata": {
    "collapsed": false,
    "slideshow": {
     "slide_type": "-"
    }
   },
   "outputs": [],
   "source": [
    "app = App(\"Trzy ramki\")\n",
    "\n",
    "r1 = Ramka(app, \"green\", tk.TOP) # górna ramka\n",
    "r2 = Ramka(app) # dolna ramka\n",
    "\n",
    "# do dolnej ramki wrzucamy lewą i prawą\n",
    "r21 = Ramka(r2, \"white\", tk.LEFT)\n",
    "r22 = Ramka(r2, \"red\", tk.RIGHT)\n",
    "\n",
    "app.run()"
   ]
  },
  {
   "cell_type": "markdown",
   "metadata": {
    "slideshow": {
     "slide_type": "slide"
    }
   },
   "source": [
    "## Pierwszy przycisk\n",
    "\n",
    "---"
   ]
  },
  {
   "cell_type": "code",
   "execution_count": null,
   "metadata": {
    "collapsed": false,
    "slideshow": {
     "slide_type": "-"
    }
   },
   "outputs": [],
   "source": [
    "app = App(\"Aplikacja z przyciskiem\")\n",
    "\n",
    "ramka = Ramka(app)\n",
    "\n",
    "# Button(parent, text, command)\n",
    "# app.center bez ()\n",
    "przycisk = tk.Button(ramka, text=\"Center\", command=app.center)\n",
    "przycisk.place(x=0, y=0) # pozycja przycisku\n",
    "\n",
    "app.run()"
   ]
  },
  {
   "cell_type": "markdown",
   "metadata": {
    "slideshow": {
     "slide_type": "subslide"
    }
   },
   "source": [
    "## Więcej o *command*\n",
    "\n",
    "---"
   ]
  },
  {
   "cell_type": "code",
   "execution_count": null,
   "metadata": {
    "collapsed": false,
    "slideshow": {
     "slide_type": "-"
    }
   },
   "outputs": [],
   "source": [
    "def funkcja():\n",
    "    return \"Hello\"\n",
    "\n",
    "# przypisuje odpowiednią funkcję\n",
    "# która będzie wywołana po naciśnięciu\n",
    "przycisk1 = tk.Button(command=funkcja)\n",
    "\n",
    "przycisk1.cget(\"command\")"
   ]
  },
  {
   "cell_type": "code",
   "execution_count": null,
   "metadata": {
    "collapsed": false,
    "slideshow": {
     "slide_type": "-"
    }
   },
   "outputs": [],
   "source": [
    "# przypisuje wynik zwracany przez funkcję\n",
    "przycisk2 = tk.Button(command=funkcja())\n",
    "\n",
    "przycisk2.cget(\"command\")"
   ]
  },
  {
   "cell_type": "markdown",
   "metadata": {
    "slideshow": {
     "slide_type": "subslide"
    }
   },
   "source": [
    "## *command* i argumenty funkcji?\n",
    "\n",
    "---\n",
    "\n",
    "* a co jeśli chcemy, aby przycisk wywoływał funkcję z jakimś argumentem?\n",
    "* np. mamy dwa przyciski i chcemy, aby jeden zmieniał tło na kolor biały a drugi na czerwony\n",
    "* chcemy użyć tej samej funkcji, ale z innym argumentem\n",
    "* wtedy niezbędne jest wykorzystanie wyrażeń lambda"
   ]
  },
  {
   "cell_type": "markdown",
   "metadata": {
    "slideshow": {
     "slide_type": "slide"
    }
   },
   "source": [
    "## Wyrażenia *lambda*\n",
    "\n",
    "---"
   ]
  },
  {
   "cell_type": "code",
   "execution_count": null,
   "metadata": {
    "collapsed": true,
    "slideshow": {
     "slide_type": "-"
    }
   },
   "outputs": [],
   "source": [
    "def suma(a, b): # \"klasyczna\" funkcja\n",
    "    return a + b"
   ]
  },
  {
   "cell_type": "code",
   "execution_count": null,
   "metadata": {
    "collapsed": true,
    "slideshow": {
     "slide_type": "-"
    }
   },
   "outputs": [],
   "source": [
    "lsuma = lambda a, b: a + b # \"anonimowa\" funkcja"
   ]
  },
  {
   "cell_type": "code",
   "execution_count": null,
   "metadata": {
    "collapsed": false,
    "slideshow": {
     "slide_type": "-"
    }
   },
   "outputs": [],
   "source": [
    "suma(1, 2) # wywołujemy funkcję suma"
   ]
  },
  {
   "cell_type": "code",
   "execution_count": null,
   "metadata": {
    "collapsed": false,
    "slideshow": {
     "slide_type": "-"
    }
   },
   "outputs": [],
   "source": [
    "lsuma(1, 2) # wywołujemy wyrażenia lambda"
   ]
  },
  {
   "cell_type": "markdown",
   "metadata": {
    "slideshow": {
     "slide_type": "subslide"
    }
   },
   "source": [
    "## Wyrażenie *lambda*\n",
    "\n",
    "---"
   ]
  },
  {
   "cell_type": "code",
   "execution_count": null,
   "metadata": {
    "collapsed": true,
    "slideshow": {
     "slide_type": "-"
    }
   },
   "outputs": [],
   "source": [
    "def suma(a, b):\n",
    "    return a + b\n",
    "\n",
    "suma2 = lambda b: suma(2, b) # dodaj 2\n",
    "suma4 = lambda b: suma(4, b) # dodaj 4"
   ]
  },
  {
   "cell_type": "code",
   "execution_count": null,
   "metadata": {
    "collapsed": false,
    "slideshow": {
     "slide_type": "-"
    }
   },
   "outputs": [],
   "source": [
    "suma2(1)"
   ]
  },
  {
   "cell_type": "code",
   "execution_count": null,
   "metadata": {
    "collapsed": false,
    "slideshow": {
     "slide_type": "-"
    }
   },
   "outputs": [],
   "source": [
    "suma4(1)"
   ]
  },
  {
   "cell_type": "markdown",
   "metadata": {
    "slideshow": {
     "slide_type": "subslide"
    }
   },
   "source": [
    "## Wyrażenie *lambda*\n",
    "\n",
    "---"
   ]
  },
  {
   "cell_type": "code",
   "execution_count": null,
   "metadata": {
    "collapsed": true,
    "slideshow": {
     "slide_type": "-"
    }
   },
   "outputs": [],
   "source": [
    "def change_color(color=\"white\"):\n",
    "    print(\"Zmieniam kolor na:\", color)\n",
    "    \n",
    "ustaw_zielony = lambda: change_color(\"zielony\")\n",
    "ustaw_niebieski = lambda: change_color(\"niebieski\")"
   ]
  },
  {
   "cell_type": "code",
   "execution_count": null,
   "metadata": {
    "collapsed": false,
    "slideshow": {
     "slide_type": "-"
    }
   },
   "outputs": [],
   "source": [
    "ustaw_zielony() # change_color(\"zielony\")"
   ]
  },
  {
   "cell_type": "code",
   "execution_count": null,
   "metadata": {
    "collapsed": false,
    "slideshow": {
     "slide_type": "-"
    }
   },
   "outputs": [],
   "source": [
    "ustaw_niebieski() # change_color(\"niebieski\")"
   ]
  },
  {
   "cell_type": "markdown",
   "metadata": {
    "slideshow": {
     "slide_type": "slide"
    }
   },
   "source": [
    "## Kolor ramki\n",
    "\n",
    "---"
   ]
  },
  {
   "cell_type": "code",
   "execution_count": null,
   "metadata": {
    "collapsed": true,
    "slideshow": {
     "slide_type": "-"
    }
   },
   "outputs": [],
   "source": [
    "class Ramka(tk.Frame):\n",
    "\n",
    "    def __init__(self, parent, color=\"white\", side=tk.TOP):\n",
    "        tk.Frame.__init__(self, parent, background=color)   \n",
    "        self.pack(fill=tk.BOTH, expand=True, side=side)\n",
    "        \n",
    "    def change_color(self, color=\"white\"):\n",
    "        # Frame.config umożliwia zmianę parametrów\n",
    "        self.config(bg=color) # bg = background"
   ]
  },
  {
   "cell_type": "code",
   "execution_count": null,
   "metadata": {
    "collapsed": false,
    "slideshow": {
     "slide_type": "-"
    }
   },
   "outputs": [],
   "source": [
    "app = App(\"Jedna ramka\")\n",
    "\n",
    "ramka = Ramka(app) # domyślnie biała\n",
    "ramka.change_color(\"red\") # zmień kolor\n",
    "\n",
    "app.run()"
   ]
  },
  {
   "cell_type": "markdown",
   "metadata": {
    "slideshow": {
     "slide_type": "subslide"
    }
   },
   "source": [
    "## Przycisk do koloru\n",
    "\n",
    "---"
   ]
  },
  {
   "cell_type": "code",
   "execution_count": null,
   "metadata": {
    "collapsed": false,
    "slideshow": {
     "slide_type": "-"
    }
   },
   "outputs": [],
   "source": [
    "app = App(\"Przycisk do tła\")\n",
    "\n",
    "ramka = Ramka(app)\n",
    "\n",
    "# Button(parent, text, command)\n",
    "przycisk = tk.Button(ramka, text=\"Red\",\n",
    "                     command=lambda: ramka.change_color(\"red\"))\n",
    "przycisk.place(x=0, y=0) # pozycja przycisku\n",
    "\n",
    "app.run()"
   ]
  },
  {
   "cell_type": "markdown",
   "metadata": {
    "slideshow": {
     "slide_type": "subslide"
    }
   },
   "source": [
    "## Kilka przycisków\n",
    "\n",
    "---"
   ]
  },
  {
   "cell_type": "code",
   "execution_count": null,
   "metadata": {
    "collapsed": true,
    "slideshow": {
     "slide_type": "-"
    }
   },
   "outputs": [],
   "source": [
    "app = App(\"Przyciski v1\")\n",
    "\n",
    "ramka = Ramka(app)\n",
    "\n",
    "but_red = tk.Button(ramka, text=\"Red\",\n",
    "                    command=lambda: ramka.change_color(\"red\"))\n",
    "but_red.place(x=0, y=0) # wpisujemy ręcznie\n",
    "\n",
    "but_blue = tk.Button(ramka, text=\"Blue\",\n",
    "                     command=lambda: ramka.change_color(\"blue\"))\n",
    "but_blue.place(x=0, y=50) # absolutne pozycje\n",
    "\n",
    "but_def = tk.Button(ramka, text=\"Default\",\n",
    "                    command=lambda: ramka.change_color())\n",
    "but_def.place(x=0, y=100) # przycisków\n",
    "\n",
    "app.run()"
   ]
  },
  {
   "cell_type": "markdown",
   "metadata": {
    "slideshow": {
     "slide_type": "subslide"
    }
   },
   "source": [
    "## Kilka przycisków krócej\n",
    "\n",
    "---"
   ]
  },
  {
   "cell_type": "code",
   "execution_count": null,
   "metadata": {
    "collapsed": true,
    "slideshow": {
     "slide_type": "-"
    }
   },
   "outputs": [],
   "source": [
    "app = App(\"Przyciski v2\")\n",
    "\n",
    "ramka = Ramka(app)\n",
    "\n",
    "# wykorzystamy wyrażenia lambda do generowania przycisków\n",
    "button = lambda color: tk.Button(ramka, text=color,\n",
    "                                 command=lambda: ramka.change_color(color))\n",
    "\n",
    "button(\"red\").place(x=0, y=0)     # wpisujemy ręcznie\n",
    "button(\"blue\").place(x=0, y=50)   # absolutne pozycje\n",
    "button(\"white\").place(x=0, y=100) # przyciskow\n",
    "\n",
    "app.run()"
   ]
  },
  {
   "cell_type": "markdown",
   "metadata": {
    "slideshow": {
     "slide_type": "subslide"
    }
   },
   "source": [
    "## Układanie przycisków\n",
    "\n",
    "---"
   ]
  },
  {
   "cell_type": "code",
   "execution_count": null,
   "metadata": {
    "collapsed": false,
    "slideshow": {
     "slide_type": "-"
    }
   },
   "outputs": [],
   "source": [
    "app = App(\"Przyciski v3\")\n",
    "\n",
    "ramka = Ramka(app)\n",
    "\n",
    "button(\"red\").pack(side=tk.LEFT)   # pakujemy od lewej\n",
    "button(\"blue\").pack(side=tk.LEFT)\n",
    "button(\"white\").pack(side=tk.LEFT)\n",
    "\n",
    "app.run()"
   ]
  },
  {
   "cell_type": "markdown",
   "metadata": {
    "slideshow": {
     "slide_type": "subslide"
    }
   },
   "source": [
    "## Rozciąganie przycisków\n",
    "\n",
    "---"
   ]
  },
  {
   "cell_type": "code",
   "execution_count": null,
   "metadata": {
    "collapsed": true,
    "slideshow": {
     "slide_type": "-"
    }
   },
   "outputs": [],
   "source": [
    "app = App(\"Przyciski v4\")\n",
    "\n",
    "ramka = Ramka(app)\n",
    "\n",
    "# czerwony rozciągamy w poziomie\n",
    "button(\"red\").pack(side=tk.LEFT, fill=tk.X, expand=True)\n",
    "# niebieski ma stały rozmiar\n",
    "button(\"blue\").pack(side=tk.LEFT)\n",
    "# biały rozciądamy w pionie\n",
    "button(\"white\").pack(side=tk.LEFT, fill=tk.Y, expand=True)\n",
    "\n",
    "app.run()"
   ]
  },
  {
   "cell_type": "markdown",
   "metadata": {
    "slideshow": {
     "slide_type": "subslide"
    }
   },
   "source": [
    "## Siatka\n",
    "\n",
    "---"
   ]
  },
  {
   "cell_type": "code",
   "execution_count": null,
   "metadata": {
    "collapsed": true,
    "slideshow": {
     "slide_type": "-"
    }
   },
   "outputs": [],
   "source": [
    "app = App(\"Przyciski v5\")\n",
    "\n",
    "ramka = Ramka(app)\n",
    "\n",
    "\n",
    "# 1 rząd 1 kolumna\n",
    "button(\"red\").grid(row=0, column=0)\n",
    "# 1 rząd 2 kolumna\n",
    "button(\"blue\").grid(row=0, column=1)\n",
    "# 2 rząd 1 kolumna\n",
    "button(\"white\").grid(row=1, column=0)\n",
    "# 2 rząd 2 kolumna\n",
    "button(\"black\").grid(row=1, column=1)\n",
    "\n",
    "app.run()"
   ]
  },
  {
   "cell_type": "markdown",
   "metadata": {
    "slideshow": {
     "slide_type": "subslide"
    }
   },
   "source": [
    "## Rozciąganie w siatce\n",
    "\n",
    "---"
   ]
  },
  {
   "cell_type": "code",
   "execution_count": null,
   "metadata": {
    "collapsed": false,
    "slideshow": {
     "slide_type": "-"
    }
   },
   "outputs": [],
   "source": [
    "from tkinter import N, S, E, W\n",
    "\n",
    "app = App(\"Przyciski v6\")\n",
    "\n",
    "ramka = Ramka(app)\n",
    "\n",
    "# 1 rząd 1 kolumna\n",
    "button(\"red\").grid(row=0, column=0, sticky=N+S+E+W)\n",
    "# 1 rząd 2 kolumna\n",
    "button(\"blue\").grid(row=0, column=1, sticky=N+S+E+W)\n",
    "# 2 rząd 1 kolumna\n",
    "button(\"white\").grid(row=1, column=0, sticky=N+S+E+W)\n",
    "# 2 rząd 2 kolumna\n",
    "button(\"black\").grid(row=1, column=1, sticky=N+S+E+W)\n",
    "\n",
    "app.run()"
   ]
  },
  {
   "cell_type": "markdown",
   "metadata": {
    "slideshow": {
     "slide_type": "slide"
    }
   },
   "source": [
    "## Pole tekstowe\n",
    "\n",
    "---"
   ]
  },
  {
   "cell_type": "code",
   "execution_count": null,
   "metadata": {
    "collapsed": false,
    "slideshow": {
     "slide_type": "-"
    }
   },
   "outputs": [],
   "source": [
    "app = App(\"Pole tekstowe\")\n",
    "\n",
    "tekst = tk.Entry(app) # pole tekstowe\n",
    "tekst.pack() # domyślne pakowanie\n",
    "\n",
    "app.run()"
   ]
  },
  {
   "cell_type": "markdown",
   "metadata": {
    "slideshow": {
     "slide_type": "subslide"
    }
   },
   "source": [
    "## Pole tekstowe - wstaw\n",
    "\n",
    "---"
   ]
  },
  {
   "cell_type": "code",
   "execution_count": null,
   "metadata": {
    "collapsed": true,
    "slideshow": {
     "slide_type": "-"
    }
   },
   "outputs": [],
   "source": [
    "app = App(\"Pole tekstowe - insert\")\n",
    "\n",
    "tekst = tk.Entry(app)\n",
    "tekst.pack(fill=tk.X, expand=True) # rozciągnij w poziomie\n",
    "\n",
    "# wstaw początkowy tekst\n",
    "tekst.insert(0, \"Tutaj wpisz cokolwiek...\")\n",
    "\n",
    "app.run()"
   ]
  },
  {
   "cell_type": "markdown",
   "metadata": {
    "slideshow": {
     "slide_type": "subslide"
    }
   },
   "source": [
    "## Usuwanie tekstu\n",
    "\n",
    "---"
   ]
  },
  {
   "cell_type": "code",
   "execution_count": null,
   "metadata": {
    "collapsed": true,
    "slideshow": {
     "slide_type": "-"
    }
   },
   "outputs": [],
   "source": [
    "app = App(\"Pole tekstowe - delete\")\n",
    "\n",
    "tekst = tk.Entry(app)\n",
    "tekst.pack(fill=tk.X, expand=True)\n",
    "\n",
    "tekst.insert(0, \"Tutaj wpisz cokolwiek...\")\n",
    "\n",
    "# Entry.delete usuwa tekst\n",
    "przycisk = tk.Button(app, text=\"clear\",\n",
    "                     command=lambda: tekst.delete(0, tk.END))\n",
    "przycisk.pack()\n",
    "\n",
    "app.run()"
   ]
  },
  {
   "cell_type": "markdown",
   "metadata": {
    "slideshow": {
     "slide_type": "subslide"
    }
   },
   "source": [
    "## Pobieranie tekstu\n",
    "\n",
    "---"
   ]
  },
  {
   "cell_type": "code",
   "execution_count": null,
   "metadata": {
    "collapsed": false,
    "slideshow": {
     "slide_type": "-"
    }
   },
   "outputs": [],
   "source": [
    "app = App(\"Pole tekstowe - get\")\n",
    "\n",
    "tekst = tk.Entry(app)\n",
    "tekst.pack(fill=tk.X, expand=True)\n",
    "\n",
    "tekst.insert(0, \"Tutaj wpisz cokolwiek...\")\n",
    "\n",
    "# Entry.get pobiera tekst\n",
    "przycisk = tk.Button(app, text=\"pobierz\", command=lambda: print(tekst.get()))\n",
    "przycisk.pack()\n",
    "\n",
    "app.run()"
   ]
  },
  {
   "cell_type": "markdown",
   "metadata": {
    "slideshow": {
     "slide_type": "slide"
    }
   },
   "source": [
    "## Student GUI\n",
    "\n",
    "---"
   ]
  },
  {
   "cell_type": "code",
   "execution_count": null,
   "metadata": {
    "collapsed": true,
    "slideshow": {
     "slide_type": "-"
    }
   },
   "outputs": [],
   "source": [
    "class Student:\n",
    "\n",
    "    def __init__(self, imie, nazwisko, indeks):\n",
    "        self._imie = imie\n",
    "        self._nazwisko = nazwisko\n",
    "        self._indeks = indeks\n",
    "\n",
    "        self.save() # automatyczny zapis przy tworzeniu studenta\n",
    "\n",
    "    def save(self):\n",
    "        with open(\".\".join([self._imie, self._nazwisko]), 'w') as f:\n",
    "            f.write(self._indeks)"
   ]
  },
  {
   "cell_type": "markdown",
   "metadata": {
    "slideshow": {
     "slide_type": "subslide"
    }
   },
   "source": [
    "## Główne okno programu\n",
    "\n",
    "---"
   ]
  },
  {
   "cell_type": "code",
   "execution_count": null,
   "metadata": {
    "collapsed": false,
    "slideshow": {
     "slide_type": "-"
    }
   },
   "outputs": [],
   "source": [
    "import tkinter as tk\n",
    "\n",
    "root = tk.Tk()\n",
    "#root.option_add(\"*font\", \"Helvetica 24\")\n",
    "root.title(\"Student\")\n",
    "root.geometry(\"800x600+400+300\")\n",
    "\n",
    "# ramka z tłem, do której będziemy wrzucać pola tekstowe\n",
    "ramka = tk.Frame(root, bg=\"white\")\n",
    "ramka.pack(fill=tk.BOTH, expand=True)"
   ]
  },
  {
   "cell_type": "markdown",
   "metadata": {
    "slideshow": {
     "slide_type": "subslide"
    }
   },
   "source": [
    "## Entries\n",
    "\n",
    "---"
   ]
  },
  {
   "cell_type": "code",
   "execution_count": null,
   "metadata": {
    "collapsed": true,
    "slideshow": {
     "slide_type": "-"
    }
   },
   "outputs": [],
   "source": [
    "# imię\n",
    "tk.Label(ramka, text=\"Imię: \").grid(row=0, column=0, sticky=\"nsew\")\n",
    "imie = tk.Entry(ramka)\n",
    "imie.grid(row=0, column=1, sticky=\"nsew\")\n",
    "\n",
    "# nazwisko\n",
    "tk.Label(ramka, text=\"Nazwisko: \").grid(row=1, column=0, sticky=\"nsew\")\n",
    "nazwisko = tk.Entry(ramka)\n",
    "nazwisko.grid(row=1, column=1, sticky=\"nsew\")\n",
    "\n",
    "# numer indeksu\n",
    "tk.Label(ramka, text=\"Indeks: \").grid(row=2, column=0, sticky=\"nsew\")\n",
    "indeks = tk.Entry(ramka)\n",
    "indeks.grid(row=2, column=1, sticky=\"nsew\")"
   ]
  },
  {
   "cell_type": "markdown",
   "metadata": {
    "slideshow": {
     "slide_type": "subslide"
    }
   },
   "source": [
    "## Przycisk *save*\n",
    "\n",
    "---"
   ]
  },
  {
   "cell_type": "code",
   "execution_count": null,
   "metadata": {
    "collapsed": true,
    "slideshow": {
     "slide_type": "-"
    }
   },
   "outputs": [],
   "source": [
    "# wyrażenie lamba generujące studenta\n",
    "# na bazie wpisów w entries\n",
    "make_student = lambda: Student(imie.get(), nazwisko.get(), indeks.get())\n",
    "\n",
    "przycisk = tk.Button(root, text=\"save\", command=make_student)\n",
    "przycisk.pack()"
   ]
  },
  {
   "cell_type": "markdown",
   "metadata": {
    "slideshow": {
     "slide_type": "subslide"
    }
   },
   "source": [
    "## Test\n",
    "\n",
    "---"
   ]
  },
  {
   "cell_type": "code",
   "execution_count": null,
   "metadata": {
    "collapsed": true,
    "slideshow": {
     "slide_type": "-"
    }
   },
   "outputs": [],
   "source": [
    "root.mainloop()"
   ]
  },
  {
   "cell_type": "code",
   "execution_count": null,
   "metadata": {
    "collapsed": false,
    "slideshow": {
     "slide_type": "-"
    }
   },
   "outputs": [],
   "source": [
    "%%bash\n",
    "cat Jan.Kowalski"
   ]
  }
 ],
 "metadata": {
  "anaconda-cloud": {},
  "celltoolbar": "Slideshow",
  "kernelspec": {
   "display_name": "Python [conda root]",
   "language": "python",
   "name": "conda-root-py"
  },
  "language_info": {
   "codemirror_mode": {
    "name": "ipython",
    "version": 3
   },
   "file_extension": ".py",
   "mimetype": "text/x-python",
   "name": "python",
   "nbconvert_exporter": "python",
   "pygments_lexer": "ipython3",
   "version": "3.5.2"
  }
 },
 "nbformat": 4,
 "nbformat_minor": 0
}
