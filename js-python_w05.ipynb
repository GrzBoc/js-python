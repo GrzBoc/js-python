{
 "cells": [
  {
   "cell_type": "markdown",
   "metadata": {
    "slideshow": {
     "slide_type": "slide"
    }
   },
   "source": [
    "\n",
    "# Języki skryptowe - Python\n",
    "## Wykład 5\n",
    "\n",
    "---\n",
    "\n",
    "* *timeit*, czyli pythonowy stoper\n",
    "* złożoność algorytmów + przykłady\n",
    "* notacja \"dużego &Omicron;\" (Omicron)\n",
    "* algorytmy sortowania"
   ]
  },
  {
   "cell_type": "markdown",
   "metadata": {
    "slideshow": {
     "slide_type": "slide"
    }
   },
   "source": [
    "## Dygresja o *__main__*\n",
    "\n",
    "---"
   ]
  },
  {
   "cell_type": "code",
   "execution_count": 1,
   "metadata": {
    "collapsed": false,
    "slideshow": {
     "slide_type": "-"
    }
   },
   "outputs": [
    {
     "name": "stdout",
     "output_type": "stream",
     "text": [
      "__main__\n",
      "math\n"
     ]
    }
   ],
   "source": [
    "import math\n",
    "\n",
    "print(__name__)      # nazwa skryptu\n",
    "print(math.__name__) # nazwa zaimportowanego modułu"
   ]
  },
  {
   "cell_type": "code",
   "execution_count": 2,
   "metadata": {
    "collapsed": false,
    "slideshow": {
     "slide_type": "-"
    }
   },
   "outputs": [
    {
     "name": "stdout",
     "output_type": "stream",
     "text": [
      "Hello World!\n"
     ]
    }
   ],
   "source": [
    "# instrukcje z main\n",
    "# z zaimportowanych modułów\n",
    "# nie zostaną wywołane\n",
    "\n",
    "if __name__ == \"__main__\":\n",
    "    print(\"Hello World!\")"
   ]
  },
  {
   "cell_type": "markdown",
   "metadata": {
    "slideshow": {
     "slide_type": "subslide"
    }
   },
   "source": [
    "## *timeit*\n",
    "\n",
    "---"
   ]
  },
  {
   "cell_type": "code",
   "execution_count": 3,
   "metadata": {
    "collapsed": true,
    "slideshow": {
     "slide_type": "-"
    }
   },
   "outputs": [],
   "source": [
    "def silnia(n):\n",
    "    \"\"\"Zwraca silnię liczby n.\"\"\"\n",
    "    if n < 2:\n",
    "        return 1 # 0! = 1, 1! = 1\n",
    "    return n*silnia(n - 1)"
   ]
  },
  {
   "cell_type": "code",
   "execution_count": 4,
   "metadata": {
    "collapsed": false,
    "slideshow": {
     "slide_type": "-"
    }
   },
   "outputs": [
    {
     "data": {
      "text/plain": [
       "3.7365999560279306e-05"
      ]
     },
     "execution_count": 4,
     "metadata": {},
     "output_type": "execute_result"
    }
   ],
   "source": [
    "from timeit import timeit\n",
    "\n",
    "# timeit(funkcja, setup, number) -> czas wykonania funkcji w s\n",
    "# funkcja - funkcja do wykonania\n",
    "# setup - konfiguracja\n",
    "# number - liczba powtórzeń\n",
    "timeit(\"silnia(10)\", setup=\"from __main__ import silnia\", number=10)"
   ]
  },
  {
   "cell_type": "code",
   "execution_count": 5,
   "metadata": {
    "collapsed": false,
    "slideshow": {
     "slide_type": "-"
    }
   },
   "outputs": [
    {
     "data": {
      "text/plain": [
       "0.0004746449994854629"
      ]
     },
     "execution_count": 5,
     "metadata": {},
     "output_type": "execute_result"
    }
   ],
   "source": [
    "timeit(\"silnia(100)\", setup=\"from __main__ import silnia\", number=10)"
   ]
  },
  {
   "cell_type": "markdown",
   "metadata": {
    "slideshow": {
     "slide_type": "subslide"
    }
   },
   "source": [
    "## *timeit* z linii komend\n",
    "\n",
    "---\n",
    "\n",
    "```py\n",
    "# silnia.py\n",
    "\n",
    "def silnia(n):\n",
    "    \"\"\"Zwraca silnię liczby n.\"\"\"\n",
    "    if n < 2:\n",
    "        return 1 # 0! = 1, 1! = 1\n",
    "    return n*silnia(n - 1)\n",
    "```\n",
    "\n",
    "* możemy przetestować naszą funkcję z linii komend\n",
    "\n",
    "```\n",
    "$ python -m timeit -n10 'from silnia import silnia; silnia(10)'\n",
    "10 loops, best of 3: 9.11 usec per loop\n",
    "```"
   ]
  },
  {
   "cell_type": "markdown",
   "metadata": {
    "slideshow": {
     "slide_type": "subslide"
    }
   },
   "source": [
    "## *timeit* w Jupyter Notebook\n",
    "\n",
    "---"
   ]
  },
  {
   "cell_type": "code",
   "execution_count": 6,
   "metadata": {
    "collapsed": true,
    "slideshow": {
     "slide_type": "-"
    }
   },
   "outputs": [],
   "source": [
    "def silnia(n):\n",
    "    \"\"\"Zwraca silnię liczby n.\"\"\"\n",
    "    if n < 2:\n",
    "        return 1 # 0! = 1, 1! = 1\n",
    "    return n*silnia(n - 1)"
   ]
  },
  {
   "cell_type": "code",
   "execution_count": 7,
   "metadata": {
    "collapsed": false,
    "slideshow": {
     "slide_type": "-"
    }
   },
   "outputs": [
    {
     "name": "stdout",
     "output_type": "stream",
     "text": [
      "10 loops, best of 3: 3.44 µs per loop\n"
     ]
    }
   ],
   "source": [
    "%timeit -n10 silnia(10)"
   ]
  },
  {
   "cell_type": "markdown",
   "metadata": {
    "slideshow": {
     "slide_type": "slide"
    }
   },
   "source": [
    "**Algorytm** - *ciąg instrukcji prowadzących do rozwiązania zadania*\n",
    "\n",
    "---\n",
    "\n",
    "![Algorytm: egzamin](src/algorytm_egzamin.png)"
   ]
  },
  {
   "cell_type": "markdown",
   "metadata": {
    "slideshow": {
     "slide_type": "subslide"
    }
   },
   "source": [
    "## Koty Ali\n",
    "\n",
    "---\n",
    "\n",
    "* Pierwszego dnia Ala dostała jednego kota. Każdego kolejnego dnia dostaje o jednego więcej niż dnia poprzedniego. Ile kotów ma Ala po *n* dniach?\n",
    "    * pierwszy dzień: 1\n",
    "    * drugi dzień: 1 + 1\n",
    "    * trzeci dzień: 1 + 1 + 1\n",
    "    ..."
   ]
  },
  {
   "cell_type": "markdown",
   "metadata": {
    "slideshow": {
     "slide_type": "subslide"
    }
   },
   "source": [
    "## Koty Ali - algorytm I\n",
    "\n",
    "---"
   ]
  },
  {
   "cell_type": "code",
   "execution_count": 8,
   "metadata": {
    "collapsed": true,
    "slideshow": {
     "slide_type": "-"
    }
   },
   "outputs": [],
   "source": [
    "def licz_koty_v1(n):\n",
    "    \"\"\"Zwraca liczbę kotów po n dniach.\"\"\"\n",
    "    n_cats = 0                     # Ala nie ma kota\n",
    "    for dzien in range(1, n + 1):  # pętla po dniach\n",
    "        for koty in range(dzien):  # liczba kotów = nr dnia\n",
    "            n_cats += 1            # dodaj kota\n",
    "    return n_cats                  # dwie pętle -> n*n operacji"
   ]
  },
  {
   "cell_type": "code",
   "execution_count": 9,
   "metadata": {
    "collapsed": false,
    "slideshow": {
     "slide_type": "-"
    }
   },
   "outputs": [
    {
     "name": "stdout",
     "output_type": "stream",
     "text": [
      "3 loops, best of 3: 4.43 s per loop\n"
     ]
    }
   ],
   "source": [
    "%timeit -n3 licz_koty_v1(10000) # liczba kotów po 10 dniach"
   ]
  },
  {
   "cell_type": "markdown",
   "metadata": {
    "slideshow": {
     "slide_type": "subslide"
    }
   },
   "source": [
    "## Koty Ali - algorytm II\n",
    "\n",
    "---"
   ]
  },
  {
   "cell_type": "code",
   "execution_count": 10,
   "metadata": {
    "collapsed": true,
    "slideshow": {
     "slide_type": "-"
    }
   },
   "outputs": [],
   "source": [
    "def licz_koty_v2(n):\n",
    "    \"\"\"Zwraca liczbę kotów po n dniach.\"\"\"\n",
    "    n_cats = 0                     # Ala nie ma kota\n",
    "    for dzien in range(1, n + 1):  # pętla po dniach\n",
    "        n_cats += dzien            # dodaj koty (= nr dnia)\n",
    "    return n_cats                  # jedna pętla -> n operacji"
   ]
  },
  {
   "cell_type": "code",
   "execution_count": 11,
   "metadata": {
    "collapsed": false,
    "slideshow": {
     "slide_type": "-"
    }
   },
   "outputs": [
    {
     "name": "stdout",
     "output_type": "stream",
     "text": [
      "3 loops, best of 3: 904 µs per loop\n"
     ]
    }
   ],
   "source": [
    "%timeit -n3 licz_koty_v2(10000) # liczba kotów po 10 dniach"
   ]
  },
  {
   "cell_type": "markdown",
   "metadata": {
    "slideshow": {
     "slide_type": "subslide"
    }
   },
   "source": [
    "## Koty Ali - algorytm III\n",
    "\n",
    "---"
   ]
  },
  {
   "cell_type": "code",
   "execution_count": 12,
   "metadata": {
    "collapsed": true,
    "slideshow": {
     "slide_type": "-"
    }
   },
   "outputs": [],
   "source": [
    "def licz_koty_v3(n):\n",
    "    \"\"\"Zwraca liczbę kotów po n dniach.\"\"\"\n",
    "    return n * (n + 1) // 2 # jedna operacja"
   ]
  },
  {
   "cell_type": "code",
   "execution_count": 13,
   "metadata": {
    "collapsed": false,
    "slideshow": {
     "slide_type": "-"
    }
   },
   "outputs": [
    {
     "name": "stdout",
     "output_type": "stream",
     "text": [
      "3 loops, best of 3: 535 ns per loop\n"
     ]
    }
   ],
   "source": [
    "%timeit -n3 licz_koty_v3(10000) # liczba kotów po 10 dniach"
   ]
  },
  {
   "cell_type": "markdown",
   "metadata": {
    "slideshow": {
     "slide_type": "subslide"
    }
   },
   "source": [
    "## Koty Ali - algorytm IV\n",
    "\n",
    "---"
   ]
  },
  {
   "cell_type": "code",
   "execution_count": 14,
   "metadata": {
    "collapsed": true,
    "slideshow": {
     "slide_type": "-"
    }
   },
   "outputs": [],
   "source": [
    "def licz_koty_v4(n):\n",
    "    \"\"\"Zwraca liczbę kotów po n dniach.\"\"\"\n",
    "    koty = list(range(n + 1)) # n zmiennych w pamięci\n",
    "    return sum(koty)          # jedna pętla -> n operacji"
   ]
  },
  {
   "cell_type": "code",
   "execution_count": 15,
   "metadata": {
    "collapsed": false,
    "slideshow": {
     "slide_type": "-"
    }
   },
   "outputs": [
    {
     "name": "stdout",
     "output_type": "stream",
     "text": [
      "3 loops, best of 3: 411 µs per loop\n"
     ]
    }
   ],
   "source": [
    "%timeit -n3 licz_koty_v4(10000) # liczba kotów po 10 dniach"
   ]
  },
  {
   "cell_type": "markdown",
   "metadata": {
    "slideshow": {
     "slide_type": "subslide"
    }
   },
   "source": [
    "## *range* vs *list(range)*\n",
    "\n",
    "---\n",
    "\n",
    "```\n",
    "$ python -m timeit -n10 'range(1000000)'\n",
    "10 loops, best of 3: 0.684 usec per loop\n",
    "\n",
    "$ python -m timeit -n10 'list(range(1000000))'\n",
    "10 loops, best of 3: 52.3 msec per loop\n",
    "```"
   ]
  },
  {
   "cell_type": "markdown",
   "metadata": {
    "slideshow": {
     "slide_type": "subslide"
    }
   },
   "source": [
    "## Koty Ali - algorytm V\n",
    "\n",
    "---"
   ]
  },
  {
   "cell_type": "code",
   "execution_count": 16,
   "metadata": {
    "collapsed": true,
    "slideshow": {
     "slide_type": "-"
    }
   },
   "outputs": [],
   "source": [
    "def licz_koty_v5(n):\n",
    "    \"\"\"Zwraca liczbę kotów po n dniach.\"\"\"\n",
    "    return sum(range(n + 1)) # jedna pętla -> n operacji"
   ]
  },
  {
   "cell_type": "code",
   "execution_count": 17,
   "metadata": {
    "collapsed": false,
    "slideshow": {
     "slide_type": "-"
    }
   },
   "outputs": [
    {
     "name": "stdout",
     "output_type": "stream",
     "text": [
      "3 loops, best of 3: 471 µs per loop\n"
     ]
    }
   ],
   "source": [
    "%timeit -n3 licz_koty_v5(10000) # liczba kotów po 10 dniach"
   ]
  },
  {
   "cell_type": "markdown",
   "metadata": {
    "slideshow": {
     "slide_type": "subslide"
    }
   },
   "source": [
    "## Złożoność algorytmu\n",
    "\n",
    "---\n",
    "\n",
    "* złożoność czasowa -> liczba operacji\n",
    "* złożoność pamięciowa -> ilość potrzebnej pamięci\n",
    "\n",
    "|          | Alg I | Alg II     | Alg III | Alg IV     | Alg V      |\n",
    "|:--------:|:-----:|:----------:|:-------:|:----------:|:----------:|\n",
    "| operacje | $n^2$ | $n$        | $1$     | $n$        | n          |\n",
    "| pamięć   | $1$   | $1$        | $1$     | $n$        | 1          |\n",
    "| czas     | 4.6 s | 973 $\\mu$s | 768 ns  | 661 $\\mu$s | 475 $\\mu$s |"
   ]
  },
  {
   "cell_type": "markdown",
   "metadata": {
    "slideshow": {
     "slide_type": "slide"
    }
   },
   "source": [
    "## Wartość wielomianu\n",
    "\n",
    "---\n",
    "\n",
    "* Dany jest wielomian:\n",
    "\n",
    "$$ W(x) = a_0 + a_1\\cdot x + a_2 \\cdot x^2 + ... + a_n \\cdot x^n$$\n",
    "\n",
    "* Korzystając bezpośrednio z powyższgo wzoru należy wykonać $n$ dodawań oraz $1 + 2 + ... + n  = \\frac{n\\cdot(n+1)}{2}$ mnożeń"
   ]
  },
  {
   "cell_type": "markdown",
   "metadata": {
    "slideshow": {
     "slide_type": "subslide"
    }
   },
   "source": [
    "## Metoda naiwna\n",
    "\n",
    "---"
   ]
  },
  {
   "cell_type": "code",
   "execution_count": 18,
   "metadata": {
    "collapsed": true,
    "slideshow": {
     "slide_type": "-"
    }
   },
   "outputs": [],
   "source": [
    "def naive(a, x):\n",
    "    \"\"\"Zwraca wartość wielomianu o współczynnikach a w punkcie x.\"\"\"\n",
    "    result = 0\n",
    "    for i, ai in enumerate(a): # i - indeks, ai - współczynnik a_i\n",
    "        result += ai * x**i    # W(x) += a_i * x^i\n",
    "    return result"
   ]
  },
  {
   "cell_type": "code",
   "execution_count": 19,
   "metadata": {
    "collapsed": false,
    "slideshow": {
     "slide_type": "-"
    }
   },
   "outputs": [
    {
     "data": {
      "text/plain": [
       "2.1569220024001972e+274"
      ]
     },
     "execution_count": 19,
     "metadata": {},
     "output_type": "execute_result"
    }
   ],
   "source": [
    "a = range(500)\n",
    "x = 3.5\n",
    "\n",
    "naive(a, x)"
   ]
  },
  {
   "cell_type": "code",
   "execution_count": 20,
   "metadata": {
    "collapsed": false,
    "slideshow": {
     "slide_type": "-"
    }
   },
   "outputs": [
    {
     "name": "stdout",
     "output_type": "stream",
     "text": [
      "3 loops, best of 3: 259 µs per loop\n"
     ]
    }
   ],
   "source": [
    "%timeit -n3 naive(a, x)"
   ]
  },
  {
   "cell_type": "markdown",
   "metadata": {
    "slideshow": {
     "slide_type": "subslide"
    }
   },
   "source": [
    "## Schemat Hornera\n",
    "\n",
    "---\n",
    "\n",
    "* Zapisując wielomian w postaci:\n",
    "\n",
    "$$W(x) = a_0 + x\\cdot(a_1 + x\\cdot(a_2 + ... + x\\cdot(a_{n-1} + a_n\\cdot x)...)$$\n",
    "\n",
    "* organiczamy się do $n$ dodań i $n$ mnożeń"
   ]
  },
  {
   "cell_type": "markdown",
   "metadata": {
    "slideshow": {
     "slide_type": "subslide"
    }
   },
   "source": [
    "## Algorytm Hornera\n",
    "\n",
    "---\n",
    "\n",
    "$$W(x) = a_0 + x\\cdot(a_1 + x\\cdot(a_2 + ... + x\\cdot(a_{n-1} + a_n\\cdot x)...)$$\n",
    "\n",
    "* Niech\n",
    "\n",
    "$$b_n = a_n$$\n",
    "$$b_{n-1} = b_n\\cdot x + a_{n-1}$$\n",
    "$$b_{n-2} = n_{n-1}\\cdot x + a_{n-2}$$\n",
    "$$...$$\n",
    "$$b_1 = b_2\\cdot x + a_1$$\n",
    "$$b_0 = b_1\\cdot x + a_0$$\n",
    "\n",
    "* $b_0$ - wartość wielomianu"
   ]
  },
  {
   "cell_type": "markdown",
   "metadata": {
    "slideshow": {
     "slide_type": "subslide"
    }
   },
   "source": [
    "## Horner vs Naive\n",
    "\n",
    "---"
   ]
  },
  {
   "cell_type": "code",
   "execution_count": 21,
   "metadata": {
    "collapsed": true,
    "slideshow": {
     "slide_type": "-"
    }
   },
   "outputs": [],
   "source": [
    "def horner(a, x):\n",
    "    \"\"\"Zwraca wartość wielomianu o współczynnikach a w punkcie x.\"\"\"\n",
    "    result = 0\n",
    "    for w in a[-1::-1]:         # \"reverse\"\n",
    "        result = result * x + w # b_i = b_{i-1} * x + a_i\n",
    "    return result"
   ]
  },
  {
   "cell_type": "code",
   "execution_count": 22,
   "metadata": {
    "collapsed": false,
    "slideshow": {
     "slide_type": "-"
    }
   },
   "outputs": [
    {
     "data": {
      "text/plain": [
       "2.156922002400198e+274"
      ]
     },
     "execution_count": 22,
     "metadata": {},
     "output_type": "execute_result"
    }
   ],
   "source": [
    "a = range(500)\n",
    "x = 3.5\n",
    "\n",
    "horner(a, x)"
   ]
  },
  {
   "cell_type": "code",
   "execution_count": 23,
   "metadata": {
    "collapsed": false,
    "slideshow": {
     "slide_type": "-"
    }
   },
   "outputs": [
    {
     "name": "stdout",
     "output_type": "stream",
     "text": [
      "3 loops, best of 3: 98.1 µs per loop\n"
     ]
    }
   ],
   "source": [
    "%timeit -n3 horner(a, x)"
   ]
  },
  {
   "cell_type": "code",
   "execution_count": 24,
   "metadata": {
    "collapsed": false,
    "slideshow": {
     "slide_type": "-"
    }
   },
   "outputs": [
    {
     "name": "stdout",
     "output_type": "stream",
     "text": [
      "3 loops, best of 3: 257 µs per loop\n"
     ]
    }
   ],
   "source": [
    "%timeit -n3 naive(a, x)"
   ]
  },
  {
   "cell_type": "markdown",
   "metadata": {
    "slideshow": {
     "slide_type": "slide"
    }
   },
   "source": [
    "## Złożoność algorytmów\n",
    "\n",
    "---\n",
    "\n",
    "* czas w zależności od rozmiaru danych (N)\n",
    "* zajęta pamięć (pomijając dane wejściowe)\n",
    "* najczęściej interesuje nas złożoność asymptotyczna (dla dużych N)\n",
    "* np. które człony $$f(n) = n^3 +10\\cdot n^2 + 100\\cdot n + 1000\\cdot\\ln(n)$$ są znaczące?"
   ]
  },
  {
   "cell_type": "markdown",
   "metadata": {
    "slideshow": {
     "slide_type": "subslide"
    }
   },
   "source": [
    "## Wkłady od różnych członów\n",
    "\n",
    "---"
   ]
  },
  {
   "cell_type": "code",
   "execution_count": 25,
   "metadata": {
    "collapsed": true,
    "slideshow": {
     "slide_type": "-"
    }
   },
   "outputs": [],
   "source": [
    "def terms(f):\n",
    "    \"\"\"Zwraca kolejne człony funkcji f (oddzielone +).\"\"\"    \n",
    "    return [term.strip() for term in f.split('+')]"
   ]
  },
  {
   "cell_type": "code",
   "execution_count": 26,
   "metadata": {
    "collapsed": false,
    "slideshow": {
     "slide_type": "-"
    }
   },
   "outputs": [
    {
     "data": {
      "text/plain": [
       "['n**2', '10*n']"
      ]
     },
     "execution_count": 26,
     "metadata": {},
     "output_type": "execute_result"
    }
   ],
   "source": [
    "terms(\"n**2 + 10*n\")"
   ]
  },
  {
   "cell_type": "code",
   "execution_count": 27,
   "metadata": {
    "collapsed": false,
    "slideshow": {
     "slide_type": "-"
    }
   },
   "outputs": [],
   "source": [
    "def eval_f(f, n = 1):\n",
    "    \"\"\"Zwraca wartość funkcji f w punkcie n.\"\"\"\n",
    "    return eval(f)"
   ]
  },
  {
   "cell_type": "code",
   "execution_count": 28,
   "metadata": {
    "collapsed": false,
    "slideshow": {
     "slide_type": "-"
    }
   },
   "outputs": [
    {
     "data": {
      "text/plain": [
       "75"
      ]
     },
     "execution_count": 28,
     "metadata": {},
     "output_type": "execute_result"
    }
   ],
   "source": [
    "eval_f(\"n**2 + 10*n\", n = 5)"
   ]
  },
  {
   "cell_type": "markdown",
   "metadata": {
    "slideshow": {
     "slide_type": "subslide"
    }
   },
   "source": [
    "## Wkłady od różnych członów\n",
    "\n",
    "---"
   ]
  },
  {
   "cell_type": "code",
   "execution_count": 29,
   "metadata": {
    "collapsed": true,
    "slideshow": {
     "slide_type": "-"
    }
   },
   "outputs": [],
   "source": [
    "def eval_terms(*terms, n = 1):\n",
    "    \"\"\"Zwraca wartości kolejnych członów w punkcie n.\"\"\"\n",
    "    return [eval_f(term, n) for term in terms]"
   ]
  },
  {
   "cell_type": "code",
   "execution_count": 30,
   "metadata": {
    "collapsed": false
   },
   "outputs": [
    {
     "data": {
      "text/plain": [
       "(25, 50)"
      ]
     },
     "execution_count": 30,
     "metadata": {},
     "output_type": "execute_result"
    }
   ],
   "source": [
    "eval_f(\"n**2\", n = 5), eval_f(\"10*n\", n = 5)"
   ]
  },
  {
   "cell_type": "code",
   "execution_count": 31,
   "metadata": {
    "collapsed": false,
    "slideshow": {
     "slide_type": "-"
    }
   },
   "outputs": [
    {
     "data": {
      "text/plain": [
       "[25, 50]"
      ]
     },
     "execution_count": 31,
     "metadata": {},
     "output_type": "execute_result"
    }
   ],
   "source": [
    "eval_terms(*terms(\"n**2 + 10*n\"), n = 5)"
   ]
  },
  {
   "cell_type": "markdown",
   "metadata": {
    "slideshow": {
     "slide_type": "subslide"
    }
   },
   "source": [
    "## Wkłady od różnych członów\n",
    "\n",
    "---"
   ]
  },
  {
   "cell_type": "code",
   "execution_count": 32,
   "metadata": {
    "collapsed": true,
    "slideshow": {
     "slide_type": "-"
    }
   },
   "outputs": [],
   "source": [
    "def print_cell(cell, width=10):\n",
    "    \"\"\"Drukuje pojedynczą komórkę w tabeli.\"\"\"\n",
    "    print(str(cell).rjust(width), end=' |')\n",
    "\n",
    "def table_head(f, width=10):\n",
    "    \"\"\"Drukuje pierwsze rząd tabeli.\"\"\"\n",
    "    print_cell(\"n\", width)\n",
    "    for term in terms(f):\n",
    "        print_cell(term, width)\n",
    "    print(\"\\n\" + \"-\" * width * (len(terms(f)) + 2))"
   ]
  },
  {
   "cell_type": "code",
   "execution_count": 33,
   "metadata": {
    "collapsed": false,
    "slideshow": {
     "slide_type": "-"
    }
   },
   "outputs": [
    {
     "name": "stdout",
     "output_type": "stream",
     "text": [
      "         n |      n**2 |      10*n |\n",
      "----------------------------------------\n"
     ]
    }
   ],
   "source": [
    "table_head(\"n**2 + 10*n\")"
   ]
  },
  {
   "cell_type": "markdown",
   "metadata": {
    "slideshow": {
     "slide_type": "subslide"
    }
   },
   "source": [
    "## Wkłady od różnych członów\n",
    "\n",
    "---"
   ]
  },
  {
   "cell_type": "code",
   "execution_count": 34,
   "metadata": {
    "collapsed": false,
    "slideshow": {
     "slide_type": "-"
    }
   },
   "outputs": [],
   "source": [
    "def f_as_table(f, *args, width=10):\n",
    "    \"\"\"Drukuje tabelę z procentowym wkładem każdego członu.\"\"\"\n",
    "    table_head(f, width)\n",
    "    for n in args:\n",
    "        print_cell(n, width)\n",
    "        f_val = eval_f(f, n)\n",
    "        for term in eval_terms(*terms(f), n = n):\n",
    "            print_cell(round(term / f_val * 100), width)\n",
    "        print()"
   ]
  },
  {
   "cell_type": "code",
   "execution_count": 35,
   "metadata": {
    "collapsed": false,
    "slideshow": {
     "slide_type": "-"
    }
   },
   "outputs": [
    {
     "name": "stdout",
     "output_type": "stream",
     "text": [
      "    n | n**2 | 10*n |\n",
      "--------------------\n",
      "    1 |    9 |   91 |\n",
      "   10 |   50 |   50 |\n",
      "  100 |   91 |    9 |\n"
     ]
    }
   ],
   "source": [
    "f_as_table(\"n**2 + 10*n\", 1, 10, 100, width=5)"
   ]
  },
  {
   "cell_type": "markdown",
   "metadata": {
    "slideshow": {
     "slide_type": "subslide"
    }
   },
   "source": [
    "## Wkłady od różnych członów\n",
    "\n",
    "---\n",
    "\n",
    "$$f(n) = n^3 +10\\cdot n^2 + 100\\cdot n + 1000\\cdot\\ln(n)$$"
   ]
  },
  {
   "cell_type": "code",
   "execution_count": 36,
   "metadata": {
    "collapsed": false,
    "slideshow": {
     "slide_type": "-"
    }
   },
   "outputs": [
    {
     "name": "stdout",
     "output_type": "stream",
     "text": [
      "           n |        n**3 |     10*n**2 |       100*n | 1000*log(n) |\n",
      "------------------------------------------------------------------------\n",
      "           1 |           1 |           9 |          90 |           0 |\n",
      "          10 |          19 |          19 |          19 |          43 |\n",
      "         100 |          90 |           9 |           1 |           0 |\n",
      "        1000 |          99 |           1 |           0 |           0 |\n",
      "       10000 |         100 |           0 |           0 |           0 |\n"
     ]
    }
   ],
   "source": [
    "from math import log\n",
    "\n",
    "n = [10**i for i in range(5)]\n",
    "f_as_table(\"n**3 + 10*n**2 + 100*n + 1000*log(n)\", *n, width=12)"
   ]
  },
  {
   "cell_type": "markdown",
   "metadata": {
    "slideshow": {
     "slide_type": "subslide"
    }
   },
   "source": [
    "## Notacja dużego &Omicron;\n",
    "\n",
    "---\n",
    "\n",
    "* Funkcja $f(n)$ jest $O(g(n))$, jeśli istnieją liczby dodatnie $c$ i $n_0$, takie że:\n",
    "\n",
    "$$\\forall_{n>n_0} ~~~~~ f(n) < c\\cdot g(n)$$\n",
    "\n",
    "* Jeśli $f_1(n) \\in O(g(n))$ i $f_2(n) \\in O(g(n))$, to:\n",
    "\n",
    "$$f_1(n) + f_2(n) \\in O(g(n))$$\n",
    "$$f_1(n) \\cdot f_2(n) \\in O(g^2(n))$$"
   ]
  },
  {
   "cell_type": "markdown",
   "metadata": {
    "slideshow": {
     "slide_type": "subslide"
    }
   },
   "source": [
    "## Notacja dużego &Omicron; - przykład\n",
    "\n",
    "---"
   ]
  },
  {
   "cell_type": "code",
   "execution_count": 37,
   "metadata": {
    "collapsed": false,
    "slideshow": {
     "slide_type": "skip"
    }
   },
   "outputs": [],
   "source": [
    "import numpy as np\n",
    "import matplotlib.pyplot as plt\n",
    "from math import log\n",
    "\n",
    "n = np.arange(1, 50, 1) # kolejne liczby naturalne\n",
    "f = [n**3 + 10*n**2 + 100*n + 1000*log(n) for n in n] # wartości f(n)\n",
    "g = [2*n**3 for n in n] # wartości g(n)\n",
    "\n",
    "f_plot, = plt.plot(n, f, 'rs', label=\"$f(n) = n^3 + 10\\cdot n^2 + 100\\cdot n + 1000\\cdot\\ln(n)$\")\n",
    "g_plot, = plt.plot(n, g, 'bo', label=\"$g(n) = 2\\cdot n^3$\")\n",
    "\n",
    "legend = plt.legend(handles=[f_plot, g_plot], loc=2)\n",
    "\n",
    "line = plt.plot((22, 22), (0, 150000), 'k--')\n",
    "\n",
    "label = plt.text(52, 75000, \"$\\\\forall_{n\\geq 22}$   $g(n) > f(n)$ \\n\\n\"\n",
    "                            \"$f(n) \\in O(n^3)$\", fontsize=20)"
   ]
  },
  {
   "cell_type": "code",
   "execution_count": 38,
   "metadata": {
    "collapsed": false,
    "slideshow": {
     "slide_type": "-"
    }
   },
   "outputs": [
    {
     "data": {
      "image/png": "[encoded data removed]",
      "text/plain": [
       "<matplotlib.figure.Figure at 0x7f44113154a8>"
      ]
     },
     "metadata": {},
     "output_type": "display_data"
    }
   ],
   "source": [
    "plt.show()"
   ]
  },
  {
   "cell_type": "markdown",
   "metadata": {
    "slideshow": {
     "slide_type": "slide"
    }
   },
   "source": [
    "## Przykłady rzędów złożoności - $O(1)$\n",
    "\n",
    "---\n",
    "\n",
    "* Proste operacje: arytmetyczne, logiczne, porównania, przypisania, dostęp do struktury danych"
   ]
  },
  {
   "cell_type": "code",
   "execution_count": 39,
   "metadata": {
    "collapsed": true,
    "slideshow": {
     "slide_type": "-"
    }
   },
   "outputs": [],
   "source": [
    "def constant(n):\n",
    "    return n*n # jedna operacja -> O(1)"
   ]
  },
  {
   "cell_type": "markdown",
   "metadata": {
    "slideshow": {
     "slide_type": "subslide"
    }
   },
   "source": [
    "## Przykłady rzędów złożoności - $O(n)$\n",
    "\n",
    "---"
   ]
  },
  {
   "cell_type": "code",
   "execution_count": 40,
   "metadata": {
    "collapsed": true,
    "slideshow": {
     "slide_type": "-"
    }
   },
   "outputs": [],
   "source": [
    "def linear(n):\n",
    "    result = 0 # 1 * operacja\n",
    "    for element in n:     # n * operacja\n",
    "        result += element # n * operacja\n",
    "        result *= 0.1     # n * operacja\n",
    "    return suma"
   ]
  },
  {
   "cell_type": "markdown",
   "metadata": {
    "slideshow": {
     "slide_type": "-"
    }
   },
   "source": [
    "* ostatecznie mamy $3n + 1$ operacji, więc złożoność asymptotyczna -> $O(n)$"
   ]
  },
  {
   "cell_type": "markdown",
   "metadata": {
    "slideshow": {
     "slide_type": "subslide"
    }
   },
   "source": [
    "## Przykłady rzędów złożoności - $O(n)$\n",
    "\n",
    "---"
   ]
  },
  {
   "cell_type": "code",
   "execution_count": 41,
   "metadata": {
    "collapsed": true,
    "slideshow": {
     "slide_type": "-"
    }
   },
   "outputs": [],
   "source": [
    "def linear(n):\n",
    "    for element in n:\n",
    "        if element == 0:\n",
    "            return True\n",
    "    return False"
   ]
  },
  {
   "cell_type": "markdown",
   "metadata": {
    "slideshow": {
     "slide_type": "-"
    }
   },
   "source": [
    "* złożoność asymptotyczna -> $O(n)$\n",
    "* może być lepsza (nawet $O(1)$), ale w najgorszym wypadku będzie *n* operacji"
   ]
  },
  {
   "cell_type": "markdown",
   "metadata": {
    "slideshow": {
     "slide_type": "subslide"
    }
   },
   "source": [
    "## Przykłady rzędów złożoności - $O(n + m)$\n",
    "\n",
    "---"
   ]
  },
  {
   "cell_type": "code",
   "execution_count": 42,
   "metadata": {
    "collapsed": true,
    "slideshow": {
     "slide_type": "-"
    }
   },
   "outputs": [],
   "source": [
    "def linear(n, m):\n",
    "    result = 0\n",
    "    \n",
    "    for element in n:\n",
    "        result += element\n",
    "    \n",
    "    for element in n:\n",
    "        result += element\n",
    "        \n",
    "    return result"
   ]
  },
  {
   "cell_type": "markdown",
   "metadata": {
    "slideshow": {
     "slide_type": "-"
    }
   },
   "source": [
    "* dwie pętle: $O(n)$ i $O(m)$\n",
    "* złożoność asymptotyczna $O(n+m)$"
   ]
  },
  {
   "cell_type": "markdown",
   "metadata": {
    "slideshow": {
     "slide_type": "subslide"
    }
   },
   "source": [
    "## Przykłady rzędów złożoności - $O(n^2)$\n",
    "\n",
    "---"
   ]
  },
  {
   "cell_type": "code",
   "execution_count": 43,
   "metadata": {
    "collapsed": true,
    "slideshow": {
     "slide_type": "-"
    }
   },
   "outputs": [],
   "source": [
    "def quadratic(n):\n",
    "    result = 0\n",
    "    for i in range(n):\n",
    "        for j in range(i, n):\n",
    "            result += 1\n",
    "    return result"
   ]
  },
  {
   "cell_type": "markdown",
   "metadata": {
    "slideshow": {
     "slide_type": "-"
    }
   },
   "source": [
    "* pętla zewnętrzna -> $n$ razy\n",
    "* pętla wewnętrzna -> $(n-i)$ razy\n",
    "* w sumie $1 + 2 + ... + n = \\frac{n\\cdot(n + 1)}{2} = \\frac{1}{2}n^2 + \\frac{1}{2}n$\n",
    "* złożoność asymptotyczna: $O(n^2) + O(n) = O(n^2)$"
   ]
  },
  {
   "cell_type": "markdown",
   "metadata": {
    "slideshow": {
     "slide_type": "subslide"
    }
   },
   "source": [
    "## Przykłady rzędów złożności - $O(\\log n)$\n",
    "\n",
    "---"
   ]
  },
  {
   "cell_type": "code",
   "execution_count": 44,
   "metadata": {
    "collapsed": true,
    "slideshow": {
     "slide_type": "-"
    }
   },
   "outputs": [],
   "source": [
    "def logarithmic(n):\n",
    "    result = 0\n",
    "    while n > 1:\n",
    "        n //= 2\n",
    "        result += 1\n",
    "    return result"
   ]
  },
  {
   "cell_type": "markdown",
   "metadata": {
    "slideshow": {
     "slide_type": "-"
    }
   },
   "source": [
    "* w każdej iteracji zmniejszamy $n$ dwukrotnie\n",
    "* jeśli $n = 2^x$, to wykonamy $\\log n$ operacji\n",
    "* algorytm jest $O(\\log n)$"
   ]
  },
  {
   "cell_type": "markdown",
   "metadata": {
    "slideshow": {
     "slide_type": "subslide"
    }
   },
   "source": [
    "## Porównanie złożoności\n",
    "\n",
    "---"
   ]
  },
  {
   "cell_type": "code",
   "execution_count": 45,
   "metadata": {
    "collapsed": false,
    "slideshow": {
     "slide_type": "skip"
    }
   },
   "outputs": [],
   "source": [
    "import numpy as np\n",
    "import matplotlib.pyplot as plt\n",
    "from math import log\n",
    "\n",
    "n = np.arange(1, 100, 1)  # kolejne liczby naturalne\n",
    "f = [n for n in n]        # zależność liniowa\n",
    "g = [n**2 for n in n]     # zależność kwadratowa\n",
    "h = [log(n) for n in n]   # zależność logarytmiczna\n",
    "i = [n*log(n) for n in n] # zależność liniowo-logarytmiczna\n",
    "\n",
    "g_plot, = plt.plot(n, g, 'b.', label=\"$n^2$\")\n",
    "i_plot, = plt.plot(n, i, 'k.', label=\"$n\\log n$\")\n",
    "f_plot, = plt.plot(n, f, 'r.', label=\"$n$\")\n",
    "h_plot, = plt.plot(n, h, 'g.', label=\"$\\log n$\")\n",
    "\n",
    "plt.yscale(\"log\")\n",
    "\n",
    "legend = plt.legend(bbox_to_anchor=(1.05, 1), loc=2, borderaxespad=0.)"
   ]
  },
  {
   "cell_type": "code",
   "execution_count": 46,
   "metadata": {
    "collapsed": false,
    "slideshow": {
     "slide_type": "-"
    }
   },
   "outputs": [
    {
     "data": {
      "image/png": "[encoded data removed]",
      "text/plain": [
       "<matplotlib.figure.Figure at 0x7f43dff85dd8>"
      ]
     },
     "metadata": {},
     "output_type": "display_data"
    }
   ],
   "source": [
    "plt.show()"
   ]
  },
  {
   "cell_type": "code",
   "execution_count": 47,
   "metadata": {
    "collapsed": true,
    "slideshow": {
     "slide_type": "skip"
    }
   },
   "outputs": [],
   "source": [
    "# na wszelki wypadek do testów sortowania dużych tablic\n",
    "import sys\n",
    "sys.setrecursionlimit(10000)"
   ]
  },
  {
   "cell_type": "markdown",
   "metadata": {
    "slideshow": {
     "slide_type": "slide"
    }
   },
   "source": [
    "## Sortowanie bąbelkowe (*bubble sort*)\n",
    "\n",
    "---\n",
    "\n",
    "1. porównuj cyklicznie dwa sąsiadujące elementy\n",
    "2. zmień kolejność jeśli zaburzają porządek\n",
    "3. przerwij, jeśli nie ma co zmieniać"
   ]
  },
  {
   "cell_type": "markdown",
   "metadata": {
    "slideshow": {
     "slide_type": "subslide"
    }
   },
   "source": [
    "## Sortowanie bąbelkowe - przykład\n",
    "\n",
    "---\n",
    "\n",
    "[<b style='color:red'>3</b>, <b style='color:red'>6</b>, 4, 2] --> [3, <b style='color:blue'>6</b>, <b style='color:blue'>4</b>, 2] --> [3, 4, <b style='color:blue'>6</b>, <b style='color:blue'>2</b>] --> [3, 4, 2, 6]\n",
    "\n",
    "[<b style='color:red'>3</b>, <b style='color:red'>4</b>, 2, 6] --> [3, <b style='color:blue'>4</b>, <b style='color:blue'>2</b>, 6] --> [3, 2, <b style='color:red'>4</b>, <b style='color:red'>6</b>] --> [3, 2, 4, 6]\n",
    "\n",
    "[<b style='color:blue'>3</b>, <b style='color:blue'>2</b>, 4, 6] --> [2, <b style='color:red'>3</b>, <b style='color:red'>4</b>, 6] --> [2, 3, <b style='color:red'>4</b>, <b style='color:red'>6</b>] --> [2, 3, 4, 6]\n",
    "\n",
    "[<b style='color:red'>2</b>, <b style='color:red'>3</b>, 4, 6] --> [2, <b style='color:red'>3</b>, <b style='color:red'>4</b>, 6] --> [2, 3, <b style='color:red'>4</b>, <b style='color:red'>6</b>] --> [2, 3, 4, 6]\n",
    "\n",
    "*(brak zmian -> koniec)*"
   ]
  },
  {
   "cell_type": "markdown",
   "metadata": {
    "slideshow": {
     "slide_type": "subslide"
    }
   },
   "source": [
    "## Implementacja\n",
    "\n",
    "---"
   ]
  },
  {
   "cell_type": "code",
   "execution_count": 48,
   "metadata": {
    "collapsed": true,
    "slideshow": {
     "slide_type": "-"
    }
   },
   "outputs": [],
   "source": [
    "def bubblesort(lst):\n",
    "    \"\"\"Sortuje podaną listę.\"\"\"\n",
    "    n = len(lst) # liczba elementów\n",
    "    while True:  # powtarzaj do break\n",
    "        swapped = False # ustaw flagę na fałsz\n",
    "        for i in range(n-1): # pętla od 0 do n-2\n",
    "            if lst[i] > lst[i+1]: # porządek zaburzony\n",
    "                lst[i], lst[i+1] = lst[i+1], lst[i] # podmień\n",
    "                swapped = True # ustaw flagę na prawdę\n",
    "        if not swapped: # przerwij jeśli nie było zmian\n",
    "            break"
   ]
  },
  {
   "cell_type": "code",
   "execution_count": 49,
   "metadata": {
    "collapsed": false,
    "slideshow": {
     "slide_type": "-"
    }
   },
   "outputs": [
    {
     "name": "stdout",
     "output_type": "stream",
     "text": [
      "[2, 3, 4, 6]\n"
     ]
    }
   ],
   "source": [
    "x = [3, 6, 4, 2]\n",
    "\n",
    "bubblesort(x)\n",
    "     \n",
    "print(x)"
   ]
  },
  {
   "cell_type": "markdown",
   "metadata": {
    "slideshow": {
     "slide_type": "subslide"
    }
   },
   "source": [
    "## Krok po kroku\n",
    "\n",
    "---"
   ]
  },
  {
   "cell_type": "code",
   "execution_count": 50,
   "metadata": {
    "collapsed": true,
    "slideshow": {
     "slide_type": "-"
    }
   },
   "outputs": [],
   "source": [
    "def bubblesort_v1(lst):\n",
    "    \"\"\"Sortuje podaną listę.\"\"\"\n",
    "    n = len(lst) # liczba elementów\n",
    "    while True:  # powtarzaj do break\n",
    "        swapped = False # ustaw flagę na fałsz\n",
    "        print(lst, end=' ')\n",
    "        for i in range(n-1): # pętla od 0 do n-2\n",
    "            if lst[i] > lst[i+1]: # porządek zaburzony\n",
    "                lst[i], lst[i+1] = lst[i+1], lst[i] # podmień\n",
    "                swapped = True # ustaw flagę na prawdę\n",
    "            print(\"->\", lst, end=' ')\n",
    "        print()\n",
    "        if not swapped: # przerwij jeśli nie było zmian\n",
    "            break"
   ]
  },
  {
   "cell_type": "code",
   "execution_count": 51,
   "metadata": {
    "collapsed": false,
    "slideshow": {
     "slide_type": "-"
    }
   },
   "outputs": [
    {
     "name": "stdout",
     "output_type": "stream",
     "text": [
      "[3, 6, 4, 2] -> [3, 6, 4, 2] -> [3, 4, 6, 2] -> [3, 4, 2, 6] \n",
      "[3, 4, 2, 6] -> [3, 4, 2, 6] -> [3, 2, 4, 6] -> [3, 2, 4, 6] \n",
      "[3, 2, 4, 6] -> [2, 3, 4, 6] -> [2, 3, 4, 6] -> [2, 3, 4, 6] \n",
      "[2, 3, 4, 6] -> [2, 3, 4, 6] -> [2, 3, 4, 6] -> [2, 3, 4, 6] \n"
     ]
    }
   ],
   "source": [
    "bubblesort_v1([3, 6, 4, 2])"
   ]
  },
  {
   "cell_type": "markdown",
   "metadata": {
    "slideshow": {
     "slide_type": "subslide"
    }
   },
   "source": [
    "## Optymalizacja I\n",
    "\n",
    "---"
   ]
  },
  {
   "cell_type": "code",
   "execution_count": 52,
   "metadata": {
    "collapsed": true,
    "slideshow": {
     "slide_type": "-"
    }
   },
   "outputs": [],
   "source": [
    "def bubblesort_v2(lst):\n",
    "    \"\"\"Sortuje podaną listę.\"\"\"\n",
    "    n = len(lst) # liczba elementów\n",
    "    while True:  # powtarzaj do break\n",
    "        swapped = False # ustaw flagę na fałsz\n",
    "        print(lst, end=' ')\n",
    "        for i in range(n-1): # pętla od 0 do n-2\n",
    "            if lst[i] > lst[i+1]: # porządek zaburzony\n",
    "                lst[i], lst[i+1] = lst[i+1], lst[i] # podmień\n",
    "                swapped = True # ustaw flagę na prawdę\n",
    "            print(\"->\", lst, end=' ')\n",
    "        print()\n",
    "        if not swapped: # przerwij jeśli nie było zmian\n",
    "            break\n",
    "        n -= 1 # n-te przejście -> n-ty największy na miejscu"
   ]
  },
  {
   "cell_type": "code",
   "execution_count": 53,
   "metadata": {
    "collapsed": false,
    "slideshow": {
     "slide_type": "-"
    }
   },
   "outputs": [
    {
     "name": "stdout",
     "output_type": "stream",
     "text": [
      "[3, 6, 4, 2] -> [3, 6, 4, 2] -> [3, 4, 6, 2] -> [3, 4, 2, 6] \n",
      "[3, 4, 2, 6] -> [3, 4, 2, 6] -> [3, 2, 4, 6] \n",
      "[3, 2, 4, 6] -> [2, 3, 4, 6] \n",
      "[2, 3, 4, 6] \n"
     ]
    }
   ],
   "source": [
    "bubblesort_v2([3, 6, 4, 2])"
   ]
  },
  {
   "cell_type": "markdown",
   "metadata": {
    "slideshow": {
     "slide_type": "subslide"
    }
   },
   "source": [
    "## Optymalizacja II\n",
    "\n",
    "---"
   ]
  },
  {
   "cell_type": "code",
   "execution_count": 54,
   "metadata": {
    "collapsed": true,
    "slideshow": {
     "slide_type": "-"
    }
   },
   "outputs": [],
   "source": [
    "def bubblesort_v3(lst):\n",
    "    \"\"\"Sortuje podaną listę.\"\"\"\n",
    "    n = len(lst) # liczba elementów\n",
    "    while n > 0:\n",
    "        new_n = 0 # miejsce ostatniej zmiany\n",
    "        print(lst, end=' ')\n",
    "        for i in range(n-1): # pętla od 0 do n-2\n",
    "            if lst[i] > lst[i+1]: # porządek zaburzony\n",
    "                lst[i], lst[i+1] = lst[i+1], lst[i] # podmień\n",
    "                new_n = i + 1 # indeks ostatniej zmiany\n",
    "            print(\"->\", lst, end=' ')\n",
    "        print(\"new_n =\", new_n)\n",
    "        n = new_n # ostatnie przejście -> reszta musi być na miejscu"
   ]
  },
  {
   "cell_type": "code",
   "execution_count": 55,
   "metadata": {
    "collapsed": false,
    "slideshow": {
     "slide_type": "-"
    }
   },
   "outputs": [
    {
     "name": "stdout",
     "output_type": "stream",
     "text": [
      "[3, 6, 4, 2] -> [3, 6, 4, 2] -> [3, 4, 6, 2] -> [3, 4, 2, 6] new_n = 3\n",
      "[3, 4, 2, 6] -> [3, 4, 2, 6] -> [3, 2, 4, 6] new_n = 2\n",
      "[3, 2, 4, 6] -> [2, 3, 4, 6] new_n = 1\n",
      "[2, 3, 4, 6] new_n = 0\n"
     ]
    }
   ],
   "source": [
    "bubblesort_v3([3, 6, 4, 2])"
   ]
  },
  {
   "cell_type": "markdown",
   "metadata": {
    "slideshow": {
     "slide_type": "subslide"
    }
   },
   "source": [
    "## Złożoność *bubblesort*\n",
    "\n",
    "---\n",
    "\n",
    "* $n$ operacji -> co najmniej ostatni na swoim miejscu\n",
    "* $(n-1)$ operacji -> dwa ostatnie na swoim miejscu\n",
    "* $(n-2)$ operacji -> trzy na swoim miejscu itd...\n",
    "* $n + (n-1) + (n-2) + ... = O(n^2)$"
   ]
  },
  {
   "cell_type": "markdown",
   "metadata": {
    "slideshow": {
     "slide_type": "slide"
    }
   },
   "source": [
    "## Sortowanie przez scalanie (*mergesort*)\n",
    "\n",
    "---\n",
    "\n",
    "* podziel nieposortowaną listę na $n$ \"podlist\" zawierających po jednym elemencie\n",
    "* cyklicznie *scalaj* \"podlisty\" w posortowane \"podlisty\", aż zostanie jedna\n",
    "\n",
    "Start: [3, 6, 4, 2]\n",
    "\n",
    "Split: [3] [6] [4] [2]\n",
    "\n",
    "Merge: [3, 6] [2, 4]\n",
    "\n",
    "Merge: [2, 3, 4, 6]"
   ]
  },
  {
   "cell_type": "markdown",
   "metadata": {
    "slideshow": {
     "slide_type": "subslide"
    }
   },
   "source": [
    "## Algorytm scalania\n",
    "\n",
    "---\n",
    "\n",
    "* mając dwie uporządkowane listy\n",
    "* porównaj skrajne elementy i mniejszy zapisz w liście wyjściowej\n",
    "* powtarzaj dopóki jedna z list się nie skończy\n",
    "* resztę dopisz na koniec wyjściowej listy"
   ]
  },
  {
   "cell_type": "markdown",
   "metadata": {
    "slideshow": {
     "slide_type": "subslide"
    }
   },
   "source": [
    "## Algorytm scalania - przykład\n",
    "\n",
    "---\n",
    "\n",
    "[<b style='color:blue'>1</b>, 6, 7] + [<b style='color:red'>2</b>, 3, 4, 5, 8, 9] --> [1]\n",
    "\n",
    "[<b style='color:red'>6</b>, 7] + [<b style='color:blue'>2</b>, 4, 5, 8, 9] --> [1, 2]\n",
    "\n",
    "[<b style='color:red'>6</b>, 7] + [<b style='color:blue'>3</b>, 4, 5, 8, 9] --> [1, 2, 3]\n",
    "\n",
    "[<b style='color:red'>6</b>, 7] + [<b style='color:blue'>4</b>, 5, 8, 9] --> [1, 2, 3, 4]\n",
    "\n",
    "[<b style='color:red'>6</b>, 7] + [<b style='color:blue'>5</b>, 8, 9] --> [1, 2, 3, 4, 5]\n",
    "\n",
    "[<b style='color:red'>6</b>, 7] + [<b style='color:blue'>8</b>, 9] --> [1, 2, 3, 4, 5, 6]\n",
    "\n",
    "[<b style='color:blue'>7</b>] + [<b style='color:red'>8</b>, 9] --> [1, 2, 3, 4, 5, 6, 7]\n",
    "\n",
    "[] + [8, 9] --> [1, 2, 3, 4, 5, 6, 7, 8, 9]"
   ]
  },
  {
   "cell_type": "markdown",
   "metadata": {
    "slideshow": {
     "slide_type": "subslide"
    }
   },
   "source": [
    "## Algorytm scalania - implementacja\n",
    "\n",
    "---"
   ]
  },
  {
   "cell_type": "code",
   "execution_count": 56,
   "metadata": {
    "collapsed": true,
    "slideshow": {
     "slide_type": "-"
    }
   },
   "outputs": [],
   "source": [
    "def merge(A, B):\n",
    "    \"\"\"Scala posortowane listy zachowując porządek elementów.\"\"\"\n",
    "    result = [] # scalona lista\n",
    "    while len(A) and len(B): # dopoki obie mają elementy\n",
    "        # dodaj mniejszy element (usuwając go jednocześnie z listy)\n",
    "        if A[0] < B[0]:\n",
    "            result.append(A.pop(0))\n",
    "        else:\n",
    "            result.append(B.pop(0))\n",
    "    \n",
    "    result.extend(A) # dodaj resztę \n",
    "    result.extend(B) # (jeśli została)\n",
    "        \n",
    "    return result"
   ]
  },
  {
   "cell_type": "code",
   "execution_count": 57,
   "metadata": {
    "collapsed": false,
    "slideshow": {
     "slide_type": "-"
    }
   },
   "outputs": [
    {
     "data": {
      "text/plain": [
       "[1, 2, 3, 4, 5, 6, 7, 8, 9]"
      ]
     },
     "execution_count": 57,
     "metadata": {},
     "output_type": "execute_result"
    }
   ],
   "source": [
    "merge([1, 6, 7], [2, 3, 4, 5, 8, 9])"
   ]
  },
  {
   "cell_type": "markdown",
   "metadata": {
    "slideshow": {
     "slide_type": "subslide"
    }
   },
   "source": [
    "## Sortowanie przez scalanie - przykład\n",
    "\n",
    "---\n",
    "\n",
    "Start: [1, 4, 2, 5, 6, 3, 9, 7, 8]\n",
    "\n",
    "Split: [1] [4] [2] [5] [6] [3] [9] [7] [8]\n",
    "\n",
    "Merge: [1, 4] [2, 5] [3, 6] [7, 9] [8]\n",
    "\n",
    "Merge: [1, 2, 4, 5] [3, 6, 7, 9] [8]\n",
    "\n",
    "Merge: [1, 2, 3, 4, 5, 6, 7, 9] [8]\n",
    "\n",
    "Merge: [1, 2, 3, 4, 5, 6, 7, 8, 9]"
   ]
  },
  {
   "cell_type": "markdown",
   "metadata": {
    "slideshow": {
     "slide_type": "subslide"
    }
   },
   "source": [
    "## Sortowanie przez scalanie - implementacja\n",
    "\n",
    "---"
   ]
  },
  {
   "cell_type": "code",
   "execution_count": 58,
   "metadata": {
    "collapsed": true,
    "slideshow": {
     "slide_type": "-"
    }
   },
   "outputs": [],
   "source": [
    "def mergesort(lst):\n",
    "    \"\"\"Sortuje podaną listę.\"\"\"\n",
    "    if len(lst) < 2: # lista jednoelementowa\n",
    "        return lst   # nie wymaga sortowania\n",
    "    \n",
    "    middle = len(lst) // 2 # środek listy\n",
    "    \n",
    "    left = mergesort(lst[:middle])  # dziel na dwie części\n",
    "    right = mergesort(lst[middle:]) # i wywołaj merge_sort (rekurencja)\n",
    "    \n",
    "    return merge(left, right) # scal dwie listy"
   ]
  },
  {
   "cell_type": "code",
   "execution_count": 59,
   "metadata": {
    "collapsed": false,
    "slideshow": {
     "slide_type": "-"
    }
   },
   "outputs": [
    {
     "data": {
      "text/plain": [
       "[1, 2, 3, 4, 5, 6, 7, 8, 9]"
      ]
     },
     "execution_count": 59,
     "metadata": {},
     "output_type": "execute_result"
    }
   ],
   "source": [
    "mergesort([1, 4, 2, 5, 6, 3, 9, 7, 8])"
   ]
  },
  {
   "cell_type": "markdown",
   "metadata": {
    "slideshow": {
     "slide_type": "subslide"
    }
   },
   "source": [
    "## Krok po kroku\n",
    "\n",
    "---"
   ]
  },
  {
   "cell_type": "code",
   "execution_count": 60,
   "metadata": {
    "collapsed": true,
    "slideshow": {
     "slide_type": "-"
    }
   },
   "outputs": [],
   "source": [
    "def mergesort_p(lst):\n",
    "    \"\"\"Sortuje podaną listę.\"\"\"\n",
    "    if len(lst) < 2: # lista jednoelementowa\n",
    "        return lst   # nie wymaga sortowania\n",
    "    \n",
    "    middle = len(lst) // 2 # środek listy\n",
    "    \n",
    "    left = mergesort_p(lst[:middle])  # dziel na dwie części\n",
    "    right = mergesort_p(lst[middle:]) # i wywołaj merge_sort (rekurencja)\n",
    "    \n",
    "    # drukuj obecny stan\n",
    "    # użyj kopii, żeby nie modyfikowac tablic\n",
    "    print(\"left =\", left, \"\\tright =\", right,\n",
    "          \"\\t-->\", merge(left.copy(), right.copy()))\n",
    "    \n",
    "    return merge(left, right) # scal dwie listy"
   ]
  },
  {
   "cell_type": "markdown",
   "metadata": {
    "slideshow": {
     "slide_type": "subslide"
    }
   },
   "source": [
    "## Krok po kroku\n",
    "\n",
    "---"
   ]
  },
  {
   "cell_type": "code",
   "execution_count": 61,
   "metadata": {
    "collapsed": false,
    "slideshow": {
     "slide_type": "-"
    }
   },
   "outputs": [
    {
     "name": "stdout",
     "output_type": "stream",
     "text": [
      "left = [1] \tright = [4] \t--> [1, 4]\n",
      "left = [2] \tright = [5] \t--> [2, 5]\n",
      "left = [1, 4] \tright = [2, 5] \t--> [1, 2, 4, 5]\n",
      "left = [6] \tright = [3] \t--> [3, 6]\n",
      "left = [7] \tright = [8] \t--> [7, 8]\n",
      "left = [9] \tright = [7, 8] \t--> [7, 8, 9]\n",
      "left = [3, 6] \tright = [7, 8, 9] \t--> [3, 6, 7, 8, 9]\n",
      "left = [1, 2, 4, 5] \tright = [3, 6, 7, 8, 9] \t--> [1, 2, 3, 4, 5, 6, 7, 8, 9]\n"
     ]
    },
    {
     "data": {
      "text/plain": [
       "[1, 2, 3, 4, 5, 6, 7, 8, 9]"
      ]
     },
     "execution_count": 61,
     "metadata": {},
     "output_type": "execute_result"
    }
   ],
   "source": [
    "mergesort_p([1, 4, 2, 5, 6, 3, 9, 7, 8])"
   ]
  },
  {
   "cell_type": "markdown",
   "metadata": {
    "slideshow": {
     "slide_type": "subslide"
    }
   },
   "source": [
    "## Złożoność *mergesort*\n",
    "\n",
    "---\n",
    "\n",
    "* $\\log_2 n + 1$ *poziomów*\n",
    "* na każdym $n$ operacji\n",
    "* złożoność czasowa -> $O(n\\cdot\\log n)$\n",
    "* złożoność pamięciowa -> $O(n)$"
   ]
  },
  {
   "cell_type": "markdown",
   "metadata": {
    "slideshow": {
     "slide_type": "slide"
    }
   },
   "source": [
    "## Sortowanie szybkie (*quicksort*)\n",
    "\n",
    "---\n",
    "\n",
    "* wybierz element rozdzielający (*pivot*)\n",
    "* elementy nie większe przenieś \"na lewo\", resztę \"na prawo\"\n",
    "* powtórz rekurencyjnie dla części \"lewej\" i \"prawej\""
   ]
  },
  {
   "cell_type": "markdown",
   "metadata": {
    "slideshow": {
     "slide_type": "subslide"
    }
   },
   "source": [
    "## Sortowanie szybkie - przykład\n",
    "\n",
    "---\n",
    "\n",
    "[1, 4, 2, 5, **6**, 3, 9, 7, 8] -> [<font style='color:blue'>1, 4, 2, 5, 3</font>, **6**, <font style='color:green'>9, 7, 8</font>]\n",
    "\n",
    "<font style='color:blue'>[1, 4, **2**, 5, 3]</font> -> [1, **2**, <font style='color:red'>4, 5, 3</font>]\n",
    "\n",
    "<font style='color:red'>[4, **5**, 3]</font> -> [<font style='color:purple'>4, 3</font>, **5**]\n",
    "\n",
    "<font style='color:purple'>[4, **3**]</font> -> [**3**, 4]\n",
    "\n",
    "<font style='color:green'>[9, **7**, 8]</font> -> [**7**, <font style='color:orange'>9, 8</font>]\n",
    "\n",
    "<font style='color:orange'>[**9**, 8]</font> -> [8, **9**]\n"
   ]
  },
  {
   "cell_type": "markdown",
   "metadata": {
    "slideshow": {
     "slide_type": "subslide"
    }
   },
   "source": [
    "## Sortowanie szybkie - *pivot*\n",
    "\n",
    "---\n",
    "\n",
    "* kluczowy jest wybór elementu rozdzielającego \n",
    "* przeciętnie, złożoność algorytmu $O(n\\cdot\\log n)$, gdy dzielimy dane na mniej więcej dwa równe podzbiory\n",
    "* gdy *pivot* jest wartością skrajną, to mamy jeden podzbiór $1$-elementowy i drugi $(n-1)$-elementowy; wtedy złożoność algorytmu $O(n^2)$"
   ]
  },
  {
   "cell_type": "markdown",
   "metadata": {
    "slideshow": {
     "slide_type": "subslide"
    }
   },
   "source": [
    "## *pivot* - wybór\n",
    "\n",
    "---\n",
    "\n",
    "* stały element: brzeg lub środek -> kiepski wybór\n",
    "* losowy -> teoretycznie kiepski, ale w praktyce się sprawdza\n",
    "* mediana -> dobry wybór, ale kosztowny\n",
    "* *mediana z trzech* -> mediana z pierwszego, ostatniego i środkowego"
   ]
  },
  {
   "cell_type": "markdown",
   "metadata": {
    "slideshow": {
     "slide_type": "subslide"
    }
   },
   "source": [
    "## Implementacja *quicksort*\n",
    "\n",
    "---"
   ]
  },
  {
   "cell_type": "code",
   "execution_count": 62,
   "metadata": {
    "collapsed": true,
    "slideshow": {
     "slide_type": "-"
    }
   },
   "outputs": [],
   "source": [
    "# \"jednolinijkowy if\"- niezalecany (na potrzeby slajdu)\n",
    "def quicksort(lst):\n",
    "    \"\"\"Sortuje podaną listę.\"\"\"\n",
    "    if not len(lst): return lst # nie ma co sortować\n",
    "    \n",
    "    left, middle, right = [], [], [] # mniejsze, równe, większe\n",
    "    \n",
    "    pivot = lst[0] # kiepski wybór\n",
    "    \n",
    "    for x in lst:\n",
    "        if x < pivot: left.append(x)\n",
    "        elif x > pivot: right.append(x)\n",
    "        else: middle.append(x)\n",
    "            \n",
    "    # wywołaj rekurencyjnie dla \"lewej\" i \"prawej\" części\n",
    "    return quicksort(left) + middle + quicksort(right)"
   ]
  },
  {
   "cell_type": "code",
   "execution_count": 63,
   "metadata": {
    "collapsed": false,
    "slideshow": {
     "slide_type": "-"
    }
   },
   "outputs": [
    {
     "data": {
      "text/plain": [
       "[1, 2, 3, 4, 5, 6, 7, 8, 9]"
      ]
     },
     "execution_count": 63,
     "metadata": {},
     "output_type": "execute_result"
    }
   ],
   "source": [
    "quicksort([1, 4, 2, 5, 6, 3, 9, 7, 8])"
   ]
  },
  {
   "cell_type": "markdown",
   "metadata": {
    "slideshow": {
     "slide_type": "slide"
    }
   },
   "source": [
    "## *mergesort* vs *quicksort*\n",
    "\n",
    "---"
   ]
  },
  {
   "cell_type": "code",
   "execution_count": 64,
   "metadata": {
    "collapsed": false,
    "slideshow": {
     "slide_type": "-"
    }
   },
   "outputs": [],
   "source": [
    "import random\n",
    "\n",
    "# 1000 losowych liczb od 0 do 999\n",
    "x = random.sample(range(10000), 10000) \n",
    "y = x.copy()"
   ]
  },
  {
   "cell_type": "code",
   "execution_count": 65,
   "metadata": {
    "collapsed": false,
    "slideshow": {
     "slide_type": "-"
    }
   },
   "outputs": [
    {
     "name": "stdout",
     "output_type": "stream",
     "text": [
      "3 loops, best of 3: 44.7 ms per loop\n"
     ]
    }
   ],
   "source": [
    "%timeit -n3 quicksort(x)"
   ]
  },
  {
   "cell_type": "code",
   "execution_count": 66,
   "metadata": {
    "collapsed": false,
    "slideshow": {
     "slide_type": "-"
    }
   },
   "outputs": [
    {
     "name": "stdout",
     "output_type": "stream",
     "text": [
      "3 loops, best of 3: 114 ms per loop\n"
     ]
    }
   ],
   "source": [
    "%timeit -n3 mergesort(y)"
   ]
  },
  {
   "cell_type": "code",
   "execution_count": 67,
   "metadata": {
    "collapsed": false,
    "slideshow": {
     "slide_type": "-"
    }
   },
   "outputs": [
    {
     "name": "stdout",
     "output_type": "stream",
     "text": [
      "3 loops, best of 3: 97.1 ms per loop\n"
     ]
    }
   ],
   "source": [
    "%timeit -n3 quicksort(list(range(1000)))"
   ]
  },
  {
   "cell_type": "code",
   "execution_count": 68,
   "metadata": {
    "collapsed": false,
    "slideshow": {
     "slide_type": "-"
    }
   },
   "outputs": [
    {
     "name": "stdout",
     "output_type": "stream",
     "text": [
      "3 loops, best of 3: 5.73 ms per loop\n"
     ]
    }
   ],
   "source": [
    "%timeit -n3 mergesort(list(range(1000)))"
   ]
  },
  {
   "cell_type": "markdown",
   "metadata": {
    "slideshow": {
     "slide_type": "subslide"
    }
   },
   "source": [
    "## *bubblesort* vs *mergesort* vs *quicksort*\n",
    "\n",
    "---"
   ]
  },
  {
   "cell_type": "code",
   "execution_count": 69,
   "metadata": {
    "collapsed": true,
    "slideshow": {
     "slide_type": "skip"
    }
   },
   "outputs": [],
   "source": [
    "def bubblesort(lst):\n",
    "    \"\"\"Sortuje podaną listę.\"\"\"\n",
    "    n = len(lst) # liczba elementów\n",
    "    while n > 0:\n",
    "        new_n = 0 # miejsce ostatniej zmiany\n",
    "        for i in range(n-1): # pętla od 0 do n-2\n",
    "            if lst[i] > lst[i+1]: # porządek zaburzony\n",
    "                lst[i], lst[i+1] = lst[i+1], lst[i] # podmień\n",
    "                new_n = i + 1 # indeks ostatniej zmiany\n",
    "        n = new_n # ostatnie przejście -> reszta musi być na miejscu\n",
    "        \n",
    "def merge(A, B):\n",
    "    \"\"\"Scala posortowane listy zachowując porządek elementów.\"\"\"\n",
    "    result = [] # scalona lista\n",
    "    while len(A) and len(B): # dopoki obie mają elementy\n",
    "        # dodaj mniejszy element (usuwając go jednocześnie z listy)\n",
    "        if A[0] < B[0]:\n",
    "            result.append(A.pop(0))\n",
    "        else:\n",
    "            result.append(B.pop(0))\n",
    "    \n",
    "    result.extend(A) # dodaj resztę \n",
    "    result.extend(B) # (jeśli została)\n",
    "        \n",
    "    return result\n",
    "\n",
    "def mergesort(lst):\n",
    "    \"\"\"Sortuje podaną listę.\"\"\"\n",
    "    if len(lst) < 2: # lista jednoelementowa\n",
    "        return lst   # nie wymaga sortowania\n",
    "    \n",
    "    middle = len(lst) // 2 # środek listy\n",
    "    \n",
    "    left = mergesort(lst[:middle])  # dziel na dwie części\n",
    "    right = mergesort(lst[middle:]) # i wywołaj merge_sort (rekurencja)\n",
    "    \n",
    "    return merge(left, right) # scal dwie listy\n",
    "\n",
    "def quicksort(lst):\n",
    "    \"\"\"Sortuje podaną listę.\"\"\"\n",
    "    if not len(lst): # nie ma co sortować\n",
    "        return lst\n",
    "    \n",
    "    left = []   # elementy mniejsze\n",
    "    middle = [] # elementy równe\n",
    "    right = []  # elementy większe\n",
    "    \n",
    "    pivot = lst[0] # kiepski wybór\n",
    "    \n",
    "    for x in lst:\n",
    "        if x < pivot: left.append(x)\n",
    "        elif x > pivot: right.append(x)\n",
    "        else: middle.append(x)\n",
    "            \n",
    "    # wywołaj rekurencyjnie dla \"lewej\" i \"prawej\" części\n",
    "    return quicksort(left) + middle + quicksort(right)"
   ]
  },
  {
   "cell_type": "code",
   "execution_count": 70,
   "metadata": {
    "collapsed": false,
    "slideshow": {
     "slide_type": "-"
    }
   },
   "outputs": [],
   "source": [
    "from timeit import timeit\n",
    "import random\n",
    "\n",
    "sizes = [10, 50, 100, 500, 1000, 5000, 10000]\n",
    "bsort, msort, qsort = [], [], [] # wyniki timeit\n",
    "         \n",
    "for size in sizes:\n",
    "    x = random.sample(range(size), size)\n",
    "    y = x.copy()\n",
    "    z = x.copy()\n",
    "    \n",
    "    bs = timeit(\"bubblesort(x)\", number=1,\n",
    "                setup=\"from __main__ import bubblesort, x\")\n",
    "\n",
    "    ms = timeit(\"mergesort(y)\", number=1,\n",
    "                setup=\"from __main__ import mergesort, y\")\n",
    "\n",
    "    qs = timeit(\"quicksort(z)\", number=1,\n",
    "                setup=\"from __main__ import quicksort, z\")\n",
    "\n",
    "    bsort.append(bs)\n",
    "    msort.append(ms)\n",
    "    qsort.append(qs)"
   ]
  },
  {
   "cell_type": "markdown",
   "metadata": {
    "slideshow": {
     "slide_type": "subslide"
    }
   },
   "source": [
    "## *bubblesort* vs *mergesort* vs *quicksort*\n",
    "\n",
    "---"
   ]
  },
  {
   "cell_type": "code",
   "execution_count": 82,
   "metadata": {
    "collapsed": false,
    "slideshow": {
     "slide_type": "-"
    }
   },
   "outputs": [
    {
     "data": {
      "image/png": "[encoded data removed]",
      "text/plain": [
       "<matplotlib.figure.Figure at 0x7f44040c8668>"
      ]
     },
     "metadata": {},
     "output_type": "display_data"
    }
   ],
   "source": [
    "import matplotlib.pyplot as plt\n",
    "\n",
    "bs = plt.plot(sizes, bsort, 'bo', label=\"bubble\")\n",
    "ms = plt.plot(sizes, msort, 'ro', label=\"merge\")\n",
    "qs = plt.plot(sizes, qsort, 'go', label=\"quick\")\n",
    "\n",
    "plt.xscale(\"log\")\n",
    "plt.yscale(\"log\")\n",
    "\n",
    "legend = plt.legend(bbox_to_anchor=(1.05, 1), loc=2, borderaxespad=0.)\n",
    "\n",
    "plt.show()"
   ]
  },
  {
   "cell_type": "code",
   "execution_count": 1,
   "metadata": {
    "collapsed": false,
    "slideshow": {
     "slide_type": "skip"
    }
   },
   "outputs": [
    {
     "data": {
      "text/html": [
       "\n",
       "\n",
       "<style>\n",
       "\n",
       ".rendered_html code {\n",
       "  font-size: 75%;\n",
       "}\n",
       "\n",
       "</style>\n",
       "\n"
      ],
      "text/plain": [
       "<IPython.core.display.HTML object>"
      ]
     },
     "metadata": {},
     "output_type": "display_data"
    }
   ],
   "source": [
    "# css prezentacji\n",
    "\n",
    "\n",
    "from IPython.display import display, HTML\n",
    "\n",
    "s = \"\"\"\n",
    "\n",
    "<style>\n",
    "\n",
    ".rendered_html code {\n",
    "  font-size: 75%;\n",
    "}\n",
    "\n",
    "</style>\n",
    "\n",
    "\"\"\"\n",
    "\n",
    "display(HTML(s))"
   ]
  }
 ],
 "metadata": {
  "anaconda-cloud": {},
  "celltoolbar": "Slideshow",
  "kernelspec": {
   "display_name": "Python [conda root]",
   "language": "python",
   "name": "conda-root-py"
  },
  "language_info": {
   "codemirror_mode": {
    "name": "ipython",
    "version": 3
   },
   "file_extension": ".py",
   "mimetype": "text/x-python",
   "name": "python",
   "nbconvert_exporter": "python",
   "pygments_lexer": "ipython3",
   "version": "3.5.2"
  }
 },
 "nbformat": 4,
 "nbformat_minor": 1
}
