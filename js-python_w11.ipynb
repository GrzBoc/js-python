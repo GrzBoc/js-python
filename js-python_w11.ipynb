{
 "cells": [
  {
   "cell_type": "markdown",
   "metadata": {
    "slideshow": {
     "slide_type": "slide"
    }
   },
   "source": [
    "# Języki skryptowe - Python\n",
    "## Wykład 11\n",
    "\n",
    "---\n",
    "\n",
    "* programowania obiektowego ciąg dalszy"
   ]
  },
  {
   "cell_type": "markdown",
   "metadata": {
    "slideshow": {
     "slide_type": "slide"
    }
   },
   "source": [
    "## Na ostatnim wykładzie\n",
    "\n",
    "---\n",
    "\n",
    "* klasy pozwalają na definiowanie własnych typów\n",
    "* funkcje specjalne - definiowanie działania operatorów lub wywołań funkcji wbudowanych (*print*, *len*...)\n",
    "* nie ma \"pełnej prywatności\"\n",
    "* atrybuty klasowe"
   ]
  },
  {
   "cell_type": "markdown",
   "metadata": {
    "slideshow": {
     "slide_type": "slide"
    }
   },
   "source": [
    "## Konwencja *self*\n",
    "\n",
    "---\n",
    "\n",
    "* pierwszym argumentem każdej metody jest wskaźnik na obiekt\n",
    "* przyjęto nazywać ten argument *self* (choć nic nie stoi na przeszkodzie, żeby używać innej nazwy)"
   ]
  },
  {
   "cell_type": "markdown",
   "metadata": {
    "slideshow": {
     "slide_type": "subslide"
    }
   },
   "source": [
    "## *self* test\n",
    "\n",
    "---"
   ]
  },
  {
   "cell_type": "code",
   "execution_count": 1,
   "metadata": {
    "collapsed": true,
    "slideshow": {
     "slide_type": "-"
    }
   },
   "outputs": [],
   "source": [
    "class Foo:\n",
    "    \n",
    "    def moja_metoda(): # błąd\n",
    "        pass"
   ]
  },
  {
   "cell_type": "code",
   "execution_count": 2,
   "metadata": {
    "collapsed": false,
    "slideshow": {
     "slide_type": "-"
    }
   },
   "outputs": [
    {
     "ename": "TypeError",
     "evalue": "moja_metoda() takes 0 positional arguments but 1 was given",
     "output_type": "error",
     "traceback": [
      "\u001b[1;31m---------------------------------------------------------------------------\u001b[0m",
      "\u001b[1;31mTypeError\u001b[0m                                 Traceback (most recent call last)",
      "\u001b[1;32m<ipython-input-2-d5d408a69202>\u001b[0m in \u001b[0;36m<module>\u001b[1;34m()\u001b[0m\n\u001b[0;32m      1\u001b[0m \u001b[0mx\u001b[0m \u001b[1;33m=\u001b[0m \u001b[0mFoo\u001b[0m\u001b[1;33m(\u001b[0m\u001b[1;33m)\u001b[0m\u001b[1;33m\u001b[0m\u001b[0m\n\u001b[1;32m----> 2\u001b[1;33m \u001b[0mx\u001b[0m\u001b[1;33m.\u001b[0m\u001b[0mmoja_metoda\u001b[0m\u001b[1;33m(\u001b[0m\u001b[1;33m)\u001b[0m\u001b[1;33m\u001b[0m\u001b[0m\n\u001b[0m\u001b[0;32m      3\u001b[0m \u001b[1;31m# bo x jest pierwszym argumentem pozycyjnym!\u001b[0m\u001b[1;33m\u001b[0m\u001b[1;33m\u001b[0m\u001b[0m\n",
      "\u001b[1;31mTypeError\u001b[0m: moja_metoda() takes 0 positional arguments but 1 was given"
     ]
    }
   ],
   "source": [
    "x = Foo()\n",
    "x.moja_metoda()\n",
    "# bo x jest pierwszym argumentem pozycyjnym!"
   ]
  },
  {
   "cell_type": "markdown",
   "metadata": {
    "slideshow": {
     "slide_type": "subslide"
    }
   },
   "source": [
    "## Funkcja globalna\n",
    "\n",
    "---"
   ]
  },
  {
   "cell_type": "code",
   "execution_count": 3,
   "metadata": {
    "collapsed": true,
    "slideshow": {
     "slide_type": "-"
    }
   },
   "outputs": [],
   "source": [
    "class Foo:\n",
    "    \n",
    "    def __init__(self): # \"konstruktor\"\n",
    "        self.bar = False\n",
    "        \n",
    "    def __str__(self): # print\n",
    "        return \"Foobar = {}\".format(self.bar)\n",
    "    \n",
    "def funkcja(obiekt):  # funkcja globalna\n",
    "    obiekt.bar = True # ustaw flagę bar"
   ]
  },
  {
   "cell_type": "code",
   "execution_count": 4,
   "metadata": {
    "collapsed": false,
    "slideshow": {
     "slide_type": "-"
    }
   },
   "outputs": [
    {
     "name": "stdout",
     "output_type": "stream",
     "text": [
      "Foobar = False\n",
      "Foobar = True\n"
     ]
    }
   ],
   "source": [
    "x = Foo() # stwórz obiekt typu Foo\n",
    "\n",
    "print(x)\n",
    "\n",
    "funkcja(x) # globalna na x\n",
    "\n",
    "print(x)"
   ]
  },
  {
   "cell_type": "markdown",
   "metadata": {
    "slideshow": {
     "slide_type": "subslide"
    }
   },
   "source": [
    "## Metoda z funkcji globalnej\n",
    "\n",
    "---"
   ]
  },
  {
   "cell_type": "code",
   "execution_count": 5,
   "metadata": {
    "collapsed": true,
    "slideshow": {
     "slide_type": "-"
    }
   },
   "outputs": [],
   "source": [
    "class Foo:\n",
    "    \n",
    "    def __init__(self): # \"konstruktor\"\n",
    "        self.bar = False\n",
    "        \n",
    "    def __str__(self): # print\n",
    "        return \"Foobar = {}\".format(self.bar)\n",
    "    \n",
    "    def funkcja(obiekt):  # metoda\n",
    "        obiekt.bar = True # ustaw flagę bar"
   ]
  },
  {
   "cell_type": "code",
   "execution_count": 6,
   "metadata": {
    "collapsed": false,
    "slideshow": {
     "slide_type": "-"
    }
   },
   "outputs": [
    {
     "name": "stdout",
     "output_type": "stream",
     "text": [
      "Foobar = False\n",
      "Foobar = True\n"
     ]
    }
   ],
   "source": [
    "x = Foo() # stwórz obiekt typu Foo\n",
    "\n",
    "print(x)\n",
    "\n",
    "x.funkcja() # metoda (x jest arg pozycyjnym)\n",
    "\n",
    "print(x)"
   ]
  },
  {
   "cell_type": "markdown",
   "metadata": {
    "slideshow": {
     "slide_type": "slide"
    }
   },
   "source": [
    "## Punkt\n",
    "\n",
    "---"
   ]
  },
  {
   "cell_type": "code",
   "execution_count": 7,
   "metadata": {
    "collapsed": true,
    "slideshow": {
     "slide_type": "-"
    }
   },
   "outputs": [],
   "source": [
    "class Punkt:\n",
    "    \n",
    "    def __init__(self, x=0.0, y=0.0):\n",
    "        self.x = x # odcięta \n",
    "        self.y = y # rzędna\n",
    "        \n",
    "    def __str__(self): # (x, y)\n",
    "        return \"({}, {})\".format(self.x, self.y)"
   ]
  },
  {
   "cell_type": "code",
   "execution_count": 8,
   "metadata": {
    "collapsed": false,
    "slideshow": {
     "slide_type": "-"
    }
   },
   "outputs": [
    {
     "name": "stdout",
     "output_type": "stream",
     "text": [
      "(1.0, 2.0)\n"
     ]
    }
   ],
   "source": [
    "x = Punkt(1.0, 2.0) \n",
    "\n",
    "print(x)"
   ]
  },
  {
   "cell_type": "markdown",
   "metadata": {
    "slideshow": {
     "slide_type": "subslide"
    }
   },
   "source": [
    "## Odcinek\n",
    "\n",
    "---"
   ]
  },
  {
   "cell_type": "code",
   "execution_count": 9,
   "metadata": {
    "collapsed": true,
    "slideshow": {
     "slide_type": "-"
    }
   },
   "outputs": [],
   "source": [
    "from math import sqrt\n",
    "\n",
    "class Odcinek:\n",
    "    \n",
    "    def __init__(self, start, end):\n",
    "        self.poczatek = start # Punkt\n",
    "        self.koniec = end     # Punkt\n",
    "        \n",
    "    def dlugosc(self):\n",
    "        # Odcinek.Punkt.Wspolrzedna\n",
    "        x = self.koniec.x - self.poczatek.x\n",
    "        y = self.koniec.y - self.poczatek.y\n",
    "        return sqrt(x**2 + y**2)"
   ]
  },
  {
   "cell_type": "code",
   "execution_count": 10,
   "metadata": {
    "collapsed": false,
    "slideshow": {
     "slide_type": "-"
    }
   },
   "outputs": [
    {
     "data": {
      "text/plain": [
       "2.0"
      ]
     },
     "execution_count": 10,
     "metadata": {},
     "output_type": "execute_result"
    }
   ],
   "source": [
    "a = Punkt()  # (0, 0)\n",
    "b = Punkt(2) # (2, 0)\n",
    "o = Odcinek(a, b)\n",
    "\n",
    "o.dlugosc()"
   ]
  },
  {
   "cell_type": "markdown",
   "metadata": {
    "slideshow": {
     "slide_type": "slide"
    }
   },
   "source": [
    "## Enkapsulacja\n",
    "\n",
    "---\n",
    "\n",
    "* enkapsulacja - ukrywanie implementacji\n",
    "* brak bezpośredniego dostępu do danych\n",
    "* tylko własne metody moga zmienić stan\n",
    "* w Pythonie jest to umowne, bo nie ma zmiennych prywatnych"
   ]
  },
  {
   "cell_type": "markdown",
   "metadata": {
    "slideshow": {
     "slide_type": "subslide"
    }
   },
   "source": [
    "## Przykład - cząstka\n",
    "\n",
    "---"
   ]
  },
  {
   "cell_type": "code",
   "execution_count": 11,
   "metadata": {
    "collapsed": false,
    "slideshow": {
     "slide_type": "-"
    }
   },
   "outputs": [],
   "source": [
    "class Particle:\n",
    "    \n",
    "    def __init__(self, mass, velocity=0.0):\n",
    "        self.m = mass     # masa\n",
    "        self.v = velocity # prędkość\n",
    "        self.ped()        # ustala pęd\n",
    "\n",
    "    def __str__(self):\n",
    "        return \"m = {m}, v = {v}, p = {p}\"\\\n",
    "                .format(m=self.m, v=self.v, p=self.p)\n",
    "        \n",
    "    def ped(self): # liczy pęd cząstki\n",
    "        self.p = self.m*self.v"
   ]
  },
  {
   "cell_type": "markdown",
   "metadata": {
    "slideshow": {
     "slide_type": "subslide"
    }
   },
   "source": [
    "## Cząstka - test\n",
    "\n",
    "---"
   ]
  },
  {
   "cell_type": "code",
   "execution_count": 12,
   "metadata": {
    "collapsed": false,
    "slideshow": {
     "slide_type": "-"
    }
   },
   "outputs": [
    {
     "name": "stdout",
     "output_type": "stream",
     "text": [
      "m = 10, v = 10, p = 100\n"
     ]
    }
   ],
   "source": [
    "x = Particle(10, 10) # masa = 10, prędkość = 10\n",
    "\n",
    "print(x) # pęd = masa * prędkość"
   ]
  },
  {
   "cell_type": "code",
   "execution_count": 13,
   "metadata": {
    "collapsed": false,
    "slideshow": {
     "slide_type": "-"
    }
   },
   "outputs": [
    {
     "name": "stdout",
     "output_type": "stream",
     "text": [
      "m = 10, v = 0, p = 100\n"
     ]
    }
   ],
   "source": [
    "x.v = 0  # zmień prędkość\n",
    "\n",
    "print(x) # pęd nie został uaktulaniony"
   ]
  },
  {
   "cell_type": "markdown",
   "metadata": {
    "slideshow": {
     "slide_type": "subslide"
    }
   },
   "source": [
    "## *Gettery* i *settery*\n",
    "\n",
    "---"
   ]
  },
  {
   "cell_type": "code",
   "execution_count": 14,
   "metadata": {
    "collapsed": true,
    "slideshow": {
     "slide_type": "-"
    }
   },
   "outputs": [],
   "source": [
    "class Particle:\n",
    "    \n",
    "    def __init__(self, mass, velocity=0.0):\n",
    "        self.__m = mass     # masa\n",
    "        self.__v = velocity # prędkość\n",
    "        self.ped()          # ustala pęd\n",
    "        \n",
    "    def __str__(self):\n",
    "        return \"m = {m}, v = {v}, p = {p}\"\\\n",
    "                .format(m=self.__m, v=self.__v, p=self.__p)\n",
    "        \n",
    "    def ped(self): # liczy pęd cząstki\n",
    "        self.__p = self.__m*self.__v\n",
    "        \n",
    "    def get_v(self): # pobierz prędkośc\n",
    "        return self.__v\n",
    "    \n",
    "    def set_v(self, v): # ustaw prędkość\n",
    "        self.__v = v\n",
    "        self.ped() # aktualizuj pęd"
   ]
  },
  {
   "cell_type": "markdown",
   "metadata": {
    "slideshow": {
     "slide_type": "subslide"
    }
   },
   "source": [
    "## *get*, *set* - test\n",
    "\n",
    "---"
   ]
  },
  {
   "cell_type": "code",
   "execution_count": 15,
   "metadata": {
    "collapsed": false,
    "slideshow": {
     "slide_type": "-"
    }
   },
   "outputs": [
    {
     "name": "stdout",
     "output_type": "stream",
     "text": [
      "m = 10, v = 10, p = 100\n"
     ]
    }
   ],
   "source": [
    "x = Particle(10, 10) # masa = 10, prędkość = 10\n",
    "\n",
    "print(x)"
   ]
  },
  {
   "cell_type": "code",
   "execution_count": 16,
   "metadata": {
    "collapsed": false,
    "slideshow": {
     "slide_type": "-"
    }
   },
   "outputs": [
    {
     "name": "stdout",
     "output_type": "stream",
     "text": [
      "m = 10, v = 0, p = 0\n"
     ]
    }
   ],
   "source": [
    "x.set_v(0) # zmień prędkość\n",
    "\n",
    "print(x) # pęd został uaktulaniony"
   ]
  },
  {
   "cell_type": "code",
   "execution_count": 17,
   "metadata": {
    "collapsed": false,
    "slideshow": {
     "slide_type": "-"
    }
   },
   "outputs": [
    {
     "data": {
      "text/plain": [
       "0"
      ]
     },
     "execution_count": 17,
     "metadata": {},
     "output_type": "execute_result"
    }
   ],
   "source": [
    "x.get_v() # pobierz prędkość"
   ]
  },
  {
   "cell_type": "markdown",
   "metadata": {
    "slideshow": {
     "slide_type": "slide"
    }
   },
   "source": [
    "## Dziedziczenie\n",
    "\n",
    "---\n",
    "\n",
    "* umożliwia ponowne wykorzystanie funkcjonalności *klas bazowych* w *klasach pochodnych*\n",
    "* przykład:\n",
    "    * klasa pojazd: jedz, hamuj...\n",
    "    * klasa samochód: to co pojazd + otwórz bagażnik...\n",
    "    * klasa motor: to co pojazd + jedz na jednym kole..."
   ]
  },
  {
   "cell_type": "markdown",
   "metadata": {
    "slideshow": {
     "slide_type": "subslide"
    }
   },
   "source": [
    "## Przykład\n",
    "\n",
    "---"
   ]
  },
  {
   "cell_type": "code",
   "execution_count": 18,
   "metadata": {
    "collapsed": true,
    "slideshow": {
     "slide_type": "-"
    }
   },
   "outputs": [],
   "source": [
    "class Baza:\n",
    "    \n",
    "    def whoami(self):\n",
    "        print(\"Jestem obiektem klasy Baza.\")\n",
    "        \n",
    "class Pochodna(Baza): # dziedziczy z Baza\n",
    "    \n",
    "    def sayhi(self):\n",
    "        print(\"Hello!\")"
   ]
  },
  {
   "cell_type": "code",
   "execution_count": 19,
   "metadata": {
    "collapsed": false,
    "slideshow": {
     "slide_type": "-"
    }
   },
   "outputs": [
    {
     "name": "stdout",
     "output_type": "stream",
     "text": [
      "Hello!\n"
     ]
    }
   ],
   "source": [
    "x = Pochodna()\n",
    "\n",
    "x.sayhi() # zdefiniowane w Pochodna"
   ]
  },
  {
   "cell_type": "code",
   "execution_count": 20,
   "metadata": {
    "collapsed": false,
    "slideshow": {
     "slide_type": "-"
    }
   },
   "outputs": [
    {
     "name": "stdout",
     "output_type": "stream",
     "text": [
      "Jestem obiektem klasy Baza.\n"
     ]
    }
   ],
   "source": [
    "x.whoami() # zdefiinowane w Baza"
   ]
  },
  {
   "cell_type": "markdown",
   "metadata": {
    "slideshow": {
     "slide_type": "subslide"
    }
   },
   "source": [
    "## Konstruktor klasy bazowej\n",
    "\n",
    "---"
   ]
  },
  {
   "cell_type": "code",
   "execution_count": 21,
   "metadata": {
    "collapsed": true,
    "slideshow": {
     "slide_type": "-"
    }
   },
   "outputs": [],
   "source": [
    "class Foo:\n",
    "    \n",
    "    def __init__(self):\n",
    "        print(\"Tworzę Foo\")\n",
    "        \n",
    "class Bar(Foo):\n",
    "    \n",
    "    def __init__(self):\n",
    "        print(\"Tworzę Bar\")"
   ]
  },
  {
   "cell_type": "code",
   "execution_count": 22,
   "metadata": {
    "collapsed": false,
    "slideshow": {
     "slide_type": "-"
    }
   },
   "outputs": [
    {
     "name": "stdout",
     "output_type": "stream",
     "text": [
      "Tworzę Bar\n"
     ]
    }
   ],
   "source": [
    "x = Bar() # __init__ z Foo nie jest wywołany"
   ]
  },
  {
   "cell_type": "markdown",
   "metadata": {
    "slideshow": {
     "slide_type": "subslide"
    }
   },
   "source": [
    "## Wywołanie konstruktora bazy\n",
    "\n",
    "---"
   ]
  },
  {
   "cell_type": "code",
   "execution_count": 23,
   "metadata": {
    "collapsed": true,
    "slideshow": {
     "slide_type": "-"
    }
   },
   "outputs": [],
   "source": [
    "class Foo:\n",
    "    \n",
    "    def __init__(self):\n",
    "        print(\"Tworzę Foo\")\n",
    "        \n",
    "class Bar(Foo):\n",
    "    \n",
    "    def __init__(self):\n",
    "        super().__init__() # wywołaj konstruktor klasy nadrzędnej\n",
    "        print(\"Tworzę Bar\")"
   ]
  },
  {
   "cell_type": "code",
   "execution_count": 24,
   "metadata": {
    "collapsed": false,
    "slideshow": {
     "slide_type": "-"
    }
   },
   "outputs": [
    {
     "name": "stdout",
     "output_type": "stream",
     "text": [
      "Tworzę Foo\n",
      "Tworzę Bar\n"
     ]
    }
   ],
   "source": [
    "x = Bar()"
   ]
  },
  {
   "cell_type": "markdown",
   "metadata": {
    "slideshow": {
     "slide_type": "subslide"
    }
   },
   "source": [
    "## Przykład - Student\n",
    "\n",
    "---"
   ]
  },
  {
   "cell_type": "code",
   "execution_count": 25,
   "metadata": {
    "collapsed": true,
    "slideshow": {
     "slide_type": "-"
    }
   },
   "outputs": [],
   "source": [
    "class Student:\n",
    "    \n",
    "    last_index = 1234 # atrybut klasy\n",
    "    \n",
    "    def __init__(self, name):\n",
    "        # aktualizuj numer indeksu\n",
    "        self.__class__.last_index += 1\n",
    "        # przypisz studentowi imię i numer indeksu\n",
    "        self.name = name\n",
    "        self.index = self.__class__.last_index\n",
    "        \n",
    "    def __str__(self): # Student [imię] (nr indeksu)\n",
    "        return \"Student {} (nr {})\".format(self.name, self.index)"
   ]
  },
  {
   "cell_type": "code",
   "execution_count": 26,
   "metadata": {
    "collapsed": false,
    "slideshow": {
     "slide_type": "-"
    }
   },
   "outputs": [
    {
     "name": "stdout",
     "output_type": "stream",
     "text": [
      "Student Anna (nr 1235)\n"
     ]
    }
   ],
   "source": [
    "student = Student(\"Anna\")\n",
    "\n",
    "print(student)"
   ]
  },
  {
   "cell_type": "markdown",
   "metadata": {
    "slideshow": {
     "slide_type": "subslide"
    }
   },
   "source": [
    "## Przykład - StudentISSP\n",
    "\n",
    "---"
   ]
  },
  {
   "cell_type": "code",
   "execution_count": 27,
   "metadata": {
    "collapsed": false,
    "slideshow": {
     "slide_type": "-"
    }
   },
   "outputs": [],
   "source": [
    "class StudentISSP(Student): # też Student\n",
    "    \n",
    "    def __init__(self, name, przedmioty):\n",
    "        \n",
    "        super().__init__(name) # wywołaj Student.__init__\n",
    "        \n",
    "        self.przedmioty = przedmioty\n",
    "        \n",
    "    def __str__(self):\n",
    "        return super().__str__() + \\\n",
    "                \": \" + \", \".join(self.przedmioty)"
   ]
  },
  {
   "cell_type": "code",
   "execution_count": 28,
   "metadata": {
    "collapsed": false,
    "slideshow": {
     "slide_type": "-"
    }
   },
   "outputs": [
    {
     "name": "stdout",
     "output_type": "stream",
     "text": [
      "Student Jan (nr 1236): programowanie, fizyka\n"
     ]
    }
   ],
   "source": [
    "studentISSP = StudentISSP(\"Jan\", [\"programowanie\", \"fizyka\"])\n",
    "\n",
    "print(studentISSP)"
   ]
  },
  {
   "cell_type": "markdown",
   "metadata": {
    "slideshow": {
     "slide_type": "slide"
    }
   },
   "source": [
    "## Polimorfizm\n",
    "\n",
    "---\n",
    "\n",
    "* współdzielenie *interfejsu* przez różne typy"
   ]
  },
  {
   "cell_type": "code",
   "execution_count": 29,
   "metadata": {
    "collapsed": true,
    "slideshow": {
     "slide_type": "-"
    }
   },
   "outputs": [],
   "source": [
    "class Kot:\n",
    "    def glos(self):\n",
    "        print(\"Miau\")\n",
    "\n",
    "class Pies:\n",
    "    def glos(self):\n",
    "        print(\"Hau\")\n",
    "\n",
    "class Krowa:\n",
    "    def glos(self):\n",
    "        print(\"Muu\") "
   ]
  },
  {
   "cell_type": "code",
   "execution_count": 30,
   "metadata": {
    "collapsed": false,
    "slideshow": {
     "slide_type": "-"
    }
   },
   "outputs": [
    {
     "name": "stdout",
     "output_type": "stream",
     "text": [
      "Miau\n",
      "Hau\n",
      "Muu\n"
     ]
    }
   ],
   "source": [
    "for zwierze in [Kot(), Pies(), Krowa()]:\n",
    "    zwierze.glos() # za każdym razem inny typ"
   ]
  },
  {
   "cell_type": "markdown",
   "metadata": {
    "slideshow": {
     "slide_type": "subslide"
    }
   },
   "source": [
    "## Ryby głosu nie mają\n",
    "\n",
    "---"
   ]
  },
  {
   "cell_type": "code",
   "execution_count": 31,
   "metadata": {
    "collapsed": true,
    "slideshow": {
     "slide_type": "-"
    }
   },
   "outputs": [],
   "source": [
    "class Ryba:\n",
    "    pass # brak definicji glos"
   ]
  },
  {
   "cell_type": "code",
   "execution_count": 32,
   "metadata": {
    "collapsed": false,
    "slideshow": {
     "slide_type": "-"
    }
   },
   "outputs": [
    {
     "name": "stdout",
     "output_type": "stream",
     "text": [
      "Miau\n",
      "Hau\n",
      "Muu\n"
     ]
    },
    {
     "ename": "AttributeError",
     "evalue": "'Ryba' object has no attribute 'glos'",
     "output_type": "error",
     "traceback": [
      "\u001b[1;31m---------------------------------------------------------------------------\u001b[0m",
      "\u001b[1;31mAttributeError\u001b[0m                            Traceback (most recent call last)",
      "\u001b[1;32m<ipython-input-32-6d74614a5413>\u001b[0m in \u001b[0;36m<module>\u001b[1;34m()\u001b[0m\n\u001b[0;32m      1\u001b[0m \u001b[1;32mfor\u001b[0m \u001b[0mzwierze\u001b[0m \u001b[1;32min\u001b[0m \u001b[1;33m[\u001b[0m\u001b[0mKot\u001b[0m\u001b[1;33m(\u001b[0m\u001b[1;33m)\u001b[0m\u001b[1;33m,\u001b[0m \u001b[0mPies\u001b[0m\u001b[1;33m(\u001b[0m\u001b[1;33m)\u001b[0m\u001b[1;33m,\u001b[0m \u001b[0mKrowa\u001b[0m\u001b[1;33m(\u001b[0m\u001b[1;33m)\u001b[0m\u001b[1;33m,\u001b[0m \u001b[0mRyba\u001b[0m\u001b[1;33m(\u001b[0m\u001b[1;33m)\u001b[0m\u001b[1;33m]\u001b[0m\u001b[1;33m:\u001b[0m\u001b[1;33m\u001b[0m\u001b[0m\n\u001b[1;32m----> 2\u001b[1;33m     \u001b[0mzwierze\u001b[0m\u001b[1;33m.\u001b[0m\u001b[0mglos\u001b[0m\u001b[1;33m(\u001b[0m\u001b[1;33m)\u001b[0m \u001b[1;31m# Ryba nie ma zdefiniowanej metody glos\u001b[0m\u001b[1;33m\u001b[0m\u001b[0m\n\u001b[0m",
      "\u001b[1;31mAttributeError\u001b[0m: 'Ryba' object has no attribute 'glos'"
     ]
    }
   ],
   "source": [
    "for zwierze in [Kot(), Pies(), Krowa(), Ryba()]:\n",
    "    zwierze.glos() # Ryba nie ma zdefiniowanej metody glos"
   ]
  },
  {
   "cell_type": "markdown",
   "metadata": {
    "slideshow": {
     "slide_type": "subslide"
    }
   },
   "source": [
    "## Wymuszanie interfejsu\n",
    "\n",
    "---"
   ]
  },
  {
   "cell_type": "code",
   "execution_count": 33,
   "metadata": {
    "collapsed": true,
    "slideshow": {
     "slide_type": "-"
    }
   },
   "outputs": [],
   "source": [
    "class Zwierze:\n",
    "    def glos(self):\n",
    "        pass\n",
    "    \n",
    "class Kot(Zwierze):\n",
    "    def glos(self): # nadpisuje Zwierze.glos\n",
    "        print(\"Miau\")\n",
    "        \n",
    "class Ryba(Zwierze):\n",
    "    pass"
   ]
  },
  {
   "cell_type": "code",
   "execution_count": 34,
   "metadata": {
    "collapsed": false,
    "slideshow": {
     "slide_type": "-"
    }
   },
   "outputs": [
    {
     "name": "stdout",
     "output_type": "stream",
     "text": [
      "Miau\n"
     ]
    }
   ],
   "source": [
    "for zwierze in [Kot(), Ryba()]:\n",
    "    zwierze.glos() # Ryba siedzi cicho"
   ]
  },
  {
   "cell_type": "markdown",
   "metadata": {
    "slideshow": {
     "slide_type": "subslide"
    }
   },
   "source": [
    "## Większe wymuszanie interfejsu\n",
    "\n",
    "---"
   ]
  },
  {
   "cell_type": "code",
   "execution_count": 35,
   "metadata": {
    "collapsed": true,
    "slideshow": {
     "slide_type": "-"
    }
   },
   "outputs": [],
   "source": [
    "class Zwierze:\n",
    "    def glos(self):\n",
    "        raise NotImplementedError(\"Każde zwiesze musi mieć głos.\")\n",
    "    \n",
    "class Kot(Zwierze):\n",
    "    def glos(self): # nadpisuje Zwierze.glos\n",
    "        print(\"Miau\")\n",
    "        \n",
    "class Ryba(Zwierze):\n",
    "    pass"
   ]
  },
  {
   "cell_type": "code",
   "execution_count": 36,
   "metadata": {
    "collapsed": false,
    "slideshow": {
     "slide_type": "-"
    }
   },
   "outputs": [
    {
     "name": "stdout",
     "output_type": "stream",
     "text": [
      "Miau\n"
     ]
    },
    {
     "ename": "NotImplementedError",
     "evalue": "Każde zwiesze musi mieć głos.",
     "output_type": "error",
     "traceback": [
      "\u001b[1;31m---------------------------------------------------------------------------\u001b[0m",
      "\u001b[1;31mNotImplementedError\u001b[0m                       Traceback (most recent call last)",
      "\u001b[1;32m<ipython-input-36-8b317967163a>\u001b[0m in \u001b[0;36m<module>\u001b[1;34m()\u001b[0m\n\u001b[0;32m      1\u001b[0m \u001b[1;32mfor\u001b[0m \u001b[0mzwierze\u001b[0m \u001b[1;32min\u001b[0m \u001b[1;33m[\u001b[0m\u001b[0mKot\u001b[0m\u001b[1;33m(\u001b[0m\u001b[1;33m)\u001b[0m\u001b[1;33m,\u001b[0m \u001b[0mRyba\u001b[0m\u001b[1;33m(\u001b[0m\u001b[1;33m)\u001b[0m\u001b[1;33m]\u001b[0m\u001b[1;33m:\u001b[0m\u001b[1;33m\u001b[0m\u001b[0m\n\u001b[1;32m----> 2\u001b[1;33m     \u001b[0mzwierze\u001b[0m\u001b[1;33m.\u001b[0m\u001b[0mglos\u001b[0m\u001b[1;33m(\u001b[0m\u001b[1;33m)\u001b[0m \u001b[1;31m# Ryba zwróci błąd\u001b[0m\u001b[1;33m\u001b[0m\u001b[0m\n\u001b[0m",
      "\u001b[1;32m<ipython-input-35-e744aa713040>\u001b[0m in \u001b[0;36mglos\u001b[1;34m(self)\u001b[0m\n\u001b[0;32m      1\u001b[0m \u001b[1;32mclass\u001b[0m \u001b[0mZwierze\u001b[0m\u001b[1;33m:\u001b[0m\u001b[1;33m\u001b[0m\u001b[0m\n\u001b[0;32m      2\u001b[0m     \u001b[1;32mdef\u001b[0m \u001b[0mglos\u001b[0m\u001b[1;33m(\u001b[0m\u001b[0mself\u001b[0m\u001b[1;33m)\u001b[0m\u001b[1;33m:\u001b[0m\u001b[1;33m\u001b[0m\u001b[0m\n\u001b[1;32m----> 3\u001b[1;33m         \u001b[1;32mraise\u001b[0m \u001b[0mNotImplementedError\u001b[0m\u001b[1;33m(\u001b[0m\u001b[1;34m\"Każde zwiesze musi mieć głos.\"\u001b[0m\u001b[1;33m)\u001b[0m\u001b[1;33m\u001b[0m\u001b[0m\n\u001b[0m\u001b[0;32m      4\u001b[0m \u001b[1;33m\u001b[0m\u001b[0m\n\u001b[0;32m      5\u001b[0m \u001b[1;32mclass\u001b[0m \u001b[0mKot\u001b[0m\u001b[1;33m(\u001b[0m\u001b[0mZwierze\u001b[0m\u001b[1;33m)\u001b[0m\u001b[1;33m:\u001b[0m\u001b[1;33m\u001b[0m\u001b[0m\n",
      "\u001b[1;31mNotImplementedError\u001b[0m: Każde zwiesze musi mieć głos."
     ]
    }
   ],
   "source": [
    "for zwierze in [Kot(), Ryba()]:\n",
    "    zwierze.glos() # Ryba zwróci błąd"
   ]
  },
  {
   "cell_type": "markdown",
   "metadata": {
    "slideshow": {
     "slide_type": "slide"
    }
   },
   "source": [
    "## Przykład - Wielokąt\n",
    "\n",
    "---"
   ]
  },
  {
   "cell_type": "code",
   "execution_count": 37,
   "metadata": {
    "collapsed": true,
    "slideshow": {
     "slide_type": "-"
    }
   },
   "outputs": [],
   "source": [
    "class Wielokat:\n",
    "    \n",
    "    def __init__(self, *boki):\n",
    "        self.boki = boki # krotka\n",
    "        \n",
    "    def obwod(self):          # suma długości\n",
    "        return sum(self.boki) # boków\n",
    "        \n",
    "    def pole(self): raise NotImplementedError"
   ]
  },
  {
   "cell_type": "code",
   "execution_count": 38,
   "metadata": {
    "collapsed": false,
    "slideshow": {
     "slide_type": "-"
    }
   },
   "outputs": [
    {
     "data": {
      "text/plain": [
       "15"
      ]
     },
     "execution_count": 38,
     "metadata": {},
     "output_type": "execute_result"
    }
   ],
   "source": [
    "w = Wielokat(1, 2, 3, 4, 5) # pięciokąt\n",
    "\n",
    "w.obwod()"
   ]
  },
  {
   "cell_type": "markdown",
   "metadata": {
    "slideshow": {
     "slide_type": "subslide"
    }
   },
   "source": [
    "## Przykład - Trójkąt\n",
    "\n",
    "---"
   ]
  },
  {
   "cell_type": "code",
   "execution_count": 39,
   "metadata": {
    "collapsed": false,
    "slideshow": {
     "slide_type": "-"
    }
   },
   "outputs": [],
   "source": [
    "class Trojkat(Wielokat):\n",
    "    \n",
    "    def __init__(self, *boki):\n",
    "        super().__init__(*boki) # utwórz wielokąt\n",
    "        \n",
    "    def pole(self):\n",
    "        pole = p = self.obwod()/2 # obwod zdefiniowane w Wielokat\n",
    "        \n",
    "        for bok in self.boki: # wzór Herona\n",
    "            pole *= (p - bok) # p(p - a)(p - b)(p - c)\n",
    "            \n",
    "        return pole**0.5 # pierwiastek"
   ]
  },
  {
   "cell_type": "code",
   "execution_count": 40,
   "metadata": {
    "collapsed": false,
    "slideshow": {
     "slide_type": "-"
    }
   },
   "outputs": [
    {
     "data": {
      "text/plain": [
       "12"
      ]
     },
     "execution_count": 40,
     "metadata": {},
     "output_type": "execute_result"
    }
   ],
   "source": [
    "t = Trojkat(3, 4, 5)\n",
    "\n",
    "t.obwod() # z Wielokat"
   ]
  },
  {
   "cell_type": "code",
   "execution_count": 41,
   "metadata": {
    "collapsed": false,
    "slideshow": {
     "slide_type": "-"
    }
   },
   "outputs": [
    {
     "data": {
      "text/plain": [
       "6.0"
      ]
     },
     "execution_count": 41,
     "metadata": {},
     "output_type": "execute_result"
    }
   ],
   "source": [
    "t.pole() # z Pole"
   ]
  },
  {
   "cell_type": "markdown",
   "metadata": {
    "slideshow": {
     "slide_type": "subslide"
    }
   },
   "source": [
    "## Przykład - Trójkąt Równoboczny\n",
    "\n",
    "---"
   ]
  },
  {
   "cell_type": "code",
   "execution_count": 42,
   "metadata": {
    "collapsed": true,
    "slideshow": {
     "slide_type": "-"
    }
   },
   "outputs": [],
   "source": [
    "class TrojkatR(Trojkat):\n",
    "    \n",
    "    def __init__(self, bok):\n",
    "        super().__init__(bok, bok, bok) # Trójkąt -> Wielokąt\n",
    "        \n",
    "    def pole(self):\n",
    "        return (self.boki[0]**2)*(3**0.5)/4"
   ]
  },
  {
   "cell_type": "code",
   "execution_count": 43,
   "metadata": {
    "collapsed": false,
    "slideshow": {
     "slide_type": "-"
    }
   },
   "outputs": [
    {
     "data": {
      "text/plain": [
       "3.8971143170299736"
      ]
     },
     "execution_count": 43,
     "metadata": {},
     "output_type": "execute_result"
    }
   ],
   "source": [
    "t = TrojkatR(3) # (3, 3, 3)\n",
    "\n",
    "t.pole() # TrojkatR.pole()"
   ]
  },
  {
   "cell_type": "code",
   "execution_count": 44,
   "metadata": {
    "collapsed": false,
    "slideshow": {
     "slide_type": "-"
    }
   },
   "outputs": [
    {
     "data": {
      "text/plain": [
       "3.897114317029974"
      ]
     },
     "execution_count": 44,
     "metadata": {},
     "output_type": "execute_result"
    }
   ],
   "source": [
    "t = Trojkat(3, 3, 3)\n",
    "\n",
    "t.pole() # Trojkat.pole() "
   ]
  },
  {
   "cell_type": "markdown",
   "metadata": {
    "slideshow": {
     "slide_type": "slide"
    }
   },
   "source": [
    "## Wielokrotne dziedziczenie\n",
    "\n",
    "---\n",
    "\n",
    "* klasa może posiadać kilka klas bazowych\n",
    "* posiada wtedy wszystkie dane i metody\n",
    "* a co jeśli się powtarzają?"
   ]
  },
  {
   "cell_type": "markdown",
   "metadata": {
    "slideshow": {
     "slide_type": "subslide"
    }
   },
   "source": [
    "## Przykład - amifibia\n",
    "\n",
    "---"
   ]
  },
  {
   "cell_type": "code",
   "execution_count": 45,
   "metadata": {
    "collapsed": true,
    "slideshow": {
     "slide_type": "-"
    }
   },
   "outputs": [],
   "source": [
    "class Samochod:\n",
    "    \n",
    "    def jedz(self):\n",
    "        print(\"Jadę...\")\n",
    "        \n",
    "class Lodz:\n",
    "    \n",
    "    def plyn(self):\n",
    "        print(\"Płynę...\")\n",
    "        \n",
    "class Amfibia(Samochod, Lodz): pass"
   ]
  },
  {
   "cell_type": "code",
   "execution_count": 46,
   "metadata": {
    "collapsed": false,
    "slideshow": {
     "slide_type": "-"
    }
   },
   "outputs": [
    {
     "name": "stdout",
     "output_type": "stream",
     "text": [
      "Jadę...\n",
      "Płynę...\n"
     ]
    }
   ],
   "source": [
    "amfibia = Amfibia()\n",
    "\n",
    "amfibia.jedz() # Samochod\n",
    "amfibia.plyn() # Lodz"
   ]
  },
  {
   "cell_type": "markdown",
   "metadata": {
    "slideshow": {
     "slide_type": "subslide"
    }
   },
   "source": [
    "## Przykład - amifibia v2\n",
    "\n",
    "---"
   ]
  },
  {
   "cell_type": "code",
   "execution_count": 47,
   "metadata": {
    "collapsed": false,
    "slideshow": {
     "slide_type": "-"
    }
   },
   "outputs": [],
   "source": [
    "class Samochod:\n",
    "    def run(self):\n",
    "        print(\"Jadę...\")\n",
    "        \n",
    "class Lodz:\n",
    "    def run(self):\n",
    "        print(\"Płynę...\")\n",
    "        \n",
    "class Amfibia1(Samochod, Lodz): pass\n",
    "class Amfibia2(Lodz, Samochod): pass"
   ]
  },
  {
   "cell_type": "code",
   "execution_count": 48,
   "metadata": {
    "collapsed": false,
    "slideshow": {
     "slide_type": "-"
    }
   },
   "outputs": [
    {
     "name": "stdout",
     "output_type": "stream",
     "text": [
      "Jadę...\n"
     ]
    }
   ],
   "source": [
    "amifibia1 = Amfibia1()\n",
    "amifibia1.run()"
   ]
  },
  {
   "cell_type": "code",
   "execution_count": 49,
   "metadata": {
    "collapsed": false,
    "slideshow": {
     "slide_type": "-"
    }
   },
   "outputs": [
    {
     "name": "stdout",
     "output_type": "stream",
     "text": [
      "Płynę...\n"
     ]
    }
   ],
   "source": [
    "amifibia2 = Amfibia2()\n",
    "amifibia2.run()"
   ]
  },
  {
   "cell_type": "markdown",
   "metadata": {
    "collapsed": false,
    "slideshow": {
     "slide_type": "slide"
    }
   },
   "source": [
    "## Klasa Screen\n",
    "\n",
    "---\n",
    "\n",
    "* napiszemy klasę, która będzie naszym wirtualnym ekranem\n",
    "* do *rysowania* użyjemy modułu *matplotlib*"
   ]
  },
  {
   "cell_type": "code",
   "execution_count": 50,
   "metadata": {
    "collapsed": true,
    "slideshow": {
     "slide_type": "-"
    }
   },
   "outputs": [],
   "source": [
    "%matplotlib inline\n",
    "import matplotlib.pyplot as plt"
   ]
  },
  {
   "cell_type": "markdown",
   "metadata": {
    "slideshow": {
     "slide_type": "subslide"
    }
   },
   "source": [
    "## *matshow*\n",
    "\n",
    "---"
   ]
  },
  {
   "cell_type": "code",
   "execution_count": 51,
   "metadata": {
    "collapsed": false,
    "slideshow": {
     "slide_type": "-"
    }
   },
   "outputs": [
    {
     "name": "stdout",
     "output_type": "stream",
     "text": [
      "[[1, 0, 0, 0, 0], [2, 0, 0, 0, 0], [3, 0, 0, 0, 0], [4, 0, 0, 0, 0], [5, 0, 0, 0, 0]]\n"
     ]
    },
    {
     "data": {
      "text/plain": [
       "<matplotlib.image.AxesImage at 0x7f2c74549978>"
      ]
     },
     "execution_count": 51,
     "metadata": {},
     "output_type": "execute_result"
    },
    {
     "data": {
      "image/png": "[encoded data removed]",
      "text/plain": [
       "<matplotlib.figure.Figure at 0x7f2c76a29588>"
      ]
     },
     "metadata": {},
     "output_type": "display_data"
    }
   ],
   "source": [
    "tablica = [[0]*5 for _ in range(5)] # tablica 5x5\n",
    "\n",
    "for i in range(5):\n",
    "    tablica[i][0] = i + 1 # pierwsza kolumna\n",
    "\n",
    "print(tablica)\n",
    "\n",
    "plt.matshow(tablica) # \"rysuj\" tablicę"
   ]
  },
  {
   "cell_type": "markdown",
   "metadata": {
    "slideshow": {
     "slide_type": "subslide"
    }
   },
   "source": [
    "## Screen\n",
    "\n",
    "---"
   ]
  },
  {
   "cell_type": "code",
   "execution_count": 52,
   "metadata": {
    "collapsed": false,
    "slideshow": {
     "slide_type": "-"
    }
   },
   "outputs": [],
   "source": [
    "class Screen:\n",
    "    \"\"\"Ekran na bazie matplotlib.pyplot.matshow\"\"\"\n",
    "    \n",
    "    def __init__(self, width, height): # ustal wymiary ekrany\n",
    "        self.w = width  # zapamiętaj szerokość\n",
    "        self.h = height # zapamiętaj wysokość\n",
    "        self.pixels = [[0]*width for _ in range(height)]\n",
    "        \n",
    "    def show(self, cmap=plt.cm.gray_r):\n",
    "        plt.matshow(self.pixels, origin='lower', cmap=cmap)\n",
    "        \n",
    "    def set(self, y, x, value): # ustaw wartość piksela\n",
    "        if y < self.w and x < self.h: # x <-> y\n",
    "            self.pixels[x][y] = value # dla naszej wygody"
   ]
  },
  {
   "cell_type": "markdown",
   "metadata": {
    "slideshow": {
     "slide_type": "subslide"
    }
   },
   "source": [
    "## Screen test\n",
    "\n",
    "---"
   ]
  },
  {
   "cell_type": "code",
   "execution_count": 53,
   "metadata": {
    "collapsed": false,
    "slideshow": {
     "slide_type": "-"
    }
   },
   "outputs": [
    {
     "data": {
      "image/png": "[encoded data removed]",
      "text/plain": [
       "<matplotlib.figure.Figure at 0x7f2c76a4f198>"
      ]
     },
     "metadata": {},
     "output_type": "display_data"
    }
   ],
   "source": [
    "s = Screen(10, 4)\n",
    "\n",
    "s.set(5, 1, 10) # [5,1] = 10\n",
    "s.set(1, 2, 50) # [1,2] = 50\n",
    "\n",
    "s.show()"
   ]
  },
  {
   "cell_type": "markdown",
   "metadata": {
    "slideshow": {
     "slide_type": "subslide"
    }
   },
   "source": [
    "## Screen test II\n",
    "\n",
    "---"
   ]
  },
  {
   "cell_type": "code",
   "execution_count": 54,
   "metadata": {
    "collapsed": false,
    "slideshow": {
     "slide_type": "-"
    }
   },
   "outputs": [
    {
     "data": {
      "image/png": "[encoded data removed]",
      "text/plain": [
       "<matplotlib.figure.Figure at 0x7f2c7403b828>"
      ]
     },
     "metadata": {},
     "output_type": "display_data"
    }
   ],
   "source": [
    "s = Screen(200, 20)\n",
    "\n",
    "for x in range(200):\n",
    "    s.set(x, int(x**0.5), x)\n",
    "    \n",
    "s.show()"
   ]
  },
  {
   "cell_type": "markdown",
   "metadata": {
    "slideshow": {
     "slide_type": "subslide"
    }
   },
   "source": [
    "## Zbiór Mandelbrota\n",
    "\n",
    "---\n",
    "\n",
    "* punkty $p$ (zespolone), dla których ciąg\n",
    "\n",
    "$$z_{n+1} = z_n^2 + p$$\n",
    "\n",
    "(gdzie $z_0 = 0$) nie dąży do nieskończoności lub\n",
    "\n",
    "$$|z_n| < 2$$"
   ]
  },
  {
   "cell_type": "markdown",
   "metadata": {
    "slideshow": {
     "slide_type": "subslide"
    }
   },
   "source": [
    "## Implementacja\n",
    "\n",
    "---"
   ]
  },
  {
   "cell_type": "code",
   "execution_count": 55,
   "metadata": {
    "collapsed": true,
    "slideshow": {
     "slide_type": "-"
    }
   },
   "outputs": [],
   "source": [
    "def mandelbrot(p, limit=100):\n",
    "    \"\"\"Zwraca n, dla którego |zn| < 2\"\"\"\n",
    "    zn = p # bo z0 = 0\n",
    "    \n",
    "    for i in range(limit): # sprawdzamy do pewnego momentu\n",
    "        if abs(zn) > 2: # zwróć miejsce, w którym\n",
    "            return i    # warunek nie jest już spełniony\n",
    "        \n",
    "        zn = zn**2 + p # następny wyraz ciągu\n",
    "        \n",
    "    return limit # warunek spełniony do limitu"
   ]
  },
  {
   "cell_type": "markdown",
   "metadata": {
    "slideshow": {
     "slide_type": "subslide"
    }
   },
   "source": [
    "## Przygotowanie zbioru\n",
    "\n",
    "---"
   ]
  },
  {
   "cell_type": "code",
   "execution_count": 56,
   "metadata": {
    "collapsed": false,
    "slideshow": {
     "slide_type": "-"
    }
   },
   "outputs": [],
   "source": [
    "size = 1000\n",
    "\n",
    "s = Screen(size, size)\n",
    "\n",
    "# podwójna pętla po wszystkich pikselach\n",
    "for x in range(size):\n",
    "    for y in range(size):\n",
    "        xs = -2.0 + 2.5 * x / size   # [-2.0, 0.5]\n",
    "        ys = -1.25 + 2.5 * y / size # [-1.25, 1.25]\n",
    "        s.set(x, y, mandelbrot(complex(xs, ys)))"
   ]
  },
  {
   "cell_type": "markdown",
   "metadata": {
    "slideshow": {
     "slide_type": "subslide"
    }
   },
   "source": [
    "## Najsłynniejszy fraktal\n",
    "\n",
    "---"
   ]
  },
  {
   "cell_type": "code",
   "execution_count": 57,
   "metadata": {
    "collapsed": true,
    "slideshow": {
     "slide_type": "skip"
    }
   },
   "outputs": [],
   "source": [
    "import matplotlib\n",
    "matplotlib.rcParams['figure.figsize'] = (10, 8)"
   ]
  },
  {
   "cell_type": "code",
   "execution_count": 58,
   "metadata": {
    "collapsed": false,
    "slideshow": {
     "slide_type": "-"
    }
   },
   "outputs": [
    {
     "data": {
      "image/png": "[encoded data removed]",
      "text/plain": [
       "<matplotlib.figure.Figure at 0x7f2c74041780>"
      ]
     },
     "metadata": {},
     "output_type": "display_data"
    }
   ],
   "source": [
    "s.show()"
   ]
  },
  {
   "cell_type": "markdown",
   "metadata": {
    "slideshow": {
     "slide_type": "slide"
    }
   },
   "source": [
    "## IFS (*iterated function system*)\n",
    "\n",
    "---\n",
    "\n",
    "* geometria fraktalna\n",
    "* przykład - paproć Barnsleya:\n",
    "\n",
    "$$f_1(x, y) = (0.85x + 0.04y, -0.04x + 0.85y + 1.6)$$\n",
    "$$f_2(x, y) = (-0.15x + 0.28y, 0.26x + 0.24y + 0.44)$$\n",
    "$$f_3(x, y) = (0.20x - 0.26y, 0.23x + 0.22y + 1.6)$$\n",
    "$$f_4(x, y) = (0, 0.16y)$$\n",
    "\n",
    "* w proporcjach 85:7:71"
   ]
  },
  {
   "cell_type": "markdown",
   "metadata": {
    "slideshow": {
     "slide_type": "subslide"
    }
   },
   "source": [
    "## Paproć Barnsleya\n",
    "\n",
    "---\n",
    "\n",
    "![](https://upload.wikimedia.org/wikipedia/commons/9/9c/Fractal_fern-Barnsley_animation.gif)"
   ]
  },
  {
   "cell_type": "markdown",
   "metadata": {
    "slideshow": {
     "slide_type": "subslide"
    }
   },
   "source": [
    "## IFS - przykład\n",
    "\n",
    "---"
   ]
  },
  {
   "cell_type": "code",
   "execution_count": 59,
   "metadata": {
    "collapsed": true,
    "slideshow": {
     "slide_type": "-"
    }
   },
   "outputs": [],
   "source": [
    "# źródło: https://scratch.mit.edu/projects/92421819/\n",
    "\n",
    "def f1(x, y): return 0.03*x, 0.1*y\n",
    "\n",
    "def f2(x, y): return 0.85*x, 0.85*y + 1.5\n",
    "\n",
    "def f3(x, y): return 0.8*x, 0.8*y + 1.5\n",
    "\n",
    "def f4(x, y): return 0.2*x - 0.08*y, 0.15*x + 0.22*y + 0.85\n",
    "\n",
    "def f5(x, y): return -0.2*x + 0.08*y, 0.15*x + 0.22*y + 0.85\n",
    "\n",
    "def f6(x, y): return 0.25*x-0.1*y, 0.12*x + 0.25*y + 0.3\n",
    "\n",
    "def f7(x, y): return -0.2*x + 0.1*y, 0.12*x + 0.2*y + 0.4"
   ]
  },
  {
   "cell_type": "markdown",
   "metadata": {
    "slideshow": {
     "slide_type": "subslide"
    }
   },
   "source": [
    "## Losowanie\n",
    "\n",
    "---"
   ]
  },
  {
   "cell_type": "code",
   "execution_count": 60,
   "metadata": {
    "collapsed": true,
    "slideshow": {
     "slide_type": "-"
    }
   },
   "outputs": [],
   "source": [
    "from random import randint\n",
    "\n",
    "def random_f():\n",
    "    # proporcje 2:60:10:7:7:7:7\n",
    "    x = randint(1,100)\n",
    "    if x <= 2: return f1\n",
    "    if x <= 62: return f2\n",
    "    if x <= 72: return f3\n",
    "    if x <= 79: return f4\n",
    "    if x <= 86: return f5\n",
    "    if x <= 93: return f6\n",
    "    return f7"
   ]
  },
  {
   "cell_type": "markdown",
   "metadata": {
    "slideshow": {
     "slide_type": "subslide"
    }
   },
   "source": [
    "## Przygotowanie danych\n",
    "\n",
    "---"
   ]
  },
  {
   "cell_type": "code",
   "execution_count": 61,
   "metadata": {
    "collapsed": false,
    "slideshow": {
     "slide_type": "-"
    }
   },
   "outputs": [],
   "source": [
    "n_iter = 100000\n",
    "size = 1000\n",
    "\n",
    "s = Screen(size, size)\n",
    "\n",
    "x, y = 0, 0 # punkt początkowy\n",
    "\n",
    "for _ in range(n_iter):\n",
    "    f = random_f() # losowa funkcja\n",
    "    x, y = f(x, y) # nowe współrzędne\n",
    "    xs = (x + 1.0) * size / 2\n",
    "    ys = y * size / 10.0\n",
    "    s.set(int(xs), int(ys), 500 - abs(xs - 500))"
   ]
  },
  {
   "cell_type": "markdown",
   "metadata": {
    "slideshow": {
     "slide_type": "subslide"
    }
   },
   "source": [
    "## Wesołych Świąt\n",
    "\n",
    "---"
   ]
  },
  {
   "cell_type": "code",
   "execution_count": 62,
   "metadata": {
    "collapsed": false,
    "slideshow": {
     "slide_type": "-"
    }
   },
   "outputs": [
    {
     "data": {
      "image/png": "[encoded data removed]",
      "text/plain": [
       "<matplotlib.figure.Figure at 0x7f2c73f63e48>"
      ]
     },
     "metadata": {},
     "output_type": "display_data"
    }
   ],
   "source": [
    "s.show(plt.cm.Greens)"
   ]
  }
 ],
 "metadata": {
  "anaconda-cloud": {},
  "celltoolbar": "Slideshow",
  "kernelspec": {
   "display_name": "Python [Root]",
   "language": "python",
   "name": "Python [Root]"
  },
  "language_info": {
   "codemirror_mode": {
    "name": "ipython",
    "version": 3
   },
   "file_extension": ".py",
   "mimetype": "text/x-python",
   "name": "python",
   "nbconvert_exporter": "python",
   "pygments_lexer": "ipython3",
   "version": "3.5.2"
  }
 },
 "nbformat": 4,
 "nbformat_minor": 1
}
