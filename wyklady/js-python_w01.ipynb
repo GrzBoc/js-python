{
 "cells": [
  {
   "cell_type": "markdown",
   "metadata": {
    "nbpresent": {
     "id": "40f70c9c-09df-4e99-b5fd-a7613178fdb7"
    },
    "slideshow": {
     "slide_type": "slide"
    }
   },
   "source": [
    "# Języki skryptowe - Python\n",
    "## Wykład 1"
   ]
  },
  {
   "cell_type": "markdown",
   "metadata": {
    "nbpresent": {
     "id": "9e80be75-c858-4702-90f5-ace3c0b5f277"
    },
    "slideshow": {
     "slide_type": "slide"
    }
   },
   "source": [
    "## Dane kontaktowe\n",
    "\n",
    "---\n",
    "\n",
    "* Tomasz Golan\n",
    "* pokój: 438\n",
    "* email: <tomasz.golan@uwr.edu.pl>\n",
    "* konsultacje: poniedziałek 10:00-11:30; piątek 15:00-16:30"
   ]
  },
  {
   "cell_type": "markdown",
   "metadata": {
    "nbpresent": {
     "id": "dfd71d91-0b43-4e32-a309-ed73907456ac"
    },
    "slideshow": {
     "slide_type": "subslide"
    }
   },
   "source": [
    "## Program\n",
    "\n",
    "---\n",
    "\n",
    "* wprowadzenie\n",
    "* podstawowe typy danych i operatory\n",
    "* wyrażenia warunkowe i pętle\n",
    "* funkcje i moduły\n",
    "* struktury danych\n",
    "* klasy i obiekty\n",
    "* operacje wejścia/wyjścia\n",
    "* obsługa wyjątków\n",
    "\n",
    "---\n",
    "\n",
    "* obliczenia numeryczne\n",
    "* debugowanie i profilowanie\n",
    "* tworzenie graficznego interfejsu użytkownika\n",
    "* dekoratory, funkcje lambda, generatory ..."
   ]
  },
  {
   "cell_type": "markdown",
   "metadata": {
    "nbpresent": {
     "id": "c757e67b-d7f6-4ec1-ae2b-ee5078705a9b"
    },
    "slideshow": {
     "slide_type": "subslide"
    }
   },
   "source": [
    "## Materiały do wykładów\n",
    "\n",
    "---\n",
    "\n",
    "* wykłady: https://github.com/TomaszGolan/js-python\n",
    "* wykłady archiwalne: https://tomaszgolan.github.io/js-python/\n",
    "* dokumentacja: https://www.python.org/\n",
    "\n",
    "---\n",
    "\n",
    "* A. B. Downey, J. Elkner, C. Meyers, “Think Python. How to Think Like a Computer Scientist”: http://www.greenteapress.com/thinkpython/\n",
    "* M. Pilgrim, “Dive into Python”: http://www.diveintopython.net/\n",
    "* Swaroop CH \"A Byte of Python\": https://python.swaroopch.com/ (tłumaczenie: http://python.edu.pl/byteofpython/)"
   ]
  },
  {
   "cell_type": "markdown",
   "metadata": {
    "nbpresent": {
     "id": "15d307a9-41dd-4042-93f5-869daf20f14b"
    },
    "slideshow": {
     "slide_type": "subslide"
    }
   },
   "source": [
    "## Zaliczenie\n",
    "\n",
    "---\n",
    "\n",
    "* ćwiczenia: listy zadań\n",
    "\n",
    "    * 4 listy zadań (październik, listopad, grudzień, styczeń)\n",
    "    * termin oddania: koniec miesiąca w nazwie listy\n",
    "    * spóźnienie: -n oceny (n = [miesiąc oddania] - [termin oddania])\n",
    "    * za oddanie zadania, którego studentka/student nie potrafi wyjaśnić: punkty karne z wagą 10\n",
    "    \n",
    "\n",
    "* wykład: egzamin praktyczny"
   ]
  },
  {
   "cell_type": "markdown",
   "metadata": {
    "nbpresent": {
     "id": "01a0171f-d23f-4938-8d73-3874c1cf9e9c"
    },
    "slideshow": {
     "slide_type": "slide"
    }
   },
   "source": [
    "## Język kompilowany\n",
    "\n",
    "---\n",
    "\n",
    "* przykłady: C / C++, Pascal\n",
    "* zalety: wydajność, błędy na etapie kompilacji, utrzymanie i rozwijanie kodu\n",
    "* wady: czas pisania, kompilacja dużych projektów"
   ]
  },
  {
   "cell_type": "code",
   "execution_count": null,
   "metadata": {
    "nbpresent": {
     "id": "6f08042e-a003-4b6b-925a-9fb929043f51"
    },
    "slideshow": {
     "slide_type": "-"
    }
   },
   "outputs": [],
   "source": [
    "from graphviz import Source\n",
    "\n",
    "Source('digraph \"kompilator\" { rankdir=LR; node [shape=\"box\", width=2]; \\\n",
    "        \"kod źródłowy\" -> \"kompilator\" -> \"kod maszynowy\" -> \"wynik\"}')"
   ]
  },
  {
   "cell_type": "markdown",
   "metadata": {
    "nbpresent": {
     "id": "371d5ff9-ccc5-4534-a4a0-c3440b9ed560"
    },
    "slideshow": {
     "slide_type": "subslide"
    }
   },
   "source": [
    "## Język interpretowany\n",
    "\n",
    "---\n",
    "\n",
    "* przykłady: Python, Perl\n",
    "* zalety: prosty, szybki i przyjemny\n",
    "* wady: wydajność, debugowanie (brak kompilacji)"
   ]
  },
  {
   "cell_type": "code",
   "execution_count": null,
   "metadata": {
    "nbpresent": {
     "id": "0c598dc7-50e3-4ab2-9f3a-47224c1cb974"
    },
    "slideshow": {
     "slide_type": "-"
    }
   },
   "outputs": [],
   "source": [
    "Source('digraph \"interpreter\" { rankdir=LR; node [shape=\"box\", width=2]; \\\n",
    "        \"kod źródłowy\" -> \"interpreter\" -> \"wynik\"}')"
   ]
  },
  {
   "cell_type": "markdown",
   "metadata": {
    "nbpresent": {
     "id": "fd287f8f-7775-433b-997a-d178455a3add"
    },
    "slideshow": {
     "slide_type": "subslide"
    }
   },
   "source": [
    "## Python\n",
    "\n",
    "---\n",
    "\n",
    "> Python is powerful... and fast;\n",
    "> plays well with others;\n",
    "> runs everywhere;\n",
    "> is friendly & easy to learn;\n",
    "> is Open.\n",
    "\n",
    "---\n",
    "\n",
    "* otwarte oprogramowanie (*open source*)\n",
    "* przenośny\n",
    "    * Linux, Mac OS - prawdopodobnie już jest\n",
    "    * Windows - instalator ze strony https://www.python.org\n",
    "    * Anaconda - https://www.continuum.io/\n",
    "* zwięzły i elegancki (prawie jak pseudokod)\n",
    "* automatyczne zarządzanie pamięcią (*garbage collection*)\n",
    "* bogata bilbioteka standardowa i niezliczona ilość bibliotek zewnętrznych\n",
    "* struktury wysokiego poziomu"
   ]
  },
  {
   "cell_type": "code",
   "execution_count": null,
   "metadata": {
    "nbpresent": {
     "id": "30ef332f-7a3b-43ed-8b15-194c49ac5d54"
    },
    "slideshow": {
     "slide_type": "subslide"
    }
   },
   "outputs": [],
   "source": [
    "import this"
   ]
  },
  {
   "cell_type": "markdown",
   "metadata": {
    "nbpresent": {
     "id": "70f4259d-d5ff-4e7b-9856-97ea384c0487"
    },
    "slideshow": {
     "slide_type": "subslide"
    }
   },
   "source": [
    "## Hello World!\n",
    "\n",
    "---\n",
    "\n",
    "```py\n",
    "# Python\n",
    "print(\"Hello World!\")\n",
    "```\n",
    "\n",
    "---\n",
    "\n",
    "```cpp\n",
    "// C++\n",
    "#include <iostream>\n",
    "\n",
    "int main()\n",
    "{\n",
    "    std::cout << \"Hello World!\";\n",
    "}\n",
    "```\n",
    "\n",
    "---\n",
    "\n",
    "\n",
    "```java\n",
    "// Java\n",
    "public class Hello {\n",
    "    public static void main(String []args) {\n",
    "        System.out.println(\"Hello World!\");\n",
    "    }\n",
    "}\n",
    "```"
   ]
  },
  {
   "cell_type": "markdown",
   "metadata": {
    "nbpresent": {
     "id": "c5c1be82-7980-43b9-816c-5fbe8dd0b4fe"
    },
    "slideshow": {
     "slide_type": "subslide"
    }
   },
   "source": [
    "## Zastosowanie\n",
    "\n",
    "---\n",
    "\n",
    "* internet: Yahoo, Google, ...\n",
    "* gry: Battlefield 2, Civilization 4, ...\n",
    "* grafika: Walt Disney, Blender 3D, ...\n",
    "* finanse: Altis Investment Management, Bellco Credit Union, ...\n",
    "* nauka: NASA, Los Alamos National Laboratory, ...\n",
    "* interfejs programistyczny aplikacji (*Application Programming Interface = API*): tensorflow (Google's machine learning), Amazon, Facebook, Youtube, ..."
   ]
  },
  {
   "cell_type": "markdown",
   "metadata": {
    "slideshow": {
     "slide_type": "subslide"
    }
   },
   "source": [
    "## Python 2 vs Python 3\n",
    "\n",
    "---\n",
    "\n",
    "* *Short version: Python 2.x is legacy, Python 3.x is the present and future of the language* (https://wiki.python.org/moin/Python2orPython3)\n",
    "* Python 3 jest gotowy, jednak nie wszystkie zewnętrzne biblioteki są już z nim kompatybilne"
   ]
  },
  {
   "cell_type": "markdown",
   "metadata": {
    "slideshow": {
     "slide_type": "subslide"
    }
   },
   "source": [
    "## Python 2 vs Python 3\n",
    "\n",
    "---\n",
    "\n",
    "* Niektóre zmiany są kosmetyczne\n",
    "\n",
    "```py\n",
    "# Python 2\n",
    "\n",
    "print \"Hello World!\"\n",
    "\n",
    "# Python 3\n",
    "\n",
    "print(\"Hello World!\")\n",
    "```"
   ]
  },
  {
   "cell_type": "markdown",
   "metadata": {
    "slideshow": {
     "slide_type": "subslide"
    }
   },
   "source": [
    "## Python 2 vs Python 3\n",
    "\n",
    "---\n",
    "\n",
    "* Niektóre niebezpieczne\n",
    "\n",
    "```py\n",
    "# Python 2\n",
    "\n",
    "3 / 2.0 # = 1.5\n",
    "3 / 2   # = 1\n",
    "\n",
    "# Python 3\n",
    "\n",
    "3 / 2.0 # = 1.5\n",
    "3 / 2   # = 1.5\n",
    "3 // 2  # = 1\n",
    "```"
   ]
  },
  {
   "cell_type": "markdown",
   "metadata": {
    "slideshow": {
     "slide_type": "subslide"
    }
   },
   "source": [
    "## Python 2 vs Python 3\n",
    "\n",
    "---\n",
    "\n",
    "* A niektóre gruntowne: iteratory\n",
    "* Niektóre elementy Pythona 3 można zaimportować w Pythonie 2\n",
    "\n",
    "```bash\n",
    "Python 2.7.12 (default, Jul  1 2016, 15:12:24) \n",
    "[GCC 5.4.0 20160609] on linux2\n",
    "Type \"help\", \"copyright\", \"credits\" or \"license\" for more information.\n",
    ">>> 3 / 2\n",
    "1\n",
    ">>> from __future__ import division\n",
    ">>> 3 / 2\n",
    "1.5\n",
    ">>> \n",
    "```\n",
    "\n",
    "* Więcej informacji: https://wiki.python.org/moin/Python2orPython3\n",
    "\n",
    "* Na wykładzie omawiany będzie Python 3"
   ]
  },
  {
   "cell_type": "markdown",
   "metadata": {
    "nbpresent": {
     "id": "de8bed10-4f1b-43ac-9e03-16c52b400b22"
    },
    "slideshow": {
     "slide_type": "subslide"
    }
   },
   "source": [
    "## Tryb interaktywny\n",
    "\n",
    "---\n",
    "\n",
    "```bash\n",
    "$ python\n",
    "Python 3.5.2 |Anaconda custom (64-bit)| (default, Jul  2 2016, 17:53:06) \n",
    "[GCC 4.4.7 20120313 (Red Hat 4.4.7-1)] on linux\n",
    "Type \"help\", \"copyright\", \"credits\" or \"license\" for more information.\n",
    ">>> oceny_uwr = {2.0: \"niedostateczny\", 3.0: \"dostateczny\",\n",
    "...              3.5: \"dostateczny plus\", 4.0: \"dobry\",\n",
    "...              4.5: \"dobry plus\", 5.0: \"bardzo dobry\"}\n",
    ">>> for ocena in sorted(oceny_uwr, reverse=True):\n",
    "...     print(ocena, oceny_uwr[ocena])\n",
    "... \n",
    "5.0 bardzo dobry\n",
    "4.5 dobry plus\n",
    "4.0 dobry\n",
    "3.5 dostateczny plus\n",
    "3.0 dostateczny\n",
    "2.0 niedostateczny\n",
    ">>> \n",
    "```"
   ]
  },
  {
   "cell_type": "markdown",
   "metadata": {
    "slideshow": {
     "slide_type": "subslide"
    }
   },
   "source": [
    "## Tryb skryptowy\n",
    "\n",
    "---\n",
    "\n",
    "```bash\n",
    "$ cat skala_ocen.py \n",
    "#!/usr/bin/env python\n",
    "\n",
    "oceny_uwr = {2.0: \"niedostateczny\", 3.0: \"dostateczny\",\n",
    "             3.5: \"dostateczny plus\", 4.0: \"dobry\",\n",
    "             4.5: \"dobry plus\", 5.0: \"bardzo dobry\"}\n",
    "\n",
    "for ocena in sorted(oceny_uwr, reverse=True):\n",
    "    print(ocena, oceny_uwr[ocena])\n",
    "    \n",
    "$ python skala_ocen.py \n",
    "5.0 bardzo dobry\n",
    "4.5 dobry plus\n",
    "4.0 dobry\n",
    "3.5 dostateczny plus\n",
    "3.0 dostateczny\n",
    "2.0 niedostateczny\n",
    "```"
   ]
  },
  {
   "cell_type": "markdown",
   "metadata": {
    "nbpresent": {
     "id": "a7edd500-6a72-4478-b5b2-8a320893104d"
    },
    "slideshow": {
     "slide_type": "subslide"
    }
   },
   "source": [
    "## Tryb skryptowy\n",
    "\n",
    "---\n",
    "\n",
    "```bash\n",
    "$ ./skala_ocen.py\n",
    "bash: ./skala_ocen.py: Permission denied\n",
    "\n",
    "$ chmod +x skala_ocen.py \n",
    "\n",
    "$ ./skala_ocen.py \n",
    "5.0 bardzo dobry\n",
    "4.5 dobry plus\n",
    "4.0 dobry\n",
    "3.5 dostateczny plus\n",
    "3.0 dostateczny\n",
    "2.0 niedostateczny\n",
    "```"
   ]
  },
  {
   "cell_type": "markdown",
   "metadata": {
    "slideshow": {
     "slide_type": "subslide"
    }
   },
   "source": [
    "## Jupyter\n",
    "\n",
    "---"
   ]
  },
  {
   "cell_type": "code",
   "execution_count": null,
   "metadata": {
    "nbpresent": {
     "id": "6bf5ab4c-bf38-4b2a-83ed-2c4326ee151f"
    },
    "slideshow": {
     "slide_type": "-"
    }
   },
   "outputs": [],
   "source": [
    "oceny_uwr = {2.0: \"niedostateczny\", 3.0: \"dostateczny\",\n",
    "             3.5: \"dostateczny plus\", 4.0: \"dobry\",\n",
    "             4.5: \"dobry plus\", 5.0: \"bardzo dobry\"}\n",
    "\n",
    "for ocena in sorted(oceny_uwr, reverse=True):\n",
    "    print(ocena, oceny_uwr[ocena])"
   ]
  },
  {
   "cell_type": "markdown",
   "metadata": {
    "nbpresent": {
     "id": "6704c308-4b74-4c21-861c-d60cf3e276d4"
    },
    "slideshow": {
     "slide_type": "subslide"
    }
   },
   "source": [
    "## Czytelność kodu\n",
    "\n",
    "---\n",
    "\n",
    "* przejrzysty kod\n",
    "* zrozumiałe nazwy zmiennych\n",
    "* komentarzy nigdy za wiele\n",
    "* dzielenie linii nie boli\n",
    "* konsekwencja w konwencji\n",
    "* najlepiej trzymać się standardu PEP 8: https://www.python.org/dev/peps/pep-0008/\n",
    "* ale bez przesady - przede wszystkim kod ma być czytelny"
   ]
  },
  {
   "cell_type": "markdown",
   "metadata": {
    "slideshow": {
     "slide_type": "subslide"
    }
   },
   "source": [
    "## Czytelność kodu\n",
    "\n",
    "---"
   ]
  },
  {
   "cell_type": "code",
   "execution_count": null,
   "metadata": {
    "nbpresent": {
     "id": "039b7d59-5ae9-4350-a2c3-36ce2f7175b6"
    },
    "slideshow": {
     "slide_type": "-"
    }
   },
   "outputs": [],
   "source": [
    "import random\n",
    "\n",
    "# skala ocen obowiązująca na Uniwersytecie Wrocławskim\n",
    "oceny_uwr = {2.0: \"niedostateczny\", 3.0: \"dostateczny\",\n",
    "             3.5: \"dostateczny plus\", 4.0: \"dobry\",\n",
    "             4.5: \"dobry plus\", 5.0: \"bardzo dobry\"}\n",
    "\n",
    "# lista studentów uczęszczających na zajęcia z Pythona\n",
    "lista_studentow = [\"Kasia\", \"Basia\", \"Józek\", \"Marek\"]\n",
    "\n",
    "# przez lenistwo prowadzącego oceny wystawiane losowo\n",
    "for student in lista_studentow:\n",
    "    # losowa ocena\n",
    "    ocena = random.choice(list(oceny_uwr))\n",
    "    # przypisanie oceny\n",
    "    print(student, \" -> \", oceny_uwr[ocena])"
   ]
  },
  {
   "cell_type": "markdown",
   "metadata": {
    "slideshow": {
     "slide_type": "subslide"
    }
   },
   "source": [
    "## Czytelność kodu\n",
    "\n",
    "---"
   ]
  },
  {
   "cell_type": "code",
   "execution_count": null,
   "metadata": {
    "nbpresent": {
     "id": "e009a058-b362-4d1f-8744-ecacfdeece38"
    },
    "slideshow": {
     "slide_type": "-"
    }
   },
   "outputs": [],
   "source": [
    "import random\n",
    "o = {2.0: \"niedostateczny\", 3.0: \"dostateczny\", 3.5: \"dostateczny plus\", 4.0: \"dobry\", 4.5: \"dobry plus\", 5.0: \"bardzo dobry\"}\n",
    "s = [\"Kasia\", \\\n",
    "     \"Basia\", \"Józek\",\n",
    "     \"Marek\"]\n",
    "for i in range(len(s)): x = random.randint(2, len(o) - 1); print(s[i], \" -> \", o[x])"
   ]
  },
  {
   "cell_type": "markdown",
   "metadata": {
    "nbpresent": {
     "id": "b9b188ad-5ba4-4464-9bff-2f534c82618d"
    },
    "slideshow": {
     "slide_type": "slide"
    }
   },
   "source": [
    "## Podstawowe typy danych \n",
    "\n",
    "---\n",
    "\n",
    "* typ całkowity (*int*)\n",
    "* typ zmiennoprzecinkowy (*float*)\n",
    "* typ zespolony (*complex*)\n",
    "* typ tekstowy (*str*)\n",
    "* zmienne są typowane dynamicznie"
   ]
  },
  {
   "cell_type": "code",
   "execution_count": null,
   "metadata": {
    "nbpresent": {
     "id": "56a633a5-1be6-429e-bb7e-5b28d2aa99c9"
    },
    "slideshow": {
     "slide_type": "-"
    }
   },
   "outputs": [],
   "source": [
    "x = 1   # [zmienna] [operator przypisania] [wartość]\n",
    "y = 1.0\n",
    "z = 1j\n",
    "\n",
    "# drukuj typy zmiennych x, y i z (oddzielone przecinkiem)\n",
    "print(type(x), type(y), type(z), sep=\", \")"
   ]
  },
  {
   "cell_type": "code",
   "execution_count": null,
   "metadata": {
    "nbpresent": {
     "id": "69fa5041-5f32-4332-b807-68d4324ee6bf"
    },
    "slideshow": {
     "slide_type": "-"
    }
   },
   "outputs": [],
   "source": [
    "x = y # przypisz zmiennej x wartość zmiennej y\n",
    "\n",
    "type(x) # a czemu nie <class 'float'>?"
   ]
  },
  {
   "cell_type": "markdown",
   "metadata": {
    "nbpresent": {
     "id": "8d5f99ab-c8a2-4a9d-a42c-eb660dda2b10"
    },
    "slideshow": {
     "slide_type": "subslide"
    }
   },
   "source": [
    "## Operacje na liczbach\n",
    "\n",
    "---"
   ]
  },
  {
   "cell_type": "code",
   "execution_count": null,
   "metadata": {
    "nbpresent": {
     "id": "65a6ba86-2ed8-4426-a3ee-d340e8f63896"
    },
    "slideshow": {
     "slide_type": "-"
    }
   },
   "outputs": [],
   "source": [
    "2 + 2 # suma dwóch liczb całkowitych -> liczba całkowita"
   ]
  },
  {
   "cell_type": "code",
   "execution_count": null,
   "metadata": {
    "nbpresent": {
     "id": "8384c78d-f549-4375-a9e0-e9211abd6481"
    },
    "slideshow": {
     "slide_type": "-"
    }
   },
   "outputs": [],
   "source": [
    "2 + 2.0 # wynikiem tej sumy jest liczba zmiennoprzecinkowa"
   ]
  },
  {
   "cell_type": "code",
   "execution_count": null,
   "metadata": {
    "nbpresent": {
     "id": "f2913760-c7f5-458d-a1c7-64eb02f5a32e"
    },
    "slideshow": {
     "slide_type": "-"
    }
   },
   "outputs": [],
   "source": [
    "5 - 2"
   ]
  },
  {
   "cell_type": "code",
   "execution_count": null,
   "metadata": {
    "nbpresent": {
     "id": "be71fbaf-645d-4b7b-8cb2-cb78667dd9a1"
    },
    "slideshow": {
     "slide_type": "-"
    }
   },
   "outputs": [],
   "source": [
    "-5 * 2 "
   ]
  },
  {
   "cell_type": "code",
   "execution_count": null,
   "metadata": {
    "nbpresent": {
     "id": "b84c6d91-d154-4d83-8329-abab3ff87a81"
    },
    "slideshow": {
     "slide_type": "-"
    }
   },
   "outputs": [],
   "source": [
    "5 / 2 # w Pythonie 3 dzielenie zawsze zwraca liczbę zmiennoprzecinkową"
   ]
  },
  {
   "cell_type": "code",
   "execution_count": null,
   "metadata": {
    "nbpresent": {
     "id": "00ea453f-4913-4a90-8661-a68b5a4574b2"
    },
    "slideshow": {
     "slide_type": "-"
    }
   },
   "outputs": [],
   "source": [
    "6 / 2 # nawet jeśli jest \"całkowita\""
   ]
  },
  {
   "cell_type": "code",
   "execution_count": null,
   "metadata": {
    "nbpresent": {
     "id": "d2cf357c-bbb0-4e8b-b0f6-e203dfa9dcc0"
    },
    "slideshow": {
     "slide_type": "-"
    }
   },
   "outputs": [],
   "source": [
    "5 // 2 # chyba że użyjemy //"
   ]
  },
  {
   "cell_type": "markdown",
   "metadata": {
    "slideshow": {
     "slide_type": "subslide"
    }
   },
   "source": [
    "## Operacje na liczbach\n",
    "\n",
    "---"
   ]
  },
  {
   "cell_type": "code",
   "execution_count": null,
   "metadata": {
    "nbpresent": {
     "id": "80756bc1-7a0e-4479-9125-832c3a8f1a19"
    },
    "slideshow": {
     "slide_type": "-"
    }
   },
   "outputs": [],
   "source": [
    "5 % 2 # reszta z dzielenia (operator modulo)"
   ]
  },
  {
   "cell_type": "code",
   "execution_count": null,
   "metadata": {
    "nbpresent": {
     "id": "e5988748-0449-4520-b98c-43765e71ac61"
    },
    "slideshow": {
     "slide_type": "-"
    }
   },
   "outputs": [],
   "source": [
    "int(2.5) # jawne rzutowanie na int"
   ]
  },
  {
   "cell_type": "code",
   "execution_count": null,
   "metadata": {
    "nbpresent": {
     "id": "c1f10933-6724-42d1-bd5d-eb7ab1b549ea"
    },
    "slideshow": {
     "slide_type": "-"
    }
   },
   "outputs": [],
   "source": [
    "float(1) # jawne rzutowanie na float"
   ]
  },
  {
   "cell_type": "code",
   "execution_count": null,
   "metadata": {
    "nbpresent": {
     "id": "053891c8-3473-4ac9-b14d-2cedd09e595c"
    },
    "slideshow": {
     "slide_type": "-"
    }
   },
   "outputs": [],
   "source": [
    "complex(1,1) # liczby zespolone"
   ]
  },
  {
   "cell_type": "code",
   "execution_count": null,
   "metadata": {
    "nbpresent": {
     "id": "9425fde2-889e-4b7d-baa7-a2cf307da56c"
    },
    "slideshow": {
     "slide_type": "-"
    }
   },
   "outputs": [],
   "source": [
    "1+1j # można wprowadzać na dwa sposoby"
   ]
  },
  {
   "cell_type": "code",
   "execution_count": null,
   "metadata": {
    "nbpresent": {
     "id": "8f72ac2b-9056-4564-a98d-208561c46ec9"
    },
    "slideshow": {
     "slide_type": "-"
    }
   },
   "outputs": [],
   "source": [
    "(1+2j).real # część rzeczywista"
   ]
  },
  {
   "cell_type": "code",
   "execution_count": null,
   "metadata": {
    "nbpresent": {
     "id": "4f5d7e2e-f33c-4afc-bc9d-91324a5c211e"
    },
    "slideshow": {
     "slide_type": "-"
    }
   },
   "outputs": [],
   "source": [
    "(1+2j).imag # część urojona"
   ]
  },
  {
   "cell_type": "markdown",
   "metadata": {
    "slideshow": {
     "slide_type": "subslide"
    }
   },
   "source": [
    "## Operacje na liczbach\n",
    "\n",
    "---"
   ]
  },
  {
   "cell_type": "code",
   "execution_count": null,
   "metadata": {
    "nbpresent": {
     "id": "2cc5396d-c854-4706-8ab1-bdd224118add"
    },
    "slideshow": {
     "slide_type": "-"
    }
   },
   "outputs": [],
   "source": [
    "abs(-10) # moduł"
   ]
  },
  {
   "cell_type": "code",
   "execution_count": null,
   "metadata": {
    "nbpresent": {
     "id": "ca2dd409-2de2-4d06-a4b5-c6e35b76c3ec"
    },
    "slideshow": {
     "slide_type": "-"
    }
   },
   "outputs": [],
   "source": [
    "abs(-2.5)"
   ]
  },
  {
   "cell_type": "code",
   "execution_count": null,
   "metadata": {
    "nbpresent": {
     "id": "f719ef75-168e-4c8b-a082-8c8b3a572266"
    },
    "slideshow": {
     "slide_type": "-"
    }
   },
   "outputs": [],
   "source": [
    "abs(1+1j) # moduł liczby zespolonej"
   ]
  },
  {
   "cell_type": "code",
   "execution_count": null,
   "metadata": {
    "nbpresent": {
     "id": "03f201f2-23f0-4966-965c-05db4412542f"
    },
    "slideshow": {
     "slide_type": "-"
    }
   },
   "outputs": [],
   "source": [
    "int(1+1j) # rzutowania bez sensu zwrócą błąd"
   ]
  },
  {
   "cell_type": "code",
   "execution_count": null,
   "metadata": {
    "nbpresent": {
     "id": "d1b50ea1-9fd0-4878-96ca-a961b1e9a9e8"
    },
    "slideshow": {
     "slide_type": "-"
    }
   },
   "outputs": [],
   "source": [
    "(1+1j).conjugate() # sprzężenie liczby zespolonej"
   ]
  },
  {
   "cell_type": "markdown",
   "metadata": {
    "slideshow": {
     "slide_type": "subslide"
    }
   },
   "source": [
    "## Operacje na liczbach\n",
    "\n",
    "---"
   ]
  },
  {
   "cell_type": "code",
   "execution_count": null,
   "metadata": {
    "nbpresent": {
     "id": "be052e12-679f-4f2d-8ea7-8a006e14fd56"
    },
    "slideshow": {
     "slide_type": "-"
    }
   },
   "outputs": [],
   "source": [
    "divmod(10, 3) # para (10 // 3 i 10 % 3)"
   ]
  },
  {
   "cell_type": "code",
   "execution_count": null,
   "metadata": {
    "nbpresent": {
     "id": "a39bd788-8677-4933-8373-173d80050edd"
    },
    "slideshow": {
     "slide_type": "-"
    }
   },
   "outputs": [],
   "source": [
    "divmod(10, 3+1j) # no bo jak..."
   ]
  },
  {
   "cell_type": "code",
   "execution_count": null,
   "metadata": {
    "nbpresent": {
     "id": "8db31111-50de-4c13-95c4-e7a9c9557a56"
    },
    "slideshow": {
     "slide_type": "-"
    }
   },
   "outputs": [],
   "source": [
    "pow(2, 3) # pow(a, b) = a^b"
   ]
  },
  {
   "cell_type": "code",
   "execution_count": null,
   "metadata": {
    "nbpresent": {
     "id": "e074efaf-afc5-4a62-bb55-77ffa854ec88"
    },
    "slideshow": {
     "slide_type": "-"
    }
   },
   "outputs": [],
   "source": [
    "pow(2, 3.0) # zwróć uwagę na typy"
   ]
  },
  {
   "cell_type": "code",
   "execution_count": null,
   "metadata": {
    "nbpresent": {
     "id": "3c784469-a6d6-48f8-bfe9-8e7184f6b534"
    },
    "slideshow": {
     "slide_type": "-"
    }
   },
   "outputs": [],
   "source": [
    "2 ** 3 # inna wersja a^b"
   ]
  },
  {
   "cell_type": "code",
   "execution_count": null,
   "metadata": {
    "nbpresent": {
     "id": "ac8bad1e-f19f-4bb2-85ac-cb05a3449339"
    },
    "slideshow": {
     "slide_type": "-"
    }
   },
   "outputs": [],
   "source": [
    "1j ** 2 # dla zespolonych też działa"
   ]
  },
  {
   "cell_type": "markdown",
   "metadata": {
    "nbpresent": {
     "id": "5a3db116-371a-42d6-ae5f-c640827e9792"
    },
    "slideshow": {
     "slide_type": "subslide"
    }
   },
   "source": [
    "## Moduł math\n",
    "\n",
    "---"
   ]
  },
  {
   "cell_type": "code",
   "execution_count": null,
   "metadata": {
    "nbpresent": {
     "id": "fd9af1ea-8ca6-4c87-ae2c-96fb85713d29"
    },
    "slideshow": {
     "slide_type": "-"
    }
   },
   "outputs": [],
   "source": [
    "import math # import [moduł]\n",
    "\n",
    "dir (math) # lista dostępnych funkcji"
   ]
  },
  {
   "cell_type": "markdown",
   "metadata": {
    "slideshow": {
     "slide_type": "subslide"
    }
   },
   "source": [
    "## Moduł math\n",
    "\n",
    "---"
   ]
  },
  {
   "cell_type": "code",
   "execution_count": null,
   "metadata": {
    "nbpresent": {
     "id": "393c29ee-e3a7-4dec-9b7a-1c1862e3216f"
    },
    "slideshow": {
     "slide_type": "-"
    }
   },
   "outputs": [],
   "source": [
    "help(math.floor) # dokumentacja funkcji floor z math"
   ]
  },
  {
   "cell_type": "code",
   "execution_count": null,
   "metadata": {
    "nbpresent": {
     "id": "51464f15-ec1e-4f9b-b16b-39a0e63ac18e"
    },
    "slideshow": {
     "slide_type": "-"
    }
   },
   "outputs": [],
   "source": [
    "help(math.ceil) # zwróć uwagę na: moduł.funkcja"
   ]
  },
  {
   "cell_type": "markdown",
   "metadata": {
    "slideshow": {
     "slide_type": "subslide"
    }
   },
   "source": [
    "## Moduł math\n",
    "\n",
    "---"
   ]
  },
  {
   "cell_type": "code",
   "execution_count": null,
   "metadata": {
    "nbpresent": {
     "id": "b64bde8a-0766-459a-adb3-496998937270"
    },
    "slideshow": {
     "slide_type": "-"
    }
   },
   "outputs": [],
   "source": [
    "int(2.8) # rzutowanie float na int \"ucina wszystko po kropce\""
   ]
  },
  {
   "cell_type": "code",
   "execution_count": null,
   "metadata": {
    "nbpresent": {
     "id": "cf431f59-5051-4338-ba4d-36d1567edea3"
    },
    "slideshow": {
     "slide_type": "-"
    }
   },
   "outputs": [],
   "source": [
    "math.floor(2.8) # tak jak funkcja math.floor"
   ]
  },
  {
   "cell_type": "code",
   "execution_count": null,
   "metadata": {
    "nbpresent": {
     "id": "014732d4-e815-4ea3-ab8d-e4a3d975466c"
    },
    "slideshow": {
     "slide_type": "-"
    }
   },
   "outputs": [],
   "source": [
    "math.ceil(2.8) # funkcja math.ceil zaokrągla w górę"
   ]
  },
  {
   "cell_type": "code",
   "execution_count": null,
   "metadata": {
    "nbpresent": {
     "id": "c603b8c8-9666-4566-8099-b3ec10409940"
    },
    "slideshow": {
     "slide_type": "-"
    }
   },
   "outputs": [],
   "source": [
    "math.ceil(2.1) # zawsze w górę (patrz definicja)"
   ]
  },
  {
   "cell_type": "markdown",
   "metadata": {
    "slideshow": {
     "slide_type": "subslide"
    }
   },
   "source": [
    "## Moduł math\n",
    "\n",
    "---"
   ]
  },
  {
   "cell_type": "code",
   "execution_count": null,
   "metadata": {
    "nbpresent": {
     "id": "9dcd6dca-e868-41d8-b32c-bf4405cbbf8f"
    },
    "slideshow": {
     "slide_type": "-"
    }
   },
   "outputs": [],
   "source": [
    "import cmath # biblioteka standardowa dla liczb zespolonych\n",
    "\n",
    "dir(cmath) # porównaj z dir(math), jasne czemu moduł.funkcja?"
   ]
  },
  {
   "cell_type": "markdown",
   "metadata": {
    "slideshow": {
     "slide_type": "subslide"
    }
   },
   "source": [
    "## Moduł math\n",
    "\n",
    "---"
   ]
  },
  {
   "cell_type": "code",
   "execution_count": null,
   "metadata": {
    "nbpresent": {
     "id": "eff2592c-45c3-4f35-afa0-b696b0ebb5d1"
    },
    "slideshow": {
     "slide_type": "-"
    }
   },
   "outputs": [],
   "source": [
    "cmath.sqrt(-1) # cmath potrafi"
   ]
  },
  {
   "cell_type": "code",
   "execution_count": null,
   "metadata": {
    "nbpresent": {
     "id": "237e0b19-8298-4e7b-8b4e-99bad2b5e130"
    },
    "slideshow": {
     "slide_type": "-"
    }
   },
   "outputs": [],
   "source": [
    "math.sqrt(-1) # ale math już nie"
   ]
  },
  {
   "cell_type": "markdown",
   "metadata": {
    "slideshow": {
     "slide_type": "slide"
    }
   },
   "source": [
    "## Typ tekstowy\n",
    "\n",
    "---\n",
    "\n",
    "* Python 3 używa domyślnie kodowania *unicode* dla typu *str*\n",
    "* Dzięki czemu mamy polskie znaki od ręki\n",
    "\n",
    "```py\n",
    "Python 3.5.2 |Anaconda 4.2.0 (64-bit)| (default, Jul  2 2016, 17:53:06) \n",
    "[GCC 4.4.7 20120313 (Red Hat 4.4.7-1)] on linux\n",
    "Type \"help\", \"copyright\", \"credits\" or \"license\" for more information.\n",
    ">>> s = \"zażółć gęślą jaźń\"\n",
    ">>> s\n",
    "'zażółć gęślą jaźń'\n",
    ">>> \n",
    "```"
   ]
  },
  {
   "cell_type": "markdown",
   "metadata": {
    "slideshow": {
     "slide_type": "subslide"
    }
   },
   "source": [
    "## Typ tekstowy bez *unicode*\n",
    "\n",
    "---\n",
    "\n",
    "```py\n",
    "Python 2.7.12 (default, Jul  1 2016, 15:12:24) \n",
    "[GCC 5.4.0 20160609] on linux2\n",
    "Type \"help\", \"copyright\", \"credits\" or \"license\" for more information.\n",
    ">>> s = \"zażółć gęślą jaźń\"\n",
    ">>> s\n",
    "'za\\xc5\\xbc\\xc3\\xb3\\xc5\\x82\\xc4\\x87 g\\xc4\\x99\\xc5\\x9bl\\xc4\\x85 ja\\xc5\\xba\\xc5\\x84'\n",
    ">>> \n",
    "```"
   ]
  },
  {
   "cell_type": "markdown",
   "metadata": {
    "nbpresent": {
     "id": "c561fd19-4de2-4ec7-bad3-cf8ce43223b0"
    },
    "slideshow": {
     "slide_type": "subslide"
    }
   },
   "source": [
    "## Typ tekstowy\n",
    "\n",
    "---\n",
    "\n",
    "* Literał łańcuchowy można wprowadzić przez:\n",
    "    * pojedynczy cudzysłów\n",
    "    ```py\n",
    "    s = 'zażółć gęślą jaźń'\n",
    "    ```\n",
    "    * podwójny cudzysłów\n",
    "    ```py\n",
    "    s = \"zażółć gęślą jaźń\"\n",
    "    ```\n",
    "    * potrójny cudzysłów\n",
    "    ```py\n",
    "    s = '''zażółć gęślą jaźń'''\n",
    "    s = \"\"\"zażółć gęślą jaźń\"\"\"\n",
    "    ```"
   ]
  },
  {
   "cell_type": "markdown",
   "metadata": {
    "nbpresent": {
     "id": "5ed05482-343a-4c6b-9180-602cd21c35d5"
    },
    "slideshow": {
     "slide_type": "subslide"
    }
   },
   "source": [
    "## Znak ucieczki\n",
    "\n",
    "---\n",
    "\n",
    "* zmienia interpretację znaku\n",
    "* w Pythonie (i prawie zawsze) jest to \"\\\""
   ]
  },
  {
   "cell_type": "code",
   "execution_count": null,
   "metadata": {
    "nbpresent": {
     "id": "50524b13-3e11-4278-a01a-dc9dedf4f5df"
    },
    "slideshow": {
     "slide_type": "-"
    }
   },
   "outputs": [],
   "source": [
    "print(\"Ala powiedziała: \"Mam kota.\" ...\") # cudzysłów kończy literał"
   ]
  },
  {
   "cell_type": "code",
   "execution_count": null,
   "metadata": {
    "nbpresent": {
     "id": "23d0cd53-c23b-448c-8509-4398144a2305"
    },
    "slideshow": {
     "slide_type": "-"
    }
   },
   "outputs": [],
   "source": [
    "print(\"Ala powiedziała: \\\"Mam kota.\\\" ...\") # chyba że \"uciekniemy\""
   ]
  },
  {
   "cell_type": "code",
   "execution_count": null,
   "metadata": {
    "nbpresent": {
     "id": "4bdca58d-9beb-4acb-9690-6d9e688cc824"
    },
    "slideshow": {
     "slide_type": "-"
    }
   },
   "outputs": [],
   "source": [
    "print('Ala powiedziała: \"Mam kota.\" ...') # kombinacja ' i \""
   ]
  },
  {
   "cell_type": "code",
   "execution_count": null,
   "metadata": {
    "nbpresent": {
     "id": "78187419-0fd3-4472-9f98-52ef73f4b0f6"
    },
    "slideshow": {
     "slide_type": "-"
    }
   },
   "outputs": [],
   "source": [
    "print(\"Ala powiedziała: 'Mam kota.' ...\") # działa w obie strony"
   ]
  },
  {
   "cell_type": "markdown",
   "metadata": {
    "nbpresent": {
     "id": "e180dd3b-3dfe-4cfc-88ff-3d949fce3188"
    },
    "slideshow": {
     "slide_type": "subslide"
    }
   },
   "source": [
    "## Wybrane sekewncje specjalne\n",
    "\n",
    "---\n",
    "\n",
    "* `\\n` - nowa linia\n",
    "* `\\t` - tabulacja\n",
    "* `\\r` - powrót kursora\n",
    "* `\\v` - pionowa tabulacja"
   ]
  },
  {
   "cell_type": "code",
   "execution_count": null,
   "metadata": {
    "nbpresent": {
     "id": "885fbec7-8f4d-42ec-9118-cb1c6e9b78d0"
    },
    "slideshow": {
     "slide_type": "-"
    }
   },
   "outputs": [],
   "source": [
    "print(\"\\\\n wstawia nową linię.\\nNowa linia.\") # zwróć uwagę na \\\\n"
   ]
  },
  {
   "cell_type": "code",
   "execution_count": null,
   "metadata": {
    "nbpresent": {
     "id": "d97b06d1-3c24-4e92-a1a6-03b4693aba6c"
    },
    "slideshow": {
     "slide_type": "-"
    }
   },
   "outputs": [],
   "source": [
    "print(\"\\tTabulacja też się przydaje.\") # brak spacji po \\t"
   ]
  },
  {
   "cell_type": "markdown",
   "metadata": {
    "nbpresent": {
     "id": "d2826524-8484-48dd-ad3a-c3d82558371b"
    },
    "slideshow": {
     "slide_type": "subslide"
    }
   },
   "source": [
    "## *Carriage return*\n",
    "\n",
    "---\n",
    "\n",
    "*(Jupyter nie rozumie `\\r`)* \n",
    "\n",
    "```py\n",
    "# nowa forma importowania: from [moduł] import [funkcja]\n",
    "from time import sleep\n",
    "# alternatywa: import time\n",
    "\n",
    "# drukujemy liczby od 0 do 100\n",
    "for i in range(100):\n",
    "    print(i, end=\"%\\r\") # kończąc każdą linię % i carriage return\n",
    "    sleep(1) # i czekamy sekundę na następną liczbę\n",
    "    # alternatywa: time.sleep(1)\n",
    "```"
   ]
  },
  {
   "cell_type": "markdown",
   "metadata": {
    "nbpresent": {
     "id": "7a05a25b-d4c0-4010-9181-98a8602c189d"
    },
    "slideshow": {
     "slide_type": "subslide"
    }
   },
   "source": [
    "## Długie łancuchy\n",
    "\n",
    "---"
   ]
  },
  {
   "cell_type": "code",
   "execution_count": null,
   "metadata": {
    "nbpresent": {
     "id": "b8912f59-09de-4394-959f-99f009a49ee2"
    },
    "scrolled": true,
    "slideshow": {
     "slide_type": "-"
    }
   },
   "outputs": [],
   "source": [
    "tekst = \"Lorem Ipsum jest tekstem stosowanym jako przykładowy wypełniacz w przemyśle poligraficznym. Został po raz pierwszy użyty w XV w. przez nieznanego drukarza do wypełnienia tekstem próbnej książki. Pięć wieków później zaczął być używany przemyśle elektronicznym, pozostając praktycznie niezmienionym. Spopularyzował się w latach 60. XX w. wraz z publikacją arkuszy Letrasetu, zawierających fragmenty Lorem Ipsum, a ostatnio z zawierającym różne wersje Lorem Ipsum oprogramowaniem przeznaczonym do realizacji druków na komputerach osobistych, jak Aldus PageMaker\"\n",
    "\n",
    "print(tekst)"
   ]
  },
  {
   "cell_type": "markdown",
   "metadata": {
    "slideshow": {
     "slide_type": "subslide"
    }
   },
   "source": [
    "## Długie łancuchy\n",
    "\n",
    "---"
   ]
  },
  {
   "cell_type": "code",
   "execution_count": null,
   "metadata": {
    "nbpresent": {
     "id": "078d8915-79e6-48e0-ad14-2c053d37f867"
    },
    "slideshow": {
     "slide_type": "-"
    }
   },
   "outputs": [],
   "source": [
    "tekst = \"Lorem Ipsum jest tekstem stosowanym jako przykładowy \\\n",
    "        wypełniacz w przemyśle poligraficznym. Został po raz \\\n",
    "        pierwszy użyty w XV w. przez nieznanego drukarza do \\\n",
    "        wypełnienia tekstem próbnej książki. Pięć wieków później \\\n",
    "        zaczął być używany przemyśle elektronicznym, \\\n",
    "        pozostając praktycznie niezmienionym. Spopularyzował się \\\n",
    "        w latach 60. XX w. wraz z publikacją arkuszy Letrasetu, \\\n",
    "        zawierających fragmenty Lorem Ipsum, a ostatnio z zawierającym \\\n",
    "        różne wersje Lorem Ipsum oprogramowaniem przeznaczonym do \\\n",
    "        realizacji druków na komputerach osobistych, jak Aldus PageMaker\"\n",
    "\n",
    "print(tekst)"
   ]
  },
  {
   "cell_type": "markdown",
   "metadata": {
    "slideshow": {
     "slide_type": "subslide"
    }
   },
   "source": [
    "## Długie łancuchy\n",
    "\n",
    "---"
   ]
  },
  {
   "cell_type": "code",
   "execution_count": null,
   "metadata": {
    "nbpresent": {
     "id": "62548a5a-6081-4a86-9f09-6b456a1f5287"
    },
    "slideshow": {
     "slide_type": "-"
    }
   },
   "outputs": [],
   "source": [
    "tekst = \"Lorem Ipsum jest tekstem stosowanym jako przykładowy \" \\\n",
    "        \"wypełniacz w przemyśle poligraficznym. Został po raz \" \\\n",
    "        \"pierwszy użyty w XV w. przez nieznanego drukarza do \" \\\n",
    "        \"wypełnienia tekstem próbnej książki. Pięć wieków później \" \\\n",
    "        \"zaczął być używany przemyśle elektronicznym, \" \\\n",
    "        \"pozostając praktycznie niezmienionym. Spopularyzował się \" \\\n",
    "        \"w latach 60. XX w. wraz z publikacją arkuszy Letrasetu, \" \\\n",
    "        \"zawierających fragmenty Lorem Ipsum, a ostatnio z zawierającym \" \\\n",
    "        \"różne wersje Lorem Ipsum oprogramowaniem przeznaczonym do \" \\\n",
    "        \"realizacji druków na komputerach osobistych, jak Aldus PageMaker \"\n",
    "\n",
    "print(tekst) # \"slowo\" \"slowo\" = \"slowo\" + \"slowo\""
   ]
  },
  {
   "cell_type": "markdown",
   "metadata": {
    "slideshow": {
     "slide_type": "subslide"
    }
   },
   "source": [
    "## Długie łancuchy\n",
    "\n",
    "---"
   ]
  },
  {
   "cell_type": "code",
   "execution_count": null,
   "metadata": {
    "nbpresent": {
     "id": "ebf68a71-7774-4238-88cb-af2bb01de4de"
    },
    "slideshow": {
     "slide_type": "-"
    }
   },
   "outputs": [],
   "source": [
    "tekst = \"Lorem Ipsum jest tekstem stosowanym jako przykładowy\\n\" \\\n",
    "        \"wypełniacz w przemyśle poligraficznym. Został po raz\\n\" \\\n",
    "        \"pierwszy użyty w XV w. przez nieznanego drukarza do\\n\" \\\n",
    "        \"wypełnienia tekstem próbnej książki. Pięć wieków później\\n\" \\\n",
    "        \"zaczął być używany przemyśle elektronicznym,\\n\" \\\n",
    "        \"pozostając praktycznie niezmienionym. Spopularyzował się\\n\" \\\n",
    "        \"w latach 60. XX w. wraz z publikacją arkuszy Letrasetu,\\n\" \\\n",
    "        \"zawierających fragmenty Lorem Ipsum, a ostatnio z zawierającym\\n\" \\\n",
    "        \"różne wersje Lorem Ipsum oprogramowaniem przeznaczonym do\\n\" \\\n",
    "        \"realizacji druków na komputerach osobistych, jak Aldus PageMaker\\n\"\n",
    "\n",
    "print(tekst)"
   ]
  },
  {
   "cell_type": "markdown",
   "metadata": {
    "slideshow": {
     "slide_type": "subslide"
    }
   },
   "source": [
    "## Długie łancuchy\n",
    "\n",
    "---"
   ]
  },
  {
   "cell_type": "code",
   "execution_count": null,
   "metadata": {
    "nbpresent": {
     "id": "fd768496-5fac-4871-a6d3-b34379222d33"
    },
    "slideshow": {
     "slide_type": "-"
    }
   },
   "outputs": [],
   "source": [
    "tekst = \"\"\"Lorem Ipsum jest tekstem stosowanym jako przykładowy\n",
    "wypełniacz w przemyśle poligraficznym. Został po raz\n",
    "pierwszy użyty w XV w. przez nieznanego drukarza do\n",
    "wypełnienia tekstem próbnej książki. Pięć wieków później\n",
    "zaczął być używany przemyśle elektronicznym,\n",
    "pozostając praktycznie niezmienionym. Spopularyzował się\n",
    "w latach 60. XX w. wraz z publikacją arkuszy Letrasetu,\n",
    "zawierających fragmenty Lorem Ipsum, a ostatnio z zawierającym\n",
    "różne wersje Lorem Ipsum oprogramowaniem przeznaczonym do\n",
    "realizacji druków na komputerach osobistych, jak Aldus PageMaker\n",
    "\"\"\"\n",
    "\n",
    "print(tekst)"
   ]
  },
  {
   "cell_type": "markdown",
   "metadata": {
    "nbpresent": {
     "id": "68e73f56-cbf7-4e22-aa34-197ca6ee5779"
    },
    "slideshow": {
     "slide_type": "slide"
    }
   },
   "source": [
    "## Przykłady prostych programów"
   ]
  },
  {
   "cell_type": "code",
   "execution_count": null,
   "metadata": {
    "collapsed": true,
    "slideshow": {
     "slide_type": "subslide"
    }
   },
   "outputs": [],
   "source": [
    "# źródło: http://jakevdp.github.io/blog/2013/05/28/a-simple-animation-the-magic-triangle/\n",
    "\n",
    "from JSAnimation.IPython_display import display_animation\n",
    "from matplotlib import animation\n",
    "# importowanie jeszcze inaczej: import [moduł].[funkcja] as [moja nazwa]\n",
    "import matplotlib.pyplot as plt\n",
    "import numpy as np\n",
    "\n",
    "# Set up the axes, making sure the axis ratio is equal\n",
    "fig = plt.figure(figsize=(6.5, 2.5))\n",
    "ax = fig.add_axes([0, 0, 1, 1], xlim=(-0.02, 13.02), ylim=(-0.02, 5.02),\n",
    "                  xticks=range(14), yticks=range(6), aspect='equal', frameon=False)\n",
    "ax.grid(True)\n",
    "\n",
    "# Define the shapes of the polygons\n",
    "P1 = np.array([[0, 0], [5, 0], [5, 2], [0, 0]])\n",
    "P2 = np.array([[0, 0], [8, 0], [8, 3], [0, 0]])\n",
    "P3 = np.array([[0, 0], [5, 0], [5, 1], [3, 1], [3, 2], [0, 2], [0, 0]])\n",
    "P4 = np.array([[0, 1], [3, 1], [3, 0], [5, 0], [5, 2], [0, 2], [0, 1]])\n",
    "\n",
    "# Draw the empty polygons for the animation\n",
    "patches = [ax.add_patch(plt.Polygon(P1, fc='g', ec='k', alpha=0.5)),\n",
    "           ax.add_patch(plt.Polygon(P2, fc='b', ec='k', alpha=0.5)),\n",
    "           ax.add_patch(plt.Polygon(P3, fc='y', ec='k', alpha=0.5)),\n",
    "           ax.add_patch(plt.Polygon(P4, fc='r', ec='k', alpha=0.5))]"
   ]
  },
  {
   "cell_type": "code",
   "execution_count": null,
   "metadata": {
    "nbpresent": {
     "id": "09636484-8db0-49c8-a4e6-de77e2c76730"
    },
    "slideshow": {
     "slide_type": "subslide"
    }
   },
   "outputs": [],
   "source": [
    "# This function moves the polygons as a function of the frame i\n",
    "Nframes = 30\n",
    "def animate(nframe):\n",
    "    f = nframe / (Nframes - 1.0)\n",
    "    patches[0].set_xy(P1 + (8 - 8 * f, 3 - 3 * f + 0.5 * np.sin(f * np.pi)))\n",
    "    patches[1].set_xy(P2 + (5 * f, 2 * f - 0.5 * np.sin(f * np.pi)))\n",
    "    patches[2].set_xy(P3 + (8 - 3 * f, 0))\n",
    "    patches[3].set_xy(P4 + (8, 1 - f))\n",
    "    return patches\n",
    "\n",
    "anim = animation.FuncAnimation(fig, animate, frames=Nframes, interval=50)\n",
    "display_animation(anim, default_mode='once')"
   ]
  },
  {
   "cell_type": "code",
   "execution_count": null,
   "metadata": {
    "nbpresent": {
     "id": "b41a18b7-326c-448a-b86e-419779d64494"
    },
    "slideshow": {
     "slide_type": "subslide"
    }
   },
   "outputs": [],
   "source": [
    "import turtle # kto zna AC Logo?\n",
    "\n",
    "pen = turtle.Turtle() # o tym na kolejnych wykładach\n",
    "\n",
    "n_steps = 90 # w ilu krokach robimy 360 stopni\n",
    "\n",
    "for i in range(n_steps):\n",
    "    \n",
    "    pen.forward(100) # rysuj 100 do przodu\n",
    "    pen.right(45)    # obróć się w prawo o 45 stopni\n",
    "    pen.forward(50)  # rysuj 50 do przodu\n",
    "    pen.left(90)     # obróć się w lewo o 90 stopni\n",
    "    pen.forward(100) # rysuj do przodu o 100\n",
    "    pen.right(45)    # obróź się w prawo o 45 stopni\n",
    "    \n",
    "    pen.penup() # podnieś długopis (nie rysuj przy przemieszczeniu)\n",
    "    pen.setposition(0, 0) # wróć na środek\n",
    "    pen.pendown() # rysujemy dalej\n",
    "    \n",
    "    pen.right(360/n_steps) # obróć się w prawo o n_stepną część 360"
   ]
  },
  {
   "cell_type": "code",
   "execution_count": null,
   "metadata": {
    "slideshow": {
     "slide_type": "skip"
    }
   },
   "outputs": [],
   "source": [
    "from notebook.services.config import ConfigManager\n",
    "cm = ConfigManager()\n",
    "cm.update('livereveal', {\n",
    "              'scroll': True,\n",
    "})"
   ]
  }
 ],
 "metadata": {
  "anaconda-cloud": {},
  "celltoolbar": "Slideshow",
  "kernelspec": {
   "display_name": "Python 3",
   "language": "python",
   "name": "python3"
  },
  "language_info": {
   "codemirror_mode": {
    "name": "ipython",
    "version": 3
   },
   "file_extension": ".py",
   "mimetype": "text/x-python",
   "name": "python",
   "nbconvert_exporter": "python",
   "pygments_lexer": "ipython3",
   "version": "3.6.1"
  },
  "nbpresent": {
   "slides": {},
   "themes": {
    "default": "17151fe0-c7c4-47fa-b621-0e0506358ba7",
    "theme": {}
   }
  }
 },
 "nbformat": 4,
 "nbformat_minor": 1
}
