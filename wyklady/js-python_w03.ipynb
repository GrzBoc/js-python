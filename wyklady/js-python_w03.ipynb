{
 "cells": [
  {
   "cell_type": "markdown",
   "metadata": {
    "slideshow": {
     "slide_type": "slide"
    }
   },
   "source": [
    "# Języki skryptowe - Pyton\n",
    "## Wykład 3\n",
    "\n",
    "---\n",
    "\n",
    "* pakowanie / odpakowywanie sekwencji\n",
    "* kontrola przepływu:\n",
    "    * instrukcje warunkowe *if*\n",
    "    * pętle *for* i *while*\n",
    "* formatowanie tekstu"
   ]
  },
  {
   "cell_type": "markdown",
   "metadata": {
    "slideshow": {
     "slide_type": "slide"
    }
   },
   "source": [
    "## Powtórka\n",
    "\n",
    "---\n",
    "\n",
    "* typy liczbowe (\"niemutowalne\"): *int*, *float*, *complex*\n",
    "* typy sekwencyjne (\"mutowalne\"): *list*\n",
    "* typy sekwencyjne (\"niemutowalne\"): *tuple*, *range*, *str*\n",
    "* operacje logiczne"
   ]
  },
  {
   "cell_type": "markdown",
   "metadata": {
    "slideshow": {
     "slide_type": "slide"
    }
   },
   "source": [
    "## \"Odpakowywanie\" (*unzip*)\n",
    "\n",
    "---"
   ]
  },
  {
   "cell_type": "code",
   "execution_count": 1,
   "metadata": {
    "slideshow": {
     "slide_type": "-"
    }
   },
   "outputs": [
    {
     "name": "stdout",
     "output_type": "stream",
     "text": [
      "1 2\n"
     ]
    }
   ],
   "source": [
    "lista = [1, 2]\n",
    "\n",
    "a, b = lista # a = lista[0], b = lista[1]\n",
    "\n",
    "print(a, b)"
   ]
  },
  {
   "cell_type": "markdown",
   "metadata": {
    "slideshow": {
     "slide_type": "-"
    }
   },
   "source": [
    "* przykład: zamiana zmiennych"
   ]
  },
  {
   "cell_type": "code",
   "execution_count": 2,
   "metadata": {
    "slideshow": {
     "slide_type": "-"
    }
   },
   "outputs": [
    {
     "name": "stdout",
     "output_type": "stream",
     "text": [
      "2 1\n"
     ]
    }
   ],
   "source": [
    "a, b = b, a # a, b = tuple(b, a)\n",
    "\n",
    "print(a, b)"
   ]
  },
  {
   "cell_type": "markdown",
   "metadata": {
    "slideshow": {
     "slide_type": "-"
    }
   },
   "source": [
    "* dla porównania przykład zamiany zmiennych w C++\n",
    "\n",
    "```cpp\n",
    "a = a + b - (b = a);\n",
    "```"
   ]
  },
  {
   "cell_type": "markdown",
   "metadata": {
    "slideshow": {
     "slide_type": "subslide"
    }
   },
   "source": [
    "## *splat*, czyli tzw. *asterisk*\n",
    "\n",
    "---"
   ]
  },
  {
   "cell_type": "code",
   "execution_count": 3,
   "metadata": {
    "slideshow": {
     "slide_type": "-"
    }
   },
   "outputs": [
    {
     "name": "stdout",
     "output_type": "stream",
     "text": [
      "[1, 2, 3]\n",
      "1 2 3\n",
      "1 2 3\n"
     ]
    }
   ],
   "source": [
    "x = [1, 2, 3]\n",
    "\n",
    "# print(arg1, arg2, arg3, ..., +opcje)\n",
    "\n",
    "print(x)  # drukuje listę (1 argument)\n",
    "print(*x) # drukuje \"rozpakowaną\" listę (3 argumenty)\n",
    "print(x[0], x[1], x[2]) # równoważny zapis"
   ]
  },
  {
   "cell_type": "code",
   "execution_count": 1,
   "metadata": {
    "slideshow": {
     "slide_type": "-"
    }
   },
   "outputs": [
    {
     "name": "stdout",
     "output_type": "stream",
     "text": [
      "Python\n",
      "P y t h o n\n"
     ]
    }
   ],
   "source": [
    "x = \"Python\"\n",
    "\n",
    "print(x)\n",
    "print(*x) # zip/unzip działa na wszystkich sekwencjach"
   ]
  },
  {
   "cell_type": "markdown",
   "metadata": {
    "slideshow": {
     "slide_type": "subslide"
    }
   },
   "source": [
    "## *unzip* i *splat*\n",
    "\n",
    "---"
   ]
  },
  {
   "cell_type": "code",
   "execution_count": 4,
   "metadata": {
    "slideshow": {
     "slide_type": "-"
    }
   },
   "outputs": [
    {
     "name": "stdout",
     "output_type": "stream",
     "text": [
      "1 [2, 3, 4, 5]\n"
     ]
    }
   ],
   "source": [
    "lista = [1, 2, 3, 4, 5]\n",
    "\n",
    "# a, b = lista # ValueError: too many values to unpack (expected 2)\n",
    "\n",
    "a, *b = lista # a = lista[0], b = reszta\n",
    "\n",
    "print(a, b)"
   ]
  },
  {
   "cell_type": "code",
   "execution_count": 5,
   "metadata": {
    "slideshow": {
     "slide_type": "-"
    }
   },
   "outputs": [
    {
     "name": "stdout",
     "output_type": "stream",
     "text": [
      "1 [2, 3, 4] 5\n"
     ]
    }
   ],
   "source": [
    "lista = [1, 2, 3, 4, 5]\n",
    "\n",
    "a, *b, c = lista # a, b[0], b[1], b[2], c\n",
    "\n",
    "print(a, b, c)"
   ]
  },
  {
   "cell_type": "markdown",
   "metadata": {
    "slideshow": {
     "slide_type": "subslide"
    }
   },
   "source": [
    "## \"Pakowanie\" (*zip*)\n",
    "\n",
    "---"
   ]
  },
  {
   "cell_type": "code",
   "execution_count": 6,
   "metadata": {
    "slideshow": {
     "slide_type": "-"
    }
   },
   "outputs": [
    {
     "name": "stdout",
     "output_type": "stream",
     "text": [
      "(1, 'a') (2, 'b') (3, 'c')\n"
     ]
    }
   ],
   "source": [
    "x = [1, 2, 3]\n",
    "y = ['a', 'b', 'c']\n",
    "\n",
    "zipped = zip(x, y) # pary (x[i], y[i])\n",
    "\n",
    "print(*zipped)"
   ]
  },
  {
   "cell_type": "code",
   "execution_count": 7,
   "metadata": {
    "slideshow": {
     "slide_type": "-"
    }
   },
   "outputs": [
    {
     "name": "stdout",
     "output_type": "stream",
     "text": [
      "(1, 'a') (2, 'b') (3, 'c')\n"
     ]
    }
   ],
   "source": [
    "x = [1, 2, 3]\n",
    "y = ['a', 'b', 'c', 'd'] # długość nie ma znaczenia\n",
    "\n",
    "zipped = zip(x, y) # pary (x[i], y[i])\n",
    "\n",
    "print(*zipped)"
   ]
  },
  {
   "cell_type": "markdown",
   "metadata": {
    "slideshow": {
     "slide_type": "subslide"
    }
   },
   "source": [
    "## *zip* / *unzip* - test\n",
    "\n",
    "---"
   ]
  },
  {
   "cell_type": "code",
   "execution_count": 8,
   "metadata": {
    "slideshow": {
     "slide_type": "-"
    }
   },
   "outputs": [
    {
     "data": {
      "text/plain": [
       "True"
      ]
     },
     "execution_count": 8,
     "metadata": {},
     "output_type": "execute_result"
    }
   ],
   "source": [
    "x = [1, 2, 3]\n",
    "y = [4, 5, 6]\n",
    "\n",
    "x_copy, y_copy = zip(*zip(x, y))\n",
    "\n",
    "x == list(x_copy) and y == list(y_copy)"
   ]
  },
  {
   "cell_type": "code",
   "execution_count": 9,
   "metadata": {
    "slideshow": {
     "slide_type": "-"
    }
   },
   "outputs": [
    {
     "name": "stdout",
     "output_type": "stream",
     "text": [
      "[(1, 4), (2, 5), (3, 6)]\n",
      "(1, 4) (2, 5) (3, 6)\n",
      "[(1, 2, 3), (4, 5, 6)]\n"
     ]
    }
   ],
   "source": [
    "print(list(zip(x,y)))\n",
    "print(*zip(x,y))\n",
    "print(list(zip(*zip(x, y))))"
   ]
  },
  {
   "cell_type": "markdown",
   "metadata": {
    "slideshow": {
     "slide_type": "slide"
    }
   },
   "source": [
    "## Paradygmaty programowania\n",
    "\n",
    "---\n",
    "\n",
    "* w Pythonie możliwe jest:\n",
    "    * programowanie strukturalne (np. Fortran, C)\n",
    "    * programowanie obiektowe (np. C++, Java)\n",
    "    * programowanie funkcyjne (np. Lisp, Haskell)\n",
    "    \n",
    "---"
   ]
  },
  {
   "cell_type": "markdown",
   "metadata": {
    "slideshow": {
     "slide_type": "subslide"
    }
   },
   "source": [
    "## Programowanie strukturalne\n",
    "\n",
    "---\n",
    "\n",
    "* trzy struktury sterujące:\n",
    "    * *sekwencja* - wykonanie instrukcji w zadanej kolejności\n",
    "    * *wybór* - wykonanie instrukcji w zależności od stanu\n",
    "    * *iteracja* - wykonywanie instrukcji dopóki (nie)spełniony jest warunek"
   ]
  },
  {
   "cell_type": "code",
   "execution_count": 1,
   "metadata": {
    "collapsed": true,
    "slideshow": {
     "slide_type": "skip"
    }
   },
   "outputs": [],
   "source": [
    "ps_dia = \"\"\"\n",
    "digraph {\n",
    "    label=\"Programowanie strukturalne\"\n",
    "    \n",
    "    rankdir=LR;\n",
    " \n",
    "    start[shape=\"box\", style=rounded];\n",
    "    end[shape=\"box\", style=rounded];\n",
    "    \n",
    "    if[shape=\"diamond\", style=\"\"];\n",
    "\n",
    "    i1[shape=\"box\", style=\"\"];\n",
    "    i2[shape=\"box\", style=\"\"];\n",
    "    i3[shape=\"box\", style=\"\"];\n",
    "    \n",
    "    start -> i1;\n",
    "    i1 -> if;\n",
    "    if -> i2[label=\"nie\"];\n",
    "    if -> i3[label=\"tak\"];\n",
    "    i3 -> end;\n",
    "    i2 -> i3;\n",
    "}\n",
    "\"\"\"\n",
    "\n",
    "from graphviz import Source"
   ]
  },
  {
   "cell_type": "code",
   "execution_count": 2,
   "metadata": {
    "slideshow": {
     "slide_type": "-"
    }
   },
   "outputs": [
    {
     "data": {
      "image/svg+xml": [
       "<?xml version=\"1.0\" encoding=\"UTF-8\" standalone=\"no\"?>\n",
       "<!DOCTYPE svg PUBLIC \"-//W3C//DTD SVG 1.1//EN\"\n",
       " \"http://www.w3.org/Graphics/SVG/1.1/DTD/svg11.dtd\">\n",
       "<!-- Generated by graphviz version 2.38.0 (20140413.2041)\n",
       " -->\n",
       "<!-- Title: %3 Pages: 1 -->\n",
       "<svg width=\"533pt\" height=\"99pt\"\n",
       " viewBox=\"0.00 0.00 533.00 99.00\" xmlns=\"http://www.w3.org/2000/svg\" xmlns:xlink=\"http://www.w3.org/1999/xlink\">\n",
       "<g id=\"graph0\" class=\"graph\" transform=\"scale(1 1) rotate(0) translate(4 95)\">\n",
       "<title>%3</title>\n",
       "<polygon fill=\"white\" stroke=\"none\" points=\"-4,4 -4,-95 529,-95 529,4 -4,4\"/>\n",
       "<text text-anchor=\"middle\" x=\"262.5\" y=\"-7.8\" font-family=\"Times,serif\" font-size=\"14.00\">Programowanie strukturalne</text>\n",
       "<!-- start -->\n",
       "<g id=\"node1\" class=\"node\"><title>start</title>\n",
       "<path fill=\"none\" stroke=\"black\" d=\"M42,-61C42,-61 12,-61 12,-61 6,-61 0,-55 0,-49 0,-49 0,-37 0,-37 0,-31 6,-25 12,-25 12,-25 42,-25 42,-25 48,-25 54,-31 54,-37 54,-37 54,-49 54,-49 54,-55 48,-61 42,-61\"/>\n",
       "<text text-anchor=\"middle\" x=\"27\" y=\"-39.3\" font-family=\"Times,serif\" font-size=\"14.00\">start</text>\n",
       "</g>\n",
       "<!-- i1 -->\n",
       "<g id=\"node4\" class=\"node\"><title>i1</title>\n",
       "<polygon fill=\"none\" stroke=\"black\" points=\"145,-61 91,-61 91,-25 145,-25 145,-61\"/>\n",
       "<text text-anchor=\"middle\" x=\"118\" y=\"-39.3\" font-family=\"Times,serif\" font-size=\"14.00\">i1</text>\n",
       "</g>\n",
       "<!-- start&#45;&gt;i1 -->\n",
       "<g id=\"edge1\" class=\"edge\"><title>start&#45;&gt;i1</title>\n",
       "<path fill=\"none\" stroke=\"black\" d=\"M54.2216,-43C62.5505,-43 71.9135,-43 80.8161,-43\"/>\n",
       "<polygon fill=\"black\" stroke=\"black\" points=\"80.9659,-46.5001 90.9659,-43 80.9658,-39.5001 80.9659,-46.5001\"/>\n",
       "</g>\n",
       "<!-- end -->\n",
       "<g id=\"node2\" class=\"node\"><title>end</title>\n",
       "<path fill=\"none\" stroke=\"black\" d=\"M513,-59C513,-59 483,-59 483,-59 477,-59 471,-53 471,-47 471,-47 471,-35 471,-35 471,-29 477,-23 483,-23 483,-23 513,-23 513,-23 519,-23 525,-29 525,-35 525,-35 525,-47 525,-47 525,-53 519,-59 513,-59\"/>\n",
       "<text text-anchor=\"middle\" x=\"498\" y=\"-37.3\" font-family=\"Times,serif\" font-size=\"14.00\">end</text>\n",
       "</g>\n",
       "<!-- if -->\n",
       "<g id=\"node3\" class=\"node\"><title>if</title>\n",
       "<polygon fill=\"none\" stroke=\"black\" points=\"209,-61 182,-43 209,-25 236,-43 209,-61\"/>\n",
       "<text text-anchor=\"middle\" x=\"209\" y=\"-39.3\" font-family=\"Times,serif\" font-size=\"14.00\">if</text>\n",
       "</g>\n",
       "<!-- i2 -->\n",
       "<g id=\"node5\" class=\"node\"><title>i2</title>\n",
       "<polygon fill=\"none\" stroke=\"black\" points=\"343,-91 289,-91 289,-55 343,-55 343,-91\"/>\n",
       "<text text-anchor=\"middle\" x=\"316\" y=\"-69.3\" font-family=\"Times,serif\" font-size=\"14.00\">i2</text>\n",
       "</g>\n",
       "<!-- if&#45;&gt;i2 -->\n",
       "<g id=\"edge3\" class=\"edge\"><title>if&#45;&gt;i2</title>\n",
       "<path fill=\"none\" stroke=\"black\" d=\"M228.29,-48.2256C242.239,-52.2111 261.895,-57.8271 278.966,-62.7047\"/>\n",
       "<polygon fill=\"black\" stroke=\"black\" points=\"278.08,-66.0913 288.657,-65.4733 280.003,-59.3607 278.08,-66.0913\"/>\n",
       "<text text-anchor=\"middle\" x=\"262.5\" y=\"-62.8\" font-family=\"Times,serif\" font-size=\"14.00\">nie</text>\n",
       "</g>\n",
       "<!-- i3 -->\n",
       "<g id=\"node6\" class=\"node\"><title>i3</title>\n",
       "<polygon fill=\"none\" stroke=\"black\" points=\"434,-59 380,-59 380,-23 434,-23 434,-59\"/>\n",
       "<text text-anchor=\"middle\" x=\"407\" y=\"-37.3\" font-family=\"Times,serif\" font-size=\"14.00\">i3</text>\n",
       "</g>\n",
       "<!-- if&#45;&gt;i3 -->\n",
       "<g id=\"edge4\" class=\"edge\"><title>if&#45;&gt;i3</title>\n",
       "<path fill=\"none\" stroke=\"black\" d=\"M230.364,-39.0426C246.261,-36.1633 268.942,-32.5147 289,-31 312.932,-29.1928 319.074,-29.1129 343,-31 351.729,-31.6884 361.075,-32.9055 369.824,-34.2589\"/>\n",
       "<polygon fill=\"black\" stroke=\"black\" points=\"369.314,-37.7219 379.749,-35.8869 370.448,-30.8142 369.314,-37.7219\"/>\n",
       "<text text-anchor=\"middle\" x=\"316\" y=\"-34.8\" font-family=\"Times,serif\" font-size=\"14.00\">tak</text>\n",
       "</g>\n",
       "<!-- i1&#45;&gt;if -->\n",
       "<g id=\"edge2\" class=\"edge\"><title>i1&#45;&gt;if</title>\n",
       "<path fill=\"none\" stroke=\"black\" d=\"M145.222,-43C153.551,-43 162.914,-43 171.816,-43\"/>\n",
       "<polygon fill=\"black\" stroke=\"black\" points=\"171.966,-46.5001 181.966,-43 171.966,-39.5001 171.966,-46.5001\"/>\n",
       "</g>\n",
       "<!-- i2&#45;&gt;i3 -->\n",
       "<g id=\"edge6\" class=\"edge\"><title>i2&#45;&gt;i3</title>\n",
       "<path fill=\"none\" stroke=\"black\" d=\"M343.222,-63.572C351.732,-60.5122 361.321,-57.0643 370.396,-53.8014\"/>\n",
       "<polygon fill=\"black\" stroke=\"black\" points=\"371.74,-57.0377 379.966,-50.3606 369.371,-50.4505 371.74,-57.0377\"/>\n",
       "</g>\n",
       "<!-- i3&#45;&gt;end -->\n",
       "<g id=\"edge5\" class=\"edge\"><title>i3&#45;&gt;end</title>\n",
       "<path fill=\"none\" stroke=\"black\" d=\"M434.222,-41C442.551,-41 451.914,-41 460.816,-41\"/>\n",
       "<polygon fill=\"black\" stroke=\"black\" points=\"460.966,-44.5001 470.966,-41 460.966,-37.5001 460.966,-44.5001\"/>\n",
       "</g>\n",
       "</g>\n",
       "</svg>\n"
      ],
      "text/plain": [
       "<graphviz.files.Source at 0x7fe8541031d0>"
      ]
     },
     "execution_count": 2,
     "metadata": {},
     "output_type": "execute_result"
    }
   ],
   "source": [
    "Source(ps_dia)"
   ]
  },
  {
   "cell_type": "markdown",
   "metadata": {
    "slideshow": {
     "slide_type": "subslide"
    }
   },
   "source": [
    "## Instrukcja blokowa\n",
    "\n",
    "---\n",
    "\n",
    "* wydzielona część kodu źródłowego (traktowana jak pojedyncza instrukcja)\n",
    "* w C++ wykorzystuje się klamry\n",
    "\n",
    "```cpp\n",
    "int x = 0;\n",
    "\n",
    "{\n",
    "    int y = 10; // zmienna lokalna\n",
    "    x = y + 2;\n",
    "}\n",
    "\n",
    "cout << x; // OK\n",
    "cout << y; // ERROR: nieznana zmienna\n",
    "\n",
    "```"
   ]
  },
  {
   "cell_type": "markdown",
   "metadata": {
    "slideshow": {
     "slide_type": "subslide"
    }
   },
   "source": [
    "## Składnia Pythona\n",
    "\n",
    "---\n",
    "\n",
    "* instrukcje blokowe wprowadza się za pomocą wcięć\n",
    "\n",
    "```cpp\n",
    "// przykład C++\n",
    "double bezpieczne_dzielenie (int a, int b)\n",
    "{\n",
    "    if (b != 0) return a / b;\n",
    "    else return 0;\n",
    "}\n",
    "```\n",
    "\n",
    "```py\n",
    "# przykład Python\n",
    "def bezpieczne_dzielenie (a, b):\n",
    "    if b != 0:\n",
    "        return a / b\n",
    "    else:\n",
    "        return 0\n",
    "```"
   ]
  },
  {
   "cell_type": "markdown",
   "metadata": {
    "slideshow": {
     "slide_type": "subslide"
    }
   },
   "source": [
    "## Wcięcia\n",
    "\n",
    "---\n",
    "\n",
    "* spacje (zalecane) lub tabulacje\n",
    "* w Pythonie 3 nie wolno mieszać (w Pythonie 2 się nie zaleca)\n",
    "* najczęściej wcięce = 4 spacje (czytelność)\n",
    "* wiele edytorów umożliwia zamianę *tab* na spacje"
   ]
  },
  {
   "cell_type": "markdown",
   "metadata": {
    "slideshow": {
     "slide_type": "slide"
    }
   },
   "source": [
    "## Instrukcja warunkowa *if*\n",
    "\n",
    "---\n",
    "\n",
    "* wykonaj instrukcje, jeśli spełniony jest warunek\n",
    "\n",
    "```py\n",
    "if warunek: # zwróć uwagę na :\n",
    "    instrukcja1\n",
    "    instrukcja2\n",
    "    ...\n",
    "```"
   ]
  },
  {
   "cell_type": "code",
   "execution_count": 12,
   "metadata": {
    "slideshow": {
     "slide_type": "-"
    }
   },
   "outputs": [
    {
     "name": "stdout",
     "output_type": "stream",
     "text": [
      "2 jest większe od 1\n"
     ]
    }
   ],
   "source": [
    "if 2 > 1:\n",
    "    print(\"2 jest większe od 1\")"
   ]
  },
  {
   "cell_type": "markdown",
   "metadata": {
    "slideshow": {
     "slide_type": "subslide"
    }
   },
   "source": [
    "## Instrukcja warunkowa *if else*\n",
    "\n",
    "---\n",
    "\n",
    "* wykonaj instrukcje, jeśli spełniony jest warunek, lub wykonaj inne instrukcje\n",
    "\n",
    "```py\n",
    "if warunek:\n",
    "    instrukcja1\n",
    "    instrukcja2\n",
    "    ...\n",
    "else:\n",
    "    instrukcja3\n",
    "    instrukcja4\n",
    "    ...\n",
    "```    "
   ]
  },
  {
   "cell_type": "code",
   "execution_count": 13,
   "metadata": {
    "slideshow": {
     "slide_type": "-"
    }
   },
   "outputs": [
    {
     "name": "stdout",
     "output_type": "stream",
     "text": [
      "2 nie jest większe od 3\n"
     ]
    }
   ],
   "source": [
    "if 2 > 3:\n",
    "    print(\"2 jest większe od 3\")\n",
    "else:\n",
    "    print(\"2 nie jest większe od 3\")"
   ]
  },
  {
   "cell_type": "markdown",
   "metadata": {
    "slideshow": {
     "slide_type": "subslide"
    }
   },
   "source": [
    "## Instrukcja warunkowa *if elif else*\n",
    "\n",
    "--- \n",
    "\n",
    "* wykonaj jeśli, lub wykonaj jeśli, ..., lub wykonaj\n",
    "\n",
    "```py\n",
    "if warunek1:\n",
    "    instrukcja1\n",
    "    instrukcja2\n",
    "    ...\n",
    "elif warunek2:\n",
    "    instrukcja3\n",
    "    instrukcja4\n",
    "    ...\n",
    ".\n",
    ".\n",
    ".\n",
    "else:\n",
    "    instrukcja5\n",
    "    instrukcja6\n",
    "```"
   ]
  },
  {
   "cell_type": "markdown",
   "metadata": {
    "slideshow": {
     "slide_type": "subslide"
    }
   },
   "source": [
    "## Instrukcja warunkowa *if elif else*\n",
    "\n",
    "--- "
   ]
  },
  {
   "cell_type": "code",
   "execution_count": 14,
   "metadata": {
    "slideshow": {
     "slide_type": "-"
    }
   },
   "outputs": [
    {
     "name": "stdout",
     "output_type": "stream",
     "text": [
      "2 jest mniejsze od 3\n"
     ]
    }
   ],
   "source": [
    "if 2 > 3:\n",
    "    print(\"2 jest większe od 3\")\n",
    "elif 2 == 3:\n",
    "    print(\"2 jest równe 3\")\n",
    "else:\n",
    "    print(\"2 jest mniejsze od 3\")"
   ]
  },
  {
   "cell_type": "markdown",
   "metadata": {
    "slideshow": {
     "slide_type": "subslide"
    }
   },
   "source": [
    "## *if* - przykład\n",
    "\n",
    "---"
   ]
  },
  {
   "cell_type": "code",
   "execution_count": 15,
   "metadata": {
    "slideshow": {
     "slide_type": "-"
    }
   },
   "outputs": [
    {
     "name": "stdout",
     "output_type": "stream",
     "text": [
      "Podaj liczbę: 2\n",
      "Podana liczba jest parzysta.\n"
     ]
    }
   ],
   "source": [
    "print(\"Podaj liczbę:\", end=' ')\n",
    "\n",
    "raw_x = input() # pobierz stringa z wejścia standardowego\n",
    "x = eval(raw_x) # zinterpretuj jako wyrażenie Pythona\n",
    "\n",
    "# x % 2 zwraca resztę z dzielenia\n",
    "# każda wartość != 0 jest traktowana jako prawda\n",
    "if x % 2:\n",
    "    print(\"Podana liczba jest nieparzysta.\")\n",
    "else:\n",
    "    print(\"Podana liczba jest parzysta.\")"
   ]
  },
  {
   "cell_type": "markdown",
   "metadata": {
    "slideshow": {
     "slide_type": "subslide"
    }
   },
   "source": [
    "## Dygresja: *input* vs *raw_input*\n",
    "\n",
    "---\n",
    "\n",
    "* w Pythonie 2\n",
    "    * *raw_input* pobiera \"surowego\" stringa\n",
    "    * *input* dodatkowo go parsuje\n",
    "* w Pythonie 3\n",
    "    * *input* pobiera \"surowego\" stringa\n",
    "    * *eval(input)* odtworzy zachowanie *input* z Pythona 2"
   ]
  },
  {
   "cell_type": "markdown",
   "metadata": {
    "slideshow": {
     "slide_type": "subslide"
    }
   },
   "source": [
    "## Dygresja: *input* i *eval*\n",
    "\n",
    "---"
   ]
  },
  {
   "cell_type": "code",
   "execution_count": 16,
   "metadata": {
    "slideshow": {
     "slide_type": "-"
    }
   },
   "outputs": [
    {
     "name": "stdout",
     "output_type": "stream",
     "text": [
      "Help on method raw_input in module ipykernel.kernelbase:\n",
      "\n",
      "raw_input(prompt='') method of ipykernel.ipkernel.IPythonKernel instance\n",
      "    Forward raw_input to frontends\n",
      "    \n",
      "    Raises\n",
      "    ------\n",
      "    StdinNotImplentedError if active frontend doesn't support stdin.\n",
      "\n"
     ]
    }
   ],
   "source": [
    "help(input)"
   ]
  },
  {
   "cell_type": "code",
   "execution_count": 17,
   "metadata": {
    "slideshow": {
     "slide_type": "-"
    }
   },
   "outputs": [
    {
     "name": "stdout",
     "output_type": "stream",
     "text": [
      "2\n"
     ]
    },
    {
     "data": {
      "text/plain": [
       "str"
      ]
     },
     "execution_count": 17,
     "metadata": {},
     "output_type": "execute_result"
    }
   ],
   "source": [
    "type(input()) # pobiera wejście jako string"
   ]
  },
  {
   "cell_type": "markdown",
   "metadata": {
    "slideshow": {
     "slide_type": "subslide"
    }
   },
   "source": [
    "## Dygresja: *input* i *eval*\n",
    "\n",
    "---"
   ]
  },
  {
   "cell_type": "code",
   "execution_count": 18,
   "metadata": {
    "slideshow": {
     "slide_type": "-"
    }
   },
   "outputs": [
    {
     "name": "stdout",
     "output_type": "stream",
     "text": [
      "Help on built-in function eval in module builtins:\n",
      "\n",
      "eval(source, globals=None, locals=None, /)\n",
      "    Evaluate the given source in the context of globals and locals.\n",
      "    \n",
      "    The source may be a string representing a Python expression\n",
      "    or a code object as returned by compile().\n",
      "    The globals must be a dictionary and locals can be any mapping,\n",
      "    defaulting to the current globals and locals.\n",
      "    If only globals is given, locals defaults to it.\n",
      "\n"
     ]
    }
   ],
   "source": [
    "help(eval)"
   ]
  },
  {
   "cell_type": "code",
   "execution_count": 19,
   "metadata": {
    "slideshow": {
     "slide_type": "-"
    }
   },
   "outputs": [
    {
     "name": "stdout",
     "output_type": "stream",
     "text": [
      "2\n"
     ]
    },
    {
     "data": {
      "text/plain": [
       "int"
      ]
     },
     "execution_count": 19,
     "metadata": {},
     "output_type": "execute_result"
    }
   ],
   "source": [
    "type(eval(input())) # parsuje wejście jako komendę"
   ]
  },
  {
   "cell_type": "markdown",
   "metadata": {
    "slideshow": {
     "slide_type": "slide"
    }
   },
   "source": [
    "## Iteratory\n",
    "\n",
    "---\n",
    "\n",
    "* iterator wskazuje element sekwencji oraz umożliwia dostęp do następnego"
   ]
  },
  {
   "cell_type": "code",
   "execution_count": 20,
   "metadata": {
    "slideshow": {
     "slide_type": "-"
    }
   },
   "outputs": [
    {
     "name": "stdout",
     "output_type": "stream",
     "text": [
      "Help on built-in function iter in module builtins:\n",
      "\n",
      "iter(...)\n",
      "    iter(iterable) -> iterator\n",
      "    iter(callable, sentinel) -> iterator\n",
      "    \n",
      "    Get an iterator from an object.  In the first form, the argument must\n",
      "    supply its own iterator, or be a sequence.\n",
      "    In the second form, the callable is called until it returns the sentinel.\n",
      "\n"
     ]
    }
   ],
   "source": [
    "help(iter)"
   ]
  },
  {
   "cell_type": "markdown",
   "metadata": {
    "slideshow": {
     "slide_type": "subslide"
    }
   },
   "source": [
    "## *iter(iterable)*\n",
    "\n",
    "---"
   ]
  },
  {
   "cell_type": "code",
   "execution_count": 21,
   "metadata": {
    "slideshow": {
     "slide_type": "-"
    }
   },
   "outputs": [
    {
     "name": "stdout",
     "output_type": "stream",
     "text": [
      "a\n",
      "b\n",
      "c\n",
      "d\n"
     ]
    }
   ],
   "source": [
    "lista = ['a', 'b', 'c', 'd'] # zwykła lista\n",
    "\n",
    "it = iter(lista) # iterator listy (wskazuje na początek)\n",
    "\n",
    "print(next(it)) # zwraca 1 element i przesuwa \"wskaźnik\"\n",
    "print(next(it)) # zwraca 2 element i przesuwa \"wskaźnik\"\n",
    "print(next(it)) # zwraca 3 element i przesuwa \"wskaźnik\"\n",
    "print(next(it)) # zwraca 4 element i przesuwa \"wskaźnik\""
   ]
  },
  {
   "cell_type": "markdown",
   "metadata": {
    "slideshow": {
     "slide_type": "subslide"
    }
   },
   "source": [
    "## *iter(callable, sentinel)*\n",
    "\n",
    "---"
   ]
  },
  {
   "cell_type": "code",
   "execution_count": 22,
   "metadata": {
    "slideshow": {
     "slide_type": "-"
    }
   },
   "outputs": [
    {
     "name": "stdout",
     "output_type": "stream",
     "text": [
      "1\n",
      "2\n",
      "3\n"
     ]
    }
   ],
   "source": [
    "i = 0\n",
    "\n",
    "# funkcje omówimy w przyszłości\n",
    "def funkcja():\n",
    "    \"\"\"Z każdym wywołaniem zwraca kolejną liczbę całkowitą.\"\"\"\n",
    "    global i # użyj globalnej zmiennej i\n",
    "    i += 1   # zwiększ\n",
    "    return i # i zwróć\n",
    "\n",
    "# kolejne wartości zwracane przez funkcję\n",
    "# iterowane aż zwróci 4\n",
    "it = iter(funkcja, 4)\n",
    "\n",
    "print(next(it))\n",
    "print(next(it))\n",
    "print(next(it))\n",
    "# print(next(it)) # StopIteration"
   ]
  },
  {
   "cell_type": "markdown",
   "metadata": {
    "slideshow": {
     "slide_type": "slide"
    }
   },
   "source": [
    "## Pętla *for*\n",
    "\n",
    "---\n",
    "\n",
    "* pętla po sekwencji\n",
    "* np. w Pascalu pętla po (ayrtmetycznym) ciągu liczb\n",
    "* np. w C++ obie możliwości\n",
    "\n",
    "```cpp\n",
    "// przykład w C++\n",
    "for (unsigned int i = 0; i < N; i++)\n",
    "{\n",
    "    // wykonaj coś na i-tym elemencie\n",
    "}\n",
    "for (auto it = v.begin(); it != v.end(); ++it)\n",
    "{\n",
    "    // wykonaj coś na iteratorze it\n",
    "}\n",
    "```"
   ]
  },
  {
   "cell_type": "markdown",
   "metadata": {
    "slideshow": {
     "slide_type": "subslide"
    }
   },
   "source": [
    "## *for* po liście\n",
    "\n",
    "---"
   ]
  },
  {
   "cell_type": "code",
   "execution_count": 23,
   "metadata": {
    "slideshow": {
     "slide_type": "-"
    }
   },
   "outputs": [
    {
     "name": "stdout",
     "output_type": "stream",
     "text": [
      "a\n",
      "b\n",
      "c\n",
      "d\n"
     ]
    }
   ],
   "source": [
    "lista = ['a', 'b', 'c', 'd']\n",
    "\n",
    "for element in lista: # pętla po liście, w każdym kroku\n",
    "    print(element)    # element zmienia swoją wartość"
   ]
  },
  {
   "cell_type": "markdown",
   "metadata": {
    "slideshow": {
     "slide_type": "subslide"
    }
   },
   "source": [
    "## *for* \"krok po kroku\""
   ]
  },
  {
   "cell_type": "code",
   "execution_count": 24,
   "metadata": {
    "slideshow": {
     "slide_type": "-"
    }
   },
   "outputs": [
    {
     "name": "stdout",
     "output_type": "stream",
     "text": [
      "a\n",
      "b\n",
      "c\n",
      "d\n"
     ]
    }
   ],
   "source": [
    "lista = ['a', 'b', 'c', 'd']\n",
    "\n",
    "it = iter(lista)\n",
    "\n",
    "element = next(it)\n",
    "print(element)\n",
    "element = next(it)\n",
    "print(element)\n",
    "element = next(it)\n",
    "print(element)\n",
    "element = next(it)\n",
    "print(element)"
   ]
  },
  {
   "cell_type": "markdown",
   "metadata": {
    "slideshow": {
     "slide_type": "subslide"
    }
   },
   "source": [
    "## *for* i *next*\n",
    "\n",
    "---"
   ]
  },
  {
   "cell_type": "code",
   "execution_count": 25,
   "metadata": {
    "slideshow": {
     "slide_type": "-"
    }
   },
   "outputs": [
    {
     "name": "stdout",
     "output_type": "stream",
     "text": [
      "i = a\n",
      "next(it) = b\n",
      "i = c\n",
      "next(it) = d\n"
     ]
    }
   ],
   "source": [
    "lista = ['a', 'b', 'c', 'd']\n",
    "\n",
    "it = iter(lista)\n",
    "\n",
    "# pętla po iteratorze it\n",
    "# wewnątrz \"ręcznie\" wywołujemy next()\n",
    "for i in it:\n",
    "    print(\"i = \" + str(i))\n",
    "    print(\"next(it) = \" + str(next(it)))"
   ]
  },
  {
   "cell_type": "markdown",
   "metadata": {
    "slideshow": {
     "slide_type": "subslide"
    }
   },
   "source": [
    "## *for* po wycinkach\n",
    "\n",
    "---"
   ]
  },
  {
   "cell_type": "code",
   "execution_count": 26,
   "metadata": {},
   "outputs": [
    {
     "name": "stdout",
     "output_type": "stream",
     "text": [
      "c d "
     ]
    }
   ],
   "source": [
    "lista = ['a', 'b', 'c', 'd']\n",
    "\n",
    "for element in lista[-2:]:\n",
    "    print(element, end=' ')"
   ]
  },
  {
   "cell_type": "code",
   "execution_count": 27,
   "metadata": {
    "slideshow": {
     "slide_type": "-"
    }
   },
   "outputs": [
    {
     "name": "stdout",
     "output_type": "stream",
     "text": [
      "0 2 4 6 8 "
     ]
    }
   ],
   "source": [
    "for i in range(10)[::2]:\n",
    "    print(i, end=' ')"
   ]
  },
  {
   "cell_type": "markdown",
   "metadata": {
    "slideshow": {
     "slide_type": "subslide"
    }
   },
   "source": [
    "## *for* po krotce\n",
    "\n",
    "---"
   ]
  },
  {
   "cell_type": "code",
   "execution_count": 28,
   "metadata": {
    "slideshow": {
     "slide_type": "-"
    }
   },
   "outputs": [
    {
     "name": "stdout",
     "output_type": "stream",
     "text": [
      "a\n",
      "b\n",
      "c\n",
      "d\n"
     ]
    }
   ],
   "source": [
    "krotka = ('a', 'b', 'c', 'd')\n",
    "\n",
    "for element in krotka: # pętla po krotce\n",
    "    print(element)     # działa jak po liście"
   ]
  },
  {
   "cell_type": "markdown",
   "metadata": {
    "slideshow": {
     "slide_type": "subslide"
    }
   },
   "source": [
    "## *for* po stringu\n",
    "\n",
    "---"
   ]
  },
  {
   "cell_type": "code",
   "execution_count": 29,
   "metadata": {
    "slideshow": {
     "slide_type": "-"
    }
   },
   "outputs": [
    {
     "name": "stdout",
     "output_type": "stream",
     "text": [
      "P\n",
      "y\n",
      "t\n",
      "h\n",
      "o\n",
      "n\n"
     ]
    }
   ],
   "source": [
    "slowo = \"Python\"\n",
    "\n",
    "for litera in slowo: # pętla po stringu\n",
    "    print(litera)    # iteruje po literach"
   ]
  },
  {
   "cell_type": "markdown",
   "metadata": {
    "slideshow": {
     "slide_type": "subslide"
    }
   },
   "source": [
    "## *for* po range\n",
    "\n",
    "---"
   ]
  },
  {
   "cell_type": "code",
   "execution_count": 30,
   "metadata": {
    "slideshow": {
     "slide_type": "-"
    }
   },
   "outputs": [
    {
     "name": "stdout",
     "output_type": "stream",
     "text": [
      "0\n",
      "1\n",
      "2\n",
      "3\n",
      "4\n"
     ]
    }
   ],
   "source": [
    "for liczba in range(5): # pętla po range\n",
    "    print(liczba)       # \"odpowiednik\" for (i = 0; ...)"
   ]
  },
  {
   "cell_type": "markdown",
   "metadata": {
    "slideshow": {
     "slide_type": "slide"
    }
   },
   "source": [
    "## Kontrola przepływu - przykład 1\n",
    "\n",
    "---"
   ]
  },
  {
   "cell_type": "code",
   "execution_count": 31,
   "metadata": {
    "slideshow": {
     "slide_type": "-"
    }
   },
   "outputs": [
    {
     "name": "stdout",
     "output_type": "stream",
     "text": [
      "1\n",
      "2.0\n",
      "4\n",
      "1j\n"
     ]
    }
   ],
   "source": [
    "lista = [1, 2.0, 'Python', 4, 1j]\n",
    "\n",
    "for element in lista:\n",
    "    if type(element) is not str: # nie drukuj stringów\n",
    "        print(element) # zwróć uwage na wcięcia"
   ]
  },
  {
   "cell_type": "markdown",
   "metadata": {
    "slideshow": {
     "slide_type": "subslide"
    }
   },
   "source": [
    "## Kontrola przepływu - przykład 2\n",
    "\n",
    "---"
   ]
  },
  {
   "cell_type": "code",
   "execution_count": 32,
   "metadata": {
    "slideshow": {
     "slide_type": "-"
    }
   },
   "outputs": [
    {
     "name": "stdout",
     "output_type": "stream",
     "text": [
      "P\n",
      "y\n",
      "t\n",
      "h\n",
      "o\n",
      "n\n"
     ]
    }
   ],
   "source": [
    "lista = [1, 2.0, 'Python', 4, 1j]\n",
    "\n",
    "for element in lista:\n",
    "    if type(element) is str:   # tylko dla stringów\n",
    "        for litera in element: # pętla po stringu\n",
    "            print(litera) # zwróć uwagę na wcięcia"
   ]
  },
  {
   "cell_type": "markdown",
   "metadata": {
    "slideshow": {
     "slide_type": "subslide"
    }
   },
   "source": [
    "## Kontrola przepływu - przykład 3\n",
    "\n",
    "---"
   ]
  },
  {
   "cell_type": "code",
   "execution_count": 33,
   "metadata": {
    "slideshow": {
     "slide_type": "-"
    }
   },
   "outputs": [
    {
     "name": "stdout",
     "output_type": "stream",
     "text": [
      "1. 1\n",
      "2. 2.0\n",
      "3. Python\n",
      "4. 4\n",
      "5. 1j\n"
     ]
    }
   ],
   "source": [
    "lista = [1, 2.0, 'Python', 4, 1j]\n",
    "\n",
    "for i in range(len(lista)): # pętla indeksach od 0 do len(lista)\n",
    "    print(str(i + 1) + \". \" + str(lista[i])) # mało czytelne..."
   ]
  },
  {
   "cell_type": "markdown",
   "metadata": {
    "slideshow": {
     "slide_type": "subslide"
    }
   },
   "source": [
    "## *unzip* i *for*\n",
    "\n",
    "---"
   ]
  },
  {
   "cell_type": "code",
   "execution_count": 34,
   "metadata": {
    "slideshow": {
     "slide_type": "-"
    }
   },
   "outputs": [
    {
     "name": "stdout",
     "output_type": "stream",
     "text": [
      "1. a\n",
      "2. b\n",
      "3. c\n"
     ]
    }
   ],
   "source": [
    "lista = [[1, 'a'], [2, 'b'], [3, 'c']]\n",
    "\n",
    "for cyfra, litera in lista: # cyfra, litera = \"lista[i]\"\n",
    "    print(str(cyfra) + \". \" + litera)"
   ]
  },
  {
   "cell_type": "code",
   "execution_count": 35,
   "metadata": {
    "slideshow": {
     "slide_type": "-"
    }
   },
   "outputs": [
    {
     "name": "stdout",
     "output_type": "stream",
     "text": [
      "1. a\n",
      "2. b\n",
      "3. c\n"
     ]
    }
   ],
   "source": [
    "cyfry = [1, 2, 3]\n",
    "litery = ['a', 'b', 'c']\n",
    "\n",
    "for cyfra, litera in zip(cyfry, litery):\n",
    "    print(str(cyfra) + \". \" + litera) "
   ]
  },
  {
   "cell_type": "markdown",
   "metadata": {
    "slideshow": {
     "slide_type": "subslide"
    }
   },
   "source": [
    "## *enumerate*\n",
    "\n",
    "---"
   ]
  },
  {
   "cell_type": "code",
   "execution_count": 36,
   "metadata": {
    "slideshow": {
     "slide_type": "-"
    }
   },
   "outputs": [
    {
     "data": {
      "text/plain": [
       "[(0, 'a'), (1, 'b'), (2, 'c')]"
      ]
     },
     "execution_count": 36,
     "metadata": {},
     "output_type": "execute_result"
    }
   ],
   "source": [
    "lista = ['a', 'b', 'c']\n",
    "\n",
    "list(enumerate(lista)) # tworzy pary (indeks, element)"
   ]
  },
  {
   "cell_type": "code",
   "execution_count": 37,
   "metadata": {
    "slideshow": {
     "slide_type": "-"
    }
   },
   "outputs": [
    {
     "name": "stdout",
     "output_type": "stream",
     "text": [
      "1. a\n",
      "2. b\n",
      "3. c\n"
     ]
    }
   ],
   "source": [
    "for index, element in enumerate(lista):\n",
    "    print(str(index + 1) + \". \" + element)"
   ]
  },
  {
   "cell_type": "markdown",
   "metadata": {
    "slideshow": {
     "slide_type": "slide"
    }
   },
   "source": [
    "## Pętla *while*\n",
    "\n",
    "---\n",
    "\n",
    "* wykonuj blok instrukcji dopóki warunek jest spełniony\n",
    "\n",
    "```py\n",
    "while warunek:\n",
    "    instrukcje\n",
    "```\n",
    "\n",
    "* przykład:"
   ]
  },
  {
   "cell_type": "code",
   "execution_count": 38,
   "metadata": {
    "slideshow": {
     "slide_type": "-"
    }
   },
   "outputs": [
    {
     "name": "stdout",
     "output_type": "stream",
     "text": [
      "1 2 3 4 5 "
     ]
    }
   ],
   "source": [
    "i = 0\n",
    "\n",
    "while i < 5: # wykonuj dopóki i < 5\n",
    "    i += 1   # bez tego mamy nieskończoną pętlę\n",
    "    print(i, end=' ')"
   ]
  },
  {
   "cell_type": "markdown",
   "metadata": {
    "slideshow": {
     "slide_type": "subslide"
    }
   },
   "source": [
    "## *while* - przykład\n",
    "\n",
    "---"
   ]
  },
  {
   "cell_type": "code",
   "execution_count": 39,
   "metadata": {
    "slideshow": {
     "slide_type": "-"
    }
   },
   "outputs": [
    {
     "name": "stdout",
     "output_type": "stream",
     "text": [
      "Podaj liczbę całkowitą: 23\n",
      "Twoja liczba to: 23\n"
     ]
    }
   ],
   "source": [
    "n = input(\"Podaj liczbę całkowitą: \")\n",
    "\n",
    "if n.isdigit():\n",
    "    print(\"Twoja liczba to:\", n)\n",
    "else:\n",
    "    print(n, \"nie jest liczbą całkowitą...\")"
   ]
  },
  {
   "cell_type": "markdown",
   "metadata": {
    "slideshow": {
     "slide_type": "subslide"
    }
   },
   "source": [
    "## *while* - przykład\n",
    "\n",
    "---"
   ]
  },
  {
   "cell_type": "code",
   "execution_count": 40,
   "metadata": {
    "slideshow": {
     "slide_type": "-"
    }
   },
   "outputs": [
    {
     "name": "stdout",
     "output_type": "stream",
     "text": [
      "Podaj liczbę całkowitą: a\n",
      "Spróbuj jeszcze raz: 2\n",
      "Twoja liczba to: 2\n"
     ]
    }
   ],
   "source": [
    "n = input(\"Podaj liczbę całkowitą: \")\n",
    "\n",
    "while not n.isdigit():\n",
    "    n = input(\"Spróbuj jeszcze raz: \")\n",
    "    \n",
    "print(\"Twoja liczba to:\", n)"
   ]
  },
  {
   "cell_type": "markdown",
   "metadata": {
    "slideshow": {
     "slide_type": "subslide"
    }
   },
   "source": [
    "## *while* - nieskończona pętla\n",
    "\n",
    "---\n",
    "\n",
    "```py\n",
    "i = 1\n",
    "\n",
    "while i != 10:\n",
    "    i += 2\n",
    "```"
   ]
  },
  {
   "cell_type": "markdown",
   "metadata": {
    "slideshow": {
     "slide_type": "slide"
    }
   },
   "source": [
    "## Dodatkowe instrukcje sterujące\n",
    "\n",
    "---\n",
    "\n",
    "* *break* - przerwij pętlę\n",
    "* *continue* - przerwij obecną iterację\n",
    "* *pass* - nie rób nic\n",
    "* *else* - wykonuj jeśli pętla zakończyła się inaczej niż *break*"
   ]
  },
  {
   "cell_type": "markdown",
   "metadata": {
    "slideshow": {
     "slide_type": "subslide"
    }
   },
   "source": [
    "## *break*\n",
    "\n",
    "---"
   ]
  },
  {
   "cell_type": "code",
   "execution_count": 41,
   "metadata": {
    "slideshow": {
     "slide_type": "-"
    }
   },
   "outputs": [
    {
     "name": "stdout",
     "output_type": "stream",
     "text": [
      "0 1 2 3 4 5 6 "
     ]
    }
   ],
   "source": [
    "for i in range(10): # drukuj liczby z range(10)\n",
    "    print(i, end=' ')\n",
    "    if i > 5:       # przerwij pętlę jeśli i > 5\n",
    "        break"
   ]
  },
  {
   "cell_type": "code",
   "execution_count": 42,
   "metadata": {
    "slideshow": {
     "slide_type": "-"
    }
   },
   "outputs": [
    {
     "name": "stdout",
     "output_type": "stream",
     "text": [
      "0 1 2 3 4 5 6 "
     ]
    }
   ],
   "source": [
    "i = 0\n",
    "\n",
    "while True:   # wykonuj w niekończoność\n",
    "    print(i, end=' ')\n",
    "    if i > 5: # przerwij pętlę jeśli i > 5\n",
    "        break\n",
    "    i += 1    # bez tego byłaby nieskończona pętla zer "
   ]
  },
  {
   "cell_type": "markdown",
   "metadata": {
    "slideshow": {
     "slide_type": "subslide"
    }
   },
   "source": [
    "## *continue*\n",
    "\n",
    "---"
   ]
  },
  {
   "cell_type": "code",
   "execution_count": 43,
   "metadata": {
    "slideshow": {
     "slide_type": "-"
    }
   },
   "outputs": [
    {
     "name": "stdout",
     "output_type": "stream",
     "text": [
      "0 2 4 6 8 "
     ]
    }
   ],
   "source": [
    "for i in range(10):\n",
    "    if i % 2:    # jeśli i jest nieparzyste\n",
    "        continue # pomiń\n",
    "    print(i, end=' ')"
   ]
  },
  {
   "cell_type": "markdown",
   "metadata": {
    "slideshow": {
     "slide_type": "-"
    }
   },
   "source": [
    "* znowu uwaga na nieskończone *while*\n",
    "\n",
    "```py\n",
    "i = 0\n",
    "\n",
    "# pętla wydrukuje 0 i utknie na 1\n",
    "while i < 10: \n",
    "    if i % 2:\n",
    "        continue\n",
    "    print(i, end=' ')\n",
    "    i += 1\n",
    "```"
   ]
  },
  {
   "cell_type": "markdown",
   "metadata": {
    "slideshow": {
     "slide_type": "subslide"
    }
   },
   "source": [
    "## *pass*\n",
    "\n",
    "---"
   ]
  },
  {
   "cell_type": "code",
   "execution_count": 44,
   "metadata": {
    "slideshow": {
     "slide_type": "-"
    }
   },
   "outputs": [
    {
     "name": "stdout",
     "output_type": "stream",
     "text": [
      "0 2 4 6 8 "
     ]
    }
   ],
   "source": [
    "for i in range(10):\n",
    "    if i % 2:    # jeśli i jest nieparzyste\n",
    "        pass     # nie rób nic\n",
    "    else:        # w innej sytuacji drukuj\n",
    "        print(i, end=' ')"
   ]
  },
  {
   "cell_type": "code",
   "execution_count": 45,
   "metadata": {
    "slideshow": {
     "slide_type": "-"
    }
   },
   "outputs": [
    {
     "name": "stdout",
     "output_type": "stream",
     "text": [
      "0 2 4 6 8 "
     ]
    }
   ],
   "source": [
    "i = 0\n",
    "\n",
    "# w praktyce napisalibyśmy: if not i % 2: print...\n",
    "while i < 10:\n",
    "    if i % 2:\n",
    "        pass\n",
    "    else:\n",
    "        print(i, end=' ')\n",
    "    i += 1"
   ]
  },
  {
   "cell_type": "markdown",
   "metadata": {
    "slideshow": {
     "slide_type": "subslide"
    }
   },
   "source": [
    "## *else*\n",
    "\n",
    "---"
   ]
  },
  {
   "cell_type": "code",
   "execution_count": 46,
   "metadata": {
    "slideshow": {
     "slide_type": "-"
    }
   },
   "outputs": [
    {
     "name": "stdout",
     "output_type": "stream",
     "text": [
      "0 1 2 3 4 Koniec pętli.\n"
     ]
    }
   ],
   "source": [
    "for i in range(10):\n",
    "    if i < 5: # drukuj mniejsze od 5\n",
    "        print(i, end=' ')\n",
    "    else:     # dla pozosyałych nie rób nic\n",
    "        pass\n",
    "else: # wykonaj po zakończeniu pętli\n",
    "    print(\"Koniec pętli.\")"
   ]
  },
  {
   "cell_type": "code",
   "execution_count": 47,
   "metadata": {
    "slideshow": {
     "slide_type": "-"
    }
   },
   "outputs": [
    {
     "name": "stdout",
     "output_type": "stream",
     "text": [
      "0 1 2 3 4 "
     ]
    }
   ],
   "source": [
    "for i in range(10):\n",
    "    if i < 5: # drukuj mniejsze od 5\n",
    "        print(i, end=' ')\n",
    "    else:     # przerwij pętlę\n",
    "        break\n",
    "else: # pętla nie doszła do końca przez break\n",
    "    print(\"Koniec pętli.\")"
   ]
  },
  {
   "cell_type": "markdown",
   "metadata": {
    "slideshow": {
     "slide_type": "slide"
    }
   },
   "source": [
    "## Formatowanie tekstu\n",
    "\n",
    "---"
   ]
  },
  {
   "cell_type": "code",
   "execution_count": 48,
   "metadata": {
    "slideshow": {
     "slide_type": "-"
    }
   },
   "outputs": [
    {
     "name": "stdout",
     "output_type": "stream",
     "text": [
      "Help on built-in function print in module builtins:\n",
      "\n",
      "print(...)\n",
      "    print(value, ..., sep=' ', end='\\n', file=sys.stdout, flush=False)\n",
      "    \n",
      "    Prints the values to a stream, or to sys.stdout by default.\n",
      "    Optional keyword arguments:\n",
      "    file:  a file-like object (stream); defaults to the current sys.stdout.\n",
      "    sep:   string inserted between values, default a space.\n",
      "    end:   string appended after the last value, default a newline.\n",
      "    flush: whether to forcibly flush the stream.\n",
      "\n"
     ]
    }
   ],
   "source": [
    "help(print)"
   ]
  },
  {
   "cell_type": "markdown",
   "metadata": {
    "slideshow": {
     "slide_type": "subslide"
    }
   },
   "source": [
    "## *print*\n",
    "\n",
    "---"
   ]
  },
  {
   "cell_type": "code",
   "execution_count": 49,
   "metadata": {
    "slideshow": {
     "slide_type": "-"
    }
   },
   "outputs": [
    {
     "name": "stdout",
     "output_type": "stream",
     "text": [
      "1 2 3\n"
     ]
    }
   ],
   "source": [
    "a, b, c = 1, 2, 3\n",
    "\n",
    "print(a, b, c) # domyślnym separatorem jest spacja"
   ]
  },
  {
   "cell_type": "code",
   "execution_count": 50,
   "metadata": {
    "slideshow": {
     "slide_type": "-"
    }
   },
   "outputs": [
    {
     "name": "stdout",
     "output_type": "stream",
     "text": [
      "1_2_3\n"
     ]
    }
   ],
   "source": [
    "print(a, b, c, sep='_') # ale można go zmiennić"
   ]
  },
  {
   "cell_type": "code",
   "execution_count": 51,
   "metadata": {
    "slideshow": {
     "slide_type": "-"
    }
   },
   "outputs": [
    {
     "name": "stdout",
     "output_type": "stream",
     "text": [
      "1...2...3 koniec"
     ]
    }
   ],
   "source": [
    "# domślnie print kończy sekwencję nową linią\n",
    "# ale można to zmienić\n",
    "print(a, b, c, sep=\"...\", end=\" koniec\")"
   ]
  },
  {
   "cell_type": "markdown",
   "metadata": {
    "slideshow": {
     "slide_type": "subslide"
    }
   },
   "source": [
    "## *format* - podstawy\n",
    "\n",
    "---"
   ]
  },
  {
   "cell_type": "code",
   "execution_count": 52,
   "metadata": {
    "slideshow": {
     "slide_type": "-"
    }
   },
   "outputs": [
    {
     "data": {
      "text/plain": [
       "'x jest równe 2'"
      ]
     },
     "execution_count": 52,
     "metadata": {},
     "output_type": "execute_result"
    }
   ],
   "source": [
    "x = 2\n",
    "\n",
    "\"x jest równe \" + str(x) # skuteczne, ale mało wygodne"
   ]
  },
  {
   "cell_type": "code",
   "execution_count": 53,
   "metadata": {
    "slideshow": {
     "slide_type": "-"
    }
   },
   "outputs": [
    {
     "data": {
      "text/plain": [
       "'x jest równe 2'"
      ]
     },
     "execution_count": 53,
     "metadata": {},
     "output_type": "execute_result"
    }
   ],
   "source": [
    "x = 2\n",
    "\n",
    "# klasa string ma metodę format\n",
    "\"x jest równe {}\".format(x)"
   ]
  },
  {
   "cell_type": "code",
   "execution_count": 54,
   "metadata": {
    "slideshow": {
     "slide_type": "-"
    }
   },
   "outputs": [
    {
     "data": {
      "text/plain": [
       "'x jest równe 2, a x**2 = 4'"
      ]
     },
     "execution_count": 54,
     "metadata": {},
     "output_type": "execute_result"
    }
   ],
   "source": [
    "# która w miejsce {} wstawia kolejne argumenty\n",
    "\"x jest równe {}, a x**2 = {}\".format(x, x**2)"
   ]
  },
  {
   "cell_type": "markdown",
   "metadata": {
    "slideshow": {
     "slide_type": "subslide"
    }
   },
   "source": [
    "## *format* - kolejność\n",
    "\n",
    "---"
   ]
  },
  {
   "cell_type": "code",
   "execution_count": 55,
   "metadata": {
    "slideshow": {
     "slide_type": "-"
    }
   },
   "outputs": [
    {
     "data": {
      "text/plain": [
       "'x, y, z = 2, 2.5, trzy'"
      ]
     },
     "execution_count": 55,
     "metadata": {},
     "output_type": "execute_result"
    }
   ],
   "source": [
    "x = 2\n",
    "y = 2.5\n",
    "z = \"trzy\"\n",
    "\n",
    "# domślnie pod {} wstawiane są kolejne argument format\n",
    "\"x, y, z = {}, {}, {}\".format(x, y, z)"
   ]
  },
  {
   "cell_type": "code",
   "execution_count": 56,
   "metadata": {
    "slideshow": {
     "slide_type": "-"
    }
   },
   "outputs": [
    {
     "data": {
      "text/plain": [
       "'x, y, z = trzy, 2, 2.5'"
      ]
     },
     "execution_count": 56,
     "metadata": {},
     "output_type": "execute_result"
    }
   ],
   "source": [
    "# ale kolejność można zmienić\n",
    "\"x, y, z = {2}, {0}, {1}\".format(x, y, z)"
   ]
  },
  {
   "cell_type": "markdown",
   "metadata": {
    "slideshow": {
     "slide_type": "subslide"
    }
   },
   "source": [
    "## *format* - deklaracja typu\n",
    "\n",
    "---"
   ]
  },
  {
   "cell_type": "code",
   "execution_count": 57,
   "metadata": {
    "slideshow": {
     "slide_type": "-"
    }
   },
   "outputs": [
    {
     "name": "stdout",
     "output_type": "stream",
     "text": [
      "x, y, z = 1234567890, 1234567890.1234567, Python\n"
     ]
    }
   ],
   "source": [
    "x = 1234567890\n",
    "y = 1234567890.1234567890\n",
    "z = \"Python\"\n",
    "\n",
    "# z reguły nie ma potrzeby jawnej deklaracji typu\n",
    "print(\"x, y, z = {}, {}, {}\".format(x, y, z))"
   ]
  },
  {
   "cell_type": "code",
   "execution_count": 58,
   "metadata": {
    "slideshow": {
     "slide_type": "-"
    }
   },
   "outputs": [
    {
     "name": "stdout",
     "output_type": "stream",
     "text": [
      "x, y, z = 1234567890, 1234567890.123457, Python\n"
     ]
    }
   ],
   "source": [
    "# ale można to zrobić\n",
    "# d - int; f - float; s - str\n",
    "print(\"x, y, z = {:d}, {:f}, {:s}\".format(x, y, z))"
   ]
  },
  {
   "cell_type": "code",
   "execution_count": 59,
   "metadata": {
    "slideshow": {
     "slide_type": "-"
    }
   },
   "outputs": [
    {
     "name": "stdout",
     "output_type": "stream",
     "text": [
      "x, y, z = 1234567890.000000, 1.234568e+09, Python\n"
     ]
    }
   ],
   "source": [
    "# e - wygodny format dla dużych liczb\n",
    "# XeY = X * 10^Y\n",
    "print(\"x, y, z = {:f}, {:e}, {}\".format(x, y, z))"
   ]
  },
  {
   "cell_type": "markdown",
   "metadata": {
    "slideshow": {
     "slide_type": "subslide"
    }
   },
   "source": [
    "## *format* - dokładność\n",
    "\n",
    "---"
   ]
  },
  {
   "cell_type": "code",
   "execution_count": 60,
   "metadata": {
    "slideshow": {
     "slide_type": "-"
    }
   },
   "outputs": [
    {
     "data": {
      "text/plain": [
       "'pi = 3.141592653589793'"
      ]
     },
     "execution_count": 60,
     "metadata": {},
     "output_type": "execute_result"
    }
   ],
   "source": [
    "from math import pi\n",
    "\n",
    "\"pi = {}\".format(pi)"
   ]
  },
  {
   "cell_type": "code",
   "execution_count": 61,
   "metadata": {
    "slideshow": {
     "slide_type": "-"
    }
   },
   "outputs": [
    {
     "data": {
      "text/plain": [
       "'pi = 3.14'"
      ]
     },
     "execution_count": 61,
     "metadata": {},
     "output_type": "execute_result"
    }
   ],
   "source": [
    "# ograniczamy się do dwóch liczb po przecinku\n",
    "\"pi = {:.2f}\".format(pi)"
   ]
  },
  {
   "cell_type": "code",
   "execution_count": 62,
   "metadata": {
    "slideshow": {
     "slide_type": "-"
    }
   },
   "outputs": [
    {
     "data": {
      "text/plain": [
       "'pi = 3.14159265358979311599796346854418516159057617187500'"
      ]
     },
     "execution_count": 62,
     "metadata": {},
     "output_type": "execute_result"
    }
   ],
   "source": [
    "# ograniczamy się do 50 liczb po przecinku\n",
    "# zwróć uwagę na zera na końcu\n",
    "\"pi = {:.50f}\".format(pi)"
   ]
  },
  {
   "cell_type": "markdown",
   "metadata": {
    "slideshow": {
     "slide_type": "subslide"
    }
   },
   "source": [
    "## *format*  - keyword arguments\n",
    "\n",
    "---"
   ]
  },
  {
   "cell_type": "code",
   "execution_count": 63,
   "metadata": {
    "slideshow": {
     "slide_type": "-"
    }
   },
   "outputs": [
    {
     "data": {
      "text/plain": [
       "'Jan Nowak otrzymał 5'"
      ]
     },
     "execution_count": 63,
     "metadata": {},
     "output_type": "execute_result"
    }
   ],
   "source": [
    "# żeby się nie pogubić\n",
    "# warto \"tagować\" kolejne argumenty\n",
    "\"{student} otrzymał {ocena}\".format(student=\"Jan Nowak\", ocena=5)"
   ]
  },
  {
   "cell_type": "code",
   "execution_count": 64,
   "metadata": {
    "slideshow": {
     "slide_type": "-"
    }
   },
   "outputs": [
    {
     "data": {
      "text/plain": [
       "'Jan Nowak otrzymał 5'"
      ]
     },
     "execution_count": 64,
     "metadata": {},
     "output_type": "execute_result"
    }
   ],
   "source": [
    "# wtedy kolejność nie ma znaczenia\n",
    "\"{student} otrzymał {ocena}\".format(ocena=5, student=\"Jan Nowak\")"
   ]
  },
  {
   "cell_type": "code",
   "execution_count": 65,
   "metadata": {
    "slideshow": {
     "slide_type": "slide"
    }
   },
   "outputs": [
    {
     "name": "stdout",
     "output_type": "stream",
     "text": [
      "------------------OCENY-------------------\n",
      "\n",
      "1. Kasia: [3, 4, 5]       => srednia = 4.0\n",
      "2. Basia: []              => srednia = 0.0\n",
      "3. Marek: [5, 3]          => srednia = 4.0\n",
      "4. Józek: [3, 2, 2, 2, 2] => srednia = 2.2\n"
     ]
    }
   ],
   "source": [
    "# lista studentów\n",
    "studenci = [\"Kasia\", \"Basia\", \"Marek\", \"Józek\"]\n",
    "# każdy element odpowiada liście ocen danego studenta\n",
    "dziennik = [[3, 4, 5], [], [5, 3], [3, 2, 2, 2, 2]]\n",
    "\n",
    "# [znak]^N -> centruj w szerokości N wypełniając [znakiem]\n",
    "print(\"{:-^42}\".format(\"OCENY\"), end=\"\\n\\n\")\n",
    "\n",
    "# enumerate zwraca dwa obiekty: index i parę: (student, oceny)\n",
    "for i, (student, oceny) in enumerate(zip(studenci, dziennik)):\n",
    "    # policz średnią; chyba że brak ocen\n",
    "    if len(oceny):\n",
    "        srednia = sum(oceny) / len(oceny)\n",
    "    else:\n",
    "        srednia = 0\n",
    "\n",
    "    # {oceny:<15} działa jak ljust; {oceny:>15} działa jak rjust\n",
    "    print(\"{index}. {imie}: {oceny:<15} => srednia = {srednia:.1f}\"\n",
    "          .format(index=i+1,\n",
    "                  imie=student,\n",
    "                  oceny=str(oceny),\n",
    "                  srednia=srednia))"
   ]
  },
  {
   "cell_type": "code",
   "execution_count": 3,
   "metadata": {
    "slideshow": {
     "slide_type": "skip"
    }
   },
   "outputs": [
    {
     "data": {
      "text/plain": [
       "{'scroll': True}"
      ]
     },
     "execution_count": 3,
     "metadata": {},
     "output_type": "execute_result"
    }
   ],
   "source": [
    "from notebook.services.config import ConfigManager\n",
    "cm = ConfigManager()\n",
    "cm.update('livereveal', {\n",
    "              'scroll': True,\n",
    "})"
   ]
  }
 ],
 "metadata": {
  "anaconda-cloud": {},
  "celltoolbar": "Slideshow",
  "kernelspec": {
   "display_name": "Python 3",
   "language": "python",
   "name": "python3"
  },
  "language_info": {
   "codemirror_mode": {
    "name": "ipython",
    "version": 3
   },
   "file_extension": ".py",
   "mimetype": "text/x-python",
   "name": "python",
   "nbconvert_exporter": "python",
   "pygments_lexer": "ipython3",
   "version": "3.6.1"
  }
 },
 "nbformat": 4,
 "nbformat_minor": 1
}
