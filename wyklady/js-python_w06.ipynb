{
 "cells": [
  {
   "cell_type": "markdown",
   "metadata": {
    "slideshow": {
     "slide_type": "slide"
    }
   },
   "source": [
    "# Języki skryptowe - Python\n",
    "## Wykład 7\n",
    "\n",
    "---\n",
    "\n",
    "* Bilioteka standardowa\n",
    "    * os\n",
    "    * sys\n",
    "    * time / datetime\n",
    "    * random\n",
    "* Liczby pseudolosowe"
   ]
  },
  {
   "cell_type": "markdown",
   "metadata": {
    "slideshow": {
     "slide_type": "slide"
    }
   },
   "source": [
    "## Moduł *os*\n",
    "\n",
    "---\n",
    "\n",
    "* przenośne używanie funkcjonalności zależnych od systemu operacyjnego\n",
    "    * operacje na plikach (o tym za tydzień)\n",
    "    * operacje na ścieżkach\n",
    "    * uruchamianie poleceń systemowych\n",
    "    * zarządzanie zmiennymi środowiskowymi\n",
    "    * ..."
   ]
  },
  {
   "cell_type": "markdown",
   "metadata": {
    "slideshow": {
     "slide_type": "subslide"
    }
   },
   "source": [
    "## System operacyjny\n",
    "\n",
    "---"
   ]
  },
  {
   "cell_type": "code",
   "execution_count": 1,
   "metadata": {
    "slideshow": {
     "slide_type": "-"
    }
   },
   "outputs": [
    {
     "data": {
      "text/plain": [
       "'posix'"
      ]
     },
     "execution_count": 1,
     "metadata": {},
     "output_type": "execute_result"
    }
   ],
   "source": [
    "import os\n",
    "\n",
    "# POSIX = Portable Operating System Interface for Unix\n",
    "os.name # posix, nt, ce, java"
   ]
  },
  {
   "cell_type": "code",
   "execution_count": 2,
   "metadata": {
    "slideshow": {
     "slide_type": "-"
    }
   },
   "outputs": [
    {
     "name": "stdout",
     "output_type": "stream",
     "text": [
      "ls\n"
     ]
    }
   ],
   "source": [
    "if os.name == \"posix\": # jeśli unix\n",
    "    cmd = \"ls\"         # użyj ls\n",
    "elif os.name == \"nt\":  # jeśli windows\n",
    "    cmd = \"dir\"        # użyj dir\n",
    "    \n",
    "print(cmd)"
   ]
  },
  {
   "cell_type": "markdown",
   "metadata": {
    "slideshow": {
     "slide_type": "subslide"
    }
   },
   "source": [
    "## Katalog roboczy\n",
    "\n",
    "---"
   ]
  },
  {
   "cell_type": "code",
   "execution_count": 3,
   "metadata": {
    "slideshow": {
     "slide_type": "-"
    }
   },
   "outputs": [
    {
     "name": "stdout",
     "output_type": "stream",
     "text": [
      "Katalog roboczy: /doc/insync/scratch/zajęcia/2016/języki skryptowe - python/js-python\n",
      "Nowy katalog roboczy: /home/goran\n"
     ]
    }
   ],
   "source": [
    "current_path = os.getcwd() # pwd\n",
    "\n",
    "print(\"Katalog roboczy:\", current_path)\n",
    "\n",
    "new_path = \"/home/goran\"\n",
    "\n",
    "os.chdir(new_path) # zmień katalog roboczy\n",
    "\n",
    "print(\"Nowy katalog roboczy:\", os.getcwd())\n",
    "\n",
    "os.chdir(current_path) # wracamy"
   ]
  },
  {
   "cell_type": "markdown",
   "metadata": {
    "slideshow": {
     "slide_type": "subslide"
    }
   },
   "source": [
    "## Zawartość katalogu\n",
    "\n",
    "---"
   ]
  },
  {
   "cell_type": "code",
   "execution_count": 4,
   "metadata": {
    "slideshow": {
     "slide_type": "-"
    }
   },
   "outputs": [
    {
     "data": {
      "text/plain": [
       "['src', 'local', 'bin', 'include', 'sbin', 'lib', 'games', 'share', 'locale']"
      ]
     },
     "execution_count": 4,
     "metadata": {},
     "output_type": "execute_result"
    }
   ],
   "source": [
    "os.listdir(\"/usr/\") # lista plików i katalogów"
   ]
  },
  {
   "cell_type": "code",
   "execution_count": 5,
   "metadata": {
    "slideshow": {
     "slide_type": "-"
    }
   },
   "outputs": [
    {
     "data": {
      "text/plain": [
       "['my_script.py',\n",
       " 'usos.py',\n",
       " '.ipynb_checkpoints',\n",
       " 'js-python_w05.html',\n",
       " 'js-python_w01.html',\n",
       " 'js-python_l02.md',\n",
       " 'test.2016_11_11_175921.log',\n",
       " 'js-python_w04.ipynb',\n",
       " 'js-python_w06.html',\n",
       " 'README.md',\n",
       " 'js-python_w03.html',\n",
       " 'test.2016_11_11_175922.log',\n",
       " 'js-python_l00.md',\n",
       " 'iloczyn.py',\n",
       " 'js-python_w04.html',\n",
       " 'temp.py',\n",
       " 'js-python_w03.ipynb',\n",
       " 'js-python_l01.pdf',\n",
       " 'js-python_w05.ipynb',\n",
       " 'print_args.py',\n",
       " 'src',\n",
       " 'js-python_l01.md',\n",
       " 'middle2.py',\n",
       " 'js-python_w01.ipynb',\n",
       " 'listy_zadan',\n",
       " '__pycache__',\n",
       " 'dodaj_studentow.py',\n",
       " 'js-python_w07.ipynb',\n",
       " 'test.2016_11_11_175942.log',\n",
       " 'js-python_w02.ipynb',\n",
       " 'js-python_w02.html',\n",
       " 'temp',\n",
       " 'my_module.py',\n",
       " 'js-python_w06.ipynb',\n",
       " 'private.py']"
      ]
     },
     "execution_count": 5,
     "metadata": {},
     "output_type": "execute_result"
    }
   ],
   "source": [
    "os.listdir() # lista plików i katalogów w pwd"
   ]
  },
  {
   "cell_type": "markdown",
   "metadata": {
    "slideshow": {
     "slide_type": "subslide"
    }
   },
   "source": [
    "## Tworzenie / usuwanie katalogów\n",
    "\n",
    "---"
   ]
  },
  {
   "cell_type": "code",
   "execution_count": 6,
   "metadata": {
    "slideshow": {
     "slide_type": "-"
    }
   },
   "outputs": [
    {
     "name": "stdout",
     "output_type": "stream",
     "text": [
      "test not found.\n",
      "test is found.\n",
      "test not found.\n"
     ]
    }
   ],
   "source": [
    "def check(ls, folder):\n",
    "    \"\"\"Sprawdza czy folder znajduje się na liście.\"\"\"\n",
    "    if folder in ls:\n",
    "        print(\"{} is found.\".format(folder))\n",
    "    else:\n",
    "        print(\"{} not found.\".format(folder))\n",
    "\n",
    "my_folder = \"test\"\n",
    "\n",
    "check(os.listdir(), my_folder)\n",
    "\n",
    "os.mkdir(my_folder) # stwórz katalog test\n",
    "\n",
    "check(os.listdir(), my_folder)\n",
    "\n",
    "os.rmdir(my_folder) # usuń katalog test\n",
    "\n",
    "check(os.listdir(), my_folder)"
   ]
  },
  {
   "cell_type": "markdown",
   "metadata": {
    "slideshow": {
     "slide_type": "subslide"
    }
   },
   "source": [
    "## Tworzenie / usuwanie plików\n",
    "\n",
    "---"
   ]
  },
  {
   "cell_type": "code",
   "execution_count": 7,
   "metadata": {
    "slideshow": {
     "slide_type": "-"
    }
   },
   "outputs": [
    {
     "data": {
      "text/plain": [
       "['my_file']"
      ]
     },
     "execution_count": 7,
     "metadata": {},
     "output_type": "execute_result"
    }
   ],
   "source": [
    "os.mkdir(\"my_dir\") # stwórz katalog \"my_dir\"\n",
    "\n",
    "# otwórz plik w trybie zapisu (więcej za tydzień)\n",
    "file = open(\"my_dir/my_file\", 'w')\n",
    "file.close()\n",
    "\n",
    "os.listdir(\"my_dir\")"
   ]
  },
  {
   "cell_type": "code",
   "execution_count": 8,
   "metadata": {
    "slideshow": {
     "slide_type": "-"
    }
   },
   "outputs": [
    {
     "ename": "OSError",
     "evalue": "[Errno 39] Directory not empty: 'my_dir'",
     "output_type": "error",
     "traceback": [
      "\u001b[0;31m---------------------------------------------------------------------------\u001b[0m",
      "\u001b[0;31mOSError\u001b[0m                                   Traceback (most recent call last)",
      "\u001b[0;32m<ipython-input-8-35adb4ad65f2>\u001b[0m in \u001b[0;36m<module>\u001b[0;34m()\u001b[0m\n\u001b[1;32m      1\u001b[0m \u001b[0;31m# nie można usunąć niepustego katalogu\u001b[0m\u001b[0;34m\u001b[0m\u001b[0;34m\u001b[0m\u001b[0m\n\u001b[0;32m----> 2\u001b[0;31m \u001b[0mos\u001b[0m\u001b[0;34m.\u001b[0m\u001b[0mrmdir\u001b[0m\u001b[0;34m(\u001b[0m\u001b[0;34m\"my_dir\"\u001b[0m\u001b[0;34m)\u001b[0m \u001b[0;31m# OSError: [Errno 39] Directory not empty: 'my_dir'\u001b[0m\u001b[0;34m\u001b[0m\u001b[0m\n\u001b[0m",
      "\u001b[0;31mOSError\u001b[0m: [Errno 39] Directory not empty: 'my_dir'"
     ]
    }
   ],
   "source": [
    "# nie można usunąć niepustego katalogu\n",
    "os.rmdir(\"my_dir\") # OSError: [Errno 39] Directory not empty: 'my_dir'"
   ]
  },
  {
   "cell_type": "code",
   "execution_count": 9,
   "metadata": {
    "collapsed": true,
    "slideshow": {
     "slide_type": "-"
    }
   },
   "outputs": [],
   "source": [
    "os.remove(\"my_dir/my_file\") # usuń plik\n",
    "os.rmdir(\"my_dir\")          # usuń katalog"
   ]
  },
  {
   "cell_type": "markdown",
   "metadata": {
    "slideshow": {
     "slide_type": "subslide"
    }
   },
   "source": [
    "## Drzewo katalogów\n",
    "\n",
    "---"
   ]
  },
  {
   "cell_type": "code",
   "execution_count": 10,
   "metadata": {
    "slideshow": {
     "slide_type": "-"
    }
   },
   "outputs": [
    {
     "data": {
      "text/plain": [
       "['level1']"
      ]
     },
     "execution_count": 10,
     "metadata": {},
     "output_type": "execute_result"
    }
   ],
   "source": [
    "# os.makedirs(..., exist_ok=True) -> działa jak mkdir -p\n",
    "os.makedirs(\"level0/level1/level2\") # utwórz \"ciąg\" katalogów\n",
    "\n",
    "os.listdir(\"level0\")"
   ]
  },
  {
   "cell_type": "code",
   "execution_count": 11,
   "metadata": {
    "slideshow": {
     "slide_type": "-"
    }
   },
   "outputs": [
    {
     "data": {
      "text/plain": [
       "['level2']"
      ]
     },
     "execution_count": 11,
     "metadata": {},
     "output_type": "execute_result"
    }
   ],
   "source": [
    "os.listdir(\"level0/level1\")"
   ]
  },
  {
   "cell_type": "code",
   "execution_count": 12,
   "metadata": {
    "slideshow": {
     "slide_type": "-"
    }
   },
   "outputs": [],
   "source": [
    "# os.rmdir(\"level0/level1/level2\")    # usunie tylko level2\n",
    "os.removedirs(\"level0/level1/level2\") # usunie wszystko"
   ]
  },
  {
   "cell_type": "markdown",
   "metadata": {
    "slideshow": {
     "slide_type": "subslide"
    }
   },
   "source": [
    "## Moduł *os.path*\n",
    "\n",
    "---"
   ]
  },
  {
   "cell_type": "code",
   "execution_count": 13,
   "metadata": {
    "slideshow": {
     "slide_type": "-"
    }
   },
   "outputs": [
    {
     "data": {
      "text/plain": [
       "'/my/path/file.py'"
      ]
     },
     "execution_count": 13,
     "metadata": {},
     "output_type": "execute_result"
    }
   ],
   "source": [
    "import os\n",
    "\n",
    "path = \"/my/path\" # katalog\n",
    "file = \"file.py\"  # plik\n",
    "\n",
    "os.path.join(path, file) # tworzy pełną ścieżkę do pliku"
   ]
  },
  {
   "cell_type": "code",
   "execution_count": 14,
   "metadata": {
    "slideshow": {
     "slide_type": "-"
    }
   },
   "outputs": [
    {
     "data": {
      "text/plain": [
       "('/my/path', 'file.py')"
      ]
     },
     "execution_count": 14,
     "metadata": {},
     "output_type": "execute_result"
    }
   ],
   "source": [
    "os.path.split(\"/my/path/file.py\") # zwraca (head, tail)"
   ]
  },
  {
   "cell_type": "code",
   "execution_count": 15,
   "metadata": {
    "slideshow": {
     "slide_type": "-"
    }
   },
   "outputs": [
    {
     "data": {
      "text/plain": [
       "'/my/path'"
      ]
     },
     "execution_count": 15,
     "metadata": {},
     "output_type": "execute_result"
    }
   ],
   "source": [
    "os.path.dirname(\"/my/path/file.py\") # zwraca split()[0]"
   ]
  },
  {
   "cell_type": "code",
   "execution_count": 16,
   "metadata": {
    "slideshow": {
     "slide_type": "-"
    }
   },
   "outputs": [
    {
     "data": {
      "text/plain": [
       "'file.py'"
      ]
     },
     "execution_count": 16,
     "metadata": {},
     "output_type": "execute_result"
    }
   ],
   "source": [
    "os.path.basename(\"/my/path/file.py\") # zwraca split()[1]"
   ]
  },
  {
   "cell_type": "markdown",
   "metadata": {
    "slideshow": {
     "slide_type": "subslide"
    }
   },
   "source": [
    "## Więcej o *os.path*\n",
    "\n",
    "---"
   ]
  },
  {
   "cell_type": "code",
   "execution_count": 17,
   "metadata": {
    "slideshow": {
     "slide_type": "-"
    }
   },
   "outputs": [
    {
     "data": {
      "text/plain": [
       "('/my/path/file', '.py')"
      ]
     },
     "execution_count": 17,
     "metadata": {},
     "output_type": "execute_result"
    }
   ],
   "source": [
    "import os.path as path\n",
    "\n",
    "path.splitext(\"/my/path/file.py\") # wydziela rozszerzenie pliku"
   ]
  },
  {
   "cell_type": "code",
   "execution_count": 18,
   "metadata": {
    "slideshow": {
     "slide_type": "-"
    }
   },
   "outputs": [
    {
     "name": "stdout",
     "output_type": "stream",
     "text": [
      "my_path = /my/path\n",
      "my_file = file.py\n",
      "my_base = file\n",
      "my_extn = .py\n"
     ]
    }
   ],
   "source": [
    "my_path, my_file = path.split(\"/my/path/file.py\")\n",
    "my_base, my_extn = path.splitext(my_file)\n",
    "\n",
    "print(\"my_path =\", my_path)\n",
    "print(\"my_file =\", my_file)\n",
    "print(\"my_base =\", my_base)\n",
    "print(\"my_extn =\", my_extn)"
   ]
  },
  {
   "cell_type": "markdown",
   "metadata": {
    "slideshow": {
     "slide_type": "subslide"
    }
   },
   "source": [
    "## Zmienne środowiskowe\n",
    "\n",
    "---"
   ]
  },
  {
   "cell_type": "code",
   "execution_count": 19,
   "metadata": {
    "slideshow": {
     "slide_type": "-"
    }
   },
   "outputs": [
    {
     "data": {
      "text/plain": [
       "'/home/goran'"
      ]
     },
     "execution_count": 19,
     "metadata": {},
     "output_type": "execute_result"
    }
   ],
   "source": [
    "os.getenv(\"HOME\") # pobierz wartość zmiennej środowiskowej"
   ]
  },
  {
   "cell_type": "code",
   "execution_count": 20,
   "metadata": {
    "slideshow": {
     "slide_type": "-"
    }
   },
   "outputs": [
    {
     "data": {
      "text/plain": [
       "'/home/goran'"
      ]
     },
     "execution_count": 20,
     "metadata": {},
     "output_type": "execute_result"
    }
   ],
   "source": [
    "os.environ[\"HOME\"] # environ -> słownik zś"
   ]
  },
  {
   "cell_type": "code",
   "execution_count": 21,
   "metadata": {
    "collapsed": true,
    "slideshow": {
     "slide_type": "-"
    }
   },
   "outputs": [],
   "source": [
    "os.environ[\"MOJA_ZMIENNA\"] = \"To musi być string\""
   ]
  },
  {
   "cell_type": "code",
   "execution_count": 22,
   "metadata": {
    "slideshow": {
     "slide_type": "-"
    }
   },
   "outputs": [
    {
     "name": "stdout",
     "output_type": "stream",
     "text": [
      "To musi być string\n"
     ]
    }
   ],
   "source": [
    "%%bash\n",
    "# wywołanie komendy basha z poziomu jupytera\n",
    "echo $MOJA_ZMIENNA"
   ]
  },
  {
   "cell_type": "markdown",
   "metadata": {
    "slideshow": {
     "slide_type": "slide"
    }
   },
   "source": [
    "## USOS \n",
    "\n",
    "---"
   ]
  },
  {
   "cell_type": "code",
   "execution_count": 23,
   "metadata": {
    "slideshow": {
     "slide_type": "-"
    }
   },
   "outputs": [
    {
     "name": "stdout",
     "output_type": "stream",
     "text": [
      "Overwriting usos.py\n"
     ]
    }
   ],
   "source": [
    "%%writefile usos.py\n",
    "\"\"\"Uniwersytecki System Obsługi Studiów\n",
    "\n",
    "Dane przechowywane w postaci: kierunek/rok/imie.nazwisko\n",
    "a w pliku zapisany jest numer indeksu\n",
    "\"\"\"\n",
    "\n",
    "import os\n",
    "\n",
    "# top-level katalog na podstawie zmiennej środowiskowej $USOS\n",
    "# jeśli nie jest zdefiniowana -> bieżący katalog\n",
    "_BASE_PATH = os.getenv(\"USOS\") or os.getcwd()"
   ]
  },
  {
   "cell_type": "markdown",
   "metadata": {
    "slideshow": {
     "slide_type": "subslide"
    }
   },
   "source": [
    "## Zmienna środowiskowa USOS\n",
    "\n",
    "---"
   ]
  },
  {
   "cell_type": "code",
   "execution_count": 24,
   "metadata": {
    "slideshow": {
     "slide_type": "-"
    }
   },
   "outputs": [
    {
     "name": "stdout",
     "output_type": "stream",
     "text": [
      "\n",
      "/doc/insync/scratch/zajęcia/2016/języki skryptowe - python/js-python\n"
     ]
    }
   ],
   "source": [
    "%%bash\n",
    "echo $USOS\n",
    "python -c \"import usos; print(usos._BASE_PATH)\""
   ]
  },
  {
   "cell_type": "code",
   "execution_count": 25,
   "metadata": {
    "slideshow": {
     "slide_type": "-"
    }
   },
   "outputs": [
    {
     "name": "stdout",
     "output_type": "stream",
     "text": [
      "/moja/sciezka/do/bazy/danych\n"
     ]
    }
   ],
   "source": [
    "%%bash\n",
    "export USOS=\"/moja/sciezka/do/bazy/danych\"\n",
    "python -c \"import usos; print(usos._BASE_PATH)\""
   ]
  },
  {
   "cell_type": "markdown",
   "metadata": {
    "slideshow": {
     "slide_type": "subslide"
    }
   },
   "source": [
    "## USOS - dodawanie studenta\n",
    "\n",
    "---"
   ]
  },
  {
   "cell_type": "code",
   "execution_count": 26,
   "metadata": {
    "slideshow": {
     "slide_type": "-"
    }
   },
   "outputs": [
    {
     "name": "stdout",
     "output_type": "stream",
     "text": [
      "Appending to usos.py\n"
     ]
    }
   ],
   "source": [
    "%%writefile -a usos.py\n",
    "\n",
    "def add_student(imie, nazwisko, indeks, kierunek, rok):\n",
    "    \"\"\"Dodaje studenta.\n",
    "    \n",
    "    Tworzy plik imie.nazwisko w katalogu kierunek/rok/\n",
    "    i umieszcza w nim numer indeksu\n",
    "    \"\"\"\n",
    "    # pełna ścieżka do katalogu danego kierunku/rocznika\n",
    "    path = os.path.join(_BASE_PATH, kierunek, str(rok))\n",
    "    # imie.nazwisko\n",
    "    file = \".\".join([imie, nazwisko])\n",
    "    # stwórz kierunek lub pomiń jeśli istnieje\n",
    "    os.makedirs(path, exist_ok=True)\n",
    "    # o plikach więcej za tydzień\n",
    "    with open(os.path.join(path, file), 'w') as f:\n",
    "        f.write(str(indeks))"
   ]
  },
  {
   "cell_type": "markdown",
   "metadata": {
    "slideshow": {
     "slide_type": "subslide"
    }
   },
   "source": [
    "## USOS - przykład\n",
    "\n",
    "---"
   ]
  },
  {
   "cell_type": "code",
   "execution_count": 27,
   "metadata": {
    "slideshow": {
     "slide_type": "-"
    }
   },
   "outputs": [
    {
     "name": "stdout",
     "output_type": "stream",
     "text": [
      "Overwriting dodaj_studentow.py\n"
     ]
    }
   ],
   "source": [
    "%%writefile dodaj_studentow.py\n",
    "\n",
    "import usos\n",
    "import random\n",
    "\n",
    "imiona = [\"Kasia\", \"Basia\", \"Marek\", \"Darek\"]\n",
    "nazwiska = [\"Nowak\", \"Marian\", \"Python\"]\n",
    "kierunki = [\"ISSP\", \"Fizyka Komputerowa\"]\n",
    "\n",
    "for i in range(10):\n",
    "    imie = random.choice(imiona)         # losowe imie\n",
    "    nazwisko = random.choice(nazwiska)   # losowe nazwisko\n",
    "    indeks = random.randint(1000, 9999)  # losowy indeks\n",
    "    rocznik = random.randint(2015, 2017) # losowy rocznik\n",
    "    kierunek = random.choice(kierunki)   # losowy kierunek\n",
    "    \n",
    "    usos.add_student(imie, nazwisko, indeks, kierunek, rocznik)"
   ]
  },
  {
   "cell_type": "markdown",
   "metadata": {
    "slideshow": {
     "slide_type": "subslide"
    }
   },
   "source": [
    "## USOS - wynik\n",
    "\n",
    "---"
   ]
  },
  {
   "cell_type": "code",
   "execution_count": 30,
   "metadata": {
    "slideshow": {
     "slide_type": "-"
    }
   },
   "outputs": [
    {
     "name": "stdout",
     "output_type": "stream",
     "text": [
      "/home/goran/usos\n",
      "├── Fizyka Komputerowa\n",
      "│   ├── 2015\n",
      "│   │   └── Marek.Python\n",
      "│   ├── 2016\n",
      "│   │   ├── Basia.Marian\n",
      "│   │   ├── Kasia.Nowak\n",
      "│   │   └── Marek.Python\n",
      "│   └── 2017\n",
      "│       └── Basia.Marian\n",
      "└── ISSP\n",
      "    ├── 2015\n",
      "    │   └── Marek.Marian\n",
      "    ├── 2016\n",
      "    │   ├── Basia.Marian\n",
      "    │   ├── Kasia.Nowak\n",
      "    │   └── Kasia.Python\n",
      "    └── 2017\n",
      "        └── Basia.Nowak\n",
      "\n",
      "8 directories, 10 files\n"
     ]
    }
   ],
   "source": [
    "%%bash\n",
    "export USOS=/home/goran/usos\n",
    "python dodaj_studentow.py\n",
    "tree $USOS"
   ]
  },
  {
   "cell_type": "markdown",
   "metadata": {
    "slideshow": {
     "slide_type": "slide"
    }
   },
   "source": [
    "## *os.walk*\n",
    "\n",
    "---"
   ]
  },
  {
   "cell_type": "code",
   "execution_count": 31,
   "metadata": {
    "slideshow": {
     "slide_type": "-"
    }
   },
   "outputs": [
    {
     "name": "stdout",
     "output_type": "stream",
     "text": [
      "/home/goran/usos\n",
      "['Fizyka Komputerowa', 'ISSP']\n",
      "[]\n",
      "\n",
      "/home/goran/usos/Fizyka Komputerowa\n",
      "['2016', '2015', '2017']\n",
      "[]\n",
      "\n",
      "/home/goran/usos/Fizyka Komputerowa/2016\n",
      "[]\n",
      "['Kasia.Nowak', 'Basia.Marian', 'Marek.Python']\n",
      "\n",
      "/home/goran/usos/Fizyka Komputerowa/2015\n",
      "[]\n",
      "['Marek.Python']\n",
      "\n",
      "/home/goran/usos/Fizyka Komputerowa/2017\n",
      "[]\n",
      "['Basia.Marian']\n",
      "\n",
      "/home/goran/usos/ISSP\n",
      "['2016', '2015', '2017']\n",
      "[]\n",
      "\n",
      "/home/goran/usos/ISSP/2016\n",
      "[]\n",
      "['Kasia.Python', 'Kasia.Nowak', 'Basia.Marian']\n",
      "\n",
      "/home/goran/usos/ISSP/2015\n",
      "[]\n",
      "['Marek.Marian']\n",
      "\n",
      "/home/goran/usos/ISSP/2017\n",
      "[]\n",
      "['Basia.Nowak']\n",
      "\n"
     ]
    }
   ],
   "source": [
    "# os.walk \"podróżuje po drzewie katalogów\"\n",
    "# na każdym kroku zwracając krotkę\n",
    "# (obecny katalog, lista podkatalogów, lista plików)\n",
    "for root, dirs, files in os.walk(\"/home/goran/usos\"):\n",
    "    print(root, dirs, files, sep=\"\\n\", end=\"\\n\\n\")"
   ]
  },
  {
   "cell_type": "markdown",
   "metadata": {
    "slideshow": {
     "slide_type": "subslide"
    }
   },
   "source": [
    "## *os.walk*\n",
    "\n",
    "---"
   ]
  },
  {
   "cell_type": "code",
   "execution_count": 32,
   "metadata": {
    "slideshow": {
     "slide_type": "-"
    }
   },
   "outputs": [
    {
     "name": "stdout",
     "output_type": "stream",
     "text": [
      "/home/goran/usos/Fizyka Komputerowa/2016/Kasia.Nowak\n",
      "/home/goran/usos/Fizyka Komputerowa/2016/Basia.Marian\n",
      "/home/goran/usos/Fizyka Komputerowa/2016/Marek.Python\n",
      "/home/goran/usos/Fizyka Komputerowa/2015/Marek.Python\n",
      "/home/goran/usos/Fizyka Komputerowa/2017/Basia.Marian\n",
      "/home/goran/usos/ISSP/2016/Kasia.Python\n",
      "/home/goran/usos/ISSP/2016/Kasia.Nowak\n",
      "/home/goran/usos/ISSP/2016/Basia.Marian\n",
      "/home/goran/usos/ISSP/2015/Marek.Marian\n",
      "/home/goran/usos/ISSP/2017/Basia.Nowak\n"
     ]
    }
   ],
   "source": [
    "for root, dirs, files in os.walk(\"/home/goran/usos\"):\n",
    "    for file in files: # pętla po plikach w danym katalogu root\n",
    "        print(os.path.join(root, file))"
   ]
  },
  {
   "cell_type": "markdown",
   "metadata": {
    "slideshow": {
     "slide_type": "subslide"
    }
   },
   "source": [
    "## Moduł *glob*\n",
    "\n",
    "---\n",
    "\n",
    "* umożliwia wykorzystanie uniksowych *dzikich kart*: `?`, `*`, `[]`"
   ]
  },
  {
   "cell_type": "code",
   "execution_count": 33,
   "metadata": {
    "slideshow": {
     "slide_type": "-"
    }
   },
   "outputs": [
    {
     "data": {
      "text/plain": [
       "['js-python_w04.ipynb',\n",
       " 'js-python_w03.ipynb',\n",
       " 'js-python_w05.ipynb',\n",
       " 'js-python_w01.ipynb',\n",
       " 'js-python_w07.ipynb',\n",
       " 'js-python_w02.ipynb',\n",
       " 'js-python_w06.ipynb']"
      ]
     },
     "execution_count": 33,
     "metadata": {},
     "output_type": "execute_result"
    }
   ],
   "source": [
    "import glob\n",
    "\n",
    "glob.glob(\"*.ipynb\") # lista plików z rozszerzeniem ipynb"
   ]
  },
  {
   "cell_type": "markdown",
   "metadata": {
    "slideshow": {
     "slide_type": "subslide"
    }
   },
   "source": [
    "## Więcej o *glob*\n",
    "\n",
    "---"
   ]
  },
  {
   "cell_type": "code",
   "execution_count": 34,
   "metadata": {
    "slideshow": {
     "slide_type": "-"
    }
   },
   "outputs": [
    {
     "data": {
      "text/plain": [
       "['js-python_w01.html', 'js-python_w03.html', 'js-python_w02.html']"
      ]
     },
     "execution_count": 34,
     "metadata": {},
     "output_type": "execute_result"
    }
   ],
   "source": [
    "# pliki z roszerzeniem html oraz\n",
    "# pasujące do wzorca (coś)(cyfra od 0 do 3)\n",
    "glob.glob(\"*[0-3].html\")"
   ]
  },
  {
   "cell_type": "code",
   "execution_count": 35,
   "metadata": {
    "slideshow": {
     "slide_type": "-"
    }
   },
   "outputs": [
    {
     "data": {
      "text/plain": [
       "['js-python_l02.md', 'js-python_w02.ipynb', 'js-python_w02.html']"
      ]
     },
     "execution_count": 35,
     "metadata": {},
     "output_type": "execute_result"
    }
   ],
   "source": [
    "glob.glob(\"js-python_?02.*\") # js-python_[znak]02.[cokolwiek]"
   ]
  },
  {
   "cell_type": "code",
   "execution_count": 36,
   "metadata": {
    "slideshow": {
     "slide_type": "-"
    }
   },
   "outputs": [
    {
     "data": {
      "text/plain": [
       "['js-python_l02.md', 'js-python_w02.ipynb']"
      ]
     },
     "execution_count": 36,
     "metadata": {},
     "output_type": "execute_result"
    }
   ],
   "source": [
    "glob.glob(\"js-python_?02.[mi]*\") # js-python_[znak]02.[m lub i]cokolwiek"
   ]
  },
  {
   "cell_type": "markdown",
   "metadata": {
    "slideshow": {
     "slide_type": "slide"
    }
   },
   "source": [
    "## Moduł *sys*\n",
    "\n",
    "---\n",
    "\n",
    "* funkcje i parametry specyficzne dla systemu operacyjnego\n",
    "* ostatnio: ścieżka dostępu do modułów *sys.path*\n",
    "* referencje do obiektów\n",
    "* argumenty wywołania skryptu"
   ]
  },
  {
   "cell_type": "markdown",
   "metadata": {
    "slideshow": {
     "slide_type": "subslide"
    }
   },
   "source": [
    "## Referencje do obiektu\n",
    "\n",
    "---"
   ]
  },
  {
   "cell_type": "code",
   "execution_count": 37,
   "metadata": {
    "slideshow": {
     "slide_type": "skip"
    }
   },
   "outputs": [
    {
     "name": "stdout",
     "output_type": "stream",
     "text": [
      "Once deleted, variables cannot be recovered. Proceed (y/[n])? y\n"
     ]
    }
   ],
   "source": [
    "%reset"
   ]
  },
  {
   "cell_type": "code",
   "execution_count": 38,
   "metadata": {
    "slideshow": {
     "slide_type": "-"
    }
   },
   "outputs": [
    {
     "data": {
      "text/plain": [
       "3"
      ]
     },
     "execution_count": 38,
     "metadata": {},
     "output_type": "execute_result"
    }
   ],
   "source": [
    "import sys\n",
    "\n",
    "x = 1234\n",
    "y = 1234\n",
    "z = \"Mój tekst\"\n",
    "\n",
    "sys.getrefcount(x) # x, y i ?"
   ]
  },
  {
   "cell_type": "code",
   "execution_count": 39,
   "metadata": {
    "slideshow": {
     "slide_type": "-"
    }
   },
   "outputs": [
    {
     "data": {
      "text/plain": [
       "2"
      ]
     },
     "execution_count": 39,
     "metadata": {},
     "output_type": "execute_result"
    }
   ],
   "source": [
    "sys.getrefcount(z) # getrefcount pracuje na kopii z "
   ]
  },
  {
   "cell_type": "markdown",
   "metadata": {
    "slideshow": {
     "slide_type": "subslide"
    }
   },
   "source": [
    "## Referencje do obiektów *mutowalnych*\n",
    "\n",
    "---"
   ]
  },
  {
   "cell_type": "code",
   "execution_count": 40,
   "metadata": {
    "slideshow": {
     "slide_type": "-"
    }
   },
   "outputs": [
    {
     "data": {
      "text/plain": [
       "3"
      ]
     },
     "execution_count": 40,
     "metadata": {},
     "output_type": "execute_result"
    }
   ],
   "source": [
    "x = [1, 2, 3]\n",
    "y = x\n",
    "z = x.copy()\n",
    "\n",
    "sys.getrefcount(x) # x, y i getrefcount"
   ]
  },
  {
   "cell_type": "code",
   "execution_count": 41,
   "metadata": {
    "slideshow": {
     "slide_type": "-"
    }
   },
   "outputs": [
    {
     "data": {
      "text/plain": [
       "True"
      ]
     },
     "execution_count": 41,
     "metadata": {},
     "output_type": "execute_result"
    }
   ],
   "source": [
    "x is y # x i y wskazują to samo"
   ]
  },
  {
   "cell_type": "code",
   "execution_count": 42,
   "metadata": {
    "slideshow": {
     "slide_type": "-"
    }
   },
   "outputs": [
    {
     "data": {
      "text/plain": [
       "False"
      ]
     },
     "execution_count": 42,
     "metadata": {},
     "output_type": "execute_result"
    }
   ],
   "source": [
    "x is z # x i z wskazują na inne listy"
   ]
  },
  {
   "cell_type": "markdown",
   "metadata": {
    "slideshow": {
     "slide_type": "subslide"
    }
   },
   "source": [
    "## Argumenty \n",
    "\n",
    "---"
   ]
  },
  {
   "cell_type": "code",
   "execution_count": 43,
   "metadata": {
    "slideshow": {
     "slide_type": "-"
    }
   },
   "outputs": [
    {
     "name": "stdout",
     "output_type": "stream",
     "text": [
      "Overwriting print_args.py\n"
     ]
    }
   ],
   "source": [
    "%%writefile print_args.py\n",
    "\"\"\"Drukuje argumenty podane w linii komend.\"\"\"\n",
    "\n",
    "import sys\n",
    "\n",
    "# sys.argv - lista argumentó linii komend\n",
    "for i, arg in enumerate(sys.argv):\n",
    "    print(\"{}. {}\".format(i, arg))"
   ]
  },
  {
   "cell_type": "code",
   "execution_count": 44,
   "metadata": {
    "slideshow": {
     "slide_type": "-"
    }
   },
   "outputs": [
    {
     "name": "stdout",
     "output_type": "stream",
     "text": [
      "0. print_args.py\r\n",
      "1. arg1\r\n",
      "2. arg2\r\n",
      "3. 33\r\n",
      "4. hello world\r\n"
     ]
    }
   ],
   "source": [
    "!python print_args.py arg1 arg2 33 \"hello world\""
   ]
  },
  {
   "cell_type": "markdown",
   "metadata": {
    "slideshow": {
     "slide_type": "subslide"
    }
   },
   "source": [
    "## Przykład\n",
    "\n",
    "---"
   ]
  },
  {
   "cell_type": "code",
   "execution_count": 45,
   "metadata": {
    "slideshow": {
     "slide_type": "-"
    }
   },
   "outputs": [
    {
     "name": "stdout",
     "output_type": "stream",
     "text": [
      "Overwriting iloczyn.py\n"
     ]
    }
   ],
   "source": [
    "%%writefile iloczyn.py\n",
    "\"\"\"Liczy iloczyn podanych argumentów.\"\"\"\n",
    "\n",
    "import sys\n",
    "\n",
    "if len(sys.argv) < 2: # sys.argv[0] = iloczyn.py\n",
    "    print(\"Musisz podać co najmniej jedną liczbę .\")\n",
    "else:\n",
    "    wyrazenie = \"*\".join(sys.argv[1:])\n",
    "    print(wyrazenie, \"=\", eval(wyrazenie))"
   ]
  },
  {
   "cell_type": "code",
   "execution_count": 46,
   "metadata": {
    "slideshow": {
     "slide_type": "-"
    }
   },
   "outputs": [
    {
     "name": "stdout",
     "output_type": "stream",
     "text": [
      "Musisz podać co najmniej jedną liczbę .\r\n"
     ]
    }
   ],
   "source": [
    "!python iloczyn.py"
   ]
  },
  {
   "cell_type": "code",
   "execution_count": 47,
   "metadata": {
    "slideshow": {
     "slide_type": "-"
    }
   },
   "outputs": [
    {
     "name": "stdout",
     "output_type": "stream",
     "text": [
      "1*2*5*4*10*0.5 = 200.0\r\n"
     ]
    }
   ],
   "source": [
    "!python iloczyn.py 1 2 5 4 10 0.5"
   ]
  },
  {
   "cell_type": "markdown",
   "metadata": {
    "slideshow": {
     "slide_type": "slide"
    }
   },
   "source": [
    "## Moduł *time*\n",
    "\n",
    "---\n",
    "\n",
    "* operacje na czasie\n",
    "* nie wszystkie funkcjonalności są dostępne na wszystkich platformach\n",
    "* najczęściej wywoływane są funkcje biblioteki C o tej samej nazwie"
   ]
  },
  {
   "cell_type": "markdown",
   "metadata": {
    "slideshow": {
     "slide_type": "subslide"
    }
   },
   "source": [
    "## Czas uniksowy\n",
    "\n",
    "---"
   ]
  },
  {
   "cell_type": "code",
   "execution_count": 48,
   "metadata": {
    "slideshow": {
     "slide_type": "-"
    }
   },
   "outputs": [
    {
     "data": {
      "text/plain": [
       "time.struct_time(tm_year=2016, tm_mon=11, tm_mday=14, tm_hour=17, tm_min=43, tm_sec=9, tm_wday=0, tm_yday=319, tm_isdst=0)"
      ]
     },
     "execution_count": 48,
     "metadata": {},
     "output_type": "execute_result"
    }
   ],
   "source": [
    "import time\n",
    "\n",
    "time.gmtime() # Greenwhich Mean Time / czas uniwersalny"
   ]
  },
  {
   "cell_type": "code",
   "execution_count": 49,
   "metadata": {
    "slideshow": {
     "slide_type": "-"
    }
   },
   "outputs": [
    {
     "data": {
      "text/plain": [
       "1479145391.2862186"
      ]
     },
     "execution_count": 49,
     "metadata": {},
     "output_type": "execute_result"
    }
   ],
   "source": [
    "time.time() # ile minęło sekund od"
   ]
  },
  {
   "cell_type": "code",
   "execution_count": 50,
   "metadata": {
    "slideshow": {
     "slide_type": "-"
    }
   },
   "outputs": [
    {
     "data": {
      "text/plain": [
       "time.struct_time(tm_year=1970, tm_mon=1, tm_mday=1, tm_hour=0, tm_min=0, tm_sec=0, tm_wday=3, tm_yday=1, tm_isdst=0)"
      ]
     },
     "execution_count": 50,
     "metadata": {},
     "output_type": "execute_result"
    }
   ],
   "source": [
    "time.gmtime(0) # eoki Uniksa"
   ]
  },
  {
   "cell_type": "markdown",
   "metadata": {
    "slideshow": {
     "slide_type": "subslide"
    }
   },
   "source": [
    "## Przybliżony test\n",
    "\n",
    "---"
   ]
  },
  {
   "cell_type": "code",
   "execution_count": 51,
   "metadata": {
    "slideshow": {
     "slide_type": "-"
    }
   },
   "outputs": [
    {
     "data": {
      "text/plain": [
       "46.90339274137039"
      ]
     },
     "execution_count": 51,
     "metadata": {},
     "output_type": "execute_result"
    }
   ],
   "source": [
    "time.time() / 60 / 60 / 24 / 365 # lat"
   ]
  },
  {
   "cell_type": "code",
   "execution_count": 52,
   "metadata": {
    "slideshow": {
     "slide_type": "-"
    }
   },
   "outputs": [
    {
     "data": {
      "text/plain": [
       "46"
      ]
     },
     "execution_count": 52,
     "metadata": {},
     "output_type": "execute_result"
    }
   ],
   "source": [
    "time.gmtime()[0] - time.gmtime(0)[0] # rok teraz - rok epoki linuksa"
   ]
  },
  {
   "cell_type": "markdown",
   "metadata": {
    "slideshow": {
     "slide_type": "subslide"
    }
   },
   "source": [
    "## Uniksowe chwile godne uwagi\n",
    "\n",
    "---"
   ]
  },
  {
   "cell_type": "code",
   "execution_count": 53,
   "metadata": {
    "slideshow": {
     "slide_type": "-"
    }
   },
   "outputs": [
    {
     "data": {
      "text/plain": [
       "(2001, 9, 9, 1, 46, 40)"
      ]
     },
     "execution_count": 53,
     "metadata": {},
     "output_type": "execute_result"
    }
   ],
   "source": [
    "time.gmtime(1000000000)[:6] # Unix billenium"
   ]
  },
  {
   "cell_type": "code",
   "execution_count": 54,
   "metadata": {
    "slideshow": {
     "slide_type": "-"
    }
   },
   "outputs": [
    {
     "data": {
      "text/plain": [
       "(2009, 2, 13, 23, 31, 30)"
      ]
     },
     "execution_count": 54,
     "metadata": {},
     "output_type": "execute_result"
    }
   ],
   "source": [
    "time.gmtime(1234567890)[:6] # piątek 13-tego"
   ]
  },
  {
   "cell_type": "markdown",
   "metadata": {
    "slideshow": {
     "slide_type": "-"
    }
   },
   "source": [
    "![](src/unix1234567890.gif)"
   ]
  },
  {
   "cell_type": "code",
   "execution_count": 55,
   "metadata": {
    "slideshow": {
     "slide_type": "-"
    }
   },
   "outputs": [
    {
     "data": {
      "text/plain": [
       "(2106, 2, 7, 6, 28, 15)"
      ]
     },
     "execution_count": 55,
     "metadata": {},
     "output_type": "execute_result"
    }
   ],
   "source": [
    "time.gmtime(0xFFFFFFFF)[:6] # max bez znaku (32-bit)"
   ]
  },
  {
   "cell_type": "code",
   "execution_count": 56,
   "metadata": {
    "slideshow": {
     "slide_type": "-"
    }
   },
   "outputs": [
    {
     "data": {
      "text/plain": [
       "(2038, 1, 19, 3, 14, 7)"
      ]
     },
     "execution_count": 56,
     "metadata": {},
     "output_type": "execute_result"
    }
   ],
   "source": [
    "time.gmtime(0x7FFFFFFF)[:6] # max ze znakiem (32-bit)"
   ]
  },
  {
   "cell_type": "markdown",
   "metadata": {
    "slideshow": {
     "slide_type": "subslide"
    }
   },
   "source": [
    "## Czas lokalny\n",
    "\n",
    "---"
   ]
  },
  {
   "cell_type": "code",
   "execution_count": 57,
   "metadata": {
    "slideshow": {
     "slide_type": "-"
    }
   },
   "outputs": [
    {
     "data": {
      "text/plain": [
       "time.struct_time(tm_year=2016, tm_mon=11, tm_mday=14, tm_hour=18, tm_min=43, tm_sec=19, tm_wday=0, tm_yday=319, tm_isdst=0)"
      ]
     },
     "execution_count": 57,
     "metadata": {},
     "output_type": "execute_result"
    }
   ],
   "source": [
    "time.localtime() # czas lokalny"
   ]
  },
  {
   "cell_type": "code",
   "execution_count": 58,
   "metadata": {
    "slideshow": {
     "slide_type": "-"
    }
   },
   "outputs": [
    {
     "data": {
      "text/plain": [
       "1"
      ]
     },
     "execution_count": 58,
     "metadata": {},
     "output_type": "execute_result"
    }
   ],
   "source": [
    "time.localtime()[3] - time.gmtime()[3] # różnica Polska - GMT"
   ]
  },
  {
   "cell_type": "markdown",
   "metadata": {
    "slideshow": {
     "slide_type": "subslide"
    }
   },
   "source": [
    "## Czas w formie czytelnej\n",
    "\n",
    "---"
   ]
  },
  {
   "cell_type": "code",
   "execution_count": 59,
   "metadata": {
    "slideshow": {
     "slide_type": "-"
    }
   },
   "outputs": [
    {
     "data": {
      "text/plain": [
       "'Mon Nov 14 18:43:22 2016'"
      ]
     },
     "execution_count": 59,
     "metadata": {},
     "output_type": "execute_result"
    }
   ],
   "source": [
    "teraz = time.localtime()\n",
    "\n",
    "time.strftime(\"%c\", teraz) # lub time.asctime(teraz)"
   ]
  },
  {
   "cell_type": "code",
   "execution_count": 60,
   "metadata": {
    "slideshow": {
     "slide_type": "-"
    }
   },
   "outputs": [
    {
     "name": "stdout",
     "output_type": "stream",
     "text": [
      "Dzisiaj jest Monday\n"
     ]
    }
   ],
   "source": [
    "dzien_tygodnia = time.strftime(\"%A\", teraz) # %a - skrót\n",
    "\n",
    "print(\"Dzisiaj jest\", dzien_tygodnia)"
   ]
  },
  {
   "cell_type": "code",
   "execution_count": 61,
   "metadata": {
    "slideshow": {
     "slide_type": "-"
    }
   },
   "outputs": [
    {
     "data": {
      "text/plain": [
       "'2016-11-14 18:43'"
      ]
     },
     "execution_count": 61,
     "metadata": {},
     "output_type": "execute_result"
    }
   ],
   "source": [
    "time.strftime(\"%Y-%m-%d %H:%M\", teraz) # ROK-MIESIĄC-DZIEŃ GODZINA:MINUTA"
   ]
  },
  {
   "cell_type": "markdown",
   "metadata": {
    "slideshow": {
     "slide_type": "-"
    }
   },
   "source": [
    "* pełna lista dyrektyw [tutaj](https://docs.python.org/3.6/library/time.html#time.strftime)"
   ]
  },
  {
   "cell_type": "markdown",
   "metadata": {
    "slideshow": {
     "slide_type": "subslide"
    }
   },
   "source": [
    "## Pomiar czasu (*wall time*)\n",
    "\n",
    "---"
   ]
  },
  {
   "cell_type": "code",
   "execution_count": 62,
   "metadata": {},
   "outputs": [
    {
     "name": "stdout",
     "output_type": "stream",
     "text": [
      "Czekałem 2.002260446548462 sekund.\n"
     ]
    }
   ],
   "source": [
    "import time\n",
    "\n",
    "def poczekalnia(n):\n",
    "    \"\"\"Czeka n sekund.\"\"\"\n",
    "    time.sleep(n)\n",
    "    \n",
    "przed = time.time() # czas przed wywołaniem funkcji\n",
    "\n",
    "poczekalnia(2)\n",
    "\n",
    "po = time.time() # czas po wywołaniu funkcji\n",
    "\n",
    "print(\"Czekałem {} sekund.\".format(po - przed))"
   ]
  },
  {
   "cell_type": "markdown",
   "metadata": {
    "slideshow": {
     "slide_type": "subslide"
    }
   },
   "source": [
    "## Pomiar czasu procesora (*process time*)\n",
    "\n",
    "---"
   ]
  },
  {
   "cell_type": "code",
   "execution_count": 63,
   "metadata": {
    "slideshow": {
     "slide_type": "-"
    }
   },
   "outputs": [
    {
     "name": "stdout",
     "output_type": "stream",
     "text": [
      "Czekałem 0.0015890000000000626 sekund.\n"
     ]
    }
   ],
   "source": [
    "import time\n",
    "\n",
    "def poczekalnia(n):\n",
    "    \"\"\"Czeka n sekund.\"\"\"\n",
    "    time.sleep(n)\n",
    "    \n",
    "przed = time.clock() # czas przed wywołaniem funkcji\n",
    "\n",
    "poczekalnia(2)\n",
    "\n",
    "po = time.clock() # czas po wywołaniu funkcji\n",
    "\n",
    "print(\"Czekałem {} sekund.\".format(po - przed))"
   ]
  },
  {
   "cell_type": "markdown",
   "metadata": {
    "slideshow": {
     "slide_type": "subslide"
    }
   },
   "source": [
    "## Moduł *datetime*\n",
    "\n",
    "---\n",
    "\n",
    "* wygodniejszy w użyciu do zarządzania czasem i datą\n",
    "* arytmetyka czasu i daty, np."
   ]
  },
  {
   "cell_type": "code",
   "execution_count": 64,
   "metadata": {
    "slideshow": {
     "slide_type": "-"
    }
   },
   "outputs": [
    {
     "name": "stdout",
     "output_type": "stream",
     "text": [
      "81 days, 5:16:24.258938\n"
     ]
    }
   ],
   "source": [
    "import datetime\n",
    "\n",
    "t0 = datetime.datetime.now()\n",
    "t1 = datetime.datetime(2017, 2, 4) # początek sesji\n",
    "\n",
    "print(t1 - t0)"
   ]
  },
  {
   "cell_type": "markdown",
   "metadata": {
    "slideshow": {
     "slide_type": "subslide"
    }
   },
   "source": [
    "## Przykład\n",
    "\n",
    "---"
   ]
  },
  {
   "cell_type": "code",
   "execution_count": 65,
   "metadata": {
    "slideshow": {
     "slide_type": "-"
    }
   },
   "outputs": [
    {
     "name": "stdout",
     "output_type": "stream",
     "text": [
      "teraz = 2016-11-14 18:43:37.185897\n",
      "rok = 2016\n",
      "miesiąc = 11\n",
      "dzień = 14\n",
      "Do końca uniksa zostało 7735 days, 8:30:29.814103\n"
     ]
    }
   ],
   "source": [
    "teraz = datetime.datetime.now()\n",
    "uniks_end = datetime.datetime(2038, 1, 19, 3, 14, 7)\n",
    "\n",
    "print(\"teraz =\", teraz)\n",
    "print(\"rok =\", teraz.year)\n",
    "print(\"miesiąc =\", teraz.month)\n",
    "print(\"dzień =\", teraz.day)\n",
    "print(\"Do końca uniksa zostało\", uniks_end - teraz)"
   ]
  },
  {
   "cell_type": "markdown",
   "metadata": {
    "slideshow": {
     "slide_type": "subslide"
    }
   },
   "source": [
    "## Przykład - logi\n",
    "\n",
    "---"
   ]
  },
  {
   "cell_type": "code",
   "execution_count": 66,
   "metadata": {
    "slideshow": {
     "slide_type": "-"
    }
   },
   "outputs": [],
   "source": [
    "import os\n",
    "from datetime import datetime\n",
    "\n",
    "def create_log(log_path, process):\n",
    "    \"\"\"Tworzy unikatowy log.\"\"\"\n",
    "    timestamp = datetime.now().strftime('%Y_%m_%d_%H%M%S')\n",
    "    filename = \".\".join([process, timestamp, \"log\"])\n",
    "    with open(os.path.join(log_path, filename), 'w+') as f:\n",
    "        f.write(\"Uruchomiono proces.\")\n",
    "\n",
    "create_log(os.getcwd(), \"test\")"
   ]
  },
  {
   "cell_type": "code",
   "execution_count": 67,
   "metadata": {
    "slideshow": {
     "slide_type": "-"
    }
   },
   "outputs": [
    {
     "name": "stdout",
     "output_type": "stream",
     "text": [
      "-rw-rw-r-- 1 goran goran 19 lis 11 17:59 test.2016_11_11_175921.log\n",
      "-rw-rw-r-- 1 goran goran 19 lis 11 17:59 test.2016_11_11_175922.log\n",
      "-rw-rw-r-- 1 goran goran 19 lis 11 17:59 test.2016_11_11_175942.log\n",
      "-rw-rw-r-- 1 goran goran 19 lis 14 18:43 test.2016_11_14_184342.log\n"
     ]
    }
   ],
   "source": [
    "%%bash\n",
    "ls -l *.log"
   ]
  },
  {
   "cell_type": "markdown",
   "metadata": {
    "slideshow": {
     "slide_type": "slide"
    }
   },
   "source": [
    "## Generatory liczb pseudolosowych\n",
    "\n",
    "---\n",
    "\n",
    "* nie jest możliwe wygenerowanie liczby prawdziwie losowej\n",
    "* możliwe jest wygenerowanie (na bazie liczby wejściowej, *seed*) ciągu liczb pseudolosowych\n",
    "    * ten sam *seed* = ten sam ciąg\n",
    "    * maksymalna ilość ciągów = możliwe *seedy*\n",
    "    * okresowość"
   ]
  },
  {
   "cell_type": "markdown",
   "metadata": {
    "collapsed": true,
    "slideshow": {
     "slide_type": "subslide"
    }
   },
   "source": [
    "## *Middle square method*\n",
    "\n",
    "---\n",
    "\n",
    "<img src=\"src/Eniac.jpg\" style=\"float: right; width: 50%;\">\n",
    "\n",
    "* stworzony przez Johna von Neumanna\n",
    "* Wykorzystany w\n",
    "    * ENIAC (jeden z pierwszych komputerów na świecie)\n",
    "    * Projekt Manhattan"
   ]
  },
  {
   "cell_type": "markdown",
   "metadata": {
    "collapsed": true,
    "slideshow": {
     "slide_type": "subslide"
    }
   },
   "source": [
    "## *Middle square method* - algorytm\n",
    "\n",
    "---\n",
    "\n",
    "* weź liczbę 4-cyfrową jako *seed* (w ogólności można wziać *n*-cyfrową liczbę)\n",
    "* podnieś do kwadratu, aby otrzymać liczbę 8-cyfrową (dodaj zera, jeśli trzeba)\n",
    "* 4 środkowe cyfry są wynikiem i *seedem* dla następnej liczby\n",
    "\n",
    "$$1111^2 = 01234321 \\rightarrow 2343$$\n",
    "$$2343^2 = 05489649 \\rightarrow 4896$$\n",
    "$$4896^2 = 23970816 \\rightarrow 9708$$"
   ]
  },
  {
   "cell_type": "markdown",
   "metadata": {
    "slideshow": {
     "slide_type": "subslide"
    }
   },
   "source": [
    "## *Middle square method* - implementacja\n",
    "\n",
    "---"
   ]
  },
  {
   "cell_type": "code",
   "execution_count": 68,
   "metadata": {
    "slideshow": {
     "slide_type": "-"
    }
   },
   "outputs": [
    {
     "name": "stdout",
     "output_type": "stream",
     "text": [
      "Overwriting middle2.py\n"
     ]
    }
   ],
   "source": [
    "%%writefile middle2.py\n",
    "\"\"\"PRNG using middle-square method.\"\"\"\n",
    "\n",
    "def _middle2(n):\n",
    "    \"\"\"Return next random number.\"\"\"\n",
    "    return int(str(n*n).zfill(8)[2:6])\n",
    "\n",
    "def generate(n, seed=1111):\n",
    "    \"\"\"Generate n numbers starting with seed.\"\"\"\n",
    "    numbers = []\n",
    "    for _ in range(n):\n",
    "        numbers.append(seed)\n",
    "        seed = _middle2(seed)\n",
    "    return numbers"
   ]
  },
  {
   "cell_type": "markdown",
   "metadata": {
    "slideshow": {
     "slide_type": "subslide"
    }
   },
   "source": [
    "## *Middle square method* - wyniki\n",
    "\n",
    "---"
   ]
  },
  {
   "cell_type": "code",
   "execution_count": 69,
   "metadata": {
    "slideshow": {
     "slide_type": "-"
    }
   },
   "outputs": [
    {
     "data": {
      "text/plain": [
       "[<matplotlib.lines.Line2D at 0x7f31658c5240>]"
      ]
     },
     "execution_count": 69,
     "metadata": {},
     "output_type": "execute_result"
    },
    {
     "data": {
      "image/png": "[encoded data removed]",
      "text/plain": [
       "<matplotlib.figure.Figure at 0x7f31883ac0b8>"
      ]
     },
     "metadata": {},
     "output_type": "display_data"
    }
   ],
   "source": [
    "%matplotlib inline\n",
    "import matplotlib.pyplot as plt\n",
    "import middle2\n",
    "\n",
    "size, seed = 100, 1234\n",
    "\n",
    "x, y = range(size), middle2.generate(size, seed)\n",
    "\n",
    "plt.plot(x, y)"
   ]
  },
  {
   "cell_type": "markdown",
   "metadata": {
    "slideshow": {
     "slide_type": "subslide"
    }
   },
   "source": [
    "## Algorytm LCG\n",
    "\n",
    "---\n",
    "\n",
    "* LCG = linear congruential generator\n",
    "* zaimplementowany w wielu językach\n",
    "* prosty i szybki\n",
    "* silne korelacje - nie nadaje się do symulacji Monte Carlo (i tym bardziej kryptografii)\n",
    "\n",
    "$$X_{n+1} = (aX_n + c) \\text{ mod } m$$"
   ]
  },
  {
   "cell_type": "markdown",
   "metadata": {
    "slideshow": {
     "slide_type": "subslide"
    }
   },
   "source": [
    "## Algorytm LCG - implementacja\n",
    "\n",
    "---"
   ]
  },
  {
   "cell_type": "code",
   "execution_count": 70,
   "metadata": {
    "slideshow": {
     "slide_type": "-"
    }
   },
   "outputs": [],
   "source": [
    "def lcg(seed, m, a, c):\n",
    "    \"\"\"Return next random number using LCG.\"\"\"\n",
    "    return (seed * a + c) % m\n",
    "\n",
    "size, seed = 100, 1234\n",
    "a, c, m = 48271, 0, 2**32 - 1 # C++11 minst_rand\n",
    "\n",
    "random_numbers = []\n",
    "\n",
    "for _ in range(size):\n",
    "    seed = lcg(seed, m, a, c)\n",
    "    random_numbers.append(seed)"
   ]
  },
  {
   "cell_type": "markdown",
   "metadata": {
    "slideshow": {
     "slide_type": "subslide"
    }
   },
   "source": [
    "## Algorytm LCG - wyniki\n",
    "\n",
    "---"
   ]
  },
  {
   "cell_type": "code",
   "execution_count": 71,
   "metadata": {
    "slideshow": {
     "slide_type": "-"
    }
   },
   "outputs": [
    {
     "data": {
      "text/plain": [
       "[<matplotlib.lines.Line2D at 0x7f316581b5f8>]"
      ]
     },
     "execution_count": 71,
     "metadata": {},
     "output_type": "execute_result"
    },
    {
     "data": {
      "image/png": "[encoded data removed]",
      "text/plain": [
       "<matplotlib.figure.Figure at 0x7f3167a80198>"
      ]
     },
     "metadata": {},
     "output_type": "display_data"
    }
   ],
   "source": [
    "import matplotlib.pyplot as plt\n",
    "\n",
    "x = range(size)\n",
    "\n",
    "plt.plot(x, random_numbers)"
   ]
  },
  {
   "cell_type": "markdown",
   "metadata": {
    "slideshow": {
     "slide_type": "subslide"
    }
   },
   "source": [
    "## Algorytm LCG - korelacje\n",
    "\n",
    "---"
   ]
  },
  {
   "cell_type": "code",
   "execution_count": 72,
   "metadata": {
    "slideshow": {
     "slide_type": "-"
    }
   },
   "outputs": [],
   "source": [
    "# Mathematics and Computers in Simulations 46 (1998) 485-505\n",
    "seed = 1\n",
    "a = 65539\n",
    "c = 0\n",
    "m = 2**31\n",
    "\n",
    "punkty = [] # losowe punkty\n",
    "\n",
    "for _ in range(9600):\n",
    "    seed = lcg(seed, m, a, c)\n",
    "    punkty.append(seed)\n",
    "    \n",
    "x = punkty[::3]  # współrzędne x\n",
    "y = punkty[1::3] # współrzędne y\n",
    "z = punkty[2::3] # współrzędne z"
   ]
  },
  {
   "cell_type": "markdown",
   "metadata": {
    "slideshow": {
     "slide_type": "subslide"
    }
   },
   "source": [
    "## Algorytm LCG - punkty 3D\n",
    "\n",
    "---"
   ]
  },
  {
   "cell_type": "code",
   "execution_count": 73,
   "metadata": {
    "slideshow": {
     "slide_type": "-"
    }
   },
   "outputs": [
    {
     "data": {
      "text/plain": [
       "<mpl_toolkits.mplot3d.art3d.Path3DCollection at 0x7f3164d78e10>"
      ]
     },
     "execution_count": 73,
     "metadata": {},
     "output_type": "execute_result"
    },
    {
     "data": {
      "image/png": "[encoded data removed]",
      "text/plain": [
       "<matplotlib.figure.Figure at 0x7f31658877f0>"
      ]
     },
     "metadata": {},
     "output_type": "display_data"
    }
   ],
   "source": [
    "import matplotlib.pyplot as plt\n",
    "from mpl_toolkits.mplot3d import Axes3D\n",
    "from time import sleep\n",
    "\n",
    "fig = plt.figure()\n",
    "ax = fig.add_subplot(111, projection='3d')\n",
    "\n",
    "ax.scatter(x, y, z, marker='.')"
   ]
  },
  {
   "cell_type": "markdown",
   "metadata": {
    "slideshow": {
     "slide_type": "subslide"
    }
   },
   "source": [
    "## Algorytm LCG - punkty 3D\n",
    "\n",
    "---"
   ]
  },
  {
   "cell_type": "code",
   "execution_count": 74,
   "metadata": {
    "slideshow": {
     "slide_type": "-"
    }
   },
   "outputs": [
    {
     "data": {
      "text/plain": [
       "<mpl_toolkits.mplot3d.art3d.Path3DCollection at 0x7f3164cbeeb8>"
      ]
     },
     "execution_count": 74,
     "metadata": {},
     "output_type": "execute_result"
    },
    {
     "data": {
      "image/png": "[encoded data removed]",
      "text/plain": [
       "<matplotlib.figure.Figure at 0x7f31657d6898>"
      ]
     },
     "metadata": {},
     "output_type": "display_data"
    }
   ],
   "source": [
    "import matplotlib.pyplot as plt\n",
    "from mpl_toolkits.mplot3d import Axes3D\n",
    "\n",
    "fig = plt.figure()\n",
    "ax = fig.add_subplot(111, projection='3d')\n",
    "\n",
    "ax.view_init(30, 60)\n",
    "\n",
    "ax.scatter(x,y,z, marker='.')"
   ]
  },
  {
   "cell_type": "markdown",
   "metadata": {
    "slideshow": {
     "slide_type": "slide"
    }
   },
   "source": [
    "## Moduł *random*\n",
    "\n",
    "---\n",
    "\n",
    "* generator Mersenne Twister\n",
    "* zaniedbywalna korelacja między kolejnymi liczbami (dobry do symulacji Monte Carlo)\n",
    "* przewidywalność (nie nadaje się do kryptografii)\n",
    "* szybki, ale \"nieelegancki\""
   ]
  },
  {
   "cell_type": "markdown",
   "metadata": {
    "slideshow": {
     "slide_type": "subslide"
    }
   },
   "source": [
    "## Losowe liczby zmiennoprzecinkowe\n",
    "\n",
    "---"
   ]
  },
  {
   "cell_type": "code",
   "execution_count": 75,
   "metadata": {
    "slideshow": {
     "slide_type": "-"
    }
   },
   "outputs": [
    {
     "name": "stdout",
     "output_type": "stream",
     "text": [
      "[0.2698846730753022, 0.39646893011652196, 0.3569316622351202, 0.7422356288778353, 0.9872672338526717, 0.8037923911064603, 0.8702317548225692, 0.4956627050929412, 0.3254081126694237, 0.3929978024317329]\n"
     ]
    }
   ],
   "source": [
    "import random\n",
    "\n",
    "# random.random() -> losowa liczba z [0, 1)\n",
    "\n",
    "losowe = [random.random() for _ in range(10)]\n",
    "\n",
    "print(losowe)"
   ]
  },
  {
   "cell_type": "code",
   "execution_count": 76,
   "metadata": {
    "slideshow": {
     "slide_type": "-"
    }
   },
   "outputs": [
    {
     "name": "stdout",
     "output_type": "stream",
     "text": [
      "[99.99533728109901, 99.59952026049403, 99.42567811786209, 99.78233290994207, 99.84681728147966, 99.53305937003043, 99.47972787766165, 99.94064273021912, 99.8788743089142, 99.76186755697995]\n"
     ]
    }
   ],
   "source": [
    "# random.uniform(a, b) -> losowa z przedziału [a, b]\n",
    "\n",
    "losowe = [random.uniform(99, 100) for _ in range(10)]\n",
    "\n",
    "print(losowe)"
   ]
  },
  {
   "cell_type": "markdown",
   "metadata": {
    "slideshow": {
     "slide_type": "subslide"
    }
   },
   "source": [
    "## Losowe liczby całkowite\n",
    "\n",
    "---"
   ]
  },
  {
   "cell_type": "code",
   "execution_count": 77,
   "metadata": {
    "slideshow": {
     "slide_type": "-"
    }
   },
   "outputs": [
    {
     "name": "stdout",
     "output_type": "stream",
     "text": [
      "[4, 3, 7, 2, 5, 3, 6, 6, 5, 1]\n"
     ]
    }
   ],
   "source": [
    "import random\n",
    "\n",
    "# random.randint(a, b) - losowa całkowita z [a, b]\n",
    "\n",
    "losowe = [random.randint(1, 10) for _ in range(10)]\n",
    "\n",
    "print(losowe)"
   ]
  },
  {
   "cell_type": "code",
   "execution_count": 78,
   "metadata": {
    "slideshow": {
     "slide_type": "-"
    }
   },
   "outputs": [
    {
     "name": "stdout",
     "output_type": "stream",
     "text": [
      "[7, 5, 0, 2, 4, 5, 1, 1, 1, 4]\n"
     ]
    }
   ],
   "source": [
    "# random.randrange(stop) -> losowa < stop\n",
    "# random.randrange(start, stop[, step])\n",
    "\n",
    "losowe = [random.randrange(10) for _ in range(10)]\n",
    "\n",
    "print(losowe)"
   ]
  },
  {
   "cell_type": "markdown",
   "metadata": {
    "slideshow": {
     "slide_type": "subslide"
    }
   },
   "source": [
    "## Losowe z sekwencji\n",
    "\n",
    "---"
   ]
  },
  {
   "cell_type": "code",
   "execution_count": 79,
   "metadata": {
    "collapsed": true,
    "slideshow": {
     "slide_type": "-"
    }
   },
   "outputs": [],
   "source": [
    "import random\n",
    "\n",
    "x = \"Python\"\n",
    "y = ['a', 'b', 'c', 1, 2, 3]"
   ]
  },
  {
   "cell_type": "code",
   "execution_count": 80,
   "metadata": {
    "slideshow": {
     "slide_type": "-"
    }
   },
   "outputs": [
    {
     "data": {
      "text/plain": [
       "'o'"
      ]
     },
     "execution_count": 80,
     "metadata": {},
     "output_type": "execute_result"
    }
   ],
   "source": [
    "random.choice(x) # losowa litera z str"
   ]
  },
  {
   "cell_type": "code",
   "execution_count": 81,
   "metadata": {
    "slideshow": {
     "slide_type": "-"
    }
   },
   "outputs": [
    {
     "data": {
      "text/plain": [
       "2"
      ]
     },
     "execution_count": 81,
     "metadata": {},
     "output_type": "execute_result"
    }
   ],
   "source": [
    "random.choice(y) # losowy element listy"
   ]
  },
  {
   "cell_type": "code",
   "execution_count": 82,
   "metadata": {
    "slideshow": {
     "slide_type": "-"
    }
   },
   "outputs": [
    {
     "data": {
      "text/plain": [
       "[1, 3, 'b']"
      ]
     },
     "execution_count": 82,
     "metadata": {},
     "output_type": "execute_result"
    }
   ],
   "source": [
    "random.sample(y, 3) # losowy podzbiór"
   ]
  },
  {
   "cell_type": "markdown",
   "metadata": {
    "slideshow": {
     "slide_type": "subslide"
    }
   },
   "source": [
    "## Seed\n",
    "\n",
    "---"
   ]
  },
  {
   "cell_type": "code",
   "execution_count": 83,
   "metadata": {
    "slideshow": {
     "slide_type": "-"
    }
   },
   "outputs": [
    {
     "name": "stdout",
     "output_type": "stream",
     "text": [
      "0.5943111012611626\n",
      "0.7799061974116444\n",
      "0.9688698425524694\n",
      "0.09623949574155088\n",
      "0.7030765207216848\n"
     ]
    }
   ],
   "source": [
    "import random\n",
    "\n",
    "for _ in range(5):\n",
    "    print(random.random())"
   ]
  },
  {
   "cell_type": "code",
   "execution_count": 84,
   "metadata": {
    "slideshow": {
     "slide_type": "-"
    }
   },
   "outputs": [
    {
     "name": "stdout",
     "output_type": "stream",
     "text": [
      "0.9664535356921388\n",
      "0.9664535356921388\n",
      "0.9664535356921388\n",
      "0.9664535356921388\n",
      "0.9664535356921388\n"
     ]
    }
   ],
   "source": [
    "for _ in range(5):\n",
    "    random.seed(1234) # stały seed -> stała wartość\n",
    "    print(random.random())"
   ]
  },
  {
   "cell_type": "markdown",
   "metadata": {
    "slideshow": {
     "slide_type": "slide"
    }
   },
   "source": [
    "## Totolotek\n",
    "\n",
    "---"
   ]
  },
  {
   "cell_type": "code",
   "execution_count": 1,
   "metadata": {
    "slideshow": {
     "slide_type": "-"
    }
   },
   "outputs": [],
   "source": [
    "from random import randint\n",
    "\n",
    "def losowanie():\n",
    "    \"\"\"Losuje 6 liczb od 1 do 49.\"\"\"\n",
    "    return sorted([randint(1, 49) for _ in range(6)])\n",
    "\n",
    "def check(a, b):\n",
    "    \"\"\"Sprawdza ilość takich samych elementów.\"\"\"\n",
    "    return len([n for n in a if n in b])\n",
    "\n",
    "def play():\n",
    "    \"\"\"Gra w lotka.\"\"\"\n",
    "    lotto = losowanie() # losowanie lotto\n",
    "    kupon = losowanie() # kupon chybił-trafił\n",
    "    return check(kupon, lotto)"
   ]
  },
  {
   "cell_type": "markdown",
   "metadata": {
    "slideshow": {
     "slide_type": "subslide"
    }
   },
   "source": [
    "## Totolotek - symulacja\n",
    "\n",
    "---"
   ]
  },
  {
   "cell_type": "code",
   "execution_count": 3,
   "metadata": {
    "slideshow": {
     "slide_type": "-"
    }
   },
   "outputs": [
    {
     "data": {
      "text/plain": [
       "(array([  4.80300000e+03,   3.70800000e+03,   1.26200000e+03,\n",
       "          1.96000000e+02,   2.90000000e+01,   2.00000000e+00]),\n",
       " array([ 0.        ,  0.83333333,  1.66666667,  2.5       ,  3.33333333,\n",
       "         4.16666667,  5.        ]),\n",
       " <a list of 6 Patch objects>)"
      ]
     },
     "execution_count": 3,
     "metadata": {},
     "output_type": "execute_result"
    },
    {
     "data": {
      "image/png": "[encoded data removed]",
      "text/plain": [
       "<matplotlib.figure.Figure at 0x7f961c0949b0>"
      ]
     },
     "metadata": {},
     "output_type": "display_data"
    }
   ],
   "source": [
    "%matplotlib inline\n",
    "import matplotlib.pyplot as plt\n",
    "\n",
    "n = 10000 # ilość gier\n",
    "\n",
    "wyniki = [play() for _ in range(n)] \n",
    "    \n",
    "plt.hist(wyniki, 6)"
   ]
  }
 ],
 "metadata": {
  "anaconda-cloud": {},
  "celltoolbar": "Slideshow",
  "kernelspec": {
   "display_name": "Python 3",
   "language": "python",
   "name": "python3"
  },
  "language_info": {
   "codemirror_mode": {
    "name": "ipython",
    "version": 3
   },
   "file_extension": ".py",
   "mimetype": "text/x-python",
   "name": "python",
   "nbconvert_exporter": "python",
   "pygments_lexer": "ipython3",
   "version": "3.6.1"
  }
 },
 "nbformat": 4,
 "nbformat_minor": 1
}
